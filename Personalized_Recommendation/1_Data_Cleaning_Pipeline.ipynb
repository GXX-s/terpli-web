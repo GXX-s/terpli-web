{
 "cells": [
  {
   "cell_type": "code",
   "execution_count": null,
   "id": "db6c5390",
   "metadata": {},
   "outputs": [],
   "source": []
  },
  {
   "cell_type": "markdown",
   "id": "835b18f0",
   "metadata": {},
   "source": [
    "# Transform"
   ]
  },
  {
   "cell_type": "code",
   "execution_count": 1,
   "id": "39e0afc3",
   "metadata": {
    "ExecuteTime": {
     "end_time": "2022-02-05T07:32:53.044331Z",
     "start_time": "2022-02-05T07:32:52.343686Z"
    }
   },
   "outputs": [],
   "source": [
    "import pandas as pd \n",
    "import numpy as np\n",
    "import seaborn as sns\n",
    "import matplotlib.pyplot as plt\n",
    "import matplotlib as mlp\n",
    "from scipy import stats\n",
    "import time\n",
    "from tqdm import tqdm\n",
    "\n",
    "from sklearn.model_selection import train_test_split\n",
    "from sklearn.linear_model import LogisticRegression\n",
    "\n",
    "import warnings\n",
    "warnings.filterwarnings('ignore')"
   ]
  },
  {
   "cell_type": "code",
   "execution_count": 2,
   "id": "01bc3f3c",
   "metadata": {
    "ExecuteTime": {
     "end_time": "2022-02-05T07:32:53.145413Z",
     "start_time": "2022-02-05T07:32:53.045110Z"
    }
   },
   "outputs": [],
   "source": [
    "raw = pd.read_csv('Cannabis-Profiles_Jan5.csv')\n",
    "outputname1 = 'Jan2022_Cannabis-Profiles_Data Science.csv'\n",
    "outputname2 = 'Jan2022_Cannabis-Profiles_Data Science_cleaned.csv'"
   ]
  },
  {
   "cell_type": "code",
   "execution_count": 3,
   "id": "c413803d",
   "metadata": {
    "ExecuteTime": {
     "end_time": "2022-02-05T07:32:53.148218Z",
     "start_time": "2022-02-05T07:32:53.146839Z"
    }
   },
   "outputs": [],
   "source": [
    "# raw.head()"
   ]
  },
  {
   "cell_type": "code",
   "execution_count": 4,
   "id": "6fe07be8",
   "metadata": {
    "ExecuteTime": {
     "end_time": "2022-02-05T07:32:53.150117Z",
     "start_time": "2022-02-05T07:32:53.148828Z"
    }
   },
   "outputs": [],
   "source": [
    "# raw.columns[:50]"
   ]
  },
  {
   "cell_type": "code",
   "execution_count": 5,
   "id": "7f33b353",
   "metadata": {
    "ExecuteTime": {
     "end_time": "2022-02-05T07:32:53.152135Z",
     "start_time": "2022-02-05T07:32:53.150855Z"
    }
   },
   "outputs": [],
   "source": [
    "# raw.columns[50:100]"
   ]
  },
  {
   "cell_type": "code",
   "execution_count": 6,
   "id": "1ebeef3b",
   "metadata": {
    "ExecuteTime": {
     "end_time": "2022-02-05T07:32:53.154168Z",
     "start_time": "2022-02-05T07:32:53.152894Z"
    }
   },
   "outputs": [],
   "source": [
    "# raw.columns[100:]"
   ]
  },
  {
   "cell_type": "code",
   "execution_count": 7,
   "id": "3e884d92",
   "metadata": {
    "ExecuteTime": {
     "end_time": "2022-02-05T07:32:53.157333Z",
     "start_time": "2022-02-05T07:32:53.154911Z"
    }
   },
   "outputs": [
    {
     "data": {
      "text/plain": [
       "(4493, 138)"
      ]
     },
     "execution_count": 7,
     "metadata": {},
     "output_type": "execute_result"
    }
   ],
   "source": [
    "raw.shape"
   ]
  },
  {
   "cell_type": "code",
   "execution_count": 8,
   "id": "9bf6841e",
   "metadata": {
    "ExecuteTime": {
     "end_time": "2022-02-05T07:32:53.159324Z",
     "start_time": "2022-02-05T07:32:53.158013Z"
    }
   },
   "outputs": [],
   "source": [
    "# target = pd.read_excel('Cannabis-Profiles_Data Science.xlsx')"
   ]
  },
  {
   "cell_type": "code",
   "execution_count": 9,
   "id": "a70e2348",
   "metadata": {
    "ExecuteTime": {
     "end_time": "2022-02-05T07:32:53.161396Z",
     "start_time": "2022-02-05T07:32:53.160010Z"
    }
   },
   "outputs": [],
   "source": [
    "# col1 = target.columns\n",
    "# col2 = raw.columns"
   ]
  },
  {
   "cell_type": "code",
   "execution_count": 10,
   "id": "ff9e287c",
   "metadata": {
    "ExecuteTime": {
     "end_time": "2022-02-05T07:32:53.163326Z",
     "start_time": "2022-02-05T07:32:53.162142Z"
    }
   },
   "outputs": [],
   "source": [
    "# target.columns"
   ]
  },
  {
   "cell_type": "code",
   "execution_count": 11,
   "id": "21c0e27a",
   "metadata": {
    "ExecuteTime": {
     "end_time": "2022-02-05T07:32:53.165300Z",
     "start_time": "2022-02-05T07:32:53.164079Z"
    }
   },
   "outputs": [],
   "source": [
    "# intercept = set.intersection(set(col1), set(col2))\n",
    "# intercept"
   ]
  },
  {
   "cell_type": "code",
   "execution_count": 12,
   "id": "c6c1c472",
   "metadata": {
    "ExecuteTime": {
     "end_time": "2022-02-05T07:32:53.169567Z",
     "start_time": "2022-02-05T07:32:53.167453Z"
    }
   },
   "outputs": [],
   "source": [
    "temp = raw.copy()"
   ]
  },
  {
   "cell_type": "code",
   "execution_count": 13,
   "id": "bbd4cf53",
   "metadata": {
    "ExecuteTime": {
     "end_time": "2022-02-05T07:32:53.174037Z",
     "start_time": "2022-02-05T07:32:53.170134Z"
    }
   },
   "outputs": [],
   "source": [
    "temp = temp.rename(columns= {'labId':'Lab_ID','dataOrigin':'dataOrigin', 'brand':'Brand', 'BrandLowerCase':'BrandLowerCase'\n",
    "                      , 'brandId':'brandPK','matrix':'Matrix', 'type':'Type',\n",
    "                             'batchId':'Batch_ID', 'Strain':'Strain', 'strainCapital':'Strain_Name',\n",
    "                             'sampleId':'Sample_ID',\n",
    "       'harvestDate':'Date_Harvested', 'collectionDate':'Date_Collected', 'recievedDate':'Date_Recieved',\n",
    "                      'testCompleteDate':'Date_Test_Completed',\n",
    "       'metricId':'MetricID', 'distributor':'Distributor', 'distributorLic':'Distributor_Lic#',\n",
    "                      'distributorAddress':'Distributor_Address',\n",
    "       'distributorCityStateZip':'Distributor_City_State_Zip',\n",
    "                      'producer':'Producer', 'producerLic': 'Producer_Lic_Number', 'producerAddress':'Producer_Address',\n",
    "       'producerCityStateZip':'Producer_City_State_Zip'\n",
    "                     })\n",
    "\n",
    "\n"
   ]
  },
  {
   "cell_type": "code",
   "execution_count": null,
   "id": "d7e523eb",
   "metadata": {
    "ExecuteTime": {
     "end_time": "2021-11-03T01:12:05.702054Z",
     "start_time": "2021-11-03T01:12:05.699584Z"
    }
   },
   "outputs": [],
   "source": []
  },
  {
   "cell_type": "code",
   "execution_count": 14,
   "id": "f9b3b295",
   "metadata": {
    "ExecuteTime": {
     "end_time": "2022-02-05T07:32:53.177334Z",
     "start_time": "2022-02-05T07:32:53.174680Z"
    }
   },
   "outputs": [],
   "source": [
    "temp['PrimaryKey'] = temp['Batch_ID'].astype(str) +'_'+ temp['Sample_ID'].astype(str) \n"
   ]
  },
  {
   "cell_type": "code",
   "execution_count": 15,
   "id": "54b6897b",
   "metadata": {
    "ExecuteTime": {
     "end_time": "2022-02-05T07:32:53.181493Z",
     "start_time": "2022-02-05T07:32:53.177860Z"
    }
   },
   "outputs": [],
   "source": [
    "temp['THC'] = temp['THCa'] + temp['d9THC']\n",
    "temp['CBD'] = temp['CBDa'] + temp['CBD']\n",
    "temp['CBG'] = temp['CBG'] +  temp['CBGa']\n",
    "temp['CBN'] = temp['CBN']+ temp['CBNa']\n",
    "temp['CBC'] = temp['CBC']+ temp['CBCa']\n",
    "\n",
    "temp['CBDV'] = temp['CBDV']+ temp['CBDVa']\n",
    "temp['THCV'] = temp['THCV']+ temp['THCVa']\n",
    "temp['CBL'] = temp['CBLa']+ temp['CBL']\n"
   ]
  },
  {
   "cell_type": "code",
   "execution_count": null,
   "id": "cbc858af",
   "metadata": {
    "ExecuteTime": {
     "end_time": "2021-11-03T05:34:01.324361Z",
     "start_time": "2021-11-03T05:34:01.091687Z"
    }
   },
   "outputs": [],
   "source": []
  },
  {
   "cell_type": "code",
   "execution_count": 16,
   "id": "a6356086",
   "metadata": {
    "ExecuteTime": {
     "end_time": "2022-02-05T07:32:53.183838Z",
     "start_time": "2022-02-05T07:32:53.182136Z"
    }
   },
   "outputs": [],
   "source": [
    "cannabis_col = ['THC','CBD','CBG','CBN','CBC','CBDV','THCV','CBL','d8THC','Total_Cannabinoids']"
   ]
  },
  {
   "cell_type": "code",
   "execution_count": 17,
   "id": "fe2ac129",
   "metadata": {
    "ExecuteTime": {
     "end_time": "2022-02-05T07:32:53.189108Z",
     "start_time": "2022-02-05T07:32:53.184664Z"
    }
   },
   "outputs": [],
   "source": [
    "for col in cannabis_col:\n",
    "    temp[f'{col} %'] = temp[col]/1000\n",
    "    "
   ]
  },
  {
   "cell_type": "code",
   "execution_count": 18,
   "id": "cd35f96d",
   "metadata": {
    "ExecuteTime": {
     "end_time": "2022-02-05T07:32:53.191948Z",
     "start_time": "2022-02-05T07:32:53.189844Z"
    }
   },
   "outputs": [],
   "source": [
    "temp['D8 %']  = temp['d8THC %']\n",
    "temp['Total Cannabinoid %'] = temp['Total_Cannabinoids %']"
   ]
  },
  {
   "cell_type": "code",
   "execution_count": 19,
   "id": "538e7088",
   "metadata": {
    "ExecuteTime": {
     "end_time": "2022-02-05T07:32:53.199259Z",
     "start_time": "2022-02-05T07:32:53.192530Z"
    }
   },
   "outputs": [
    {
     "data": {
      "text/plain": [
       "1131    0.00173\n",
       "Name: D8 %, dtype: float64"
      ]
     },
     "execution_count": 19,
     "metadata": {},
     "output_type": "execute_result"
    }
   ],
   "source": [
    "# check\n",
    "temp[temp['Batch_ID']=='BLDM040620']['D8 %']"
   ]
  },
  {
   "cell_type": "code",
   "execution_count": 20,
   "id": "58424369",
   "metadata": {
    "ExecuteTime": {
     "end_time": "2022-02-05T07:32:53.202329Z",
     "start_time": "2022-02-05T07:32:53.199955Z"
    }
   },
   "outputs": [
    {
     "data": {
      "text/plain": [
       "Index(['Camphor', 'CBDV', 'Perc_Other_Terpenes', 'Matrix',\n",
       "       'Producer_City_State_Zip', 'CBNFormula', 'Other_Cannabinoids',\n",
       "       'A_Bisabolol', 'CBN', 'Perc_Caryophyllene', 'Pulegone',\n",
       "       'Sabinene_Hydrate', 'lineage', 'Fenchone', 'Eucalyptol', 'Cedrol',\n",
       "       'A_Terpinene', 'Perc_CBN', 'Producer_Lic_Number', 'reviewCount', 'CBLa',\n",
       "       'Perc_CBC', 'Alpha_Cedrene', 'Perc_Myrcene', 'TotalCBDPerc',\n",
       "       'Endo_Fenchyl_Alcohol', 'THCa', 'CBD', 'Terpinolene', 'd_3_Carene',\n",
       "       'topTerpenes', 'modifiedTerps', 'TotalTHCPerc', 'Sabinene',\n",
       "       'Producer_Address', 'Nerol', 'CBDFormula', 'Sample_ID', 'Perc_Pinene',\n",
       "       'Perc_Total_Cannabinoids', 'Lab_ID', 'likes', 'CBC', 'Perc_Limonene',\n",
       "       'CBCa', 'Total_Terpenes', 'Effect_4', 'G_Terpinene', 'imageURL', 'CBL',\n",
       "       'A_Humulene', 'Date_Harvested', 'CBGFormula', 'B_Myrcene', 'CBLFormula',\n",
       "       'CBGa', 'Effect_3', 'cis_Ocimene', 'Effects', 'Isopulegol',\n",
       "       'dataOrigin', 'Ocimene', 'Valencene', 'd9THC',\n",
       "       'Perc_Other_Cannabinoids', 'cis_Nerolidol', 'THCVa', 'Effect_2',\n",
       "       'THCVFormula', 'Date_Collected', 'CBDVFormula', 'Citronellol', 'Guaiol',\n",
       "       'D_Limonene', 'Menthol', 'brandPK', 'CBNa', 'Gamma_Terpineol',\n",
       "       'A_Phellandrene', 'A_Terpineol'],\n",
       "      dtype='object')"
      ]
     },
     "execution_count": 20,
     "metadata": {},
     "output_type": "execute_result"
    }
   ],
   "source": [
    "temp.columns[40:120]"
   ]
  },
  {
   "cell_type": "code",
   "execution_count": 21,
   "id": "ac844c30",
   "metadata": {
    "ExecuteTime": {
     "end_time": "2022-02-05T07:32:53.204924Z",
     "start_time": "2022-02-05T07:32:53.202927Z"
    }
   },
   "outputs": [],
   "source": [
    "temp['Nerolidol'] = temp['cis_Nerolidol']+temp['trans_Nerolidol']\n",
    "temp['A-Bisabalol'] = temp['A_Bisabolol']"
   ]
  },
  {
   "cell_type": "code",
   "execution_count": 22,
   "id": "d8e23fa2",
   "metadata": {
    "ExecuteTime": {
     "end_time": "2022-02-05T07:32:53.212225Z",
     "start_time": "2022-02-05T07:32:53.205442Z"
    }
   },
   "outputs": [
    {
     "data": {
      "text/plain": [
       "2172    -0.03\n",
       "2629    -0.03\n",
       "3044    -0.03\n",
       "1653    -0.02\n",
       "2386    -0.02\n",
       "        ...  \n",
       "4414    14.71\n",
       "1370    15.60\n",
       "1152    17.89\n",
       "1248    18.70\n",
       "2791    39.48\n",
       "Name: Other, Length: 4493, dtype: float64"
      ]
     },
     "execution_count": 22,
     "metadata": {},
     "output_type": "execute_result"
    }
   ],
   "source": [
    "temp = temp.rename(columns = {'Terpinolene':'terpinolene' })\n",
    "# temp['Other'] = temp[['Caryophyllene_Oxide', 'cis_Nerolidol', 'Eucalyptol',\n",
    "#        'Geraniol', 'Guaiol', 'Isopulegol', 'p_Cymene', 'trans_Nerolidol','trans_Ocimene', 'Borneol', 'Geranyl_Acetate',\n",
    "#        'cis_Ocimene', 'B_Ocimene', 'Alpha_Cedrene', 'Camphor', 'Cedrol',\n",
    "#        'Gamma_Terpineol', 'Pulegone', 'Sabinene_Hydrate', 'Valencene',\n",
    "#        'Isoborneol', 'Menthol', 'P_mentha_1_5_diene', 'Sabinene', 'Ocimene_1',\n",
    "#        'Endo_Fenchyl_Alcohol', 'Farnesene', 'Citronellol', 'Nerol']].sum(axis = 1)\n",
    "temp['Other']  =    temp['Total_Terpenes'] - (temp[['B_Myrcene', 'B_Caryophyllene',\n",
    "       'D_Limonene', 'A_Pinene', 'B_Pinene', 'A_Humulene', 'terpinolene',\n",
    "       'Linalool', 'Ocimene', 'Nerolidol','A_Bisabolol']].sum(axis = 1))\n",
    "temp['Other'].sort_values()"
   ]
  },
  {
   "cell_type": "code",
   "execution_count": 23,
   "id": "83ccac31",
   "metadata": {
    "ExecuteTime": {
     "end_time": "2022-02-05T07:32:53.216500Z",
     "start_time": "2022-02-05T07:32:53.212957Z"
    }
   },
   "outputs": [
    {
     "data": {
      "text/plain": [
       "1943    0.8\n",
       "Name: Other, dtype: float64"
      ]
     },
     "execution_count": 23,
     "metadata": {},
     "output_type": "execute_result"
    }
   ],
   "source": [
    "# check\n",
    "temp[temp['Batch_ID']=='BDRP-7820']['Other']"
   ]
  },
  {
   "cell_type": "code",
   "execution_count": 24,
   "id": "bf97eb76",
   "metadata": {
    "ExecuteTime": {
     "end_time": "2022-02-05T07:32:53.219091Z",
     "start_time": "2022-02-05T07:32:53.217313Z"
    }
   },
   "outputs": [],
   "source": [
    "terpenes_col = ['B_Myrcene', 'B_Caryophyllene',\n",
    "       'D_Limonene', 'A_Pinene', 'B_Pinene', 'A_Humulene', 'terpinolene',\n",
    "       'Linalool', 'Ocimene', 'Nerolidol', 'A-Bisabalol', 'Other','Total_Terpenes']\n",
    "        \n",
    "        \n",
    "        \n"
   ]
  },
  {
   "cell_type": "code",
   "execution_count": 25,
   "id": "0c3f89af",
   "metadata": {
    "ExecuteTime": {
     "end_time": "2022-02-05T07:32:53.224688Z",
     "start_time": "2022-02-05T07:32:53.219735Z"
    }
   },
   "outputs": [],
   "source": [
    "for col in terpenes_col:\n",
    "    temp[f'{col}_% of Total'] = temp[col]/temp['Total_Terpenes']"
   ]
  },
  {
   "cell_type": "code",
   "execution_count": 26,
   "id": "7f058bbf",
   "metadata": {
    "ExecuteTime": {
     "end_time": "2022-02-05T07:32:53.229901Z",
     "start_time": "2022-02-05T07:32:53.225301Z"
    }
   },
   "outputs": [],
   "source": [
    "temp = temp.rename(columns={'Total_Terpenes':'Total Terpene Volume',\n",
    "                            'Total_Terpenes_% of Total':'Total Terpene Volume_% of Total'})"
   ]
  },
  {
   "cell_type": "code",
   "execution_count": 27,
   "id": "2e96c55a",
   "metadata": {
    "ExecuteTime": {
     "end_time": "2022-02-05T07:32:53.232129Z",
     "start_time": "2022-02-05T07:32:53.230572Z"
    }
   },
   "outputs": [],
   "source": [
    "#        'Total Terpene Volume', 'B_Myrcene_% of Total',\n",
    "#        'B_Caryophyllene_% of Total', 'D_Limonene_% of Total',\n",
    "#        'A_Pinene_% of Total', 'B_Pinene_% of Total', 'A_Humulene_% of Total',\n",
    "#        'terpinolene_% of Total', 'Linalool_% of Total', 'Ocimene_% of Total',\n",
    "#        'Nerolidol_% of Total', 'A-Bisabalol_% of Total', 'Other_% of Total',\n",
    "#        'Total Terpene Volume_% of Total'"
   ]
  },
  {
   "cell_type": "code",
   "execution_count": 28,
   "id": "8320cdbf",
   "metadata": {
    "ExecuteTime": {
     "end_time": "2022-02-05T07:32:53.236079Z",
     "start_time": "2022-02-05T07:32:53.232906Z"
    }
   },
   "outputs": [
    {
     "data": {
      "text/plain": [
       "1943    0.244755\n",
       "Name: B_Myrcene_% of Total, dtype: float64"
      ]
     },
     "execution_count": 28,
     "metadata": {},
     "output_type": "execute_result"
    }
   ],
   "source": [
    "# check\n",
    "temp[temp['Batch_ID']=='BDRP-7820']['B_Myrcene_% of Total']"
   ]
  },
  {
   "cell_type": "code",
   "execution_count": 29,
   "id": "38c4d3c1",
   "metadata": {
    "ExecuteTime": {
     "end_time": "2022-02-05T07:32:53.241127Z",
     "start_time": "2022-02-05T07:32:53.236798Z"
    }
   },
   "outputs": [],
   "source": [
    "temp['THC % / CBD %'] = temp['THC %']/temp['CBD %']\n",
    "temp['THC % / Terpene %'] = temp['THC %']/temp['Total Terpene Volume_% of Total']\n",
    "temp['THC % / B Caryophyllene %'] = temp['THC %']/temp['B_Caryophyllene_% of Total']\n",
    "temp['THC % / A_Pinene %'] = temp['THC %']/temp['A_Pinene_% of Total']\n",
    "temp['THC % / B_Myrcene %'] = temp['THC %']/temp['B_Myrcene_% of Total']\n",
    "temp['THC % / Limonene %'] = temp['THC %']/temp['D_Limonene_% of Total']\n",
    "temp['THC % / Linalool %'] = temp['THC %']/temp['Linalool_% of Total']\n",
    "temp['THC % / Nerolidol %'] = temp['THC %']/temp['Nerolidol_% of Total']\n"
   ]
  },
  {
   "cell_type": "code",
   "execution_count": 30,
   "id": "e67a0d58",
   "metadata": {
    "ExecuteTime": {
     "end_time": "2022-02-05T07:32:53.243111Z",
     "start_time": "2022-02-05T07:32:53.241745Z"
    }
   },
   "outputs": [],
   "source": [
    "# col1 = target.columns\n",
    "# col2 = temp.columns\n",
    "# intercept = set.intersection(set(col1), set(col2))\n",
    "# intercept\n"
   ]
  },
  {
   "cell_type": "code",
   "execution_count": 31,
   "id": "15778633",
   "metadata": {
    "ExecuteTime": {
     "end_time": "2022-02-05T07:32:53.245168Z",
     "start_time": "2022-02-05T07:32:53.243865Z"
    }
   },
   "outputs": [],
   "source": [
    "## columns that need to be removed \n",
    "# col_diff = list(col2.difference(col1))"
   ]
  },
  {
   "cell_type": "code",
   "execution_count": 32,
   "id": "3a5f8b71",
   "metadata": {
    "ExecuteTime": {
     "end_time": "2022-02-05T07:32:53.248860Z",
     "start_time": "2022-02-05T07:32:53.245834Z"
    }
   },
   "outputs": [],
   "source": [
    "col_diff = ['A_Bisabolol',\n",
    " 'A_Phellandrene',\n",
    " 'A_Terpinene',\n",
    " 'A_Terpineol',\n",
    " 'Alpha_Cedrene',\n",
    " 'B_Ocimene',\n",
    " 'Borneol',\n",
    " 'CBC',\n",
    " 'CBCFormula',\n",
    " 'CBCa',\n",
    " 'CBD',\n",
    " 'CBDFormula',\n",
    " 'CBDV',\n",
    " 'CBDVFormula',\n",
    " 'CBDVa',\n",
    " 'CBDa',\n",
    " 'CBG',\n",
    " 'CBGFormula',\n",
    " 'CBGa',\n",
    " 'CBL',\n",
    " 'CBLFormula',\n",
    " 'CBLa',\n",
    " 'CBN',\n",
    " 'CBNFormula',\n",
    " 'CBNa',\n",
    " 'Camphene',\n",
    " 'Camphor',\n",
    " 'Caryophyllene_Oxide',\n",
    " 'Cedrol',\n",
    " 'Citronellol',\n",
    " 'Effect_1',\n",
    " 'Effect_2',\n",
    " 'Effect_3',\n",
    " 'Effect_4',\n",
    " 'Effects',\n",
    " 'Endo_Fenchyl_Alcohol',\n",
    " 'Eucalyptol',\n",
    " 'Farnesene',\n",
    " 'Fenchol',\n",
    " 'Fenchone',\n",
    " 'G_Terpinene',\n",
    " 'Gamma_Terpineol',\n",
    " 'Geraniol',\n",
    " 'Geranyl_Acetate',\n",
    " 'Guaiol',\n",
    " 'IHS',\n",
    " 'Isoborneol',\n",
    " 'Isopulegol',\n",
    " 'Menthol',\n",
    " 'Nerol',\n",
    " 'Ocimene_1',\n",
    " 'Other_Cannabinoids',\n",
    " 'Other_Terpenes',\n",
    " 'P_mentha_1_5_diene',\n",
    " 'Perc_CBC',\n",
    " 'Perc_CBD',\n",
    " 'Perc_CBDa',\n",
    " 'Perc_CBG',\n",
    " 'Perc_CBGa',\n",
    " 'Perc_CBN',\n",
    " 'Perc_Caryophyllene',\n",
    " 'Perc_Humulene',\n",
    " 'Perc_Limonene',\n",
    " 'Perc_Linalool',\n",
    " 'Perc_Myrcene',\n",
    " 'Perc_Other_Cannabinoids',\n",
    " 'Perc_Other_Terpenes',\n",
    " 'Perc_Pinene',\n",
    " 'Perc_THCV',\n",
    " 'Perc_THCa',\n",
    " 'Perc_Terpinolene',\n",
    " 'Perc_Total_Cannabinoids',\n",
    " 'Perc_Total_Terpenes',\n",
    " 'Perc_d9_THC',\n",
    " 'Pulegone',\n",
    " 'Sabinene',\n",
    " 'Sabinene_Hydrate',\n",
    " 'THC',\n",
    " 'THCFormula',\n",
    " 'THCV',\n",
    " 'THCVFormula',\n",
    " 'THCVa',\n",
    " 'THCa',\n",
    " 'TotalCBDPerc',\n",
    " 'TotalCannabinoids_mg_g',\n",
    " 'TotalTHCPerc',\n",
    " 'Total_Cannabinoids',\n",
    " 'Total_Cannabinoids %',\n",
    " 'Valencene',\n",
    " 'averageRating',\n",
    " 'cis_Nerolidol',\n",
    " 'cis_Ocimene',\n",
    " 'd8THC',\n",
    " 'd8THC %',\n",
    " 'd9THC',\n",
    " 'd_3_Carene',\n",
    " 'description',\n",
    " 'imageURL',\n",
    " 'likes',\n",
    " 'lineage',\n",
    " 'modifiedTerps',\n",
    " 'p_Cymene',\n",
    " 'reviewCount',\n",
    " 'topCannabinoids',\n",
    " 'topTerpenes',\n",
    " 'trans_Nerolidol',\n",
    " 'trans_Ocimene',\n",
    " 'unixTimeStamp']"
   ]
  },
  {
   "cell_type": "code",
   "execution_count": 33,
   "id": "3f977a2d",
   "metadata": {
    "ExecuteTime": {
     "end_time": "2022-02-05T07:32:53.250706Z",
     "start_time": "2022-02-05T07:32:53.249424Z"
    }
   },
   "outputs": [],
   "source": [
    "# col1.difference(col2)"
   ]
  },
  {
   "cell_type": "code",
   "execution_count": 34,
   "id": "f277b057",
   "metadata": {
    "ExecuteTime": {
     "end_time": "2022-02-05T07:32:53.255138Z",
     "start_time": "2022-02-05T07:32:53.251411Z"
    }
   },
   "outputs": [],
   "source": [
    "new = temp.drop(col_diff, axis = 1)"
   ]
  },
  {
   "cell_type": "code",
   "execution_count": 35,
   "id": "d8cf4f20",
   "metadata": {
    "ExecuteTime": {
     "end_time": "2022-02-05T07:32:53.267391Z",
     "start_time": "2022-02-05T07:32:53.255956Z"
    }
   },
   "outputs": [
    {
     "data": {
      "text/html": [
       "<div>\n",
       "<style scoped>\n",
       "    .dataframe tbody tr th:only-of-type {\n",
       "        vertical-align: middle;\n",
       "    }\n",
       "\n",
       "    .dataframe tbody tr th {\n",
       "        vertical-align: top;\n",
       "    }\n",
       "\n",
       "    .dataframe thead th {\n",
       "        text-align: right;\n",
       "    }\n",
       "</style>\n",
       "<table border=\"1\" class=\"dataframe\">\n",
       "  <thead>\n",
       "    <tr style=\"text-align: right;\">\n",
       "      <th></th>\n",
       "      <th>Strain_Name</th>\n",
       "      <th>Batch_ID</th>\n",
       "      <th>A_Pinene</th>\n",
       "      <th>Distributor</th>\n",
       "      <th>Strain</th>\n",
       "      <th>MetricID</th>\n",
       "      <th>Type</th>\n",
       "      <th>Distributor_Address</th>\n",
       "      <th>Distributor_City_State_Zip</th>\n",
       "      <th>B_Caryophyllene</th>\n",
       "      <th>...</th>\n",
       "      <th>Other_% of Total</th>\n",
       "      <th>Total Terpene Volume_% of Total</th>\n",
       "      <th>THC % / CBD %</th>\n",
       "      <th>THC % / Terpene %</th>\n",
       "      <th>THC % / B Caryophyllene %</th>\n",
       "      <th>THC % / A_Pinene %</th>\n",
       "      <th>THC % / B_Myrcene %</th>\n",
       "      <th>THC % / Limonene %</th>\n",
       "      <th>THC % / Linalool %</th>\n",
       "      <th>THC % / Nerolidol %</th>\n",
       "    </tr>\n",
       "  </thead>\n",
       "  <tbody>\n",
       "    <tr>\n",
       "      <th>0</th>\n",
       "      <td>Birthday Cake</td>\n",
       "      <td>IND1_134</td>\n",
       "      <td>0.00</td>\n",
       "      <td>NaN</td>\n",
       "      <td>birthday cake</td>\n",
       "      <td>NaN</td>\n",
       "      <td>Vape Cartridge</td>\n",
       "      <td>NaN</td>\n",
       "      <td>NaN</td>\n",
       "      <td>3.24</td>\n",
       "      <td>...</td>\n",
       "      <td>0.000000e+00</td>\n",
       "      <td>1.0</td>\n",
       "      <td>NaN</td>\n",
       "      <td>0.00000</td>\n",
       "      <td>0.000000</td>\n",
       "      <td>NaN</td>\n",
       "      <td>0.000000</td>\n",
       "      <td>0.000000</td>\n",
       "      <td>0.000000</td>\n",
       "      <td>NaN</td>\n",
       "    </tr>\n",
       "    <tr>\n",
       "      <th>1</th>\n",
       "      <td>Dream Queen</td>\n",
       "      <td>S062819-3</td>\n",
       "      <td>1.47</td>\n",
       "      <td>0</td>\n",
       "      <td>dream queen</td>\n",
       "      <td>0</td>\n",
       "      <td>Flower - Cured</td>\n",
       "      <td>0</td>\n",
       "      <td>0</td>\n",
       "      <td>2.48</td>\n",
       "      <td>...</td>\n",
       "      <td>4.077472e-03</td>\n",
       "      <td>1.0</td>\n",
       "      <td>1555.250000</td>\n",
       "      <td>0.18663</td>\n",
       "      <td>1.476484</td>\n",
       "      <td>2.490939</td>\n",
       "      <td>0.513560</td>\n",
       "      <td>2.302944</td>\n",
       "      <td>3.298811</td>\n",
       "      <td>5.905936</td>\n",
       "    </tr>\n",
       "    <tr>\n",
       "      <th>2</th>\n",
       "      <td>Sour Diesel</td>\n",
       "      <td>IND1_107</td>\n",
       "      <td>3.40</td>\n",
       "      <td>NaN</td>\n",
       "      <td>sour diesel</td>\n",
       "      <td>NaN</td>\n",
       "      <td>Vape Cartridge</td>\n",
       "      <td>NaN</td>\n",
       "      <td>NaN</td>\n",
       "      <td>0.00</td>\n",
       "      <td>...</td>\n",
       "      <td>0.000000e+00</td>\n",
       "      <td>1.0</td>\n",
       "      <td>NaN</td>\n",
       "      <td>0.00000</td>\n",
       "      <td>NaN</td>\n",
       "      <td>0.000000</td>\n",
       "      <td>0.000000</td>\n",
       "      <td>0.000000</td>\n",
       "      <td>NaN</td>\n",
       "      <td>NaN</td>\n",
       "    </tr>\n",
       "    <tr>\n",
       "      <th>3</th>\n",
       "      <td>Vibration</td>\n",
       "      <td>IND1_181</td>\n",
       "      <td>1.69</td>\n",
       "      <td>NaN</td>\n",
       "      <td>vibration</td>\n",
       "      <td>NaN</td>\n",
       "      <td>Flower - Cured</td>\n",
       "      <td>NaN</td>\n",
       "      <td>NaN</td>\n",
       "      <td>3.54</td>\n",
       "      <td>...</td>\n",
       "      <td>-1.850372e-16</td>\n",
       "      <td>1.0</td>\n",
       "      <td>NaN</td>\n",
       "      <td>0.00000</td>\n",
       "      <td>0.000000</td>\n",
       "      <td>0.000000</td>\n",
       "      <td>0.000000</td>\n",
       "      <td>0.000000</td>\n",
       "      <td>0.000000</td>\n",
       "      <td>0.000000</td>\n",
       "    </tr>\n",
       "    <tr>\n",
       "      <th>4</th>\n",
       "      <td>Lava Cake</td>\n",
       "      <td>IND1_66</td>\n",
       "      <td>0.00</td>\n",
       "      <td>NaN</td>\n",
       "      <td>lava cake</td>\n",
       "      <td>NaN</td>\n",
       "      <td>Vape Cartridge</td>\n",
       "      <td>NaN</td>\n",
       "      <td>NaN</td>\n",
       "      <td>0.00</td>\n",
       "      <td>...</td>\n",
       "      <td>3.703704e-02</td>\n",
       "      <td>1.0</td>\n",
       "      <td>NaN</td>\n",
       "      <td>0.00000</td>\n",
       "      <td>NaN</td>\n",
       "      <td>NaN</td>\n",
       "      <td>0.000000</td>\n",
       "      <td>0.000000</td>\n",
       "      <td>0.000000</td>\n",
       "      <td>NaN</td>\n",
       "    </tr>\n",
       "    <tr>\n",
       "      <th>...</th>\n",
       "      <td>...</td>\n",
       "      <td>...</td>\n",
       "      <td>...</td>\n",
       "      <td>...</td>\n",
       "      <td>...</td>\n",
       "      <td>...</td>\n",
       "      <td>...</td>\n",
       "      <td>...</td>\n",
       "      <td>...</td>\n",
       "      <td>...</td>\n",
       "      <td>...</td>\n",
       "      <td>...</td>\n",
       "      <td>...</td>\n",
       "      <td>...</td>\n",
       "      <td>...</td>\n",
       "      <td>...</td>\n",
       "      <td>...</td>\n",
       "      <td>...</td>\n",
       "      <td>...</td>\n",
       "      <td>...</td>\n",
       "      <td>...</td>\n",
       "    </tr>\n",
       "    <tr>\n",
       "      <th>4488</th>\n",
       "      <td>WIFI OG</td>\n",
       "      <td>GHFWIFI0928MP</td>\n",
       "      <td>0.00</td>\n",
       "      <td>ALKHEMIST DM LLC</td>\n",
       "      <td>wifi og</td>\n",
       "      <td>1A406030000A423000003713</td>\n",
       "      <td>Preroll</td>\n",
       "      <td>ALKHEMIST DM LLC, 1370 ESPERANZA ST, SUITE B</td>\n",
       "      <td>0</td>\n",
       "      <td>3.83</td>\n",
       "      <td>...</td>\n",
       "      <td>-1.136364e-03</td>\n",
       "      <td>1.0</td>\n",
       "      <td>329.571429</td>\n",
       "      <td>0.23070</td>\n",
       "      <td>0.530068</td>\n",
       "      <td>inf</td>\n",
       "      <td>1.812643</td>\n",
       "      <td>2.307000</td>\n",
       "      <td>2.388424</td>\n",
       "      <td>inf</td>\n",
       "    </tr>\n",
       "    <tr>\n",
       "      <th>4489</th>\n",
       "      <td>GMO</td>\n",
       "      <td>GHFGCK0928MP</td>\n",
       "      <td>0.31</td>\n",
       "      <td>ALKHEMIST DM LLC</td>\n",
       "      <td>gmo</td>\n",
       "      <td>1A406030000A423000003714</td>\n",
       "      <td>Preroll</td>\n",
       "      <td>ALKHEMIST DM LLC, 1370 ESPERANZA ST, SUITE B</td>\n",
       "      <td>0</td>\n",
       "      <td>3.86</td>\n",
       "      <td>...</td>\n",
       "      <td>0.000000e+00</td>\n",
       "      <td>1.0</td>\n",
       "      <td>198.884354</td>\n",
       "      <td>0.29236</td>\n",
       "      <td>0.911921</td>\n",
       "      <td>11.354885</td>\n",
       "      <td>1.862441</td>\n",
       "      <td>1.213798</td>\n",
       "      <td>7.822254</td>\n",
       "      <td>inf</td>\n",
       "    </tr>\n",
       "    <tr>\n",
       "      <th>4490</th>\n",
       "      <td>WIFI OG</td>\n",
       "      <td>GHFWIFI0928PR</td>\n",
       "      <td>0.00</td>\n",
       "      <td>ALKHEMIST DM LLC</td>\n",
       "      <td>wifi og</td>\n",
       "      <td>1A406030000A423000003712</td>\n",
       "      <td>Preroll</td>\n",
       "      <td>ALKHEMIST DM LLC, 1370 ESPERANZA ST, SUITE B</td>\n",
       "      <td>0</td>\n",
       "      <td>4.00</td>\n",
       "      <td>...</td>\n",
       "      <td>1.060445e-03</td>\n",
       "      <td>1.0</td>\n",
       "      <td>247.252632</td>\n",
       "      <td>0.23489</td>\n",
       "      <td>0.553753</td>\n",
       "      <td>inf</td>\n",
       "      <td>1.678040</td>\n",
       "      <td>2.215013</td>\n",
       "      <td>2.407622</td>\n",
       "      <td>inf</td>\n",
       "    </tr>\n",
       "    <tr>\n",
       "      <th>4491</th>\n",
       "      <td>HELLFIRE</td>\n",
       "      <td>GHFHF0924PR</td>\n",
       "      <td>0.00</td>\n",
       "      <td>ALKHEMIST DM LLC</td>\n",
       "      <td>hellfire</td>\n",
       "      <td>1A406030000A423000003661</td>\n",
       "      <td>Preroll</td>\n",
       "      <td>ALKHEMIST DM LLC, 1370 ESPERANZA ST, SUITE B</td>\n",
       "      <td>0</td>\n",
       "      <td>3.56</td>\n",
       "      <td>...</td>\n",
       "      <td>0.000000e+00</td>\n",
       "      <td>1.0</td>\n",
       "      <td>442.467742</td>\n",
       "      <td>0.27433</td>\n",
       "      <td>0.489325</td>\n",
       "      <td>inf</td>\n",
       "      <td>7.918161</td>\n",
       "      <td>3.629157</td>\n",
       "      <td>3.706373</td>\n",
       "      <td>inf</td>\n",
       "    </tr>\n",
       "    <tr>\n",
       "      <th>4492</th>\n",
       "      <td>GMO</td>\n",
       "      <td>GHFGCK0928PR</td>\n",
       "      <td>0.24</td>\n",
       "      <td>ALKHEMIST DM LLC</td>\n",
       "      <td>gmo</td>\n",
       "      <td>1A406030000A423000003715</td>\n",
       "      <td>Preroll</td>\n",
       "      <td>ALKHEMIST DM LLC, 1370 ESPERANZA ST, SUITE B</td>\n",
       "      <td>0</td>\n",
       "      <td>4.02</td>\n",
       "      <td>...</td>\n",
       "      <td>1.490232e-16</td>\n",
       "      <td>1.0</td>\n",
       "      <td>207.681529</td>\n",
       "      <td>0.32606</td>\n",
       "      <td>0.966825</td>\n",
       "      <td>16.194313</td>\n",
       "      <td>2.024289</td>\n",
       "      <td>1.455669</td>\n",
       "      <td>9.479598</td>\n",
       "      <td>inf</td>\n",
       "    </tr>\n",
       "  </tbody>\n",
       "</table>\n",
       "<p>4493 rows × 68 columns</p>\n",
       "</div>"
      ],
      "text/plain": [
       "        Strain_Name       Batch_ID  A_Pinene       Distributor         Strain  \\\n",
       "0     Birthday Cake       IND1_134      0.00               NaN  birthday cake   \n",
       "1       Dream Queen      S062819-3      1.47                 0    dream queen   \n",
       "2       Sour Diesel       IND1_107      3.40               NaN    sour diesel   \n",
       "3         Vibration       IND1_181      1.69               NaN      vibration   \n",
       "4         Lava Cake        IND1_66      0.00               NaN      lava cake   \n",
       "...             ...            ...       ...               ...            ...   \n",
       "4488        WIFI OG  GHFWIFI0928MP      0.00  ALKHEMIST DM LLC        wifi og   \n",
       "4489            GMO   GHFGCK0928MP      0.31  ALKHEMIST DM LLC            gmo   \n",
       "4490        WIFI OG  GHFWIFI0928PR      0.00  ALKHEMIST DM LLC        wifi og   \n",
       "4491       HELLFIRE    GHFHF0924PR      0.00  ALKHEMIST DM LLC       hellfire   \n",
       "4492            GMO   GHFGCK0928PR      0.24  ALKHEMIST DM LLC            gmo   \n",
       "\n",
       "                      MetricID            Type  \\\n",
       "0                          NaN  Vape Cartridge   \n",
       "1                            0  Flower - Cured   \n",
       "2                          NaN  Vape Cartridge   \n",
       "3                          NaN  Flower - Cured   \n",
       "4                          NaN  Vape Cartridge   \n",
       "...                        ...             ...   \n",
       "4488  1A406030000A423000003713         Preroll   \n",
       "4489  1A406030000A423000003714         Preroll   \n",
       "4490  1A406030000A423000003712         Preroll   \n",
       "4491  1A406030000A423000003661         Preroll   \n",
       "4492  1A406030000A423000003715         Preroll   \n",
       "\n",
       "                               Distributor_Address Distributor_City_State_Zip  \\\n",
       "0                                              NaN                        NaN   \n",
       "1                                                0                          0   \n",
       "2                                              NaN                        NaN   \n",
       "3                                              NaN                        NaN   \n",
       "4                                              NaN                        NaN   \n",
       "...                                            ...                        ...   \n",
       "4488  ALKHEMIST DM LLC, 1370 ESPERANZA ST, SUITE B                          0   \n",
       "4489  ALKHEMIST DM LLC, 1370 ESPERANZA ST, SUITE B                          0   \n",
       "4490  ALKHEMIST DM LLC, 1370 ESPERANZA ST, SUITE B                          0   \n",
       "4491  ALKHEMIST DM LLC, 1370 ESPERANZA ST, SUITE B                          0   \n",
       "4492  ALKHEMIST DM LLC, 1370 ESPERANZA ST, SUITE B                          0   \n",
       "\n",
       "      B_Caryophyllene  ... Other_% of Total Total Terpene Volume_% of Total  \\\n",
       "0                3.24  ...     0.000000e+00                             1.0   \n",
       "1                2.48  ...     4.077472e-03                             1.0   \n",
       "2                0.00  ...     0.000000e+00                             1.0   \n",
       "3                3.54  ...    -1.850372e-16                             1.0   \n",
       "4                0.00  ...     3.703704e-02                             1.0   \n",
       "...               ...  ...              ...                             ...   \n",
       "4488             3.83  ...    -1.136364e-03                             1.0   \n",
       "4489             3.86  ...     0.000000e+00                             1.0   \n",
       "4490             4.00  ...     1.060445e-03                             1.0   \n",
       "4491             3.56  ...     0.000000e+00                             1.0   \n",
       "4492             4.02  ...     1.490232e-16                             1.0   \n",
       "\n",
       "     THC % / CBD % THC % / Terpene % THC % / B Caryophyllene %  \\\n",
       "0              NaN           0.00000                  0.000000   \n",
       "1      1555.250000           0.18663                  1.476484   \n",
       "2              NaN           0.00000                       NaN   \n",
       "3              NaN           0.00000                  0.000000   \n",
       "4              NaN           0.00000                       NaN   \n",
       "...            ...               ...                       ...   \n",
       "4488    329.571429           0.23070                  0.530068   \n",
       "4489    198.884354           0.29236                  0.911921   \n",
       "4490    247.252632           0.23489                  0.553753   \n",
       "4491    442.467742           0.27433                  0.489325   \n",
       "4492    207.681529           0.32606                  0.966825   \n",
       "\n",
       "     THC % / A_Pinene %  THC % / B_Myrcene % THC % / Limonene %  \\\n",
       "0                   NaN             0.000000           0.000000   \n",
       "1              2.490939             0.513560           2.302944   \n",
       "2              0.000000             0.000000           0.000000   \n",
       "3              0.000000             0.000000           0.000000   \n",
       "4                   NaN             0.000000           0.000000   \n",
       "...                 ...                  ...                ...   \n",
       "4488                inf             1.812643           2.307000   \n",
       "4489          11.354885             1.862441           1.213798   \n",
       "4490                inf             1.678040           2.215013   \n",
       "4491                inf             7.918161           3.629157   \n",
       "4492          16.194313             2.024289           1.455669   \n",
       "\n",
       "     THC % / Linalool % THC % / Nerolidol %  \n",
       "0              0.000000                 NaN  \n",
       "1              3.298811            5.905936  \n",
       "2                   NaN                 NaN  \n",
       "3              0.000000            0.000000  \n",
       "4              0.000000                 NaN  \n",
       "...                 ...                 ...  \n",
       "4488           2.388424                 inf  \n",
       "4489           7.822254                 inf  \n",
       "4490           2.407622                 inf  \n",
       "4491           3.706373                 inf  \n",
       "4492           9.479598                 inf  \n",
       "\n",
       "[4493 rows x 68 columns]"
      ]
     },
     "execution_count": 35,
     "metadata": {},
     "output_type": "execute_result"
    }
   ],
   "source": [
    "new"
   ]
  },
  {
   "cell_type": "code",
   "execution_count": null,
   "id": "6e35c96a",
   "metadata": {
    "ExecuteTime": {
     "end_time": "2022-01-04T11:41:02.944717Z",
     "start_time": "2022-01-04T11:41:02.936089Z"
    }
   },
   "outputs": [],
   "source": []
  },
  {
   "cell_type": "markdown",
   "id": "94484bb0",
   "metadata": {},
   "source": [
    "## change for DynamoDB to RDS transformation"
   ]
  },
  {
   "attachments": {},
   "cell_type": "markdown",
   "id": "ff59ba48",
   "metadata": {},
   "source": [
    "THC %  --> THC_Pct\n",
    "THC % / CBD %--> THC_Pct_vs_CBD_Pct\n",
    "D_Limonene_% of Total -->D_Limonene_%_Total"
   ]
  },
  {
   "cell_type": "code",
   "execution_count": null,
   "id": "40991a2c",
   "metadata": {},
   "outputs": [],
   "source": []
  },
  {
   "cell_type": "code",
   "execution_count": 36,
   "id": "ab09f4c6",
   "metadata": {
    "ExecuteTime": {
     "end_time": "2022-02-05T07:32:53.271627Z",
     "start_time": "2022-02-05T07:32:53.268001Z"
    }
   },
   "outputs": [],
   "source": [
    "new = new.rename(columns = {'Distributor_Lic':'Distributor_Lic',\n",
    "'THC %':'THC_Pct',\n",
    "'CBD %':'CBD_Pct',\n",
    "'CBG %':'CBG_Pct',\n",
    "'CBN %':'CBN_Pct',\n",
    "'CBC %':'CBC_Pct',\n",
    "'CBDV %':'CBDV_Pct',\n",
    "'THCV %':'THCV_Pct',\n",
    "'CBL %':'CBL_Pct',\n",
    "'D8 %':'D8_Pct',\n",
    "'Total Cannabinoid %':'Total_Cannabinoid_Pct',\n",
    "'Total Terpene Volume':'Total_Terpene_Volume',\n",
    "'B_Myrcene_% of Total':'B_Myrcene_Pct_Total',\n",
    "'B_Caryophyllene_% of Total':'B_Caryophyllene_Pct_Total',\n",
    "'D_Limonene_% of Total':'D_Limonene_Pct_Total',\n",
    "'A_Pinene_% of Total':'A_Pinene_Pct_Total',\n",
    "'B_Pinene_% of Total':'B_Pinene_Pct_Total',\n",
    "'A_Humulene_% of Total':'A_Humulene_Pct_Total',\n",
    "'terpinolene_% of Total':'terpinolene_Pct_Total',\n",
    "'Linalool_% of Total':'Linalool_Pct_Total',\n",
    "'Ocimene_% of Total':'Ocimene_Pct_Total',\n",
    "'Nerolidol_% of Total':'Nerolidol_Pct_Total',\n",
    "'A-Bisabalol_% of Total':'A-Bisabalol_Pct_Total',\n",
    "'Other_% of Total':'Other_Pct_Total',\n",
    "'Total Terpene Volume_% of Total':'Total_Terpene_Volume_Pct_Total',\n",
    "'THC % / CBD %':'THC_Pct_vs_CBD_Pct',\n",
    "'THC % / Terpene %':'THC_Pct_vs_Terpene_Pct',\n",
    "'THC % / B Caryophyllene %':'THC_Pct_vs_B_Caryophyllene_Pct',\n",
    "'THC % / A_Pinene %':'THC_Pct_vs_A_Pinene_Pct',\n",
    "'THC % / B_Myrcene %':'THC_Pct_vs_B_Myrcene_Pct',\n",
    "'THC % / Limonene %':'THC_Pct_vs_Limonene_Pct',\n",
    "'THC % / Linalool %':'THC_Pct_vs_Linalool_Pct',\n",
    "'THC % / Nerolidol %':'THC_Pct_vs_Nerolidol_Pct'})"
   ]
  },
  {
   "cell_type": "code",
   "execution_count": 37,
   "id": "465a4e57",
   "metadata": {
    "ExecuteTime": {
     "end_time": "2022-02-05T07:32:53.274954Z",
     "start_time": "2022-02-05T07:32:53.272587Z"
    }
   },
   "outputs": [
    {
     "data": {
      "text/plain": [
       "Index(['Strain_Name', 'Batch_ID', 'A_Pinene', 'Distributor', 'Strain',\n",
       "       'MetricID', 'Type', 'Distributor_Address', 'Distributor_City_State_Zip',\n",
       "       'B_Caryophyllene', 'Producer', 'Brand', 'Date_Recieved', 'Matrix',\n",
       "       'Producer_City_State_Zip', 'Producer_Lic_Number', 'terpinolene',\n",
       "       'Producer_Address', 'Sample_ID', 'Lab_ID', 'Total_Terpene_Volume',\n",
       "       'A_Humulene', 'Date_Harvested', 'B_Myrcene', 'dataOrigin', 'Ocimene',\n",
       "       'Date_Collected', 'D_Limonene', 'brandPK', 'B_Pinene',\n",
       "       'Distributor_Lic#', 'Linalool', 'Date_Test_Completed', 'PrimaryKey',\n",
       "       'THC_Pct', 'CBD_Pct', 'CBG_Pct', 'CBN_Pct', 'CBC_Pct', 'CBDV_Pct',\n",
       "       'THCV_Pct', 'CBL_Pct', 'D8_Pct', 'Total_Cannabinoid_Pct', 'Nerolidol',\n",
       "       'A-Bisabalol', 'Other', 'B_Myrcene_Pct_Total',\n",
       "       'B_Caryophyllene_Pct_Total', 'D_Limonene_Pct_Total',\n",
       "       'A_Pinene_Pct_Total', 'B_Pinene_Pct_Total', 'A_Humulene_Pct_Total',\n",
       "       'terpinolene_Pct_Total', 'Linalool_Pct_Total', 'Ocimene_Pct_Total',\n",
       "       'Nerolidol_Pct_Total', 'A-Bisabalol_Pct_Total', 'Other_Pct_Total',\n",
       "       'Total_Terpene_Volume_Pct_Total', 'THC_Pct_vs_CBD_Pct',\n",
       "       'THC_Pct_vs_Terpene_Pct', 'THC_Pct_vs_B_Caryophyllene_Pct',\n",
       "       'THC_Pct_vs_A_Pinene_Pct', 'THC_Pct_vs_B_Myrcene_Pct',\n",
       "       'THC_Pct_vs_Limonene_Pct', 'THC_Pct_vs_Linalool_Pct',\n",
       "       'THC_Pct_vs_Nerolidol_Pct'],\n",
       "      dtype='object')"
      ]
     },
     "execution_count": 37,
     "metadata": {},
     "output_type": "execute_result"
    }
   ],
   "source": [
    "new.columns"
   ]
  },
  {
   "cell_type": "markdown",
   "id": "ab24f0b7",
   "metadata": {},
   "source": [
    "# Clean"
   ]
  },
  {
   "cell_type": "code",
   "execution_count": 38,
   "id": "c1dc3d71",
   "metadata": {
    "ExecuteTime": {
     "end_time": "2022-02-05T07:32:53.278775Z",
     "start_time": "2022-02-05T07:32:53.275609Z"
    }
   },
   "outputs": [
    {
     "data": {
      "text/plain": [
       "491"
      ]
     },
     "execution_count": 38,
     "metadata": {},
     "output_type": "execute_result"
    }
   ],
   "source": [
    "## the number of records that need \n",
    "len(new[(new['Total_Terpene_Volume'].isna()) |(new['Total_Terpene_Volume']==0)| (new['Matrix'] == 'Edible')])"
   ]
  },
  {
   "cell_type": "code",
   "execution_count": 39,
   "id": "c741fb1c",
   "metadata": {
    "ExecuteTime": {
     "end_time": "2022-02-05T07:32:53.290055Z",
     "start_time": "2022-02-05T07:32:53.284195Z"
    }
   },
   "outputs": [
    {
     "data": {
      "text/plain": [
       "Concentrates & Extracts    2811\n",
       "Plant - Cured              1121\n",
       "Plant                        70\n",
       "Name: Matrix, dtype: int64"
      ]
     },
     "execution_count": 39,
     "metadata": {},
     "output_type": "execute_result"
    }
   ],
   "source": [
    "raw_trimmed = new.drop(\n",
    "    new[\n",
    "        (new['Total_Terpene_Volume'].isna()) |\n",
    "        (new['Total_Terpene_Volume']==0)|\n",
    "        (new['Matrix'] == 'Edible')].index)\n",
    "raw_trimmed['Matrix'] = raw_trimmed['Matrix'].replace('Concentrate','Concentrates & Extracts')\n",
    "raw_trimmed['Matrix'].value_counts()"
   ]
  },
  {
   "cell_type": "code",
   "execution_count": 40,
   "id": "4135663f",
   "metadata": {
    "ExecuteTime": {
     "end_time": "2022-02-05T07:32:53.292994Z",
     "start_time": "2022-02-05T07:32:53.290782Z"
    }
   },
   "outputs": [],
   "source": [
    "raw_trimmed['THC_Pct_vs_B_Caryophyllene_Pct']= raw_trimmed['THC_Pct_vs_B_Caryophyllene_Pct'].fillna(0)\n",
    "raw_trimmed['THC_Pct_vs_A_Pinene_Pct']= raw_trimmed['THC_Pct_vs_A_Pinene_Pct'].fillna(0)\n",
    "raw_trimmed['THC_Pct_vs_B_Myrcene_Pct'] = raw_trimmed['THC_Pct_vs_B_Myrcene_Pct'].fillna(0)"
   ]
  },
  {
   "cell_type": "code",
   "execution_count": 41,
   "id": "90274ee1",
   "metadata": {
    "ExecuteTime": {
     "end_time": "2022-02-05T07:32:53.299414Z",
     "start_time": "2022-02-05T07:32:53.293703Z"
    }
   },
   "outputs": [],
   "source": [
    "## create a function to summarize the data quality\n",
    "def dataquality_numeric(raw):\n",
    "    print(f'Dataset Shape:{raw.shape}')\n",
    "    numeric_col = raw.select_dtypes(include=['int64','float64'])   \n",
    "    summary = pd.DataFrame(numeric_col.dtypes,columns = ['dtypes'])\n",
    "    summary = summary.reset_index()\n",
    "    summary['Name'] = summary['index']\n",
    "    summary = summary[['Name','dtypes']]  \n",
    "    summary['# of Records'] = numeric_col.count().values\n",
    "    summary['% populated'] = (((len(raw)-numeric_col.isnull().sum().values)/len(raw))*100).round(2)\n",
    "    summary['# Zeros'] = numeric_col[numeric_col ==0].count().values\n",
    "    summary['Uniques'] = numeric_col.nunique().values\n",
    "    summary['Mean'] = numeric_col.mean().values\n",
    "    summary['Maximum'] = numeric_col.max().values\n",
    "    summary['Minimum'] = numeric_col.min().values\n",
    "    summary['Standard Deviation'] = numeric_col.std().values\n",
    "      \n",
    "    #Calculate the entropy of a distribution for given probability values.\n",
    "    for name in summary['Name'].value_counts().index:\n",
    "        summary.loc[summary['Name'] == name, 'Entropy'] = round(stats.entropy(numeric_col[name].value_counts(normalize = True),base = 2),2)\n",
    "    return summary\n",
    "\n",
    "## create a function to summarize the data quality for categorical variables\n",
    "def dataquality_categorical(raw):\n",
    "    print(f'Dataset Shape:{raw.shape}')\n",
    "    categorical_col = raw.select_dtypes(include = ['object','category'])\n",
    "    #print(categorical_col)\n",
    "    summary = pd.DataFrame(categorical_col.dtypes, columns = ['dtypes'])\n",
    "    summary = summary.reset_index()\n",
    "    summary['Name'] = summary['index']\n",
    "    summary = summary[['Name','dtypes']]\n",
    "    summary['# of Records'] = categorical_col.count().values\n",
    "    summary['% populated'] = (((len(raw) - categorical_col.isnull().sum().values)/(len(raw)))*100).round(2)\n",
    "    summary['# NA'] = categorical_col.isnull().sum().values \\\n",
    "    + categorical_col[categorical_col =='-1'].count().values\n",
    "    summary['# Unique_Values'] = categorical_col.nunique().values\n",
    "    summary['First_Value'] = categorical_col.loc[0].values\n",
    "    summary['Second_Value'] = categorical_col.loc[1].values\n",
    "    summary['Third_Value'] = categorical_col.loc[2].values\n",
    "    count_value = pd.DataFrame(index = categorical_col.columns,columns = ['count'])\n",
    "    most_common = pd.DataFrame(index = categorical_col.columns,columns = ['MostCommon'])\n",
    "    #print(count_value)\n",
    "    #print(most_common)\n",
    "    for col in categorical_col.columns:\n",
    "        count_value.loc[col,'count'] = categorical_col[col].value_counts(normalize = True).values[0]*100\n",
    "        most_common.loc[col,'MostCommon'] = categorical_col[col].mode().values \n",
    "        summary['% Most_Common_Field'] = count_value['count'].values.astype(float).round(2)\n",
    "        summary['Most_Common_Field'] = most_common['MostCommon'].values\n",
    "\n",
    "    #Calculate the entropy of a distribution for given probability values.\n",
    "    for name in summary['Name'].value_counts().index:\n",
    "          summary.loc[summary['Name'] == name, 'Entropy'] = round(stats.entropy(categorical_col[name].value_counts(normalize = True),base = 2),2)\n",
    "    return summary"
   ]
  },
  {
   "cell_type": "code",
   "execution_count": 42,
   "id": "dd0325b2",
   "metadata": {
    "ExecuteTime": {
     "end_time": "2022-02-05T07:32:53.333556Z",
     "start_time": "2022-02-05T07:32:53.300137Z"
    }
   },
   "outputs": [
    {
     "name": "stdout",
     "output_type": "stream",
     "text": [
      "Dataset Shape:(4002, 68)\n"
     ]
    },
    {
     "data": {
      "text/plain": [
       "array(['THC_Pct_vs_CBD_Pct', 'THC_Pct_vs_B_Caryophyllene_Pct',\n",
       "       'THC_Pct_vs_A_Pinene_Pct', 'THC_Pct_vs_B_Myrcene_Pct',\n",
       "       'THC_Pct_vs_Limonene_Pct', 'THC_Pct_vs_Linalool_Pct',\n",
       "       'THC_Pct_vs_Nerolidol_Pct'], dtype=object)"
      ]
     },
     "execution_count": 42,
     "metadata": {},
     "output_type": "execute_result"
    }
   ],
   "source": [
    "numeric_DQR_raw = dataquality_numeric(raw_trimmed)\n",
    "col_temp = numeric_DQR_raw[numeric_DQR_raw['Mean'] == np.inf]['Name'].values\n",
    "col_temp "
   ]
  },
  {
   "cell_type": "code",
   "execution_count": 43,
   "id": "3104ddb2",
   "metadata": {
    "ExecuteTime": {
     "end_time": "2022-02-05T07:32:53.338471Z",
     "start_time": "2022-02-05T07:32:53.334401Z"
    }
   },
   "outputs": [],
   "source": [
    "for col in col_temp:\n",
    "    themax = raw_trimmed[col].replace([np.inf, -np.inf], np.nan).dropna().max()\n",
    "    raw_trimmed[col].replace([np.inf, -np.inf], themax , inplace=True)"
   ]
  },
  {
   "cell_type": "code",
   "execution_count": 44,
   "id": "171a7dd4",
   "metadata": {
    "ExecuteTime": {
     "end_time": "2022-02-05T07:32:53.373439Z",
     "start_time": "2022-02-05T07:32:53.339094Z"
    }
   },
   "outputs": [
    {
     "name": "stdout",
     "output_type": "stream",
     "text": [
      "Dataset Shape:(4002, 68)\n"
     ]
    },
    {
     "data": {
      "text/plain": [
       "array([], dtype=object)"
      ]
     },
     "execution_count": 44,
     "metadata": {},
     "output_type": "execute_result"
    }
   ],
   "source": [
    "numeric_DQR_raw = dataquality_numeric(raw_trimmed)\n",
    "numeric_DQR_raw[numeric_DQR_raw['Mean'] == np.inf]['Name'].values\n"
   ]
  },
  {
   "cell_type": "code",
   "execution_count": 45,
   "id": "553ec274",
   "metadata": {
    "ExecuteTime": {
     "end_time": "2022-02-05T07:32:53.376415Z",
     "start_time": "2022-02-05T07:32:53.374221Z"
    }
   },
   "outputs": [
    {
     "data": {
      "text/plain": [
       "Index(['THC_Pct_vs_B_Caryophyllene_Pct', 'THC_Pct_vs_A_Pinene_Pct',\n",
       "       'THC_Pct_vs_B_Myrcene_Pct', 'THC_Pct_vs_Limonene_Pct',\n",
       "       'THC_Pct_vs_Linalool_Pct', 'THC_Pct_vs_Nerolidol_Pct'],\n",
       "      dtype='object')"
      ]
     },
     "execution_count": 45,
     "metadata": {},
     "output_type": "execute_result"
    }
   ],
   "source": [
    "raw_trimmed.columns[62:]"
   ]
  },
  {
   "cell_type": "code",
   "execution_count": 46,
   "id": "4ebc3ec3",
   "metadata": {
    "ExecuteTime": {
     "end_time": "2022-02-05T07:32:53.378714Z",
     "start_time": "2022-02-05T07:32:53.377026Z"
    }
   },
   "outputs": [
    {
     "data": {
      "text/plain": [
       "(4002, 68)"
      ]
     },
     "execution_count": 46,
     "metadata": {},
     "output_type": "execute_result"
    }
   ],
   "source": [
    "raw_trimmed.shape"
   ]
  },
  {
   "cell_type": "code",
   "execution_count": 47,
   "id": "6198c6a1",
   "metadata": {
    "ExecuteTime": {
     "end_time": "2022-02-05T07:32:53.383995Z",
     "start_time": "2022-02-05T07:32:53.379208Z"
    }
   },
   "outputs": [],
   "source": [
    "def min_max_norm(col):\n",
    "    \n",
    "    raw_trimmed[f'{col}_norm'] = (raw_trimmed[col] - raw_trimmed[col].min())/(raw_trimmed[col].max()- raw_trimmed[col].min())\n",
    "for col in raw_trimmed.iloc[:,62:70].columns:\n",
    "    min_max_norm(col)"
   ]
  },
  {
   "cell_type": "code",
   "execution_count": 48,
   "id": "5c49131e",
   "metadata": {
    "ExecuteTime": {
     "end_time": "2022-02-05T07:32:53.386689Z",
     "start_time": "2022-02-05T07:32:53.384643Z"
    }
   },
   "outputs": [
    {
     "data": {
      "text/plain": [
       "Index(['THC_Pct_vs_B_Myrcene_Pct_norm', 'THC_Pct_vs_Limonene_Pct_norm',\n",
       "       'THC_Pct_vs_Linalool_Pct_norm', 'THC_Pct_vs_Nerolidol_Pct_norm'],\n",
       "      dtype='object')"
      ]
     },
     "execution_count": 48,
     "metadata": {},
     "output_type": "execute_result"
    }
   ],
   "source": [
    "raw_trimmed.columns[70:]"
   ]
  },
  {
   "cell_type": "code",
   "execution_count": 49,
   "id": "5b458c01",
   "metadata": {
    "ExecuteTime": {
     "end_time": "2022-02-05T07:32:53.390294Z",
     "start_time": "2022-02-05T07:32:53.387292Z"
    }
   },
   "outputs": [
    {
     "data": {
      "text/plain": [
       "super silver haze    71\n",
       "sugar tarts          34\n",
       "gg4                  34\n",
       "ice cream cake       31\n",
       "cherry ak            31\n",
       "                     ..\n",
       "orange stomper        1\n",
       "berry swirl           1\n",
       "citrus kush           1\n",
       "bubble gum            1\n",
       "marshmallow og        1\n",
       "Name: Strain, Length: 1559, dtype: int64"
      ]
     },
     "execution_count": 49,
     "metadata": {},
     "output_type": "execute_result"
    }
   ],
   "source": [
    "raw_trimmed['Strain'].value_counts()"
   ]
  },
  {
   "cell_type": "code",
   "execution_count": 50,
   "id": "9e1d763b",
   "metadata": {
    "ExecuteTime": {
     "end_time": "2022-02-05T07:32:53.403280Z",
     "start_time": "2022-02-05T07:32:53.390987Z"
    }
   },
   "outputs": [
    {
     "data": {
      "text/html": [
       "<div>\n",
       "<style scoped>\n",
       "    .dataframe tbody tr th:only-of-type {\n",
       "        vertical-align: middle;\n",
       "    }\n",
       "\n",
       "    .dataframe tbody tr th {\n",
       "        vertical-align: top;\n",
       "    }\n",
       "\n",
       "    .dataframe thead th {\n",
       "        text-align: right;\n",
       "    }\n",
       "</style>\n",
       "<table border=\"1\" class=\"dataframe\">\n",
       "  <thead>\n",
       "    <tr style=\"text-align: right;\">\n",
       "      <th></th>\n",
       "      <th>0</th>\n",
       "    </tr>\n",
       "  </thead>\n",
       "  <tbody>\n",
       "    <tr>\n",
       "      <th>0</th>\n",
       "      <td>NaN</td>\n",
       "    </tr>\n",
       "    <tr>\n",
       "      <th>1</th>\n",
       "      <td>NaN</td>\n",
       "    </tr>\n",
       "    <tr>\n",
       "      <th>2</th>\n",
       "      <td>NaN</td>\n",
       "    </tr>\n",
       "    <tr>\n",
       "      <th>3</th>\n",
       "      <td>NaN</td>\n",
       "    </tr>\n",
       "    <tr>\n",
       "      <th>4</th>\n",
       "      <td>NaN</td>\n",
       "    </tr>\n",
       "    <tr>\n",
       "      <th>...</th>\n",
       "      <td>...</td>\n",
       "    </tr>\n",
       "    <tr>\n",
       "      <th>4488</th>\n",
       "      <td>NaN</td>\n",
       "    </tr>\n",
       "    <tr>\n",
       "      <th>4489</th>\n",
       "      <td>NaN</td>\n",
       "    </tr>\n",
       "    <tr>\n",
       "      <th>4490</th>\n",
       "      <td>NaN</td>\n",
       "    </tr>\n",
       "    <tr>\n",
       "      <th>4491</th>\n",
       "      <td>NaN</td>\n",
       "    </tr>\n",
       "    <tr>\n",
       "      <th>4492</th>\n",
       "      <td>NaN</td>\n",
       "    </tr>\n",
       "  </tbody>\n",
       "</table>\n",
       "<p>4002 rows × 1 columns</p>\n",
       "</div>"
      ],
      "text/plain": [
       "        0\n",
       "0     NaN\n",
       "1     NaN\n",
       "2     NaN\n",
       "3     NaN\n",
       "4     NaN\n",
       "...   ...\n",
       "4488  NaN\n",
       "4489  NaN\n",
       "4490  NaN\n",
       "4491  NaN\n",
       "4492  NaN\n",
       "\n",
       "[4002 rows x 1 columns]"
      ]
     },
     "execution_count": 50,
     "metadata": {},
     "output_type": "execute_result"
    }
   ],
   "source": [
    "raw_trimmed['Strain'].str.extract(r'(.*?)\\s*\\(')"
   ]
  },
  {
   "cell_type": "code",
   "execution_count": 51,
   "id": "906fc698",
   "metadata": {
    "ExecuteTime": {
     "end_time": "2022-02-05T07:32:53.407015Z",
     "start_time": "2022-02-05T07:32:53.403947Z"
    }
   },
   "outputs": [],
   "source": [
    "org_strain_list  = raw['Strain'][~raw['Strain'].str.contains(r'(\\dg)',na = False)].values"
   ]
  },
  {
   "cell_type": "code",
   "execution_count": 52,
   "id": "6c403665",
   "metadata": {
    "ExecuteTime": {
     "end_time": "2022-02-05T07:32:53.885537Z",
     "start_time": "2022-02-05T07:32:53.407766Z"
    }
   },
   "outputs": [],
   "source": [
    "raw_trimmed['Strain_integrated'] = raw_trimmed['Strain'].str.extract(r'(.*?)\\s*\\(')\n",
    "for i in raw_trimmed.index:\n",
    "    if raw_trimmed['Strain'][i] in org_strain_list:\n",
    "        raw_trimmed['Strain_integrated'][i] = raw_trimmed['Strain'][i]"
   ]
  },
  {
   "cell_type": "code",
   "execution_count": 53,
   "id": "33776ed3",
   "metadata": {
    "ExecuteTime": {
     "end_time": "2022-02-05T07:32:53.888995Z",
     "start_time": "2022-02-05T07:32:53.886342Z"
    }
   },
   "outputs": [
    {
     "data": {
      "text/plain": [
       "0       birthday cake\n",
       "1         dream queen\n",
       "2         sour diesel\n",
       "3           vibration\n",
       "4           lava cake\n",
       "            ...      \n",
       "4488          wifi og\n",
       "4489              gmo\n",
       "4490          wifi og\n",
       "4491         hellfire\n",
       "4492              gmo\n",
       "Name: Strain_integrated, Length: 4002, dtype: object"
      ]
     },
     "execution_count": 53,
     "metadata": {},
     "output_type": "execute_result"
    }
   ],
   "source": [
    "raw_trimmed['Strain_integrated'] "
   ]
  },
  {
   "cell_type": "code",
   "execution_count": 54,
   "id": "c94f4dad",
   "metadata": {
    "ExecuteTime": {
     "end_time": "2022-02-05T07:32:53.891617Z",
     "start_time": "2022-02-05T07:32:53.889620Z"
    }
   },
   "outputs": [
    {
     "data": {
      "text/plain": [
       "(4002, 75)"
      ]
     },
     "execution_count": 54,
     "metadata": {},
     "output_type": "execute_result"
    }
   ],
   "source": [
    "raw_trimmed.shape"
   ]
  },
  {
   "cell_type": "code",
   "execution_count": 55,
   "id": "c11a56f8",
   "metadata": {
    "ExecuteTime": {
     "end_time": "2022-02-05T07:32:53.894070Z",
     "start_time": "2022-02-05T07:32:53.892148Z"
    }
   },
   "outputs": [
    {
     "data": {
      "text/plain": [
       "Index(['Strain_Name', 'Batch_ID', 'A_Pinene', 'Distributor', 'Strain',\n",
       "       'MetricID', 'Type', 'Distributor_Address', 'Distributor_City_State_Zip',\n",
       "       'B_Caryophyllene', 'Producer', 'Brand', 'Date_Recieved', 'Matrix',\n",
       "       'Producer_City_State_Zip', 'Producer_Lic_Number', 'terpinolene',\n",
       "       'Producer_Address', 'Sample_ID', 'Lab_ID', 'Total_Terpene_Volume',\n",
       "       'A_Humulene', 'Date_Harvested', 'B_Myrcene', 'dataOrigin', 'Ocimene',\n",
       "       'Date_Collected', 'D_Limonene', 'brandPK', 'B_Pinene',\n",
       "       'Distributor_Lic#', 'Linalool', 'Date_Test_Completed', 'PrimaryKey',\n",
       "       'THC_Pct', 'CBD_Pct', 'CBG_Pct', 'CBN_Pct', 'CBC_Pct', 'CBDV_Pct',\n",
       "       'THCV_Pct', 'CBL_Pct', 'D8_Pct', 'Total_Cannabinoid_Pct', 'Nerolidol',\n",
       "       'A-Bisabalol', 'Other', 'B_Myrcene_Pct_Total',\n",
       "       'B_Caryophyllene_Pct_Total', 'D_Limonene_Pct_Total',\n",
       "       'A_Pinene_Pct_Total', 'B_Pinene_Pct_Total', 'A_Humulene_Pct_Total',\n",
       "       'terpinolene_Pct_Total', 'Linalool_Pct_Total', 'Ocimene_Pct_Total',\n",
       "       'Nerolidol_Pct_Total', 'A-Bisabalol_Pct_Total', 'Other_Pct_Total',\n",
       "       'Total_Terpene_Volume_Pct_Total', 'THC_Pct_vs_CBD_Pct',\n",
       "       'THC_Pct_vs_Terpene_Pct', 'THC_Pct_vs_B_Caryophyllene_Pct',\n",
       "       'THC_Pct_vs_A_Pinene_Pct', 'THC_Pct_vs_B_Myrcene_Pct',\n",
       "       'THC_Pct_vs_Limonene_Pct', 'THC_Pct_vs_Linalool_Pct',\n",
       "       'THC_Pct_vs_Nerolidol_Pct', 'THC_Pct_vs_B_Caryophyllene_Pct_norm',\n",
       "       'THC_Pct_vs_A_Pinene_Pct_norm', 'THC_Pct_vs_B_Myrcene_Pct_norm',\n",
       "       'THC_Pct_vs_Limonene_Pct_norm', 'THC_Pct_vs_Linalool_Pct_norm',\n",
       "       'THC_Pct_vs_Nerolidol_Pct_norm', 'Strain_integrated'],\n",
       "      dtype='object')"
      ]
     },
     "execution_count": 55,
     "metadata": {},
     "output_type": "execute_result"
    }
   ],
   "source": [
    "raw_trimmed.columns"
   ]
  },
  {
   "cell_type": "code",
   "execution_count": 56,
   "id": "7006cc43",
   "metadata": {
    "ExecuteTime": {
     "end_time": "2022-02-05T07:32:53.897041Z",
     "start_time": "2022-02-05T07:32:53.894692Z"
    }
   },
   "outputs": [
    {
     "data": {
      "text/plain": [
       "Concentrates & Extracts    2811\n",
       "Plant - Cured              1121\n",
       "Plant                        70\n",
       "Name: Matrix, dtype: int64"
      ]
     },
     "execution_count": 56,
     "metadata": {},
     "output_type": "execute_result"
    }
   ],
   "source": [
    "raw_trimmed.Matrix.value_counts()"
   ]
  },
  {
   "cell_type": "code",
   "execution_count": 57,
   "id": "a74b4db8",
   "metadata": {
    "ExecuteTime": {
     "end_time": "2022-02-05T07:32:53.900470Z",
     "start_time": "2022-02-05T07:32:53.897725Z"
    }
   },
   "outputs": [
    {
     "data": {
      "text/plain": [
       "rawgarden          2552\n",
       "glasshousefarms     457\n",
       "purebeauty          335\n",
       "bearlabs            104\n",
       "unknown              69\n",
       "                   ... \n",
       "alienlabs             1\n",
       "figfarms              1\n",
       "sense                 1\n",
       "sourcecannabis        1\n",
       "pearlpharma           1\n",
       "Name: brandPK, Length: 72, dtype: int64"
      ]
     },
     "execution_count": 57,
     "metadata": {},
     "output_type": "execute_result"
    }
   ],
   "source": [
    "raw_trimmed.brandPK.value_counts()"
   ]
  },
  {
   "cell_type": "code",
   "execution_count": 58,
   "id": "a650a6ba",
   "metadata": {
    "ExecuteTime": {
     "end_time": "2022-02-05T07:32:53.903868Z",
     "start_time": "2022-02-05T07:32:53.901176Z"
    }
   },
   "outputs": [
    {
     "data": {
      "text/plain": [
       "super silver haze    71\n",
       "gg4                  35\n",
       "sugar tarts          34\n",
       "ice cream cake       31\n",
       "cherry ak            31\n",
       "                     ..\n",
       "og haze #12           1\n",
       "extreme fire #12      1\n",
       "mandarin guava #3     1\n",
       "sun drop              1\n",
       "marshmallow og        1\n",
       "Name: Strain_integrated, Length: 1465, dtype: int64"
      ]
     },
     "execution_count": 58,
     "metadata": {},
     "output_type": "execute_result"
    }
   ],
   "source": [
    "raw_trimmed.Strain_integrated.value_counts()"
   ]
  },
  {
   "cell_type": "code",
   "execution_count": 59,
   "id": "dae98efc",
   "metadata": {
    "ExecuteTime": {
     "end_time": "2022-02-05T07:32:53.906681Z",
     "start_time": "2022-02-05T07:32:53.904559Z"
    }
   },
   "outputs": [
    {
     "data": {
      "text/plain": [
       "0       35.47\n",
       "1       19.62\n",
       "2       20.78\n",
       "3       19.20\n",
       "4       34.83\n",
       "        ...  \n",
       "4488     8.80\n",
       "4489    12.04\n",
       "4490     9.43\n",
       "4491     6.35\n",
       "4492    11.92\n",
       "Name: Total_Terpene_Volume, Length: 4002, dtype: float64"
      ]
     },
     "execution_count": 59,
     "metadata": {},
     "output_type": "execute_result"
    }
   ],
   "source": [
    "raw_trimmed['Total_Terpene_Volume']"
   ]
  },
  {
   "cell_type": "code",
   "execution_count": 60,
   "id": "b72be816",
   "metadata": {
    "ExecuteTime": {
     "end_time": "2022-02-05T07:32:53.909780Z",
     "start_time": "2022-02-05T07:32:53.907504Z"
    }
   },
   "outputs": [
    {
     "data": {
      "text/plain": [
       "Index(['Strain_Name', 'Batch_ID', 'A_Pinene', 'Distributor', 'Strain',\n",
       "       'MetricID', 'Type', 'Distributor_Address', 'Distributor_City_State_Zip',\n",
       "       'B_Caryophyllene', 'Producer', 'Brand', 'Date_Recieved', 'Matrix',\n",
       "       'Producer_City_State_Zip', 'Producer_Lic_Number', 'terpinolene',\n",
       "       'Producer_Address', 'Sample_ID', 'Lab_ID', 'Total_Terpene_Volume',\n",
       "       'A_Humulene', 'Date_Harvested', 'B_Myrcene', 'dataOrigin', 'Ocimene',\n",
       "       'Date_Collected', 'D_Limonene', 'brandPK', 'B_Pinene',\n",
       "       'Distributor_Lic#', 'Linalool', 'Date_Test_Completed', 'PrimaryKey',\n",
       "       'THC_Pct', 'CBD_Pct', 'CBG_Pct', 'CBN_Pct', 'CBC_Pct', 'CBDV_Pct',\n",
       "       'THCV_Pct', 'CBL_Pct', 'D8_Pct', 'Total_Cannabinoid_Pct', 'Nerolidol',\n",
       "       'A-Bisabalol', 'Other', 'B_Myrcene_Pct_Total',\n",
       "       'B_Caryophyllene_Pct_Total', 'D_Limonene_Pct_Total',\n",
       "       'A_Pinene_Pct_Total', 'B_Pinene_Pct_Total', 'A_Humulene_Pct_Total',\n",
       "       'terpinolene_Pct_Total', 'Linalool_Pct_Total', 'Ocimene_Pct_Total',\n",
       "       'Nerolidol_Pct_Total', 'A-Bisabalol_Pct_Total', 'Other_Pct_Total',\n",
       "       'Total_Terpene_Volume_Pct_Total', 'THC_Pct_vs_CBD_Pct',\n",
       "       'THC_Pct_vs_Terpene_Pct', 'THC_Pct_vs_B_Caryophyllene_Pct',\n",
       "       'THC_Pct_vs_A_Pinene_Pct', 'THC_Pct_vs_B_Myrcene_Pct',\n",
       "       'THC_Pct_vs_Limonene_Pct', 'THC_Pct_vs_Linalool_Pct',\n",
       "       'THC_Pct_vs_Nerolidol_Pct', 'THC_Pct_vs_B_Caryophyllene_Pct_norm',\n",
       "       'THC_Pct_vs_A_Pinene_Pct_norm', 'THC_Pct_vs_B_Myrcene_Pct_norm',\n",
       "       'THC_Pct_vs_Limonene_Pct_norm', 'THC_Pct_vs_Linalool_Pct_norm',\n",
       "       'THC_Pct_vs_Nerolidol_Pct_norm', 'Strain_integrated'],\n",
       "      dtype='object')"
      ]
     },
     "execution_count": 60,
     "metadata": {},
     "output_type": "execute_result"
    }
   ],
   "source": [
    "raw_trimmed.columns\n"
   ]
  },
  {
   "cell_type": "code",
   "execution_count": 61,
   "id": "d47b01f7",
   "metadata": {
    "ExecuteTime": {
     "end_time": "2022-02-05T07:32:53.914484Z",
     "start_time": "2022-02-05T07:32:53.910570Z"
    }
   },
   "outputs": [],
   "source": [
    "cannabis_vol_column = ['THC_Pct', 'CBD_Pct', 'CBG_Pct', 'CBN_Pct', 'CBC_Pct', 'CBDV_Pct',\n",
    "       'THCV_Pct', 'CBL_Pct', 'D8_Pct']\n",
    "\n",
    "for col in cannabis_vol_column:\n",
    "    raw_trimmed[f'{col}_Pct_Total'] = raw_trimmed[col]/raw_trimmed['Total_Cannabinoid_Pct']"
   ]
  },
  {
   "cell_type": "code",
   "execution_count": 62,
   "id": "7569af7c",
   "metadata": {
    "ExecuteTime": {
     "end_time": "2022-02-05T07:32:53.927466Z",
     "start_time": "2022-02-05T07:32:53.915193Z"
    }
   },
   "outputs": [
    {
     "data": {
      "text/html": [
       "<div>\n",
       "<style scoped>\n",
       "    .dataframe tbody tr th:only-of-type {\n",
       "        vertical-align: middle;\n",
       "    }\n",
       "\n",
       "    .dataframe tbody tr th {\n",
       "        vertical-align: top;\n",
       "    }\n",
       "\n",
       "    .dataframe thead th {\n",
       "        text-align: right;\n",
       "    }\n",
       "</style>\n",
       "<table border=\"1\" class=\"dataframe\">\n",
       "  <thead>\n",
       "    <tr style=\"text-align: right;\">\n",
       "      <th></th>\n",
       "      <th>Strain_Name</th>\n",
       "      <th>Batch_ID</th>\n",
       "      <th>A_Pinene</th>\n",
       "      <th>Distributor</th>\n",
       "      <th>Strain</th>\n",
       "      <th>MetricID</th>\n",
       "      <th>Type</th>\n",
       "      <th>Distributor_Address</th>\n",
       "      <th>Distributor_City_State_Zip</th>\n",
       "      <th>B_Caryophyllene</th>\n",
       "      <th>...</th>\n",
       "      <th>Strain_integrated</th>\n",
       "      <th>THC_Pct_Pct_Total</th>\n",
       "      <th>CBD_Pct_Pct_Total</th>\n",
       "      <th>CBG_Pct_Pct_Total</th>\n",
       "      <th>CBN_Pct_Pct_Total</th>\n",
       "      <th>CBC_Pct_Pct_Total</th>\n",
       "      <th>CBDV_Pct_Pct_Total</th>\n",
       "      <th>THCV_Pct_Pct_Total</th>\n",
       "      <th>CBL_Pct_Pct_Total</th>\n",
       "      <th>D8_Pct_Pct_Total</th>\n",
       "    </tr>\n",
       "  </thead>\n",
       "  <tbody>\n",
       "    <tr>\n",
       "      <th>0</th>\n",
       "      <td>Birthday Cake</td>\n",
       "      <td>IND1_134</td>\n",
       "      <td>0.00</td>\n",
       "      <td>NaN</td>\n",
       "      <td>birthday cake</td>\n",
       "      <td>NaN</td>\n",
       "      <td>Vape Cartridge</td>\n",
       "      <td>NaN</td>\n",
       "      <td>NaN</td>\n",
       "      <td>3.24</td>\n",
       "      <td>...</td>\n",
       "      <td>birthday cake</td>\n",
       "      <td>NaN</td>\n",
       "      <td>NaN</td>\n",
       "      <td>NaN</td>\n",
       "      <td>NaN</td>\n",
       "      <td>NaN</td>\n",
       "      <td>NaN</td>\n",
       "      <td>NaN</td>\n",
       "      <td>NaN</td>\n",
       "      <td>NaN</td>\n",
       "    </tr>\n",
       "    <tr>\n",
       "      <th>1</th>\n",
       "      <td>Dream Queen</td>\n",
       "      <td>S062819-3</td>\n",
       "      <td>1.47</td>\n",
       "      <td>0</td>\n",
       "      <td>dream queen</td>\n",
       "      <td>0</td>\n",
       "      <td>Flower - Cured</td>\n",
       "      <td>0</td>\n",
       "      <td>0</td>\n",
       "      <td>2.48</td>\n",
       "      <td>...</td>\n",
       "      <td>dream queen</td>\n",
       "      <td>0.961366</td>\n",
       "      <td>0.000618</td>\n",
       "      <td>0.038016</td>\n",
       "      <td>0.0</td>\n",
       "      <td>0.000000</td>\n",
       "      <td>0.0</td>\n",
       "      <td>0.000000</td>\n",
       "      <td>0.0</td>\n",
       "      <td>0.000000</td>\n",
       "    </tr>\n",
       "    <tr>\n",
       "      <th>2</th>\n",
       "      <td>Sour Diesel</td>\n",
       "      <td>IND1_107</td>\n",
       "      <td>3.40</td>\n",
       "      <td>NaN</td>\n",
       "      <td>sour diesel</td>\n",
       "      <td>NaN</td>\n",
       "      <td>Vape Cartridge</td>\n",
       "      <td>NaN</td>\n",
       "      <td>NaN</td>\n",
       "      <td>0.00</td>\n",
       "      <td>...</td>\n",
       "      <td>sour diesel</td>\n",
       "      <td>NaN</td>\n",
       "      <td>NaN</td>\n",
       "      <td>NaN</td>\n",
       "      <td>NaN</td>\n",
       "      <td>NaN</td>\n",
       "      <td>NaN</td>\n",
       "      <td>NaN</td>\n",
       "      <td>NaN</td>\n",
       "      <td>NaN</td>\n",
       "    </tr>\n",
       "    <tr>\n",
       "      <th>3</th>\n",
       "      <td>Vibration</td>\n",
       "      <td>IND1_181</td>\n",
       "      <td>1.69</td>\n",
       "      <td>NaN</td>\n",
       "      <td>vibration</td>\n",
       "      <td>NaN</td>\n",
       "      <td>Flower - Cured</td>\n",
       "      <td>NaN</td>\n",
       "      <td>NaN</td>\n",
       "      <td>3.54</td>\n",
       "      <td>...</td>\n",
       "      <td>vibration</td>\n",
       "      <td>NaN</td>\n",
       "      <td>NaN</td>\n",
       "      <td>NaN</td>\n",
       "      <td>NaN</td>\n",
       "      <td>NaN</td>\n",
       "      <td>NaN</td>\n",
       "      <td>NaN</td>\n",
       "      <td>NaN</td>\n",
       "      <td>NaN</td>\n",
       "    </tr>\n",
       "    <tr>\n",
       "      <th>4</th>\n",
       "      <td>Lava Cake</td>\n",
       "      <td>IND1_66</td>\n",
       "      <td>0.00</td>\n",
       "      <td>NaN</td>\n",
       "      <td>lava cake</td>\n",
       "      <td>NaN</td>\n",
       "      <td>Vape Cartridge</td>\n",
       "      <td>NaN</td>\n",
       "      <td>NaN</td>\n",
       "      <td>0.00</td>\n",
       "      <td>...</td>\n",
       "      <td>lava cake</td>\n",
       "      <td>NaN</td>\n",
       "      <td>NaN</td>\n",
       "      <td>NaN</td>\n",
       "      <td>NaN</td>\n",
       "      <td>NaN</td>\n",
       "      <td>NaN</td>\n",
       "      <td>NaN</td>\n",
       "      <td>NaN</td>\n",
       "      <td>NaN</td>\n",
       "    </tr>\n",
       "    <tr>\n",
       "      <th>...</th>\n",
       "      <td>...</td>\n",
       "      <td>...</td>\n",
       "      <td>...</td>\n",
       "      <td>...</td>\n",
       "      <td>...</td>\n",
       "      <td>...</td>\n",
       "      <td>...</td>\n",
       "      <td>...</td>\n",
       "      <td>...</td>\n",
       "      <td>...</td>\n",
       "      <td>...</td>\n",
       "      <td>...</td>\n",
       "      <td>...</td>\n",
       "      <td>...</td>\n",
       "      <td>...</td>\n",
       "      <td>...</td>\n",
       "      <td>...</td>\n",
       "      <td>...</td>\n",
       "      <td>...</td>\n",
       "      <td>...</td>\n",
       "      <td>...</td>\n",
       "    </tr>\n",
       "    <tr>\n",
       "      <th>4488</th>\n",
       "      <td>WIFI OG</td>\n",
       "      <td>GHFWIFI0928MP</td>\n",
       "      <td>0.00</td>\n",
       "      <td>ALKHEMIST DM LLC</td>\n",
       "      <td>wifi og</td>\n",
       "      <td>1A406030000A423000003713</td>\n",
       "      <td>Preroll</td>\n",
       "      <td>ALKHEMIST DM LLC, 1370 ESPERANZA ST, SUITE B</td>\n",
       "      <td>0</td>\n",
       "      <td>3.83</td>\n",
       "      <td>...</td>\n",
       "      <td>wifi og</td>\n",
       "      <td>0.967336</td>\n",
       "      <td>0.002935</td>\n",
       "      <td>0.017988</td>\n",
       "      <td>0.0</td>\n",
       "      <td>0.007128</td>\n",
       "      <td>0.0</td>\n",
       "      <td>0.004654</td>\n",
       "      <td>0.0</td>\n",
       "      <td>0.000000</td>\n",
       "    </tr>\n",
       "    <tr>\n",
       "      <th>4489</th>\n",
       "      <td>GMO</td>\n",
       "      <td>GHFGCK0928MP</td>\n",
       "      <td>0.31</td>\n",
       "      <td>ALKHEMIST DM LLC</td>\n",
       "      <td>gmo</td>\n",
       "      <td>1A406030000A423000003714</td>\n",
       "      <td>Preroll</td>\n",
       "      <td>ALKHEMIST DM LLC, 1370 ESPERANZA ST, SUITE B</td>\n",
       "      <td>0</td>\n",
       "      <td>3.86</td>\n",
       "      <td>...</td>\n",
       "      <td>gmo</td>\n",
       "      <td>0.949467</td>\n",
       "      <td>0.004774</td>\n",
       "      <td>0.031404</td>\n",
       "      <td>0.0</td>\n",
       "      <td>0.008931</td>\n",
       "      <td>0.0</td>\n",
       "      <td>0.004352</td>\n",
       "      <td>0.0</td>\n",
       "      <td>0.001072</td>\n",
       "    </tr>\n",
       "    <tr>\n",
       "      <th>4490</th>\n",
       "      <td>WIFI OG</td>\n",
       "      <td>GHFWIFI0928PR</td>\n",
       "      <td>0.00</td>\n",
       "      <td>ALKHEMIST DM LLC</td>\n",
       "      <td>wifi og</td>\n",
       "      <td>1A406030000A423000003712</td>\n",
       "      <td>Preroll</td>\n",
       "      <td>ALKHEMIST DM LLC, 1370 ESPERANZA ST, SUITE B</td>\n",
       "      <td>0</td>\n",
       "      <td>4.00</td>\n",
       "      <td>...</td>\n",
       "      <td>wifi og</td>\n",
       "      <td>0.967143</td>\n",
       "      <td>0.003912</td>\n",
       "      <td>0.018117</td>\n",
       "      <td>0.0</td>\n",
       "      <td>0.005970</td>\n",
       "      <td>0.0</td>\n",
       "      <td>0.004817</td>\n",
       "      <td>0.0</td>\n",
       "      <td>0.000000</td>\n",
       "    </tr>\n",
       "    <tr>\n",
       "      <th>4491</th>\n",
       "      <td>HELLFIRE</td>\n",
       "      <td>GHFHF0924PR</td>\n",
       "      <td>0.00</td>\n",
       "      <td>ALKHEMIST DM LLC</td>\n",
       "      <td>hellfire</td>\n",
       "      <td>1A406030000A423000003661</td>\n",
       "      <td>Preroll</td>\n",
       "      <td>ALKHEMIST DM LLC, 1370 ESPERANZA ST, SUITE B</td>\n",
       "      <td>0</td>\n",
       "      <td>3.56</td>\n",
       "      <td>...</td>\n",
       "      <td>hellfire</td>\n",
       "      <td>0.940324</td>\n",
       "      <td>0.002125</td>\n",
       "      <td>0.025948</td>\n",
       "      <td>0.0</td>\n",
       "      <td>0.027216</td>\n",
       "      <td>0.0</td>\n",
       "      <td>0.004387</td>\n",
       "      <td>0.0</td>\n",
       "      <td>0.000000</td>\n",
       "    </tr>\n",
       "    <tr>\n",
       "      <th>4492</th>\n",
       "      <td>GMO</td>\n",
       "      <td>GHFGCK0928PR</td>\n",
       "      <td>0.24</td>\n",
       "      <td>ALKHEMIST DM LLC</td>\n",
       "      <td>gmo</td>\n",
       "      <td>1A406030000A423000003715</td>\n",
       "      <td>Preroll</td>\n",
       "      <td>ALKHEMIST DM LLC, 1370 ESPERANZA ST, SUITE B</td>\n",
       "      <td>0</td>\n",
       "      <td>4.02</td>\n",
       "      <td>...</td>\n",
       "      <td>gmo</td>\n",
       "      <td>0.951583</td>\n",
       "      <td>0.004582</td>\n",
       "      <td>0.030498</td>\n",
       "      <td>0.0</td>\n",
       "      <td>0.008960</td>\n",
       "      <td>0.0</td>\n",
       "      <td>0.004378</td>\n",
       "      <td>0.0</td>\n",
       "      <td>0.000000</td>\n",
       "    </tr>\n",
       "  </tbody>\n",
       "</table>\n",
       "<p>4002 rows × 84 columns</p>\n",
       "</div>"
      ],
      "text/plain": [
       "        Strain_Name       Batch_ID  A_Pinene       Distributor         Strain  \\\n",
       "0     Birthday Cake       IND1_134      0.00               NaN  birthday cake   \n",
       "1       Dream Queen      S062819-3      1.47                 0    dream queen   \n",
       "2       Sour Diesel       IND1_107      3.40               NaN    sour diesel   \n",
       "3         Vibration       IND1_181      1.69               NaN      vibration   \n",
       "4         Lava Cake        IND1_66      0.00               NaN      lava cake   \n",
       "...             ...            ...       ...               ...            ...   \n",
       "4488        WIFI OG  GHFWIFI0928MP      0.00  ALKHEMIST DM LLC        wifi og   \n",
       "4489            GMO   GHFGCK0928MP      0.31  ALKHEMIST DM LLC            gmo   \n",
       "4490        WIFI OG  GHFWIFI0928PR      0.00  ALKHEMIST DM LLC        wifi og   \n",
       "4491       HELLFIRE    GHFHF0924PR      0.00  ALKHEMIST DM LLC       hellfire   \n",
       "4492            GMO   GHFGCK0928PR      0.24  ALKHEMIST DM LLC            gmo   \n",
       "\n",
       "                      MetricID            Type  \\\n",
       "0                          NaN  Vape Cartridge   \n",
       "1                            0  Flower - Cured   \n",
       "2                          NaN  Vape Cartridge   \n",
       "3                          NaN  Flower - Cured   \n",
       "4                          NaN  Vape Cartridge   \n",
       "...                        ...             ...   \n",
       "4488  1A406030000A423000003713         Preroll   \n",
       "4489  1A406030000A423000003714         Preroll   \n",
       "4490  1A406030000A423000003712         Preroll   \n",
       "4491  1A406030000A423000003661         Preroll   \n",
       "4492  1A406030000A423000003715         Preroll   \n",
       "\n",
       "                               Distributor_Address Distributor_City_State_Zip  \\\n",
       "0                                              NaN                        NaN   \n",
       "1                                                0                          0   \n",
       "2                                              NaN                        NaN   \n",
       "3                                              NaN                        NaN   \n",
       "4                                              NaN                        NaN   \n",
       "...                                            ...                        ...   \n",
       "4488  ALKHEMIST DM LLC, 1370 ESPERANZA ST, SUITE B                          0   \n",
       "4489  ALKHEMIST DM LLC, 1370 ESPERANZA ST, SUITE B                          0   \n",
       "4490  ALKHEMIST DM LLC, 1370 ESPERANZA ST, SUITE B                          0   \n",
       "4491  ALKHEMIST DM LLC, 1370 ESPERANZA ST, SUITE B                          0   \n",
       "4492  ALKHEMIST DM LLC, 1370 ESPERANZA ST, SUITE B                          0   \n",
       "\n",
       "      B_Caryophyllene  ... Strain_integrated THC_Pct_Pct_Total  \\\n",
       "0                3.24  ...     birthday cake               NaN   \n",
       "1                2.48  ...       dream queen          0.961366   \n",
       "2                0.00  ...       sour diesel               NaN   \n",
       "3                3.54  ...         vibration               NaN   \n",
       "4                0.00  ...         lava cake               NaN   \n",
       "...               ...  ...               ...               ...   \n",
       "4488             3.83  ...           wifi og          0.967336   \n",
       "4489             3.86  ...               gmo          0.949467   \n",
       "4490             4.00  ...           wifi og          0.967143   \n",
       "4491             3.56  ...          hellfire          0.940324   \n",
       "4492             4.02  ...               gmo          0.951583   \n",
       "\n",
       "     CBD_Pct_Pct_Total CBG_Pct_Pct_Total CBN_Pct_Pct_Total CBC_Pct_Pct_Total  \\\n",
       "0                  NaN               NaN               NaN               NaN   \n",
       "1             0.000618          0.038016               0.0          0.000000   \n",
       "2                  NaN               NaN               NaN               NaN   \n",
       "3                  NaN               NaN               NaN               NaN   \n",
       "4                  NaN               NaN               NaN               NaN   \n",
       "...                ...               ...               ...               ...   \n",
       "4488          0.002935          0.017988               0.0          0.007128   \n",
       "4489          0.004774          0.031404               0.0          0.008931   \n",
       "4490          0.003912          0.018117               0.0          0.005970   \n",
       "4491          0.002125          0.025948               0.0          0.027216   \n",
       "4492          0.004582          0.030498               0.0          0.008960   \n",
       "\n",
       "      CBDV_Pct_Pct_Total THCV_Pct_Pct_Total CBL_Pct_Pct_Total D8_Pct_Pct_Total  \n",
       "0                    NaN                NaN               NaN              NaN  \n",
       "1                    0.0           0.000000               0.0         0.000000  \n",
       "2                    NaN                NaN               NaN              NaN  \n",
       "3                    NaN                NaN               NaN              NaN  \n",
       "4                    NaN                NaN               NaN              NaN  \n",
       "...                  ...                ...               ...              ...  \n",
       "4488                 0.0           0.004654               0.0         0.000000  \n",
       "4489                 0.0           0.004352               0.0         0.001072  \n",
       "4490                 0.0           0.004817               0.0         0.000000  \n",
       "4491                 0.0           0.004387               0.0         0.000000  \n",
       "4492                 0.0           0.004378               0.0         0.000000  \n",
       "\n",
       "[4002 rows x 84 columns]"
      ]
     },
     "execution_count": 62,
     "metadata": {},
     "output_type": "execute_result"
    }
   ],
   "source": [
    "raw_trimmed"
   ]
  },
  {
   "cell_type": "code",
   "execution_count": 63,
   "id": "ad7798cf",
   "metadata": {
    "ExecuteTime": {
     "end_time": "2022-02-05T07:32:53.930735Z",
     "start_time": "2022-02-05T07:32:53.928436Z"
    }
   },
   "outputs": [],
   "source": [
    "raw_trimmed['Other'] = raw_trimmed['Other'].apply(lambda x: 0 if x < 0 else x )"
   ]
  },
  {
   "cell_type": "code",
   "execution_count": 64,
   "id": "b19c30fb",
   "metadata": {
    "ExecuteTime": {
     "end_time": "2022-02-05T07:32:53.933177Z",
     "start_time": "2022-02-05T07:32:53.931381Z"
    }
   },
   "outputs": [],
   "source": [
    "raw_trimmed['Total_Terpene_Volume_pct'] = raw_trimmed['Total_Terpene_Volume']/1000"
   ]
  },
  {
   "cell_type": "code",
   "execution_count": 65,
   "id": "ab3c2edf",
   "metadata": {
    "ExecuteTime": {
     "end_time": "2022-02-05T07:32:53.939323Z",
     "start_time": "2022-02-05T07:32:53.933965Z"
    }
   },
   "outputs": [],
   "source": [
    "raw_trimmed = raw_trimmed.drop_duplicates(subset = 'Batch_ID')"
   ]
  },
  {
   "cell_type": "code",
   "execution_count": 66,
   "id": "a7e13f38",
   "metadata": {
    "ExecuteTime": {
     "end_time": "2022-02-05T07:32:53.952485Z",
     "start_time": "2022-02-05T07:32:53.939987Z"
    }
   },
   "outputs": [
    {
     "data": {
      "text/html": [
       "<div>\n",
       "<style scoped>\n",
       "    .dataframe tbody tr th:only-of-type {\n",
       "        vertical-align: middle;\n",
       "    }\n",
       "\n",
       "    .dataframe tbody tr th {\n",
       "        vertical-align: top;\n",
       "    }\n",
       "\n",
       "    .dataframe thead th {\n",
       "        text-align: right;\n",
       "    }\n",
       "</style>\n",
       "<table border=\"1\" class=\"dataframe\">\n",
       "  <thead>\n",
       "    <tr style=\"text-align: right;\">\n",
       "      <th></th>\n",
       "      <th>Strain_Name</th>\n",
       "      <th>Batch_ID</th>\n",
       "      <th>A_Pinene</th>\n",
       "      <th>Distributor</th>\n",
       "      <th>Strain</th>\n",
       "      <th>MetricID</th>\n",
       "      <th>Type</th>\n",
       "      <th>Distributor_Address</th>\n",
       "      <th>Distributor_City_State_Zip</th>\n",
       "      <th>B_Caryophyllene</th>\n",
       "      <th>...</th>\n",
       "      <th>THC_Pct_Pct_Total</th>\n",
       "      <th>CBD_Pct_Pct_Total</th>\n",
       "      <th>CBG_Pct_Pct_Total</th>\n",
       "      <th>CBN_Pct_Pct_Total</th>\n",
       "      <th>CBC_Pct_Pct_Total</th>\n",
       "      <th>CBDV_Pct_Pct_Total</th>\n",
       "      <th>THCV_Pct_Pct_Total</th>\n",
       "      <th>CBL_Pct_Pct_Total</th>\n",
       "      <th>D8_Pct_Pct_Total</th>\n",
       "      <th>Total_Terpene_Volume_pct</th>\n",
       "    </tr>\n",
       "  </thead>\n",
       "  <tbody>\n",
       "    <tr>\n",
       "      <th>0</th>\n",
       "      <td>Birthday Cake</td>\n",
       "      <td>IND1_134</td>\n",
       "      <td>0.00</td>\n",
       "      <td>NaN</td>\n",
       "      <td>birthday cake</td>\n",
       "      <td>NaN</td>\n",
       "      <td>Vape Cartridge</td>\n",
       "      <td>NaN</td>\n",
       "      <td>NaN</td>\n",
       "      <td>3.24</td>\n",
       "      <td>...</td>\n",
       "      <td>NaN</td>\n",
       "      <td>NaN</td>\n",
       "      <td>NaN</td>\n",
       "      <td>NaN</td>\n",
       "      <td>NaN</td>\n",
       "      <td>NaN</td>\n",
       "      <td>NaN</td>\n",
       "      <td>NaN</td>\n",
       "      <td>NaN</td>\n",
       "      <td>0.03547</td>\n",
       "    </tr>\n",
       "    <tr>\n",
       "      <th>1</th>\n",
       "      <td>Dream Queen</td>\n",
       "      <td>S062819-3</td>\n",
       "      <td>1.47</td>\n",
       "      <td>0</td>\n",
       "      <td>dream queen</td>\n",
       "      <td>0</td>\n",
       "      <td>Flower - Cured</td>\n",
       "      <td>0</td>\n",
       "      <td>0</td>\n",
       "      <td>2.48</td>\n",
       "      <td>...</td>\n",
       "      <td>0.961366</td>\n",
       "      <td>0.000618</td>\n",
       "      <td>0.038016</td>\n",
       "      <td>0.0</td>\n",
       "      <td>0.000000</td>\n",
       "      <td>0.0</td>\n",
       "      <td>0.000000</td>\n",
       "      <td>0.0</td>\n",
       "      <td>0.000000</td>\n",
       "      <td>0.01962</td>\n",
       "    </tr>\n",
       "    <tr>\n",
       "      <th>2</th>\n",
       "      <td>Sour Diesel</td>\n",
       "      <td>IND1_107</td>\n",
       "      <td>3.40</td>\n",
       "      <td>NaN</td>\n",
       "      <td>sour diesel</td>\n",
       "      <td>NaN</td>\n",
       "      <td>Vape Cartridge</td>\n",
       "      <td>NaN</td>\n",
       "      <td>NaN</td>\n",
       "      <td>0.00</td>\n",
       "      <td>...</td>\n",
       "      <td>NaN</td>\n",
       "      <td>NaN</td>\n",
       "      <td>NaN</td>\n",
       "      <td>NaN</td>\n",
       "      <td>NaN</td>\n",
       "      <td>NaN</td>\n",
       "      <td>NaN</td>\n",
       "      <td>NaN</td>\n",
       "      <td>NaN</td>\n",
       "      <td>0.02078</td>\n",
       "    </tr>\n",
       "    <tr>\n",
       "      <th>3</th>\n",
       "      <td>Vibration</td>\n",
       "      <td>IND1_181</td>\n",
       "      <td>1.69</td>\n",
       "      <td>NaN</td>\n",
       "      <td>vibration</td>\n",
       "      <td>NaN</td>\n",
       "      <td>Flower - Cured</td>\n",
       "      <td>NaN</td>\n",
       "      <td>NaN</td>\n",
       "      <td>3.54</td>\n",
       "      <td>...</td>\n",
       "      <td>NaN</td>\n",
       "      <td>NaN</td>\n",
       "      <td>NaN</td>\n",
       "      <td>NaN</td>\n",
       "      <td>NaN</td>\n",
       "      <td>NaN</td>\n",
       "      <td>NaN</td>\n",
       "      <td>NaN</td>\n",
       "      <td>NaN</td>\n",
       "      <td>0.01920</td>\n",
       "    </tr>\n",
       "    <tr>\n",
       "      <th>4</th>\n",
       "      <td>Lava Cake</td>\n",
       "      <td>IND1_66</td>\n",
       "      <td>0.00</td>\n",
       "      <td>NaN</td>\n",
       "      <td>lava cake</td>\n",
       "      <td>NaN</td>\n",
       "      <td>Vape Cartridge</td>\n",
       "      <td>NaN</td>\n",
       "      <td>NaN</td>\n",
       "      <td>0.00</td>\n",
       "      <td>...</td>\n",
       "      <td>NaN</td>\n",
       "      <td>NaN</td>\n",
       "      <td>NaN</td>\n",
       "      <td>NaN</td>\n",
       "      <td>NaN</td>\n",
       "      <td>NaN</td>\n",
       "      <td>NaN</td>\n",
       "      <td>NaN</td>\n",
       "      <td>NaN</td>\n",
       "      <td>0.03483</td>\n",
       "    </tr>\n",
       "    <tr>\n",
       "      <th>...</th>\n",
       "      <td>...</td>\n",
       "      <td>...</td>\n",
       "      <td>...</td>\n",
       "      <td>...</td>\n",
       "      <td>...</td>\n",
       "      <td>...</td>\n",
       "      <td>...</td>\n",
       "      <td>...</td>\n",
       "      <td>...</td>\n",
       "      <td>...</td>\n",
       "      <td>...</td>\n",
       "      <td>...</td>\n",
       "      <td>...</td>\n",
       "      <td>...</td>\n",
       "      <td>...</td>\n",
       "      <td>...</td>\n",
       "      <td>...</td>\n",
       "      <td>...</td>\n",
       "      <td>...</td>\n",
       "      <td>...</td>\n",
       "      <td>...</td>\n",
       "    </tr>\n",
       "    <tr>\n",
       "      <th>4488</th>\n",
       "      <td>WIFI OG</td>\n",
       "      <td>GHFWIFI0928MP</td>\n",
       "      <td>0.00</td>\n",
       "      <td>ALKHEMIST DM LLC</td>\n",
       "      <td>wifi og</td>\n",
       "      <td>1A406030000A423000003713</td>\n",
       "      <td>Preroll</td>\n",
       "      <td>ALKHEMIST DM LLC, 1370 ESPERANZA ST, SUITE B</td>\n",
       "      <td>0</td>\n",
       "      <td>3.83</td>\n",
       "      <td>...</td>\n",
       "      <td>0.967336</td>\n",
       "      <td>0.002935</td>\n",
       "      <td>0.017988</td>\n",
       "      <td>0.0</td>\n",
       "      <td>0.007128</td>\n",
       "      <td>0.0</td>\n",
       "      <td>0.004654</td>\n",
       "      <td>0.0</td>\n",
       "      <td>0.000000</td>\n",
       "      <td>0.00880</td>\n",
       "    </tr>\n",
       "    <tr>\n",
       "      <th>4489</th>\n",
       "      <td>GMO</td>\n",
       "      <td>GHFGCK0928MP</td>\n",
       "      <td>0.31</td>\n",
       "      <td>ALKHEMIST DM LLC</td>\n",
       "      <td>gmo</td>\n",
       "      <td>1A406030000A423000003714</td>\n",
       "      <td>Preroll</td>\n",
       "      <td>ALKHEMIST DM LLC, 1370 ESPERANZA ST, SUITE B</td>\n",
       "      <td>0</td>\n",
       "      <td>3.86</td>\n",
       "      <td>...</td>\n",
       "      <td>0.949467</td>\n",
       "      <td>0.004774</td>\n",
       "      <td>0.031404</td>\n",
       "      <td>0.0</td>\n",
       "      <td>0.008931</td>\n",
       "      <td>0.0</td>\n",
       "      <td>0.004352</td>\n",
       "      <td>0.0</td>\n",
       "      <td>0.001072</td>\n",
       "      <td>0.01204</td>\n",
       "    </tr>\n",
       "    <tr>\n",
       "      <th>4490</th>\n",
       "      <td>WIFI OG</td>\n",
       "      <td>GHFWIFI0928PR</td>\n",
       "      <td>0.00</td>\n",
       "      <td>ALKHEMIST DM LLC</td>\n",
       "      <td>wifi og</td>\n",
       "      <td>1A406030000A423000003712</td>\n",
       "      <td>Preroll</td>\n",
       "      <td>ALKHEMIST DM LLC, 1370 ESPERANZA ST, SUITE B</td>\n",
       "      <td>0</td>\n",
       "      <td>4.00</td>\n",
       "      <td>...</td>\n",
       "      <td>0.967143</td>\n",
       "      <td>0.003912</td>\n",
       "      <td>0.018117</td>\n",
       "      <td>0.0</td>\n",
       "      <td>0.005970</td>\n",
       "      <td>0.0</td>\n",
       "      <td>0.004817</td>\n",
       "      <td>0.0</td>\n",
       "      <td>0.000000</td>\n",
       "      <td>0.00943</td>\n",
       "    </tr>\n",
       "    <tr>\n",
       "      <th>4491</th>\n",
       "      <td>HELLFIRE</td>\n",
       "      <td>GHFHF0924PR</td>\n",
       "      <td>0.00</td>\n",
       "      <td>ALKHEMIST DM LLC</td>\n",
       "      <td>hellfire</td>\n",
       "      <td>1A406030000A423000003661</td>\n",
       "      <td>Preroll</td>\n",
       "      <td>ALKHEMIST DM LLC, 1370 ESPERANZA ST, SUITE B</td>\n",
       "      <td>0</td>\n",
       "      <td>3.56</td>\n",
       "      <td>...</td>\n",
       "      <td>0.940324</td>\n",
       "      <td>0.002125</td>\n",
       "      <td>0.025948</td>\n",
       "      <td>0.0</td>\n",
       "      <td>0.027216</td>\n",
       "      <td>0.0</td>\n",
       "      <td>0.004387</td>\n",
       "      <td>0.0</td>\n",
       "      <td>0.000000</td>\n",
       "      <td>0.00635</td>\n",
       "    </tr>\n",
       "    <tr>\n",
       "      <th>4492</th>\n",
       "      <td>GMO</td>\n",
       "      <td>GHFGCK0928PR</td>\n",
       "      <td>0.24</td>\n",
       "      <td>ALKHEMIST DM LLC</td>\n",
       "      <td>gmo</td>\n",
       "      <td>1A406030000A423000003715</td>\n",
       "      <td>Preroll</td>\n",
       "      <td>ALKHEMIST DM LLC, 1370 ESPERANZA ST, SUITE B</td>\n",
       "      <td>0</td>\n",
       "      <td>4.02</td>\n",
       "      <td>...</td>\n",
       "      <td>0.951583</td>\n",
       "      <td>0.004582</td>\n",
       "      <td>0.030498</td>\n",
       "      <td>0.0</td>\n",
       "      <td>0.008960</td>\n",
       "      <td>0.0</td>\n",
       "      <td>0.004378</td>\n",
       "      <td>0.0</td>\n",
       "      <td>0.000000</td>\n",
       "      <td>0.01192</td>\n",
       "    </tr>\n",
       "  </tbody>\n",
       "</table>\n",
       "<p>4000 rows × 85 columns</p>\n",
       "</div>"
      ],
      "text/plain": [
       "        Strain_Name       Batch_ID  A_Pinene       Distributor         Strain  \\\n",
       "0     Birthday Cake       IND1_134      0.00               NaN  birthday cake   \n",
       "1       Dream Queen      S062819-3      1.47                 0    dream queen   \n",
       "2       Sour Diesel       IND1_107      3.40               NaN    sour diesel   \n",
       "3         Vibration       IND1_181      1.69               NaN      vibration   \n",
       "4         Lava Cake        IND1_66      0.00               NaN      lava cake   \n",
       "...             ...            ...       ...               ...            ...   \n",
       "4488        WIFI OG  GHFWIFI0928MP      0.00  ALKHEMIST DM LLC        wifi og   \n",
       "4489            GMO   GHFGCK0928MP      0.31  ALKHEMIST DM LLC            gmo   \n",
       "4490        WIFI OG  GHFWIFI0928PR      0.00  ALKHEMIST DM LLC        wifi og   \n",
       "4491       HELLFIRE    GHFHF0924PR      0.00  ALKHEMIST DM LLC       hellfire   \n",
       "4492            GMO   GHFGCK0928PR      0.24  ALKHEMIST DM LLC            gmo   \n",
       "\n",
       "                      MetricID            Type  \\\n",
       "0                          NaN  Vape Cartridge   \n",
       "1                            0  Flower - Cured   \n",
       "2                          NaN  Vape Cartridge   \n",
       "3                          NaN  Flower - Cured   \n",
       "4                          NaN  Vape Cartridge   \n",
       "...                        ...             ...   \n",
       "4488  1A406030000A423000003713         Preroll   \n",
       "4489  1A406030000A423000003714         Preroll   \n",
       "4490  1A406030000A423000003712         Preroll   \n",
       "4491  1A406030000A423000003661         Preroll   \n",
       "4492  1A406030000A423000003715         Preroll   \n",
       "\n",
       "                               Distributor_Address Distributor_City_State_Zip  \\\n",
       "0                                              NaN                        NaN   \n",
       "1                                                0                          0   \n",
       "2                                              NaN                        NaN   \n",
       "3                                              NaN                        NaN   \n",
       "4                                              NaN                        NaN   \n",
       "...                                            ...                        ...   \n",
       "4488  ALKHEMIST DM LLC, 1370 ESPERANZA ST, SUITE B                          0   \n",
       "4489  ALKHEMIST DM LLC, 1370 ESPERANZA ST, SUITE B                          0   \n",
       "4490  ALKHEMIST DM LLC, 1370 ESPERANZA ST, SUITE B                          0   \n",
       "4491  ALKHEMIST DM LLC, 1370 ESPERANZA ST, SUITE B                          0   \n",
       "4492  ALKHEMIST DM LLC, 1370 ESPERANZA ST, SUITE B                          0   \n",
       "\n",
       "      B_Caryophyllene  ... THC_Pct_Pct_Total CBD_Pct_Pct_Total  \\\n",
       "0                3.24  ...               NaN               NaN   \n",
       "1                2.48  ...          0.961366          0.000618   \n",
       "2                0.00  ...               NaN               NaN   \n",
       "3                3.54  ...               NaN               NaN   \n",
       "4                0.00  ...               NaN               NaN   \n",
       "...               ...  ...               ...               ...   \n",
       "4488             3.83  ...          0.967336          0.002935   \n",
       "4489             3.86  ...          0.949467          0.004774   \n",
       "4490             4.00  ...          0.967143          0.003912   \n",
       "4491             3.56  ...          0.940324          0.002125   \n",
       "4492             4.02  ...          0.951583          0.004582   \n",
       "\n",
       "     CBG_Pct_Pct_Total CBN_Pct_Pct_Total CBC_Pct_Pct_Total CBDV_Pct_Pct_Total  \\\n",
       "0                  NaN               NaN               NaN                NaN   \n",
       "1             0.038016               0.0          0.000000                0.0   \n",
       "2                  NaN               NaN               NaN                NaN   \n",
       "3                  NaN               NaN               NaN                NaN   \n",
       "4                  NaN               NaN               NaN                NaN   \n",
       "...                ...               ...               ...                ...   \n",
       "4488          0.017988               0.0          0.007128                0.0   \n",
       "4489          0.031404               0.0          0.008931                0.0   \n",
       "4490          0.018117               0.0          0.005970                0.0   \n",
       "4491          0.025948               0.0          0.027216                0.0   \n",
       "4492          0.030498               0.0          0.008960                0.0   \n",
       "\n",
       "      THCV_Pct_Pct_Total CBL_Pct_Pct_Total D8_Pct_Pct_Total  \\\n",
       "0                    NaN               NaN              NaN   \n",
       "1               0.000000               0.0         0.000000   \n",
       "2                    NaN               NaN              NaN   \n",
       "3                    NaN               NaN              NaN   \n",
       "4                    NaN               NaN              NaN   \n",
       "...                  ...               ...              ...   \n",
       "4488            0.004654               0.0         0.000000   \n",
       "4489            0.004352               0.0         0.001072   \n",
       "4490            0.004817               0.0         0.000000   \n",
       "4491            0.004387               0.0         0.000000   \n",
       "4492            0.004378               0.0         0.000000   \n",
       "\n",
       "     Total_Terpene_Volume_pct  \n",
       "0                     0.03547  \n",
       "1                     0.01962  \n",
       "2                     0.02078  \n",
       "3                     0.01920  \n",
       "4                     0.03483  \n",
       "...                       ...  \n",
       "4488                  0.00880  \n",
       "4489                  0.01204  \n",
       "4490                  0.00943  \n",
       "4491                  0.00635  \n",
       "4492                  0.01192  \n",
       "\n",
       "[4000 rows x 85 columns]"
      ]
     },
     "execution_count": 66,
     "metadata": {},
     "output_type": "execute_result"
    }
   ],
   "source": [
    "raw_trimmed"
   ]
  },
  {
   "cell_type": "code",
   "execution_count": 67,
   "id": "b5cfacf1",
   "metadata": {
    "ExecuteTime": {
     "end_time": "2022-02-05T07:32:53.955382Z",
     "start_time": "2022-02-05T07:32:53.953384Z"
    }
   },
   "outputs": [
    {
     "data": {
      "text/plain": [
       "(4000, 85)"
      ]
     },
     "execution_count": 67,
     "metadata": {},
     "output_type": "execute_result"
    }
   ],
   "source": [
    "raw_trimmed.shape"
   ]
  },
  {
   "cell_type": "code",
   "execution_count": 68,
   "id": "85d97f6a",
   "metadata": {
    "ExecuteTime": {
     "end_time": "2022-02-05T07:32:54.180004Z",
     "start_time": "2022-02-05T07:32:53.956263Z"
    }
   },
   "outputs": [],
   "source": [
    "new.to_csv(outputname1)\n",
    "raw_trimmed.to_csv(outputname2)"
   ]
  },
  {
   "cell_type": "code",
   "execution_count": null,
   "id": "31ed2e34",
   "metadata": {},
   "outputs": [],
   "source": []
  },
  {
   "cell_type": "code",
   "execution_count": null,
   "id": "8c8adc95",
   "metadata": {},
   "outputs": [],
   "source": []
  }
 ],
 "metadata": {
  "kernelspec": {
   "display_name": "Python 3 (ipykernel)",
   "language": "python",
   "name": "python3"
  },
  "language_info": {
   "codemirror_mode": {
    "name": "ipython",
    "version": 3
   },
   "file_extension": ".py",
   "mimetype": "text/x-python",
   "name": "python",
   "nbconvert_exporter": "python",
   "pygments_lexer": "ipython3",
   "version": "3.9.9"
  },
  "toc": {
   "base_numbering": 1,
   "nav_menu": {},
   "number_sections": true,
   "sideBar": true,
   "skip_h1_title": false,
   "title_cell": "Table of Contents",
   "title_sidebar": "Contents",
   "toc_cell": false,
   "toc_position": {
    "height": "calc(100% - 180px)",
    "left": "10px",
    "top": "150px",
    "width": "268.95px"
   },
   "toc_section_display": true,
   "toc_window_display": true
  },
  "varInspector": {
   "cols": {
    "lenName": 16,
    "lenType": 16,
    "lenVar": 40
   },
   "kernels_config": {
    "python": {
     "delete_cmd_postfix": "",
     "delete_cmd_prefix": "del ",
     "library": "var_list.py",
     "varRefreshCmd": "print(var_dic_list())"
    },
    "r": {
     "delete_cmd_postfix": ") ",
     "delete_cmd_prefix": "rm(",
     "library": "var_list.r",
     "varRefreshCmd": "cat(var_dic_list()) "
    }
   },
   "types_to_exclude": [
    "module",
    "function",
    "builtin_function_or_method",
    "instance",
    "_Feature"
   ],
   "window_display": false
  }
 },
 "nbformat": 4,
 "nbformat_minor": 5
}
