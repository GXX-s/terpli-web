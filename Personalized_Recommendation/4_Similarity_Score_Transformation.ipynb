{
 "cells": [
  {
   "cell_type": "code",
   "execution_count": 1,
   "id": "c18306cb",
   "metadata": {
    "ExecuteTime": {
     "end_time": "2022-01-06T13:05:05.703304Z",
     "start_time": "2022-01-06T13:05:05.701271Z"
    },
    "colab": {
     "base_uri": "https://localhost:8080/"
    },
    "executionInfo": {
     "elapsed": 24847,
     "status": "ok",
     "timestamp": 1636749985230,
     "user": {
      "displayName": "Xinxue Gu",
      "photoUrl": "https://lh3.googleusercontent.com/a-/AOh14Gj9WkmtnU2brQk9QsbQh0F1_zHtCpJidb4IEmCXLQ=s64",
      "userId": "13207589719696204166"
     },
     "user_tz": 480
    },
    "id": "c18306cb",
    "outputId": "b7626b27-bb56-4f35-fc8d-f2cd8dfdd4db"
   },
   "outputs": [],
   "source": [
    "# from google.colab import drive\n",
    "# drive.mount('/content/gdrive')"
   ]
  },
  {
   "cell_type": "code",
   "execution_count": 2,
   "id": "ntvb7XukENua",
   "metadata": {
    "ExecuteTime": {
     "end_time": "2022-01-06T13:05:05.705922Z",
     "start_time": "2022-01-06T13:05:05.704555Z"
    },
    "colab": {
     "base_uri": "https://localhost:8080/"
    },
    "executionInfo": {
     "elapsed": 5,
     "status": "ok",
     "timestamp": 1636749986668,
     "user": {
      "displayName": "Xinxue Gu",
      "photoUrl": "https://lh3.googleusercontent.com/a-/AOh14Gj9WkmtnU2brQk9QsbQh0F1_zHtCpJidb4IEmCXLQ=s64",
      "userId": "13207589719696204166"
     },
     "user_tz": 480
    },
    "id": "ntvb7XukENua",
    "outputId": "2eee7a2b-b483-4a3c-9767-e10cec0b33dc"
   },
   "outputs": [],
   "source": [
    "# %cd /content/gdrive/MyDrive/Terpli_Code"
   ]
  },
  {
   "cell_type": "code",
   "execution_count": 1,
   "id": "ab72f71a",
   "metadata": {
    "ExecuteTime": {
     "end_time": "2022-02-05T08:21:54.038820Z",
     "start_time": "2022-02-05T08:21:53.310248Z"
    },
    "executionInfo": {
     "elapsed": 584,
     "status": "ok",
     "timestamp": 1636749987248,
     "user": {
      "displayName": "Xinxue Gu",
      "photoUrl": "https://lh3.googleusercontent.com/a-/AOh14Gj9WkmtnU2brQk9QsbQh0F1_zHtCpJidb4IEmCXLQ=s64",
      "userId": "13207589719696204166"
     },
     "user_tz": 480
    },
    "id": "ab72f71a"
   },
   "outputs": [],
   "source": [
    "import pandas as pd \n",
    "import numpy as np\n",
    "import seaborn as sns\n",
    "import matplotlib.pyplot as plt\n",
    "import matplotlib as mlp\n",
    "from scipy import stats\n",
    "import time\n",
    "from tqdm import tqdm\n",
    "#from tqdm import tqdm_notebook as tqdm\n",
    "\n",
    "from sklearn.model_selection import train_test_split\n",
    "from sklearn.linear_model import LogisticRegression\n",
    "from sklearn.neighbors import NearestCentroid\n",
    "import collections\n",
    "import warnings\n",
    "warnings.filterwarnings('ignore')"
   ]
  },
  {
   "cell_type": "markdown",
   "id": "bb4a44c4",
   "metadata": {
    "id": "bb4a44c4"
   },
   "source": [
    "# Data Exploring"
   ]
  },
  {
   "cell_type": "code",
   "execution_count": 2,
   "id": "KWEKBZdulFF6",
   "metadata": {
    "ExecuteTime": {
     "end_time": "2022-02-05T08:21:54.103525Z",
     "start_time": "2022-02-05T08:21:54.065358Z"
    },
    "executionInfo": {
     "elapsed": 2702,
     "status": "ok",
     "timestamp": 1636750733890,
     "user": {
      "displayName": "Xinxue Gu",
      "photoUrl": "https://lh3.googleusercontent.com/a-/AOh14Gj9WkmtnU2brQk9QsbQh0F1_zHtCpJidb4IEmCXLQ=s64",
      "userId": "13207589719696204166"
     },
     "user_tz": 480
    },
    "id": "KWEKBZdulFF6"
   },
   "outputs": [],
   "source": [
    "initial = pd.read_csv('Jan2022_Cannabis-Profiles_Data Science_cleaned.csv')"
   ]
  },
  {
   "cell_type": "code",
   "execution_count": 3,
   "id": "3d597062",
   "metadata": {
    "ExecuteTime": {
     "end_time": "2022-02-05T08:21:54.720512Z",
     "start_time": "2022-02-05T08:21:54.655882Z"
    },
    "id": "3d597062"
   },
   "outputs": [],
   "source": [
    "clustered = pd.read_csv('mixed_clustered_Jan5.csv',dtype = {'terpenefirst_cluster_adjust_label_2':'str'})"
   ]
  },
  {
   "cell_type": "code",
   "execution_count": 4,
   "id": "636a1200",
   "metadata": {
    "ExecuteTime": {
     "end_time": "2022-02-05T08:21:55.099900Z",
     "start_time": "2022-02-05T08:21:55.092165Z"
    },
    "id": "636a1200"
   },
   "outputs": [],
   "source": [
    "## cluster pairwise distance\n",
    "# cluster_cos_dist_df= pd.read_csv('pairwise_cluster_cos_distance_top5.csv',\n",
    "#                         dtype = {'Cluster1':'str',\n",
    "#                                  'Cluster2':'str'},index_col=[0])"
   ]
  },
  {
   "cell_type": "code",
   "execution_count": 5,
   "id": "d1c35494",
   "metadata": {
    "ExecuteTime": {
     "end_time": "2022-02-05T08:21:55.288135Z",
     "start_time": "2022-02-05T08:21:55.283498Z"
    },
    "id": "d1c35494"
   },
   "outputs": [],
   "source": [
    "# cluster_cos_dist_tail_df= pd.read_csv('pairwise_cluster_cos_distance_tail5.csv',\n",
    "#                         dtype = {'Cluster1':'str',\n",
    "#                                  'Cluster2':'str'},index_col=[0])"
   ]
  },
  {
   "cell_type": "code",
   "execution_count": null,
   "id": "9338bcf6",
   "metadata": {
    "id": "9338bcf6"
   },
   "outputs": [],
   "source": []
  },
  {
   "cell_type": "code",
   "execution_count": 6,
   "id": "d1248699",
   "metadata": {
    "ExecuteTime": {
     "end_time": "2022-02-05T08:21:55.659954Z",
     "start_time": "2022-02-05T08:21:55.656376Z"
    },
    "id": "d1248699"
   },
   "outputs": [],
   "source": [
    "## product pairwise distance\n",
    "# product_cos_dist_df= pd.read_csv('product_cosine_distance_df.csv'\n",
    "#                       ,index_col=[0])"
   ]
  },
  {
   "cell_type": "code",
   "execution_count": 7,
   "id": "7E3RLVLz8DJY",
   "metadata": {
    "ExecuteTime": {
     "end_time": "2022-02-05T08:22:03.502294Z",
     "start_time": "2022-02-05T08:21:55.810799Z"
    },
    "executionInfo": {
     "elapsed": 18674,
     "status": "ok",
     "timestamp": 1636692894864,
     "user": {
      "displayName": "Xinxue Gu",
      "photoUrl": "https://lh3.googleusercontent.com/a-/AOh14Gj9WkmtnU2brQk9QsbQh0F1_zHtCpJidb4IEmCXLQ=s64",
      "userId": "13207589719696204166"
     },
     "user_tz": 480
    },
    "id": "7E3RLVLz8DJY"
   },
   "outputs": [],
   "source": [
    "# product pairwise distance\n",
    "cannabis_perc_dist_df= pd.read_csv('cannabis_perc_product_cosine_distance_df.csv'\n",
    "                      ,index_col=[0])\n",
    "terpenes_perc_dist_df= pd.read_csv('terpenes_perc_product_cosine_distance_df.csv'\n",
    "                      ,index_col=[0])\n",
    "cannabis_vol_dist_df= pd.read_csv('cannabis_vol_product_cosine_distance_df.csv'\n",
    "                      ,index_col=[0])\n",
    "terpenes_vol_dist_df= pd.read_csv('terpenes_vol_product_cosine_distance_df.csv'\n",
    "                      ,index_col=[0])\n",
    "terpenes_cannabi_vol_dist_df= pd.read_csv('terpenes_cannabi_vol_product_cosine_distance_df.csv'\n",
    "                      ,index_col=[0])"
   ]
  },
  {
   "cell_type": "code",
   "execution_count": null,
   "id": "1vCtC0TE8DOm",
   "metadata": {
    "ExecuteTime": {
     "end_time": "2022-01-04T11:52:52.040708Z",
     "start_time": "2022-01-04T11:52:52.032993Z"
    },
    "executionInfo": {
     "elapsed": 4994,
     "status": "ok",
     "timestamp": 1636702054224,
     "user": {
      "displayName": "Xinxue Gu",
      "photoUrl": "https://lh3.googleusercontent.com/a-/AOh14Gj9WkmtnU2brQk9QsbQh0F1_zHtCpJidb4IEmCXLQ=s64",
      "userId": "13207589719696204166"
     },
     "user_tz": 480
    },
    "id": "1vCtC0TE8DOm"
   },
   "outputs": [],
   "source": []
  },
  {
   "cell_type": "code",
   "execution_count": 8,
   "id": "4c1ee2ab",
   "metadata": {
    "ExecuteTime": {
     "end_time": "2022-02-05T08:22:04.159582Z",
     "start_time": "2022-02-05T08:22:03.888000Z"
    },
    "id": "4c1ee2ab"
   },
   "outputs": [],
   "source": [
    "reviews = pd.read_excel('Cannabis-Reviews_Worksheet.xlsx', sheet_name='Active Reviews')"
   ]
  },
  {
   "cell_type": "code",
   "execution_count": 9,
   "id": "c1ff3ce3",
   "metadata": {
    "ExecuteTime": {
     "end_time": "2022-02-05T08:22:04.259392Z",
     "start_time": "2022-02-05T08:22:04.247594Z"
    },
    "id": "c1ff3ce3"
   },
   "outputs": [
    {
     "data": {
      "text/html": [
       "<div>\n",
       "<style scoped>\n",
       "    .dataframe tbody tr th:only-of-type {\n",
       "        vertical-align: middle;\n",
       "    }\n",
       "\n",
       "    .dataframe tbody tr th {\n",
       "        vertical-align: top;\n",
       "    }\n",
       "\n",
       "    .dataframe thead th {\n",
       "        text-align: right;\n",
       "    }\n",
       "</style>\n",
       "<table border=\"1\" class=\"dataframe\">\n",
       "  <thead>\n",
       "    <tr style=\"text-align: right;\">\n",
       "      <th></th>\n",
       "      <th>Account</th>\n",
       "      <th>Date</th>\n",
       "      <th>Batch ID</th>\n",
       "      <th>Matrix</th>\n",
       "      <th>Strain Name</th>\n",
       "      <th>Brand</th>\n",
       "      <th>Rating</th>\n",
       "      <th>Effect 1</th>\n",
       "      <th>Effect 2</th>\n",
       "      <th>Effect 3</th>\n",
       "      <th>...</th>\n",
       "      <th>Perc_Pinene</th>\n",
       "      <th>Perc_Terpinolene</th>\n",
       "      <th>Perc_Linalool</th>\n",
       "      <th>Perc_Humulene</th>\n",
       "      <th>Perc_Other_Terpenes</th>\n",
       "      <th>Perc_Total_Terpenes</th>\n",
       "      <th>Effect_1</th>\n",
       "      <th>Effect_2</th>\n",
       "      <th>Effect_3</th>\n",
       "      <th>Effect_4</th>\n",
       "    </tr>\n",
       "  </thead>\n",
       "  <tbody>\n",
       "    <tr>\n",
       "      <th>0</th>\n",
       "      <td>kasper0017@gmail.com</td>\n",
       "      <td>2020-09-07 17:11:23</td>\n",
       "      <td>HS019-HL-063020</td>\n",
       "      <td>Concentrates &amp; Extracts</td>\n",
       "      <td>Tangerine Badder</td>\n",
       "      <td>Highland</td>\n",
       "      <td>5.0</td>\n",
       "      <td>Euphoric</td>\n",
       "      <td>Sleepy</td>\n",
       "      <td>Relaxed</td>\n",
       "      <td>...</td>\n",
       "      <td>0.2397</td>\n",
       "      <td>0.0000</td>\n",
       "      <td>0.0785</td>\n",
       "      <td>0.0551</td>\n",
       "      <td>0.0405</td>\n",
       "      <td>1.0</td>\n",
       "      <td>Focused</td>\n",
       "      <td>Calm</td>\n",
       "      <td>Relaxed</td>\n",
       "      <td>Sleepy</td>\n",
       "    </tr>\n",
       "    <tr>\n",
       "      <th>1</th>\n",
       "      <td>kasper0017@gmail.com</td>\n",
       "      <td>2020-09-08 21:13:01</td>\n",
       "      <td>KPD040720</td>\n",
       "      <td>Concentrates &amp; Extracts</td>\n",
       "      <td>Purple Demon Hash Rosin</td>\n",
       "      <td>Karisma</td>\n",
       "      <td>5.0</td>\n",
       "      <td>Spacey</td>\n",
       "      <td>Euphoric</td>\n",
       "      <td>Relaxed</td>\n",
       "      <td>...</td>\n",
       "      <td>0.0306</td>\n",
       "      <td>0.0069</td>\n",
       "      <td>0.2334</td>\n",
       "      <td>0.0672</td>\n",
       "      <td>0.0000</td>\n",
       "      <td>1.0</td>\n",
       "      <td>Stimulated</td>\n",
       "      <td>Relaxed</td>\n",
       "      <td>Sleepy</td>\n",
       "      <td>Calm</td>\n",
       "    </tr>\n",
       "    <tr>\n",
       "      <th>2</th>\n",
       "      <td>kasper0017@gmail.com</td>\n",
       "      <td>2020-09-08 21:14:18</td>\n",
       "      <td>KPD040720</td>\n",
       "      <td>Concentrates &amp; Extracts</td>\n",
       "      <td>Purple Demon Hash Rosin</td>\n",
       "      <td>Karisma</td>\n",
       "      <td>5.0</td>\n",
       "      <td>Euphoric</td>\n",
       "      <td>Creative</td>\n",
       "      <td>Relaxed</td>\n",
       "      <td>...</td>\n",
       "      <td>0.0306</td>\n",
       "      <td>0.0069</td>\n",
       "      <td>0.2334</td>\n",
       "      <td>0.0672</td>\n",
       "      <td>0.0000</td>\n",
       "      <td>1.0</td>\n",
       "      <td>Stimulated</td>\n",
       "      <td>Relaxed</td>\n",
       "      <td>Sleepy</td>\n",
       "      <td>Calm</td>\n",
       "    </tr>\n",
       "    <tr>\n",
       "      <th>3</th>\n",
       "      <td>kasper0017@gmail.com</td>\n",
       "      <td>2020-09-08 21:23:53</td>\n",
       "      <td>LR-FB-CC-177</td>\n",
       "      <td>Concentrates &amp; Extracts</td>\n",
       "      <td>Fog Berry</td>\n",
       "      <td>Eel River</td>\n",
       "      <td>5.0</td>\n",
       "      <td>Sleepy</td>\n",
       "      <td>Relaxed</td>\n",
       "      <td>NaN</td>\n",
       "      <td>...</td>\n",
       "      <td>0.0110</td>\n",
       "      <td>0.0519</td>\n",
       "      <td>0.0535</td>\n",
       "      <td>0.0873</td>\n",
       "      <td>0.0887</td>\n",
       "      <td>1.0</td>\n",
       "      <td>Calm</td>\n",
       "      <td>Relaxed</td>\n",
       "      <td>Sleepy</td>\n",
       "      <td>Stimulated</td>\n",
       "    </tr>\n",
       "    <tr>\n",
       "      <th>4</th>\n",
       "      <td>kasper0017@gmail.com</td>\n",
       "      <td>2020-09-14 09:13:46</td>\n",
       "      <td>KSS040720</td>\n",
       "      <td>Concentrates &amp; Extracts</td>\n",
       "      <td>Sour Sandia Hash Rosin</td>\n",
       "      <td>Karisma</td>\n",
       "      <td>5.0</td>\n",
       "      <td>Euphoric</td>\n",
       "      <td>Aroused</td>\n",
       "      <td>NaN</td>\n",
       "      <td>...</td>\n",
       "      <td>0.1225</td>\n",
       "      <td>0.0068</td>\n",
       "      <td>0.2236</td>\n",
       "      <td>0.0431</td>\n",
       "      <td>0.1136</td>\n",
       "      <td>1.0</td>\n",
       "      <td>Uplifted</td>\n",
       "      <td>Sedated</td>\n",
       "      <td>Relaxed</td>\n",
       "      <td>Sleepy</td>\n",
       "    </tr>\n",
       "    <tr>\n",
       "      <th>...</th>\n",
       "      <td>...</td>\n",
       "      <td>...</td>\n",
       "      <td>...</td>\n",
       "      <td>...</td>\n",
       "      <td>...</td>\n",
       "      <td>...</td>\n",
       "      <td>...</td>\n",
       "      <td>...</td>\n",
       "      <td>...</td>\n",
       "      <td>...</td>\n",
       "      <td>...</td>\n",
       "      <td>...</td>\n",
       "      <td>...</td>\n",
       "      <td>...</td>\n",
       "      <td>...</td>\n",
       "      <td>...</td>\n",
       "      <td>...</td>\n",
       "      <td>...</td>\n",
       "      <td>...</td>\n",
       "      <td>...</td>\n",
       "      <td>...</td>\n",
       "    </tr>\n",
       "    <tr>\n",
       "      <th>162</th>\n",
       "      <td>faded-cheese-032@anonymous.appuser.io</td>\n",
       "      <td>NaN</td>\n",
       "      <td>#EVM0139</td>\n",
       "      <td>Plant</td>\n",
       "      <td>Jack Cake</td>\n",
       "      <td>Ember Valley</td>\n",
       "      <td>5.0</td>\n",
       "      <td>Happy</td>\n",
       "      <td>Energetic</td>\n",
       "      <td>Stimulated</td>\n",
       "      <td>...</td>\n",
       "      <td>NaN</td>\n",
       "      <td>NaN</td>\n",
       "      <td>NaN</td>\n",
       "      <td>NaN</td>\n",
       "      <td>NaN</td>\n",
       "      <td>NaN</td>\n",
       "      <td>NaN</td>\n",
       "      <td>NaN</td>\n",
       "      <td>NaN</td>\n",
       "      <td>NaN</td>\n",
       "    </tr>\n",
       "    <tr>\n",
       "      <th>163</th>\n",
       "      <td>kasper0017@gmail.com</td>\n",
       "      <td>NaN</td>\n",
       "      <td>JETF-RDH4-e03B</td>\n",
       "      <td>NaN</td>\n",
       "      <td>Jet Fuel</td>\n",
       "      <td>Kurvana</td>\n",
       "      <td>4.0</td>\n",
       "      <td>Euphoric</td>\n",
       "      <td>Focused</td>\n",
       "      <td>Uplifted</td>\n",
       "      <td>...</td>\n",
       "      <td>0.5547</td>\n",
       "      <td>0.0000</td>\n",
       "      <td>0.0000</td>\n",
       "      <td>0.0000</td>\n",
       "      <td>0.0413</td>\n",
       "      <td>1.0</td>\n",
       "      <td>Focused</td>\n",
       "      <td>Euphoric</td>\n",
       "      <td>Uplifted</td>\n",
       "      <td>Stimulated</td>\n",
       "    </tr>\n",
       "    <tr>\n",
       "      <th>164</th>\n",
       "      <td>kasper0017@gmail.com</td>\n",
       "      <td>NaN</td>\n",
       "      <td>EAR0-CP42J13-D077</td>\n",
       "      <td>Concentrates &amp; Extracts</td>\n",
       "      <td>Earth OG</td>\n",
       "      <td>Kurvana</td>\n",
       "      <td>2.0</td>\n",
       "      <td>Calm</td>\n",
       "      <td>Relaxed</td>\n",
       "      <td>Euphoric</td>\n",
       "      <td>...</td>\n",
       "      <td>0.0000</td>\n",
       "      <td>0.0000</td>\n",
       "      <td>0.0310</td>\n",
       "      <td>0.0487</td>\n",
       "      <td>0.0272</td>\n",
       "      <td>1.0</td>\n",
       "      <td>Calm</td>\n",
       "      <td>Relaxed</td>\n",
       "      <td>Sleepy</td>\n",
       "      <td>Sedated</td>\n",
       "    </tr>\n",
       "    <tr>\n",
       "      <th>165</th>\n",
       "      <td>kasper0017@gmail.com</td>\n",
       "      <td>NaN</td>\n",
       "      <td>GHFCAK0226BB</td>\n",
       "      <td>NaN</td>\n",
       "      <td>Cherry AK</td>\n",
       "      <td>Glass House Farms</td>\n",
       "      <td>4.0</td>\n",
       "      <td>Uplifted</td>\n",
       "      <td>Sedated</td>\n",
       "      <td>Relaxed</td>\n",
       "      <td>...</td>\n",
       "      <td>0.0598</td>\n",
       "      <td>0.0000</td>\n",
       "      <td>0.0000</td>\n",
       "      <td>0.0450</td>\n",
       "      <td>0.0288</td>\n",
       "      <td>1.0</td>\n",
       "      <td>Relaxed</td>\n",
       "      <td>Sleepy</td>\n",
       "      <td>Sedated</td>\n",
       "      <td>Calm</td>\n",
       "    </tr>\n",
       "    <tr>\n",
       "      <th>166</th>\n",
       "      <td>kasper0017@gmail.com</td>\n",
       "      <td>NaN</td>\n",
       "      <td>GHFRNG0329</td>\n",
       "      <td>NaN</td>\n",
       "      <td>Orangeade</td>\n",
       "      <td>Glass House Farms</td>\n",
       "      <td>4.0</td>\n",
       "      <td>Uplifted</td>\n",
       "      <td>Euphoric</td>\n",
       "      <td>NaN</td>\n",
       "      <td>...</td>\n",
       "      <td>0.1598</td>\n",
       "      <td>0.0000</td>\n",
       "      <td>0.0796</td>\n",
       "      <td>0.0389</td>\n",
       "      <td>0.0784</td>\n",
       "      <td>1.0</td>\n",
       "      <td>Stimulated</td>\n",
       "      <td>Uplifted</td>\n",
       "      <td>Euphoric</td>\n",
       "      <td>Focused</td>\n",
       "    </tr>\n",
       "  </tbody>\n",
       "</table>\n",
       "<p>167 rows × 132 columns</p>\n",
       "</div>"
      ],
      "text/plain": [
       "                                   Account                 Date  \\\n",
       "0                     kasper0017@gmail.com  2020-09-07 17:11:23   \n",
       "1                     kasper0017@gmail.com  2020-09-08 21:13:01   \n",
       "2                     kasper0017@gmail.com  2020-09-08 21:14:18   \n",
       "3                     kasper0017@gmail.com  2020-09-08 21:23:53   \n",
       "4                     kasper0017@gmail.com  2020-09-14 09:13:46   \n",
       "..                                     ...                  ...   \n",
       "162  faded-cheese-032@anonymous.appuser.io                  NaN   \n",
       "163                   kasper0017@gmail.com                  NaN   \n",
       "164                   kasper0017@gmail.com                  NaN   \n",
       "165                   kasper0017@gmail.com                  NaN   \n",
       "166                   kasper0017@gmail.com                  NaN   \n",
       "\n",
       "              Batch ID                   Matrix              Strain Name  \\\n",
       "0      HS019-HL-063020  Concentrates & Extracts         Tangerine Badder   \n",
       "1            KPD040720  Concentrates & Extracts  Purple Demon Hash Rosin   \n",
       "2            KPD040720  Concentrates & Extracts  Purple Demon Hash Rosin   \n",
       "3         LR-FB-CC-177  Concentrates & Extracts                Fog Berry   \n",
       "4            KSS040720  Concentrates & Extracts   Sour Sandia Hash Rosin   \n",
       "..                 ...                      ...                      ...   \n",
       "162           #EVM0139                    Plant                Jack Cake   \n",
       "163     JETF-RDH4-e03B                      NaN                 Jet Fuel   \n",
       "164  EAR0-CP42J13-D077  Concentrates & Extracts                 Earth OG   \n",
       "165       GHFCAK0226BB                      NaN                Cherry AK   \n",
       "166         GHFRNG0329                      NaN                Orangeade   \n",
       "\n",
       "                 Brand  Rating  Effect 1   Effect 2    Effect 3  ...  \\\n",
       "0             Highland     5.0  Euphoric     Sleepy     Relaxed  ...   \n",
       "1              Karisma     5.0    Spacey   Euphoric     Relaxed  ...   \n",
       "2              Karisma     5.0  Euphoric   Creative     Relaxed  ...   \n",
       "3            Eel River     5.0    Sleepy    Relaxed         NaN  ...   \n",
       "4              Karisma     5.0  Euphoric    Aroused         NaN  ...   \n",
       "..                 ...     ...       ...        ...         ...  ...   \n",
       "162       Ember Valley     5.0     Happy  Energetic  Stimulated  ...   \n",
       "163            Kurvana     4.0  Euphoric    Focused    Uplifted  ...   \n",
       "164            Kurvana     2.0      Calm    Relaxed    Euphoric  ...   \n",
       "165  Glass House Farms     4.0  Uplifted    Sedated     Relaxed  ...   \n",
       "166  Glass House Farms     4.0  Uplifted   Euphoric         NaN  ...   \n",
       "\n",
       "    Perc_Pinene Perc_Terpinolene  Perc_Linalool  Perc_Humulene  \\\n",
       "0        0.2397           0.0000         0.0785         0.0551   \n",
       "1        0.0306           0.0069         0.2334         0.0672   \n",
       "2        0.0306           0.0069         0.2334         0.0672   \n",
       "3        0.0110           0.0519         0.0535         0.0873   \n",
       "4        0.1225           0.0068         0.2236         0.0431   \n",
       "..          ...              ...            ...            ...   \n",
       "162         NaN              NaN            NaN            NaN   \n",
       "163      0.5547           0.0000         0.0000         0.0000   \n",
       "164      0.0000           0.0000         0.0310         0.0487   \n",
       "165      0.0598           0.0000         0.0000         0.0450   \n",
       "166      0.1598           0.0000         0.0796         0.0389   \n",
       "\n",
       "     Perc_Other_Terpenes  Perc_Total_Terpenes    Effect_1  Effect_2  Effect_3  \\\n",
       "0                 0.0405                  1.0     Focused      Calm   Relaxed   \n",
       "1                 0.0000                  1.0  Stimulated   Relaxed    Sleepy   \n",
       "2                 0.0000                  1.0  Stimulated   Relaxed    Sleepy   \n",
       "3                 0.0887                  1.0        Calm   Relaxed    Sleepy   \n",
       "4                 0.1136                  1.0    Uplifted   Sedated   Relaxed   \n",
       "..                   ...                  ...         ...       ...       ...   \n",
       "162                  NaN                  NaN         NaN       NaN       NaN   \n",
       "163               0.0413                  1.0     Focused  Euphoric  Uplifted   \n",
       "164               0.0272                  1.0        Calm   Relaxed    Sleepy   \n",
       "165               0.0288                  1.0     Relaxed    Sleepy   Sedated   \n",
       "166               0.0784                  1.0  Stimulated  Uplifted  Euphoric   \n",
       "\n",
       "       Effect_4  \n",
       "0        Sleepy  \n",
       "1          Calm  \n",
       "2          Calm  \n",
       "3    Stimulated  \n",
       "4        Sleepy  \n",
       "..          ...  \n",
       "162         NaN  \n",
       "163  Stimulated  \n",
       "164     Sedated  \n",
       "165        Calm  \n",
       "166     Focused  \n",
       "\n",
       "[167 rows x 132 columns]"
      ]
     },
     "execution_count": 9,
     "metadata": {},
     "output_type": "execute_result"
    }
   ],
   "source": [
    "reviews"
   ]
  },
  {
   "cell_type": "code",
   "execution_count": 10,
   "id": "a0b5af3a",
   "metadata": {
    "ExecuteTime": {
     "end_time": "2022-02-05T08:22:04.348862Z",
     "start_time": "2022-02-05T08:22:04.346001Z"
    },
    "colab": {
     "base_uri": "https://localhost:8080/"
    },
    "executionInfo": {
     "elapsed": 286,
     "status": "ok",
     "timestamp": 1636398436644,
     "user": {
      "displayName": "Xinxue Gu",
      "photoUrl": "https://lh3.googleusercontent.com/a-/AOh14Gj9WkmtnU2brQk9QsbQh0F1_zHtCpJidb4IEmCXLQ=s64",
      "userId": "13207589719696204166"
     },
     "user_tz": 480
    },
    "id": "a0b5af3a",
    "outputId": "e04456ee-16da-4998-ebe0-7f645bb3e0fd"
   },
   "outputs": [
    {
     "data": {
      "text/plain": [
       "Sleeping                      25\n",
       "Mood-Boosting                 24\n",
       "Focus                         20\n",
       "Relaxing                      19\n",
       "Socializing                   15\n",
       "Getting Stoned                11\n",
       "Art / Music                   10\n",
       "I didn't like it               8\n",
       "Mornings                       8\n",
       "Gaming                         6\n",
       "Romancing                      4\n",
       "Creativity                     4\n",
       "Exercise                       2\n",
       "Pain Relief                    2\n",
       "Mood-Boosting; Socializing     1\n",
       "Socializing; Mood-Boosting     1\n",
       "Name: Experience, dtype: int64"
      ]
     },
     "execution_count": 10,
     "metadata": {},
     "output_type": "execute_result"
    }
   ],
   "source": [
    "reviews['Experience'].value_counts()"
   ]
  },
  {
   "cell_type": "code",
   "execution_count": 11,
   "id": "ae942b5b",
   "metadata": {
    "ExecuteTime": {
     "end_time": "2022-02-05T08:22:04.441618Z",
     "start_time": "2022-02-05T08:22:04.436685Z"
    },
    "colab": {
     "base_uri": "https://localhost:8080/",
     "height": 1000
    },
    "executionInfo": {
     "elapsed": 264,
     "status": "ok",
     "timestamp": 1636398438255,
     "user": {
      "displayName": "Xinxue Gu",
      "photoUrl": "https://lh3.googleusercontent.com/a-/AOh14Gj9WkmtnU2brQk9QsbQh0F1_zHtCpJidb4IEmCXLQ=s64",
      "userId": "13207589719696204166"
     },
     "user_tz": 480
    },
    "id": "ae942b5b",
    "outputId": "41a77572-1087-4a58-d7da-b5906b901cf3"
   },
   "outputs": [
    {
     "data": {
      "text/html": [
       "<div>\n",
       "<style scoped>\n",
       "    .dataframe tbody tr th:only-of-type {\n",
       "        vertical-align: middle;\n",
       "    }\n",
       "\n",
       "    .dataframe tbody tr th {\n",
       "        vertical-align: top;\n",
       "    }\n",
       "\n",
       "    .dataframe thead th {\n",
       "        text-align: right;\n",
       "    }\n",
       "</style>\n",
       "<table border=\"1\" class=\"dataframe\">\n",
       "  <thead>\n",
       "    <tr style=\"text-align: right;\">\n",
       "      <th></th>\n",
       "      <th></th>\n",
       "      <th>Account</th>\n",
       "    </tr>\n",
       "    <tr>\n",
       "      <th>Account</th>\n",
       "      <th>Experience</th>\n",
       "      <th></th>\n",
       "    </tr>\n",
       "  </thead>\n",
       "  <tbody>\n",
       "    <tr>\n",
       "      <th rowspan=\"2\" valign=\"top\">chris.10sne1@gmail.com</th>\n",
       "      <th>Focus</th>\n",
       "      <td>2</td>\n",
       "    </tr>\n",
       "    <tr>\n",
       "      <th>Sleeping</th>\n",
       "      <td>1</td>\n",
       "    </tr>\n",
       "    <tr>\n",
       "      <th>eblasser91@gmail.com</th>\n",
       "      <th>Relaxing</th>\n",
       "      <td>1</td>\n",
       "    </tr>\n",
       "    <tr>\n",
       "      <th rowspan=\"10\" valign=\"top\">faded-cheese-032@anonymous.appuser.io</th>\n",
       "      <th>Art / Music</th>\n",
       "      <td>1</td>\n",
       "    </tr>\n",
       "    <tr>\n",
       "      <th>Creativity</th>\n",
       "      <td>1</td>\n",
       "    </tr>\n",
       "    <tr>\n",
       "      <th>Focus</th>\n",
       "      <td>1</td>\n",
       "    </tr>\n",
       "    <tr>\n",
       "      <th>Getting Stoned</th>\n",
       "      <td>4</td>\n",
       "    </tr>\n",
       "    <tr>\n",
       "      <th>I didn't like it</th>\n",
       "      <td>1</td>\n",
       "    </tr>\n",
       "    <tr>\n",
       "      <th>Mood-Boosting</th>\n",
       "      <td>12</td>\n",
       "    </tr>\n",
       "    <tr>\n",
       "      <th>Mornings</th>\n",
       "      <td>1</td>\n",
       "    </tr>\n",
       "    <tr>\n",
       "      <th>Pain Relief</th>\n",
       "      <td>2</td>\n",
       "    </tr>\n",
       "    <tr>\n",
       "      <th>Relaxing</th>\n",
       "      <td>6</td>\n",
       "    </tr>\n",
       "    <tr>\n",
       "      <th>Socializing</th>\n",
       "      <td>1</td>\n",
       "    </tr>\n",
       "    <tr>\n",
       "      <th rowspan=\"3\" valign=\"top\">fearful-invention-895@anonymous.appuser.io</th>\n",
       "      <th>Art / Music</th>\n",
       "      <td>1</td>\n",
       "    </tr>\n",
       "    <tr>\n",
       "      <th>Creativity</th>\n",
       "      <td>1</td>\n",
       "    </tr>\n",
       "    <tr>\n",
       "      <th>Focus</th>\n",
       "      <td>1</td>\n",
       "    </tr>\n",
       "    <tr>\n",
       "      <th>gannott@usc.edu</th>\n",
       "      <th>Mood-Boosting</th>\n",
       "      <td>1</td>\n",
       "    </tr>\n",
       "    <tr>\n",
       "      <th rowspan=\"15\" valign=\"top\">kasper0017@gmail.com</th>\n",
       "      <th>Art / Music</th>\n",
       "      <td>6</td>\n",
       "    </tr>\n",
       "    <tr>\n",
       "      <th>Creativity</th>\n",
       "      <td>2</td>\n",
       "    </tr>\n",
       "    <tr>\n",
       "      <th>Exercise</th>\n",
       "      <td>2</td>\n",
       "    </tr>\n",
       "    <tr>\n",
       "      <th>Focus</th>\n",
       "      <td>16</td>\n",
       "    </tr>\n",
       "    <tr>\n",
       "      <th>Gaming</th>\n",
       "      <td>6</td>\n",
       "    </tr>\n",
       "    <tr>\n",
       "      <th>Getting Stoned</th>\n",
       "      <td>6</td>\n",
       "    </tr>\n",
       "    <tr>\n",
       "      <th>I didn't like it</th>\n",
       "      <td>7</td>\n",
       "    </tr>\n",
       "    <tr>\n",
       "      <th>Mood-Boosting</th>\n",
       "      <td>11</td>\n",
       "    </tr>\n",
       "    <tr>\n",
       "      <th>Mood-Boosting; Socializing</th>\n",
       "      <td>1</td>\n",
       "    </tr>\n",
       "    <tr>\n",
       "      <th>Mornings</th>\n",
       "      <td>7</td>\n",
       "    </tr>\n",
       "    <tr>\n",
       "      <th>Relaxing</th>\n",
       "      <td>11</td>\n",
       "    </tr>\n",
       "    <tr>\n",
       "      <th>Romancing</th>\n",
       "      <td>4</td>\n",
       "    </tr>\n",
       "    <tr>\n",
       "      <th>Sleeping</th>\n",
       "      <td>23</td>\n",
       "    </tr>\n",
       "    <tr>\n",
       "      <th>Socializing</th>\n",
       "      <td>14</td>\n",
       "    </tr>\n",
       "    <tr>\n",
       "      <th>Socializing; Mood-Boosting</th>\n",
       "      <td>1</td>\n",
       "    </tr>\n",
       "    <tr>\n",
       "      <th>rthakkar@usc.edu</th>\n",
       "      <th>Sleeping</th>\n",
       "      <td>1</td>\n",
       "    </tr>\n",
       "    <tr>\n",
       "      <th>vishnubh@marshall.usc.edu</th>\n",
       "      <th>Art / Music</th>\n",
       "      <td>1</td>\n",
       "    </tr>\n",
       "    <tr>\n",
       "      <th rowspan=\"2\" valign=\"top\">vocal-distribution-255@anonymous.appuser.io</th>\n",
       "      <th>Getting Stoned</th>\n",
       "      <td>1</td>\n",
       "    </tr>\n",
       "    <tr>\n",
       "      <th>Relaxing</th>\n",
       "      <td>1</td>\n",
       "    </tr>\n",
       "    <tr>\n",
       "      <th>zmattioli@gmail.com</th>\n",
       "      <th>Art / Music</th>\n",
       "      <td>1</td>\n",
       "    </tr>\n",
       "  </tbody>\n",
       "</table>\n",
       "</div>"
      ],
      "text/plain": [
       "                                                                        Account\n",
       "Account                                     Experience                         \n",
       "chris.10sne1@gmail.com                      Focus                             2\n",
       "                                            Sleeping                          1\n",
       "eblasser91@gmail.com                        Relaxing                          1\n",
       "faded-cheese-032@anonymous.appuser.io       Art / Music                       1\n",
       "                                            Creativity                        1\n",
       "                                            Focus                             1\n",
       "                                            Getting Stoned                    4\n",
       "                                            I didn't like it                  1\n",
       "                                            Mood-Boosting                    12\n",
       "                                            Mornings                          1\n",
       "                                            Pain Relief                       2\n",
       "                                            Relaxing                          6\n",
       "                                            Socializing                       1\n",
       "fearful-invention-895@anonymous.appuser.io  Art / Music                       1\n",
       "                                            Creativity                        1\n",
       "                                            Focus                             1\n",
       "gannott@usc.edu                             Mood-Boosting                     1\n",
       "kasper0017@gmail.com                        Art / Music                       6\n",
       "                                            Creativity                        2\n",
       "                                            Exercise                          2\n",
       "                                            Focus                            16\n",
       "                                            Gaming                            6\n",
       "                                            Getting Stoned                    6\n",
       "                                            I didn't like it                  7\n",
       "                                            Mood-Boosting                    11\n",
       "                                            Mood-Boosting; Socializing        1\n",
       "                                            Mornings                          7\n",
       "                                            Relaxing                         11\n",
       "                                            Romancing                         4\n",
       "                                            Sleeping                         23\n",
       "                                            Socializing                      14\n",
       "                                            Socializing; Mood-Boosting        1\n",
       "rthakkar@usc.edu                            Sleeping                          1\n",
       "vishnubh@marshall.usc.edu                   Art / Music                       1\n",
       "vocal-distribution-255@anonymous.appuser.io Getting Stoned                    1\n",
       "                                            Relaxing                          1\n",
       "zmattioli@gmail.com                         Art / Music                       1"
      ]
     },
     "execution_count": 11,
     "metadata": {},
     "output_type": "execute_result"
    }
   ],
   "source": [
    "summary_df = reviews.groupby(['Account','Experience']).agg({'Account':'count'})\n",
    "summary_df"
   ]
  },
  {
   "cell_type": "code",
   "execution_count": 12,
   "id": "96f46ce4",
   "metadata": {
    "ExecuteTime": {
     "end_time": "2022-02-05T08:22:04.535252Z",
     "start_time": "2022-02-05T08:22:04.532489Z"
    },
    "colab": {
     "base_uri": "https://localhost:8080/"
    },
    "executionInfo": {
     "elapsed": 7,
     "status": "ok",
     "timestamp": 1636398440448,
     "user": {
      "displayName": "Xinxue Gu",
      "photoUrl": "https://lh3.googleusercontent.com/a-/AOh14Gj9WkmtnU2brQk9QsbQh0F1_zHtCpJidb4IEmCXLQ=s64",
      "userId": "13207589719696204166"
     },
     "user_tz": 480
    },
    "id": "96f46ce4",
    "outputId": "cd2905a6-7c7c-43b8-baa7-93b914df4df1"
   },
   "outputs": [
    {
     "data": {
      "text/plain": [
       "Index(['kasper0017@gmail.com', 'faded-cheese-032@anonymous.appuser.io',\n",
       "       'chris.10sne1@gmail.com', 'fearful-invention-895@anonymous.appuser.io',\n",
       "       'vocal-distribution-255@anonymous.appuser.io',\n",
       "       'vishnubh@marshall.usc.edu', 'eblasser91@gmail.com', 'gannott@usc.edu',\n",
       "       'zmattioli@gmail.com', 'rthakkar@usc.edu'],\n",
       "      dtype='object')"
      ]
     },
     "execution_count": 12,
     "metadata": {},
     "output_type": "execute_result"
    }
   ],
   "source": [
    "users = reviews['Account'].value_counts().index\n",
    "users"
   ]
  },
  {
   "cell_type": "code",
   "execution_count": 13,
   "id": "6eedac3d",
   "metadata": {
    "ExecuteTime": {
     "end_time": "2022-02-05T08:22:04.624438Z",
     "start_time": "2022-02-05T08:22:04.621953Z"
    },
    "colab": {
     "base_uri": "https://localhost:8080/"
    },
    "executionInfo": {
     "elapsed": 5,
     "status": "ok",
     "timestamp": 1636398442959,
     "user": {
      "displayName": "Xinxue Gu",
      "photoUrl": "https://lh3.googleusercontent.com/a-/AOh14Gj9WkmtnU2brQk9QsbQh0F1_zHtCpJidb4IEmCXLQ=s64",
      "userId": "13207589719696204166"
     },
     "user_tz": 480
    },
    "id": "6eedac3d",
    "outputId": "b307b8a2-0364-4154-894d-d0a0be3355a8"
   },
   "outputs": [
    {
     "data": {
      "text/plain": [
       "Index(['Sleeping', 'Mood-Boosting', 'Focus', 'Relaxing', 'Socializing',\n",
       "       'Getting Stoned', 'Art / Music', 'I didn't like it', 'Mornings',\n",
       "       'Gaming', 'Romancing', 'Creativity', 'Exercise', 'Pain Relief',\n",
       "       'Mood-Boosting; Socializing', 'Socializing; Mood-Boosting'],\n",
       "      dtype='object')"
      ]
     },
     "execution_count": 13,
     "metadata": {},
     "output_type": "execute_result"
    }
   ],
   "source": [
    "experiences = reviews['Experience'].value_counts().index\n",
    "experiences"
   ]
  },
  {
   "cell_type": "code",
   "execution_count": 14,
   "id": "5c36dcb9",
   "metadata": {
    "ExecuteTime": {
     "end_time": "2022-02-05T08:22:04.714916Z",
     "start_time": "2022-02-05T08:22:04.711943Z"
    },
    "id": "5c36dcb9"
   },
   "outputs": [],
   "source": [
    "## drop rows with nan in Experiences\n",
    "reviews[reviews['Experience'].isna()].index\n",
    "reviews.drop(reviews[reviews['Experience'].isna()].index,inplace = True)\n",
    "reviews = reviews.reset_index()"
   ]
  },
  {
   "cell_type": "markdown",
   "id": "cc2f3a97",
   "metadata": {
    "id": "cc2f3a97"
   },
   "source": [
    "# Cluster-based"
   ]
  },
  {
   "cell_type": "markdown",
   "id": "ea9f4d7d",
   "metadata": {
    "id": "ea9f4d7d"
   },
   "source": [
    "## Search Experience/Effect"
   ]
  },
  {
   "cell_type": "markdown",
   "id": "ade94a07",
   "metadata": {
    "id": "ade94a07"
   },
   "source": [
    "Input: an expeirence OR\n",
    "        an experience + one product ID\n",
    "\n"
   ]
  },
  {
   "cell_type": "code",
   "execution_count": 15,
   "id": "64d7f9e8",
   "metadata": {
    "ExecuteTime": {
     "end_time": "2022-02-05T08:22:04.806380Z",
     "start_time": "2022-02-05T08:22:04.804862Z"
    }
   },
   "outputs": [],
   "source": [
    "# clustered.columns"
   ]
  },
  {
   "cell_type": "code",
   "execution_count": 16,
   "id": "a6613da8",
   "metadata": {
    "ExecuteTime": {
     "end_time": "2022-02-05T08:22:04.896620Z",
     "start_time": "2022-02-05T08:22:04.895259Z"
    }
   },
   "outputs": [],
   "source": [
    "# clustered.shape"
   ]
  },
  {
   "cell_type": "code",
   "execution_count": 17,
   "id": "0f81874d",
   "metadata": {
    "ExecuteTime": {
     "end_time": "2022-02-05T08:22:04.985333Z",
     "start_time": "2022-02-05T08:22:04.983663Z"
    },
    "colab": {
     "base_uri": "https://localhost:8080/"
    },
    "executionInfo": {
     "elapsed": 424,
     "status": "ok",
     "timestamp": 1635808606994,
     "user": {
      "displayName": "Xinxue Gu",
      "photoUrl": "https://lh3.googleusercontent.com/a-/AOh14Gj9WkmtnU2brQk9QsbQh0F1_zHtCpJidb4IEmCXLQ=s64",
      "userId": "13207589719696204166"
     },
     "user_tz": 420
    },
    "id": "0f81874d",
    "outputId": "f43fedfe-1558-46b9-afc3-c1f4e1fe267e"
   },
   "outputs": [],
   "source": [
    "user = 'kasper0017@gmail.com'\n",
    "experience = 'Relaxing'\n",
    "# temp = clustered[['Batch_ID','cluster_terpene_only', 'terpenefirst_sub_cluster',\n",
    "#        'terpenefirst_sub_cluster2', 'terpenefirst_multilayer_label',\n",
    "#        'terpenefirst_multilayer_cluster_full_label',\n",
    "#        'terpenefirst_multilayer_cluster_6digit_label',\n",
    "#            'terpenefirst_cluster_adjust_label_2']]\n",
    "\n"
   ]
  },
  {
   "cell_type": "code",
   "execution_count": 18,
   "id": "8d07c4f2",
   "metadata": {
    "ExecuteTime": {
     "end_time": "2022-02-05T08:22:05.075576Z",
     "start_time": "2022-02-05T08:22:05.074028Z"
    }
   },
   "outputs": [],
   "source": [
    "# temp.head()"
   ]
  },
  {
   "cell_type": "code",
   "execution_count": 19,
   "id": "adcf6605",
   "metadata": {
    "ExecuteTime": {
     "end_time": "2022-02-05T08:22:05.165728Z",
     "start_time": "2022-02-05T08:22:05.164224Z"
    }
   },
   "outputs": [],
   "source": [
    "# temp.columns"
   ]
  },
  {
   "cell_type": "code",
   "execution_count": 20,
   "id": "9fd68024",
   "metadata": {
    "ExecuteTime": {
     "end_time": "2022-02-05T08:22:05.253512Z",
     "start_time": "2022-02-05T08:22:05.251936Z"
    }
   },
   "outputs": [],
   "source": [
    "# temp = temp.rename(columns = {'Batch_ID':'Batch ID'})\n",
    "# for col in temp.columns[1:]:\n",
    "#        temp[col] = temp[col].astype('str')\n",
    "# reviews_cluster = reviews.merge(temp,on = 'Batch ID',how = 'left')\n"
   ]
  },
  {
   "cell_type": "code",
   "execution_count": 21,
   "id": "5280c92d",
   "metadata": {
    "ExecuteTime": {
     "end_time": "2022-02-05T08:22:05.344225Z",
     "start_time": "2022-02-05T08:22:05.342816Z"
    }
   },
   "outputs": [],
   "source": [
    "# reviews_cluster.head()"
   ]
  },
  {
   "cell_type": "code",
   "execution_count": 22,
   "id": "4b74612d",
   "metadata": {
    "ExecuteTime": {
     "end_time": "2022-02-05T08:22:05.434726Z",
     "start_time": "2022-02-05T08:22:05.433182Z"
    }
   },
   "outputs": [],
   "source": [
    "# reviews_cluster[(reviews_cluster['Account'] == user) & (reviews_cluster['Experience'] == experience )]"
   ]
  },
  {
   "cell_type": "code",
   "execution_count": 23,
   "id": "0cbc855f",
   "metadata": {
    "ExecuteTime": {
     "end_time": "2022-02-05T08:22:05.523665Z",
     "start_time": "2022-02-05T08:22:05.522238Z"
    }
   },
   "outputs": [],
   "source": [
    "# temp = reviews_cluster[(reviews_cluster['Account'] == user) & (reviews_cluster['Experience'] == experience )][['Batch ID', \n",
    "#            'terpenefirst_cluster_adjust_label_2']].dropna()\n",
    "# temp"
   ]
  },
  {
   "cell_type": "code",
   "execution_count": 24,
   "id": "271df18e",
   "metadata": {
    "ExecuteTime": {
     "end_time": "2022-02-05T08:22:05.612696Z",
     "start_time": "2022-02-05T08:22:05.611248Z"
    },
    "id": "271df18e"
   },
   "outputs": [],
   "source": [
    "# specify_product_ID = []\n",
    "# all_reviewed_product =temp['Batch ID'].values\n",
    "\n",
    "# if len(specify_product_ID) !=0 :\n",
    "#     input_product = specify_product_ID\n",
    "# else:\n",
    "#     input_product = temp['Batch ID'].values\n",
    "# temp = temp[temp['Batch ID'].isin(input_product)]"
   ]
  },
  {
   "cell_type": "code",
   "execution_count": null,
   "id": "2466086d",
   "metadata": {
    "ExecuteTime": {
     "end_time": "2021-10-24T23:15:14.633506Z",
     "start_time": "2021-10-24T23:15:14.629978Z"
    },
    "id": "2466086d"
   },
   "outputs": [],
   "source": []
  },
  {
   "cell_type": "code",
   "execution_count": 25,
   "id": "bfab647e",
   "metadata": {
    "ExecuteTime": {
     "end_time": "2022-02-05T08:22:05.702208Z",
     "start_time": "2022-02-05T08:22:05.700660Z"
    },
    "colab": {
     "base_uri": "https://localhost:8080/"
    },
    "executionInfo": {
     "elapsed": 23,
     "status": "ok",
     "timestamp": 1635808606995,
     "user": {
      "displayName": "Xinxue Gu",
      "photoUrl": "https://lh3.googleusercontent.com/a-/AOh14Gj9WkmtnU2brQk9QsbQh0F1_zHtCpJidb4IEmCXLQ=s64",
      "userId": "13207589719696204166"
     },
     "user_tz": 420
    },
    "id": "bfab647e",
    "outputId": "f17cf8ff-62a9-40cc-df46-49ecf481576e"
   },
   "outputs": [],
   "source": [
    "# ini_cluster = list(set(temp['terpenefirst_cluster_adjust_label_2'].values))\n",
    "# ini_cluster"
   ]
  },
  {
   "cell_type": "code",
   "execution_count": 26,
   "id": "f820cd21",
   "metadata": {
    "ExecuteTime": {
     "end_time": "2022-02-05T08:22:05.792982Z",
     "start_time": "2022-02-05T08:22:05.791637Z"
    },
    "id": "f820cd21"
   },
   "outputs": [],
   "source": [
    "# rec_cluster_df = cluster_cos_dist_df[cluster_cos_dist_df['Cluster1'].isin(ini_cluster)].sort_values('Similarity',ascending=False)\n",
    "# #rec_cluster_df.groupby('Cluster1').head(3)"
   ]
  },
  {
   "cell_type": "code",
   "execution_count": 27,
   "id": "26be076b",
   "metadata": {
    "ExecuteTime": {
     "end_time": "2022-02-05T08:22:05.882277Z",
     "start_time": "2022-02-05T08:22:05.880712Z"
    },
    "colab": {
     "base_uri": "https://localhost:8080/"
    },
    "executionInfo": {
     "elapsed": 21,
     "status": "ok",
     "timestamp": 1635808606995,
     "user": {
      "displayName": "Xinxue Gu",
      "photoUrl": "https://lh3.googleusercontent.com/a-/AOh14Gj9WkmtnU2brQk9QsbQh0F1_zHtCpJidb4IEmCXLQ=s64",
      "userId": "13207589719696204166"
     },
     "user_tz": 420
    },
    "id": "26be076b",
    "outputId": "1bd5c6d8-f7c5-4443-990a-b4d8bf25ac18"
   },
   "outputs": [],
   "source": [
    "# rec_cluster_df = rec_cluster_df.merge(temp,right_on ='terpenefirst_cluster_adjust_label_2',\n",
    "#                     left_on='Cluster1')\n",
    "# rec_cluster_df = rec_cluster_df.drop('terpenefirst_cluster_adjust_label_2', axis = 1)\n",
    "\n",
    "    \n",
    "    \n",
    "# rec_cluster_df.rename(columns = {'Batch ID':'Initial_Product_ID',\n",
    "#     'Cluster2':'Similar_Cluster',\n",
    "#     'Cluster1':'Initial_Product_Cluster',\n",
    "#     'Similarity':'Similarity_to_cluster_centroid'\n",
    "# },inplace= True)\n",
    "# rec_cluster_df"
   ]
  },
  {
   "cell_type": "code",
   "execution_count": null,
   "id": "b432d2d4",
   "metadata": {
    "id": "b432d2d4"
   },
   "outputs": [],
   "source": []
  },
  {
   "cell_type": "code",
   "execution_count": 28,
   "id": "5b8e54e8",
   "metadata": {
    "ExecuteTime": {
     "end_time": "2022-02-05T08:22:05.970018Z",
     "start_time": "2022-02-05T08:22:05.968524Z"
    },
    "id": "5b8e54e8"
   },
   "outputs": [],
   "source": [
    "# rec_cluster = list(set(rec_cluster_df['Similar_Cluster']))"
   ]
  },
  {
   "cell_type": "code",
   "execution_count": 29,
   "id": "682d71da",
   "metadata": {
    "ExecuteTime": {
     "end_time": "2022-02-05T08:22:06.059197Z",
     "start_time": "2022-02-05T08:22:06.057888Z"
    },
    "id": "682d71da"
   },
   "outputs": [],
   "source": [
    "# rec_product_cluster = clustered[clustered['terpenefirst_cluster_adjust_label_2'].isin(rec_cluster+ini_cluster)]"
   ]
  },
  {
   "cell_type": "code",
   "execution_count": 30,
   "id": "d61b8dbe",
   "metadata": {
    "ExecuteTime": {
     "end_time": "2022-02-05T08:22:06.148045Z",
     "start_time": "2022-02-05T08:22:06.146391Z"
    },
    "id": "d61b8dbe"
   },
   "outputs": [],
   "source": [
    "# rec_product_similarity = rec_product_cluster.merge(rec_cluster_df[['Initial_Product_ID','Similar_Cluster','Initial_Product_Cluster','Similarity_to_cluster_centroid']],left_on='terpenefirst_cluster_adjust_label_2',\n",
    "#                          right_on='Similar_Cluster')\n"
   ]
  },
  {
   "cell_type": "code",
   "execution_count": 31,
   "id": "0334c28f",
   "metadata": {
    "ExecuteTime": {
     "end_time": "2022-02-05T08:22:06.237306Z",
     "start_time": "2022-02-05T08:22:06.235979Z"
    },
    "colab": {
     "base_uri": "https://localhost:8080/"
    },
    "executionInfo": {
     "elapsed": 19,
     "status": "ok",
     "timestamp": 1635808606997,
     "user": {
      "displayName": "Xinxue Gu",
      "photoUrl": "https://lh3.googleusercontent.com/a-/AOh14Gj9WkmtnU2brQk9QsbQh0F1_zHtCpJidb4IEmCXLQ=s64",
      "userId": "13207589719696204166"
     },
     "user_tz": 420
    },
    "id": "0334c28f",
    "outputId": "1ee90aa1-88a2-4c2f-e75c-2dbe9b25b420"
   },
   "outputs": [],
   "source": [
    "# rec_product_similarity"
   ]
  },
  {
   "cell_type": "code",
   "execution_count": 32,
   "id": "0e3089c1",
   "metadata": {
    "ExecuteTime": {
     "end_time": "2022-02-05T08:22:06.326117Z",
     "start_time": "2022-02-05T08:22:06.324572Z"
    },
    "colab": {
     "base_uri": "https://localhost:8080/"
    },
    "executionInfo": {
     "elapsed": 19,
     "status": "ok",
     "timestamp": 1635808606998,
     "user": {
      "displayName": "Xinxue Gu",
      "photoUrl": "https://lh3.googleusercontent.com/a-/AOh14Gj9WkmtnU2brQk9QsbQh0F1_zHtCpJidb4IEmCXLQ=s64",
      "userId": "13207589719696204166"
     },
     "user_tz": 420
    },
    "id": "0e3089c1",
    "outputId": "5a322190-a29e-453c-a771-87f311ea49f6"
   },
   "outputs": [],
   "source": [
    "# rec_result = rec_product_similarity[['Batch_ID','terpenefirst_cluster_adjust_label_2','Similar_Cluster',\n",
    "#                                    'Initial_Product_ID', 'Initial_Product_Cluster',\n",
    "#                                    'Similarity_to_cluster_centroid' ]]\n",
    "# rec_result"
   ]
  },
  {
   "cell_type": "code",
   "execution_count": 33,
   "id": "069d7caa",
   "metadata": {
    "ExecuteTime": {
     "end_time": "2022-02-05T08:22:06.418304Z",
     "start_time": "2022-02-05T08:22:06.416736Z"
    },
    "id": "069d7caa"
   },
   "outputs": [],
   "source": [
    "# rec_result.drop_duplicates(subset=['Batch_ID'],inplace = True)"
   ]
  },
  {
   "cell_type": "code",
   "execution_count": 34,
   "id": "3e207cd8",
   "metadata": {
    "ExecuteTime": {
     "end_time": "2022-02-05T08:22:06.506041Z",
     "start_time": "2022-02-05T08:22:06.504558Z"
    },
    "colab": {
     "base_uri": "https://localhost:8080/"
    },
    "executionInfo": {
     "elapsed": 17,
     "status": "ok",
     "timestamp": 1635808606998,
     "user": {
      "displayName": "Xinxue Gu",
      "photoUrl": "https://lh3.googleusercontent.com/a-/AOh14Gj9WkmtnU2brQk9QsbQh0F1_zHtCpJidb4IEmCXLQ=s64",
      "userId": "13207589719696204166"
     },
     "user_tz": 420
    },
    "id": "3e207cd8",
    "outputId": "ac1a2e38-3413-41fd-d310-6d53cf3e3612"
   },
   "outputs": [],
   "source": [
    "# rec_result"
   ]
  },
  {
   "cell_type": "code",
   "execution_count": 35,
   "id": "c3df4ba3",
   "metadata": {
    "ExecuteTime": {
     "end_time": "2022-02-05T08:22:06.595578Z",
     "start_time": "2022-02-05T08:22:06.594285Z"
    },
    "colab": {
     "base_uri": "https://localhost:8080/"
    },
    "executionInfo": {
     "elapsed": 17,
     "status": "ok",
     "timestamp": 1635808606999,
     "user": {
      "displayName": "Xinxue Gu",
      "photoUrl": "https://lh3.googleusercontent.com/a-/AOh14Gj9WkmtnU2brQk9QsbQh0F1_zHtCpJidb4IEmCXLQ=s64",
      "userId": "13207589719696204166"
     },
     "user_tz": 420
    },
    "id": "c3df4ba3",
    "outputId": "6f60b209-9185-4378-e151-9197beae22d8"
   },
   "outputs": [],
   "source": [
    "# len(list(set(rec_result.Batch_ID.values)))"
   ]
  },
  {
   "cell_type": "markdown",
   "id": "b5e76640",
   "metadata": {
    "id": "b5e76640"
   },
   "source": [
    "### Function"
   ]
  },
  {
   "cell_type": "code",
   "execution_count": 36,
   "id": "b8e7729e",
   "metadata": {
    "ExecuteTime": {
     "end_time": "2022-02-05T08:22:06.687221Z",
     "start_time": "2022-02-05T08:22:06.684825Z"
    },
    "id": "b8e7729e"
   },
   "outputs": [],
   "source": [
    "# def effect_rec(user, experience, product = []):\n",
    "\n",
    "#     temp = clustered[['Batch_ID','cluster_terpene_only', 'terpenefirst_sub_cluster',\n",
    "#            'terpenefirst_sub_cluster2', 'terpenefirst_multilayer_label',\n",
    "#            'terpenefirst_multilayer_cluster_full_label',\n",
    "#            'terpenefirst_multilayer_cluster_6digit_label',\n",
    "#                'terpenefirst_cluster_adjust_label_2']]\n",
    "\n",
    "#     temp = temp.rename(columns = {'Batch_ID':'Batch ID'})\n",
    "#     for col in temp.columns[1:]:\n",
    "#            temp[col] = temp[col].astype('str')\n",
    "#     reviews_cluster = reviews.merge(temp,on = 'Batch ID',how = 'left')\n",
    "#     temp = reviews_cluster[(reviews_cluster['Account'] == user) & (reviews_cluster['Experience'] == experience )][['Batch ID', \n",
    "#                'terpenefirst_cluster_adjust_label_2']].dropna()\n",
    "#     #print(temp)\n",
    "#     specify_product_ID = product\n",
    "#     all_reviewed_product =temp['Batch ID'].values\n",
    "#     #print(specify_product_ID)\n",
    "#     if len(specify_product_ID) !=0 :\n",
    "#         input_product = specify_product_ID\n",
    "#     else:\n",
    "#         input_product = all_reviewed_product\n",
    "#     temp = temp[temp['Batch ID'].isin(input_product)]\n",
    "#     #print(temp)\n",
    "    \n",
    "#     ini_cluster = list(set(temp['terpenefirst_cluster_adjust_label_2'].values))\n",
    "#     #print(ini_cluster)\n",
    "#     ########################\n",
    "#     n = 2\n",
    "#     rec_cluster_df = cluster_cos_dist_df[cluster_cos_dist_df['Cluster1'].isin(ini_cluster)].sort_values('Similarity',ascending=False)\n",
    "#     rec_cluster_df = rec_cluster_df.groupby('Cluster1').head(n)\n",
    "#     rec_cluster_df = rec_cluster_df.merge(temp,right_on ='terpenefirst_cluster_adjust_label_2',\n",
    "#                         left_on='Cluster1')\n",
    "#     rec_cluster_df = rec_cluster_df.drop('terpenefirst_cluster_adjust_label_2', axis = 1)\n",
    "#     rec_cluster_df.rename(columns = {'Batch ID':'Initial_Product_ID',\n",
    "#         'Cluster2':'Similar_Cluster',\n",
    "#         'Cluster1':'Initial_Product_Cluster',\n",
    "#         'Similarity':'Similarity_to_cluster_centroid'\n",
    "#     },inplace= True)\n",
    "#     #rec_cluster_df\n",
    "#     rec_cluster = list(set(rec_cluster_df['Similar_Cluster']))\n",
    "#     rec_product_cluster = clustered[clustered['terpenefirst_cluster_adjust_label_2'].isin(rec_cluster+ini_cluster)]\n",
    "#     rec_product_similarity = rec_product_cluster.merge(rec_cluster_df[['Initial_Product_ID','Similar_Cluster','Initial_Product_Cluster','Similarity_to_cluster_centroid']],left_on='terpenefirst_cluster_adjust_label_2',\n",
    "#                          right_on='Similar_Cluster')\n",
    "#     rec_result = rec_product_similarity[['Batch_ID','terpenefirst_cluster_adjust_label_2','Similar_Cluster',\n",
    "#                                    'Initial_Product_ID', 'Initial_Product_Cluster',\n",
    "#                                    'Similarity_to_cluster_centroid' ]]\n",
    "#     rec_result.drop_duplicates(subset=['Batch_ID'],inplace = True)\n",
    "#     print(len(list(set(rec_result.Batch_ID.values))))\n",
    "#     #rec_result = rec_result.drop(rec_result[rec_result['Batch_ID']==rec_result['Initial_Product_ID']],axis = 0)\n",
    "#     ############################\n",
    "\n",
    "\n",
    "#     df = rec_result.reset_index()\n",
    "\n",
    "#     df[['Initial_Product_ID','Batch_ID']]\n",
    "#     temp_dist_list = list()\n",
    "#     for i in range(len(df)):\n",
    "#       p1 = df.loc[i,'Initial_Product_ID']\n",
    "#       p2 = df.loc[i,'Batch_ID']\n",
    "#       temp_dist = product_cos_dist_df.loc[p1,p2]\n",
    "#       temp_dist_list.append(temp_dist)\n",
    "\n",
    "#     rec_result['Product_cos_distance'] = temp_dist_list\n",
    "#     rec_result['Product_cos_similarity'] = 1-rec_result['Product_cos_distance']\n",
    "    \n",
    "\n",
    "\n",
    "#     return rec_result\n"
   ]
  },
  {
   "cell_type": "code",
   "execution_count": 37,
   "id": "577bc6eb",
   "metadata": {
    "ExecuteTime": {
     "end_time": "2022-02-05T08:22:06.777431Z",
     "start_time": "2022-02-05T08:22:06.776079Z"
    },
    "colab": {
     "base_uri": "https://localhost:8080/"
    },
    "executionInfo": {
     "elapsed": 16,
     "status": "ok",
     "timestamp": 1635808607357,
     "user": {
      "displayName": "Xinxue Gu",
      "photoUrl": "https://lh3.googleusercontent.com/a-/AOh14Gj9WkmtnU2brQk9QsbQh0F1_zHtCpJidb4IEmCXLQ=s64",
      "userId": "13207589719696204166"
     },
     "user_tz": 420
    },
    "id": "577bc6eb",
    "outputId": "55039357-deb4-4d50-ecf5-128f01f76f68",
    "scrolled": true
   },
   "outputs": [],
   "source": [
    "# %%time\n",
    "\n",
    "# effect_rec(user = 'kasper0017@gmail.com',experience = 'Relaxing' )"
   ]
  },
  {
   "cell_type": "code",
   "execution_count": null,
   "id": "VYis1IUEvsFV",
   "metadata": {
    "id": "VYis1IUEvsFV"
   },
   "outputs": [],
   "source": []
  },
  {
   "cell_type": "code",
   "execution_count": 38,
   "id": "8c328e1b",
   "metadata": {
    "ExecuteTime": {
     "end_time": "2022-02-05T08:22:06.867320Z",
     "start_time": "2022-02-05T08:22:06.865793Z"
    },
    "colab": {
     "base_uri": "https://localhost:8080/"
    },
    "executionInfo": {
     "elapsed": 13,
     "status": "ok",
     "timestamp": 1635808607358,
     "user": {
      "displayName": "Xinxue Gu",
      "photoUrl": "https://lh3.googleusercontent.com/a-/AOh14Gj9WkmtnU2brQk9QsbQh0F1_zHtCpJidb4IEmCXLQ=s64",
      "userId": "13207589719696204166"
     },
     "user_tz": 420
    },
    "id": "8c328e1b",
    "outputId": "aa6a1956-9fb1-4a11-9e18-65853426cf3a"
   },
   "outputs": [],
   "source": [
    "# experiences"
   ]
  },
  {
   "cell_type": "code",
   "execution_count": 39,
   "id": "c528188c",
   "metadata": {
    "ExecuteTime": {
     "end_time": "2022-02-05T08:22:06.956004Z",
     "start_time": "2022-02-05T08:22:06.954569Z"
    },
    "colab": {
     "base_uri": "https://localhost:8080/"
    },
    "executionInfo": {
     "elapsed": 12,
     "status": "ok",
     "timestamp": 1635808607358,
     "user": {
      "displayName": "Xinxue Gu",
      "photoUrl": "https://lh3.googleusercontent.com/a-/AOh14Gj9WkmtnU2brQk9QsbQh0F1_zHtCpJidb4IEmCXLQ=s64",
      "userId": "13207589719696204166"
     },
     "user_tz": 420
    },
    "id": "c528188c",
    "outputId": "7bd5f125-991b-45c1-c510-7c5b7c765712"
   },
   "outputs": [],
   "source": [
    "# %%time\n",
    "\n",
    "# effect_rec(user = 'kasper0017@gmail.com',experience = 'Mood-Boosting' )"
   ]
  },
  {
   "cell_type": "markdown",
   "id": "0ec307e9",
   "metadata": {
    "id": "0ec307e9"
   },
   "source": [
    "If the user specify a product ID:"
   ]
  },
  {
   "cell_type": "code",
   "execution_count": 40,
   "id": "3e6a7d38",
   "metadata": {
    "ExecuteTime": {
     "end_time": "2022-02-05T08:22:07.045373Z",
     "start_time": "2022-02-05T08:22:07.043915Z"
    },
    "colab": {
     "base_uri": "https://localhost:8080/"
    },
    "executionInfo": {
     "elapsed": 11,
     "status": "ok",
     "timestamp": 1635808607359,
     "user": {
      "displayName": "Xinxue Gu",
      "photoUrl": "https://lh3.googleusercontent.com/a-/AOh14Gj9WkmtnU2brQk9QsbQh0F1_zHtCpJidb4IEmCXLQ=s64",
      "userId": "13207589719696204166"
     },
     "user_tz": 420
    },
    "id": "3e6a7d38",
    "outputId": "c1b46baf-e5e4-4faf-e3a1-45032241af9f"
   },
   "outputs": [],
   "source": [
    "# %%time\n",
    "# effect_rec(user = 'kasper0017@gmail.com',experience = 'Relaxing',product = ['KWI5262020'])"
   ]
  },
  {
   "cell_type": "code",
   "execution_count": 41,
   "id": "24187e05",
   "metadata": {
    "ExecuteTime": {
     "end_time": "2022-02-05T08:22:07.140725Z",
     "start_time": "2022-02-05T08:22:07.139265Z"
    },
    "id": "24187e05"
   },
   "outputs": [],
   "source": [
    "## also display the product distance??"
   ]
  },
  {
   "cell_type": "code",
   "execution_count": null,
   "id": "KjSzETm4vt77",
   "metadata": {
    "id": "KjSzETm4vt77"
   },
   "outputs": [],
   "source": []
  },
  {
   "cell_type": "code",
   "execution_count": 42,
   "id": "7zp8GNevvt91",
   "metadata": {
    "ExecuteTime": {
     "end_time": "2022-02-05T08:22:07.230200Z",
     "start_time": "2022-02-05T08:22:07.228610Z"
    },
    "colab": {
     "base_uri": "https://localhost:8080/"
    },
    "executionInfo": {
     "elapsed": 350,
     "status": "ok",
     "timestamp": 1635808607700,
     "user": {
      "displayName": "Xinxue Gu",
      "photoUrl": "https://lh3.googleusercontent.com/a-/AOh14Gj9WkmtnU2brQk9QsbQh0F1_zHtCpJidb4IEmCXLQ=s64",
      "userId": "13207589719696204166"
     },
     "user_tz": 420
    },
    "id": "7zp8GNevvt91",
    "outputId": "8177117b-b568-4ebf-87c6-e8f581d751fd"
   },
   "outputs": [],
   "source": [
    "# df = effect_rec(user = 'kasper0017@gmail.com',experience = 'Relaxing' ).reset_index()\n",
    "\n",
    "# df[['Initial_Product_ID','Batch_ID']]\n",
    "# temp_dist_list = list()\n",
    "# for i in range(len(df)):\n",
    "#   p1 = df.loc[i,'Initial_Product_ID']\n",
    "#   p2 = df.loc[i,'Batch_ID']\n",
    "#   temp_dist = product_cos_dist_df.loc[p1,p2]\n",
    "#   temp_dist_list.append(temp_dist)\n",
    "\n",
    "# df['Product_distance'] = temp_dist_list\n",
    "# df['Product_similarity'] = 1-df['Product_distance']\n",
    "# df\n"
   ]
  },
  {
   "cell_type": "markdown",
   "id": "5bbe53ec",
   "metadata": {
    "id": "5bbe53ec"
   },
   "source": [
    "# Content Based"
   ]
  },
  {
   "cell_type": "markdown",
   "id": "e4f9f650",
   "metadata": {
    "id": "e4f9f650"
   },
   "source": [
    "## Item based"
   ]
  },
  {
   "cell_type": "markdown",
   "id": "71c3845f",
   "metadata": {
    "id": "71c3845f"
   },
   "source": [
    "### Search product: lab profile match"
   ]
  },
  {
   "cell_type": "markdown",
   "id": "af85a877",
   "metadata": {
    "id": "af85a877"
   },
   "source": [
    "Input: any user search for any product\n",
    "\n",
    "output: give recommendation based on product cosine distance\n",
    "\n",
    "(all user get the same result if they search the same product)"
   ]
  },
  {
   "cell_type": "code",
   "execution_count": 43,
   "id": "LKgQriavF24R",
   "metadata": {
    "ExecuteTime": {
     "end_time": "2022-02-05T08:22:07.319618Z",
     "start_time": "2022-02-05T08:22:07.318192Z"
    },
    "id": "LKgQriavF24R"
   },
   "outputs": [],
   "source": [
    "#cannabis_perc_dist_df，terpenes_perc_dist_df，cannabis_vol_dist_df，terpenes_vol_dist_df"
   ]
  },
  {
   "cell_type": "code",
   "execution_count": 44,
   "id": "M6NJSF0JCv5q",
   "metadata": {
    "ExecuteTime": {
     "end_time": "2022-02-05T08:22:07.410469Z",
     "start_time": "2022-02-05T08:22:07.409094Z"
    },
    "executionInfo": {
     "elapsed": 413,
     "status": "ok",
     "timestamp": 1636750743922,
     "user": {
      "displayName": "Xinxue Gu",
      "photoUrl": "https://lh3.googleusercontent.com/a-/AOh14Gj9WkmtnU2brQk9QsbQh0F1_zHtCpJidb4IEmCXLQ=s64",
      "userId": "13207589719696204166"
     },
     "user_tz": 480
    },
    "id": "M6NJSF0JCv5q"
   },
   "outputs": [],
   "source": [
    "#terpenes_cannabi_vol_dist_df"
   ]
  },
  {
   "cell_type": "code",
   "execution_count": 45,
   "id": "rXQKCVcJC4Xa",
   "metadata": {
    "ExecuteTime": {
     "end_time": "2022-02-05T08:22:07.498781Z",
     "start_time": "2022-02-05T08:22:07.497547Z"
    },
    "colab": {
     "base_uri": "https://localhost:8080/",
     "height": 473
    },
    "executionInfo": {
     "elapsed": 315,
     "status": "ok",
     "timestamp": 1636702067216,
     "user": {
      "displayName": "Xinxue Gu",
      "photoUrl": "https://lh3.googleusercontent.com/a-/AOh14Gj9WkmtnU2brQk9QsbQh0F1_zHtCpJidb4IEmCXLQ=s64",
      "userId": "13207589719696204166"
     },
     "user_tz": 480
    },
    "id": "rXQKCVcJC4Xa",
    "outputId": "9870de79-a839-41eb-dbcc-9d63ae995adf"
   },
   "outputs": [],
   "source": [
    "#terpenes_cannabi_vol_dist_df.T"
   ]
  },
  {
   "cell_type": "code",
   "execution_count": 46,
   "id": "l0KLX3nyC_vc",
   "metadata": {
    "ExecuteTime": {
     "end_time": "2022-02-05T08:22:07.589877Z",
     "start_time": "2022-02-05T08:22:07.588661Z"
    },
    "colab": {
     "base_uri": "https://localhost:8080/",
     "height": 473
    },
    "executionInfo": {
     "elapsed": 2263,
     "status": "ok",
     "timestamp": 1636702232603,
     "user": {
      "displayName": "Xinxue Gu",
      "photoUrl": "https://lh3.googleusercontent.com/a-/AOh14Gj9WkmtnU2brQk9QsbQh0F1_zHtCpJidb4IEmCXLQ=s64",
      "userId": "13207589719696204166"
     },
     "user_tz": 480
    },
    "id": "l0KLX3nyC_vc",
    "outputId": "112a3edf-404e-4c0d-e288-8885b2126442"
   },
   "outputs": [],
   "source": [
    "# terpenes_cannabi_vol_dist_df[terpenes_cannabi_vol_dist_df.isnull()] = terpenes_cannabi_vol_dist_df.T\n",
    "# terpenes_cannabi_vol_dist_df"
   ]
  },
  {
   "cell_type": "code",
   "execution_count": null,
   "id": "_IELRMEqsGDN",
   "metadata": {
    "ExecuteTime": {
     "end_time": "2022-01-04T12:28:30.901682Z",
     "start_time": "2022-01-04T12:28:30.900473Z"
    },
    "executionInfo": {
     "elapsed": 410,
     "status": "ok",
     "timestamp": 1636705728566,
     "user": {
      "displayName": "Xinxue Gu",
      "photoUrl": "https://lh3.googleusercontent.com/a-/AOh14Gj9WkmtnU2brQk9QsbQh0F1_zHtCpJidb4IEmCXLQ=s64",
      "userId": "13207589719696204166"
     },
     "user_tz": 480
    },
    "id": "_IELRMEqsGDN"
   },
   "outputs": [],
   "source": []
  },
  {
   "cell_type": "code",
   "execution_count": 47,
   "id": "i8B71j00F7Lu",
   "metadata": {
    "ExecuteTime": {
     "end_time": "2022-02-05T08:22:07.679971Z",
     "start_time": "2022-02-05T08:22:07.677251Z"
    },
    "executionInfo": {
     "elapsed": 350,
     "status": "ok",
     "timestamp": 1636702242238,
     "user": {
      "displayName": "Xinxue Gu",
      "photoUrl": "https://lh3.googleusercontent.com/a-/AOh14Gj9WkmtnU2brQk9QsbQh0F1_zHtCpJidb4IEmCXLQ=s64",
      "userId": "13207589719696204166"
     },
     "user_tz": 480
    },
    "id": "i8B71j00F7Lu"
   },
   "outputs": [],
   "source": [
    "\n",
    "def matrix_to_df(df):\n",
    "    temp_dict = dict()\n",
    "    combined = pd.DataFrame(columns = ['initial_product','product_ID','product_cos_distance'])\n",
    "    n = 0\n",
    "    for i in tqdm(df.columns):\n",
    "      \n",
    "      temp_dict[i] = df.loc[:,i].sort_values(ascending = True)\n",
    "\n",
    "      result = pd.DataFrame(columns = ['initial_product','product_ID','product_cos_distance'])\n",
    "      result['product_ID'] = temp_dict[i].index\n",
    "      result['initial_product']  = i\n",
    "      result['product_cos_distance'] = temp_dict[i].values\n",
    "      result['product_cos_similarity'] = 1-temp_dict[i].values\n",
    "      if n !=0:\n",
    "\n",
    "        combined = pd.concat([combined,result])\n",
    "      else:\n",
    "        combined = result\n",
    "      n+=1\n",
    "\n",
    "    return combined"
   ]
  },
  {
   "cell_type": "code",
   "execution_count": 48,
   "id": "rgGTruamHHjT",
   "metadata": {
    "ExecuteTime": {
     "end_time": "2022-02-05T10:11:43.254029Z",
     "start_time": "2022-02-05T08:22:08.482928Z"
    },
    "colab": {
     "base_uri": "https://localhost:8080/"
    },
    "executionInfo": {
     "elapsed": 600710,
     "status": "ok",
     "timestamp": 1636702848599,
     "user": {
      "displayName": "Xinxue Gu",
      "photoUrl": "https://lh3.googleusercontent.com/a-/AOh14Gj9WkmtnU2brQk9QsbQh0F1_zHtCpJidb4IEmCXLQ=s64",
      "userId": "13207589719696204166"
     },
     "user_tz": 480
    },
    "id": "rgGTruamHHjT",
    "outputId": "06a922f3-5b66-4981-f8f4-7df2104a1b09"
   },
   "outputs": [
    {
     "name": "stderr",
     "output_type": "stream",
     "text": [
      "100%|███████████████████████████████████████| 4000/4000 [06:49<00:00,  9.76it/s]\n",
      "100%|███████████████████████████████████████| 4000/4000 [06:47<00:00,  9.83it/s]\n",
      "100%|███████████████████████████████████████| 4000/4000 [16:47<00:00,  3.97it/s]\n",
      "100%|███████████████████████████████████████| 4000/4000 [13:48<00:00,  4.83it/s]\n",
      "100%|█████████████████████████████████████| 4000/4000 [1:05:21<00:00,  1.02it/s]"
     ]
    },
    {
     "name": "stdout",
     "output_type": "stream",
     "text": [
      "CPU times: user 22min 32s, sys: 11min 27s, total: 33min 59s\n",
      "Wall time: 1h 49min 34s\n"
     ]
    },
    {
     "name": "stderr",
     "output_type": "stream",
     "text": [
      "\n"
     ]
    }
   ],
   "source": [
    "%%time\n",
    "\n",
    "cannabis_perc = matrix_to_df(cannabis_perc_dist_df)\n",
    "terpenes_perc = matrix_to_df(terpenes_perc_dist_df)\n",
    "cannabis_vol = matrix_to_df(cannabis_vol_dist_df)\n",
    "terpenes_vol = matrix_to_df(terpenes_vol_dist_df)\n",
    "terpenes_cananbi_vol = matrix_to_df(terpenes_cannabi_vol_dist_df)"
   ]
  },
  {
   "cell_type": "markdown",
   "id": "722eb63d",
   "metadata": {
    "executionInfo": {
     "elapsed": 60036,
     "status": "ok",
     "timestamp": 1636701107945,
     "user": {
      "displayName": "Xinxue Gu",
      "photoUrl": "https://lh3.googleusercontent.com/a-/AOh14Gj9WkmtnU2brQk9QsbQh0F1_zHtCpJidb4IEmCXLQ=s64",
      "userId": "13207589719696204166"
     },
     "user_tz": 480
    },
    "id": "g4MAl8Fq5ER8"
   },
   "source": [
    "Need to create a function to automaticlly calculate the pairwise weighted similarity for the new products. "
   ]
  },
  {
   "cell_type": "code",
   "execution_count": null,
   "id": "ut1HEO6JZ2Yr",
   "metadata": {
    "ExecuteTime": {
     "end_time": "2022-01-06T13:05:09.762818Z",
     "start_time": "2022-01-06T13:05:09.762813Z"
    },
    "executionInfo": {
     "elapsed": 74652,
     "status": "ok",
     "timestamp": 1636702923236,
     "user": {
      "displayName": "Xinxue Gu",
      "photoUrl": "https://lh3.googleusercontent.com/a-/AOh14Gj9WkmtnU2brQk9QsbQh0F1_zHtCpJidb4IEmCXLQ=s64",
      "userId": "13207589719696204166"
     },
     "user_tz": 480
    },
    "id": "ut1HEO6JZ2Yr"
   },
   "outputs": [],
   "source": [
    "# terpenes_perc.to_csv('terpenes_perc_product_cosine_distance.csv')\n",
    "# cannabis_perc.to_csv('cannabis_perc_product_cosine_distance.csv')\n",
    "# terpenes_vol.to_csv('terpenes_vol_product_cosine_distance.csv')\n",
    "# cannabis_vol.to_csv('cannabis_vol_product_cosine_distance.csv')\n",
    "# terpenes_cananbi_vol.to_csv('terpenes_cannbi_vol_product_euc_distance.csv')"
   ]
  },
  {
   "cell_type": "code",
   "execution_count": null,
   "id": "fgOpqAwIHrBI",
   "metadata": {
    "ExecuteTime": {
     "end_time": "2022-01-06T13:05:09.763189Z",
     "start_time": "2022-01-06T13:05:09.763185Z"
    },
    "executionInfo": {
     "elapsed": 4,
     "status": "ok",
     "timestamp": 1636699423809,
     "user": {
      "displayName": "Xinxue Gu",
      "photoUrl": "https://lh3.googleusercontent.com/a-/AOh14Gj9WkmtnU2brQk9QsbQh0F1_zHtCpJidb4IEmCXLQ=s64",
      "userId": "13207589719696204166"
     },
     "user_tz": 480
    },
    "id": "fgOpqAwIHrBI"
   },
   "outputs": [],
   "source": [
    "\n",
    "# terpenes_perc.to_feather('terpenes_perc_product_cosine_distance.feather',compression ='zstd')\n",
    "# cannabis_perc.to_feather('cannabis_perc_product_cosine_distance.feather',compression ='zstd')\n",
    "# terpenes_vol.to_feather('terpenes_vol_product_cosine_distance.feather',compression ='zstdterpenes_cannbi_vol')\n",
    "# cannabis_vol.to_feather('cannabis_vol_product_cosine_distance.feather',compression ='zstd')\n",
    "# terpenes_cannabi_vol.to_feather('terpenes_cannbi_vol_product_euc_distance.feather')"
   ]
  },
  {
   "cell_type": "code",
   "execution_count": 49,
   "id": "At2X74zWZrUp",
   "metadata": {
    "ExecuteTime": {
     "end_time": "2022-02-05T10:12:03.641663Z",
     "start_time": "2022-02-05T10:11:43.348049Z"
    },
    "colab": {
     "base_uri": "https://localhost:8080/"
    },
    "executionInfo": {
     "elapsed": 74201,
     "status": "ok",
     "timestamp": 1636750824003,
     "user": {
      "displayName": "Xinxue Gu",
      "photoUrl": "https://lh3.googleusercontent.com/a-/AOh14Gj9WkmtnU2brQk9QsbQh0F1_zHtCpJidb4IEmCXLQ=s64",
      "userId": "13207589719696204166"
     },
     "user_tz": 480
    },
    "id": "At2X74zWZrUp",
    "outputId": "4b9b1750-66d7-4293-bb83-0f15fa978a23"
   },
   "outputs": [
    {
     "name": "stdout",
     "output_type": "stream",
     "text": [
      "CPU times: user 17.6 s, sys: 2.05 s, total: 19.6 s\n",
      "Wall time: 20.3 s\n"
     ]
    }
   ],
   "source": [
    "%%time\n",
    "terpenes_perc = pd.read_csv('terpenes_perc_product_cosine_distance.csv')\n",
    "cannabis_perc= pd.read_csv('cannabis_perc_product_cosine_distance.csv')\n",
    "terpenes_vol= pd.read_csv('terpenes_vol_product_cosine_distance.csv')\n",
    "cannabis_vol= pd.read_csv('cannabis_vol_product_cosine_distance.csv')\n",
    "terpenes_cannabi_vol= pd.read_csv('terpenes_cannbi_vol_product_euc_distance.csv')"
   ]
  },
  {
   "cell_type": "code",
   "execution_count": 50,
   "id": "YUC-fhaqztKZ",
   "metadata": {
    "ExecuteTime": {
     "end_time": "2022-02-05T10:12:03.743175Z",
     "start_time": "2022-02-05T10:12:03.738793Z"
    },
    "colab": {
     "base_uri": "https://localhost:8080/",
     "height": 419
    },
    "executionInfo": {
     "elapsed": 825,
     "status": "ok",
     "timestamp": 1636520243363,
     "user": {
      "displayName": "Xinxue Gu",
      "photoUrl": "https://lh3.googleusercontent.com/a-/AOh14Gj9WkmtnU2brQk9QsbQh0F1_zHtCpJidb4IEmCXLQ=s64",
      "userId": "13207589719696204166"
     },
     "user_tz": 480
    },
    "id": "YUC-fhaqztKZ",
    "outputId": "6a0eb127-e809-42d0-bc8c-c25046f69879"
   },
   "outputs": [
    {
     "data": {
      "text/html": [
       "<div>\n",
       "<style scoped>\n",
       "    .dataframe tbody tr th:only-of-type {\n",
       "        vertical-align: middle;\n",
       "    }\n",
       "\n",
       "    .dataframe tbody tr th {\n",
       "        vertical-align: top;\n",
       "    }\n",
       "\n",
       "    .dataframe thead th {\n",
       "        text-align: right;\n",
       "    }\n",
       "</style>\n",
       "<table border=\"1\" class=\"dataframe\">\n",
       "  <thead>\n",
       "    <tr style=\"text-align: right;\">\n",
       "      <th></th>\n",
       "      <th>Unnamed: 0</th>\n",
       "      <th>initial_product</th>\n",
       "      <th>product_ID</th>\n",
       "      <th>product_cos_distance</th>\n",
       "      <th>product_cos_similarity</th>\n",
       "    </tr>\n",
       "  </thead>\n",
       "  <tbody>\n",
       "    <tr>\n",
       "      <th>0</th>\n",
       "      <td>0</td>\n",
       "      <td>GHFGG40930</td>\n",
       "      <td>GHFGG40930</td>\n",
       "      <td>0.000000</td>\n",
       "      <td>1.000000</td>\n",
       "    </tr>\n",
       "    <tr>\n",
       "      <th>1</th>\n",
       "      <td>1</td>\n",
       "      <td>GHFGG40930</td>\n",
       "      <td>FFLWLZY0825</td>\n",
       "      <td>0.000804</td>\n",
       "      <td>0.999196</td>\n",
       "    </tr>\n",
       "    <tr>\n",
       "      <th>2</th>\n",
       "      <td>2</td>\n",
       "      <td>GHFGG40930</td>\n",
       "      <td>FFTSR0909MP</td>\n",
       "      <td>0.003084</td>\n",
       "      <td>0.996916</td>\n",
       "    </tr>\n",
       "    <tr>\n",
       "      <th>3</th>\n",
       "      <td>3</td>\n",
       "      <td>GHFGG40930</td>\n",
       "      <td>GHFGG400805SMOZ</td>\n",
       "      <td>0.003645</td>\n",
       "      <td>0.996355</td>\n",
       "    </tr>\n",
       "    <tr>\n",
       "      <th>4</th>\n",
       "      <td>4</td>\n",
       "      <td>GHFGG40930</td>\n",
       "      <td>GHFGG40520</td>\n",
       "      <td>0.004350</td>\n",
       "      <td>0.995650</td>\n",
       "    </tr>\n",
       "    <tr>\n",
       "      <th>...</th>\n",
       "      <td>...</td>\n",
       "      <td>...</td>\n",
       "      <td>...</td>\n",
       "      <td>...</td>\n",
       "      <td>...</td>\n",
       "    </tr>\n",
       "    <tr>\n",
       "      <th>13286020</th>\n",
       "      <td>3640</td>\n",
       "      <td>R1B11E08C</td>\n",
       "      <td>210000338</td>\n",
       "      <td>0.799625</td>\n",
       "      <td>0.200375</td>\n",
       "    </tr>\n",
       "    <tr>\n",
       "      <th>13286021</th>\n",
       "      <td>3641</td>\n",
       "      <td>R1B11E08C</td>\n",
       "      <td>5030220-3</td>\n",
       "      <td>0.831745</td>\n",
       "      <td>0.168255</td>\n",
       "    </tr>\n",
       "    <tr>\n",
       "      <th>13286022</th>\n",
       "      <td>3642</td>\n",
       "      <td>R1B11E08C</td>\n",
       "      <td>2000065</td>\n",
       "      <td>0.860171</td>\n",
       "      <td>0.139829</td>\n",
       "    </tr>\n",
       "    <tr>\n",
       "      <th>13286023</th>\n",
       "      <td>3643</td>\n",
       "      <td>R1B11E08C</td>\n",
       "      <td>S100319-2</td>\n",
       "      <td>0.867707</td>\n",
       "      <td>0.132293</td>\n",
       "    </tr>\n",
       "    <tr>\n",
       "      <th>13286024</th>\n",
       "      <td>3644</td>\n",
       "      <td>R1B11E08C</td>\n",
       "      <td>RLR121</td>\n",
       "      <td>0.877060</td>\n",
       "      <td>0.122940</td>\n",
       "    </tr>\n",
       "  </tbody>\n",
       "</table>\n",
       "<p>13286025 rows × 5 columns</p>\n",
       "</div>"
      ],
      "text/plain": [
       "          Unnamed: 0 initial_product       product_ID  product_cos_distance  \\\n",
       "0                  0      GHFGG40930       GHFGG40930              0.000000   \n",
       "1                  1      GHFGG40930      FFLWLZY0825              0.000804   \n",
       "2                  2      GHFGG40930      FFTSR0909MP              0.003084   \n",
       "3                  3      GHFGG40930  GHFGG400805SMOZ              0.003645   \n",
       "4                  4      GHFGG40930       GHFGG40520              0.004350   \n",
       "...              ...             ...              ...                   ...   \n",
       "13286020        3640       R1B11E08C        210000338              0.799625   \n",
       "13286021        3641       R1B11E08C        5030220-3              0.831745   \n",
       "13286022        3642       R1B11E08C          2000065              0.860171   \n",
       "13286023        3643       R1B11E08C        S100319-2              0.867707   \n",
       "13286024        3644       R1B11E08C           RLR121              0.877060   \n",
       "\n",
       "          product_cos_similarity  \n",
       "0                       1.000000  \n",
       "1                       0.999196  \n",
       "2                       0.996916  \n",
       "3                       0.996355  \n",
       "4                       0.995650  \n",
       "...                          ...  \n",
       "13286020                0.200375  \n",
       "13286021                0.168255  \n",
       "13286022                0.139829  \n",
       "13286023                0.132293  \n",
       "13286024                0.122940  \n",
       "\n",
       "[13286025 rows x 5 columns]"
      ]
     },
     "execution_count": 50,
     "metadata": {},
     "output_type": "execute_result"
    }
   ],
   "source": [
    "terpenes_perc"
   ]
  },
  {
   "cell_type": "code",
   "execution_count": 51,
   "id": "c6dRWWJweCIe",
   "metadata": {
    "ExecuteTime": {
     "end_time": "2022-02-05T10:12:03.836218Z",
     "start_time": "2022-02-05T10:12:03.834761Z"
    },
    "executionInfo": {
     "elapsed": 321,
     "status": "ok",
     "timestamp": 1636701500245,
     "user": {
      "displayName": "Xinxue Gu",
      "photoUrl": "https://lh3.googleusercontent.com/a-/AOh14Gj9WkmtnU2brQk9QsbQh0F1_zHtCpJidb4IEmCXLQ=s64",
      "userId": "13207589719696204166"
     },
     "user_tz": 480
    },
    "id": "c6dRWWJweCIe"
   },
   "outputs": [],
   "source": [
    "# terpenes_perc.drop('Unnamed: 0', inplace=True,axis = 1)\n",
    "# cannabis_perc.drop('Unnamed: 0', inplace=True,axis = 1)\n",
    "# terpenes_vol.drop('Unnamed: 0', inplace=True,axis = 1)\n",
    "# cannabis_vol.drop('Unnamed: 0', inplace=True,axis = 1)\n",
    "# terpenes_cannabi_vol.drop('Unnamed: 0', inplace=True,axis = 1)"
   ]
  },
  {
   "cell_type": "code",
   "execution_count": null,
   "id": "SkTnqMHbZ-Cl",
   "metadata": {
    "id": "SkTnqMHbZ-Cl"
   },
   "outputs": [],
   "source": []
  },
  {
   "cell_type": "code",
   "execution_count": 52,
   "id": "wj6-2IbQHneH",
   "metadata": {
    "ExecuteTime": {
     "end_time": "2022-02-05T10:12:07.888973Z",
     "start_time": "2022-02-05T10:12:03.928011Z"
    },
    "executionInfo": {
     "elapsed": 11214,
     "status": "ok",
     "timestamp": 1636750836146,
     "user": {
      "displayName": "Xinxue Gu",
      "photoUrl": "https://lh3.googleusercontent.com/a-/AOh14Gj9WkmtnU2brQk9QsbQh0F1_zHtCpJidb4IEmCXLQ=s64",
      "userId": "13207589719696204166"
     },
     "user_tz": 480
    },
    "id": "wj6-2IbQHneH"
   },
   "outputs": [],
   "source": [
    "merge_temp1 = cannabis_perc.merge(terpenes_perc,left_on = ['initial_product','product_ID'],right_on=['initial_product','product_ID'],\n",
    "                   suffixes=('_cannabis_perc',None ))\n"
   ]
  },
  {
   "cell_type": "code",
   "execution_count": 53,
   "id": "TaWMnMTZJ-xC",
   "metadata": {
    "ExecuteTime": {
     "end_time": "2022-02-05T10:12:11.185551Z",
     "start_time": "2022-02-05T10:12:07.982515Z"
    },
    "executionInfo": {
     "elapsed": 10408,
     "status": "ok",
     "timestamp": 1636750846547,
     "user": {
      "displayName": "Xinxue Gu",
      "photoUrl": "https://lh3.googleusercontent.com/a-/AOh14Gj9WkmtnU2brQk9QsbQh0F1_zHtCpJidb4IEmCXLQ=s64",
      "userId": "13207589719696204166"
     },
     "user_tz": 480
    },
    "id": "TaWMnMTZJ-xC"
   },
   "outputs": [],
   "source": [
    "merge_temp2 = merge_temp1.merge(cannabis_vol,left_on = ['initial_product','product_ID'],right_on=['initial_product','product_ID'],\n",
    "                   suffixes = ('_terpenes_perc',None ))"
   ]
  },
  {
   "cell_type": "code",
   "execution_count": 54,
   "id": "SQ96Vi8-LN3u",
   "metadata": {
    "ExecuteTime": {
     "end_time": "2022-02-05T10:12:14.938880Z",
     "start_time": "2022-02-05T10:12:11.278133Z"
    },
    "executionInfo": {
     "elapsed": 11385,
     "status": "ok",
     "timestamp": 1636750857918,
     "user": {
      "displayName": "Xinxue Gu",
      "photoUrl": "https://lh3.googleusercontent.com/a-/AOh14Gj9WkmtnU2brQk9QsbQh0F1_zHtCpJidb4IEmCXLQ=s64",
      "userId": "13207589719696204166"
     },
     "user_tz": 480
    },
    "id": "SQ96Vi8-LN3u"
   },
   "outputs": [],
   "source": [
    "merge_temp3 = merge_temp2.merge(terpenes_vol,left_on = ['initial_product','product_ID'],right_on=['initial_product','product_ID'],\n",
    "                   suffixes = ('_cannabis_vol', None))"
   ]
  },
  {
   "cell_type": "code",
   "execution_count": 55,
   "id": "OkmxCmy4ZlLa",
   "metadata": {
    "ExecuteTime": {
     "end_time": "2022-02-05T10:12:18.820493Z",
     "start_time": "2022-02-05T10:12:15.034216Z"
    },
    "executionInfo": {
     "elapsed": 11961,
     "status": "ok",
     "timestamp": 1636750869874,
     "user": {
      "displayName": "Xinxue Gu",
      "photoUrl": "https://lh3.googleusercontent.com/a-/AOh14Gj9WkmtnU2brQk9QsbQh0F1_zHtCpJidb4IEmCXLQ=s64",
      "userId": "13207589719696204166"
     },
     "user_tz": 480
    },
    "id": "OkmxCmy4ZlLa"
   },
   "outputs": [],
   "source": [
    "merged_similarity = merge_temp3.merge(terpenes_cannabi_vol,left_on = ['initial_product','product_ID'],right_on=['initial_product','product_ID'],\n",
    "                   suffixes = ('_terpenes_vol', '_terpenes_cannabis_vol'))"
   ]
  },
  {
   "cell_type": "code",
   "execution_count": 56,
   "id": "nxat_kU3cZy4",
   "metadata": {
    "ExecuteTime": {
     "end_time": "2022-02-05T10:12:19.138558Z",
     "start_time": "2022-02-05T10:12:18.923837Z"
    },
    "executionInfo": {
     "elapsed": 16,
     "status": "ok",
     "timestamp": 1636750869875,
     "user": {
      "displayName": "Xinxue Gu",
      "photoUrl": "https://lh3.googleusercontent.com/a-/AOh14Gj9WkmtnU2brQk9QsbQh0F1_zHtCpJidb4IEmCXLQ=s64",
      "userId": "13207589719696204166"
     },
     "user_tz": 480
    },
    "id": "nxat_kU3cZy4"
   },
   "outputs": [],
   "source": [
    "del terpenes_perc\n",
    "del cannabis_perc\n",
    "del terpenes_vol\n",
    "del cannabis_vol\n",
    "del terpenes_cannabi_vol\n"
   ]
  },
  {
   "cell_type": "code",
   "execution_count": 57,
   "id": "PgO7DhH0LlXr",
   "metadata": {
    "ExecuteTime": {
     "end_time": "2022-02-05T10:12:19.238479Z",
     "start_time": "2022-02-05T10:12:19.230255Z"
    },
    "colab": {
     "base_uri": "https://localhost:8080/",
     "height": 456
    },
    "executionInfo": {
     "elapsed": 791,
     "status": "ok",
     "timestamp": 1636708854465,
     "user": {
      "displayName": "Xinxue Gu",
      "photoUrl": "https://lh3.googleusercontent.com/a-/AOh14Gj9WkmtnU2brQk9QsbQh0F1_zHtCpJidb4IEmCXLQ=s64",
      "userId": "13207589719696204166"
     },
     "user_tz": 480
    },
    "id": "PgO7DhH0LlXr",
    "outputId": "d78129e8-51a8-40d5-de59-9ca7e6c1d448"
   },
   "outputs": [
    {
     "data": {
      "text/html": [
       "<div>\n",
       "<style scoped>\n",
       "    .dataframe tbody tr th:only-of-type {\n",
       "        vertical-align: middle;\n",
       "    }\n",
       "\n",
       "    .dataframe tbody tr th {\n",
       "        vertical-align: top;\n",
       "    }\n",
       "\n",
       "    .dataframe thead th {\n",
       "        text-align: right;\n",
       "    }\n",
       "</style>\n",
       "<table border=\"1\" class=\"dataframe\">\n",
       "  <thead>\n",
       "    <tr style=\"text-align: right;\">\n",
       "      <th></th>\n",
       "      <th>Unnamed: 0_cannabis_perc</th>\n",
       "      <th>initial_product</th>\n",
       "      <th>product_ID</th>\n",
       "      <th>product_cos_distance_cannabis_perc</th>\n",
       "      <th>product_cos_similarity_cannabis_perc</th>\n",
       "      <th>Unnamed: 0_terpenes_perc</th>\n",
       "      <th>product_cos_distance_terpenes_perc</th>\n",
       "      <th>product_cos_similarity_terpenes_perc</th>\n",
       "      <th>Unnamed: 0_cannabis_vol</th>\n",
       "      <th>product_cos_distance_cannabis_vol</th>\n",
       "      <th>product_cos_similarity_cannabis_vol</th>\n",
       "      <th>Unnamed: 0_terpenes_vol</th>\n",
       "      <th>product_cos_distance_terpenes_vol</th>\n",
       "      <th>product_cos_similarity_terpenes_vol</th>\n",
       "      <th>Unnamed: 0_terpenes_cannabis_vol</th>\n",
       "      <th>product_cos_distance_terpenes_cannabis_vol</th>\n",
       "      <th>product_cos_similarity_terpenes_cannabis_vol</th>\n",
       "    </tr>\n",
       "  </thead>\n",
       "  <tbody>\n",
       "    <tr>\n",
       "      <th>0</th>\n",
       "      <td>0</td>\n",
       "      <td>GHFGG40930</td>\n",
       "      <td>GHFGG40930</td>\n",
       "      <td>0.000000e+00</td>\n",
       "      <td>1.000000</td>\n",
       "      <td>0</td>\n",
       "      <td>0.000000</td>\n",
       "      <td>1.000000</td>\n",
       "      <td>0</td>\n",
       "      <td>0.000000e+00</td>\n",
       "      <td>1.000000</td>\n",
       "      <td>0</td>\n",
       "      <td>0.000000</td>\n",
       "      <td>1.000000</td>\n",
       "      <td>0</td>\n",
       "      <td>0.000000</td>\n",
       "      <td>1.000000</td>\n",
       "    </tr>\n",
       "    <tr>\n",
       "      <th>1</th>\n",
       "      <td>1</td>\n",
       "      <td>GHFGG40930</td>\n",
       "      <td>FFTSR0805</td>\n",
       "      <td>9.007890e-07</td>\n",
       "      <td>0.999999</td>\n",
       "      <td>91</td>\n",
       "      <td>0.015414</td>\n",
       "      <td>0.984586</td>\n",
       "      <td>1</td>\n",
       "      <td>4.396866e-07</td>\n",
       "      <td>1.000000</td>\n",
       "      <td>76</td>\n",
       "      <td>0.003400</td>\n",
       "      <td>0.996600</td>\n",
       "      <td>1489</td>\n",
       "      <td>0.000054</td>\n",
       "      <td>0.999946</td>\n",
       "    </tr>\n",
       "    <tr>\n",
       "      <th>2</th>\n",
       "      <td>2</td>\n",
       "      <td>GHFGG40930</td>\n",
       "      <td>GHFFAT0222PR</td>\n",
       "      <td>1.396357e-06</td>\n",
       "      <td>0.999999</td>\n",
       "      <td>267</td>\n",
       "      <td>0.029384</td>\n",
       "      <td>0.970616</td>\n",
       "      <td>2</td>\n",
       "      <td>7.071989e-07</td>\n",
       "      <td>0.999999</td>\n",
       "      <td>244</td>\n",
       "      <td>0.006485</td>\n",
       "      <td>0.993515</td>\n",
       "      <td>2597</td>\n",
       "      <td>0.000240</td>\n",
       "      <td>0.999760</td>\n",
       "    </tr>\n",
       "    <tr>\n",
       "      <th>3</th>\n",
       "      <td>3</td>\n",
       "      <td>GHFGG40930</td>\n",
       "      <td>GHFGG40930GSMB</td>\n",
       "      <td>3.001915e-06</td>\n",
       "      <td>0.999997</td>\n",
       "      <td>21</td>\n",
       "      <td>0.007701</td>\n",
       "      <td>0.992299</td>\n",
       "      <td>5</td>\n",
       "      <td>2.184890e-06</td>\n",
       "      <td>0.999998</td>\n",
       "      <td>27</td>\n",
       "      <td>0.001995</td>\n",
       "      <td>0.998005</td>\n",
       "      <td>910</td>\n",
       "      <td>0.000018</td>\n",
       "      <td>0.999982</td>\n",
       "    </tr>\n",
       "    <tr>\n",
       "      <th>4</th>\n",
       "      <td>4</td>\n",
       "      <td>GHFGG40930</td>\n",
       "      <td>210000867</td>\n",
       "      <td>3.363253e-06</td>\n",
       "      <td>0.999997</td>\n",
       "      <td>1221</td>\n",
       "      <td>0.196370</td>\n",
       "      <td>0.803630</td>\n",
       "      <td>7</td>\n",
       "      <td>2.477761e-06</td>\n",
       "      <td>0.999998</td>\n",
       "      <td>1207</td>\n",
       "      <td>0.038274</td>\n",
       "      <td>0.961726</td>\n",
       "      <td>1718</td>\n",
       "      <td>0.000077</td>\n",
       "      <td>0.999923</td>\n",
       "    </tr>\n",
       "    <tr>\n",
       "      <th>...</th>\n",
       "      <td>...</td>\n",
       "      <td>...</td>\n",
       "      <td>...</td>\n",
       "      <td>...</td>\n",
       "      <td>...</td>\n",
       "      <td>...</td>\n",
       "      <td>...</td>\n",
       "      <td>...</td>\n",
       "      <td>...</td>\n",
       "      <td>...</td>\n",
       "      <td>...</td>\n",
       "      <td>...</td>\n",
       "      <td>...</td>\n",
       "      <td>...</td>\n",
       "      <td>...</td>\n",
       "      <td>...</td>\n",
       "      <td>...</td>\n",
       "    </tr>\n",
       "    <tr>\n",
       "      <th>13259543</th>\n",
       "      <td>3640</td>\n",
       "      <td>R1B11E08C</td>\n",
       "      <td>GHFJF0430</td>\n",
       "      <td>9.552060e-01</td>\n",
       "      <td>0.044794</td>\n",
       "      <td>3251</td>\n",
       "      <td>0.547998</td>\n",
       "      <td>0.452002</td>\n",
       "      <td>3634</td>\n",
       "      <td>4.228792e-01</td>\n",
       "      <td>0.577121</td>\n",
       "      <td>3307</td>\n",
       "      <td>0.112499</td>\n",
       "      <td>0.887501</td>\n",
       "      <td>980</td>\n",
       "      <td>0.000028</td>\n",
       "      <td>0.999972</td>\n",
       "    </tr>\n",
       "    <tr>\n",
       "      <th>13259544</th>\n",
       "      <td>3641</td>\n",
       "      <td>R1B11E08C</td>\n",
       "      <td>S102819-1</td>\n",
       "      <td>9.555133e-01</td>\n",
       "      <td>0.044487</td>\n",
       "      <td>3590</td>\n",
       "      <td>0.681067</td>\n",
       "      <td>0.318933</td>\n",
       "      <td>3643</td>\n",
       "      <td>4.418304e-01</td>\n",
       "      <td>0.558170</td>\n",
       "      <td>3628</td>\n",
       "      <td>0.177955</td>\n",
       "      <td>0.822045</td>\n",
       "      <td>728</td>\n",
       "      <td>0.000014</td>\n",
       "      <td>0.999986</td>\n",
       "    </tr>\n",
       "    <tr>\n",
       "      <th>13259545</th>\n",
       "      <td>3642</td>\n",
       "      <td>R1B11E08C</td>\n",
       "      <td>S060120-1</td>\n",
       "      <td>9.562469e-01</td>\n",
       "      <td>0.043753</td>\n",
       "      <td>3400</td>\n",
       "      <td>0.589819</td>\n",
       "      <td>0.410181</td>\n",
       "      <td>3635</td>\n",
       "      <td>4.231642e-01</td>\n",
       "      <td>0.576836</td>\n",
       "      <td>3377</td>\n",
       "      <td>0.119327</td>\n",
       "      <td>0.880673</td>\n",
       "      <td>2097</td>\n",
       "      <td>0.000148</td>\n",
       "      <td>0.999852</td>\n",
       "    </tr>\n",
       "    <tr>\n",
       "      <th>13259546</th>\n",
       "      <td>3643</td>\n",
       "      <td>R1B11E08C</td>\n",
       "      <td>050321-4</td>\n",
       "      <td>9.569074e-01</td>\n",
       "      <td>0.043093</td>\n",
       "      <td>3484</td>\n",
       "      <td>0.618842</td>\n",
       "      <td>0.381158</td>\n",
       "      <td>3641</td>\n",
       "      <td>4.395438e-01</td>\n",
       "      <td>0.560456</td>\n",
       "      <td>3478</td>\n",
       "      <td>0.131896</td>\n",
       "      <td>0.868104</td>\n",
       "      <td>466</td>\n",
       "      <td>0.000005</td>\n",
       "      <td>0.999995</td>\n",
       "    </tr>\n",
       "    <tr>\n",
       "      <th>13259547</th>\n",
       "      <td>3644</td>\n",
       "      <td>R1B11E08C</td>\n",
       "      <td>GHFJF0910SMB</td>\n",
       "      <td>9.910980e-01</td>\n",
       "      <td>0.008902</td>\n",
       "      <td>3110</td>\n",
       "      <td>0.515883</td>\n",
       "      <td>0.484117</td>\n",
       "      <td>3644</td>\n",
       "      <td>4.533447e-01</td>\n",
       "      <td>0.546655</td>\n",
       "      <td>3051</td>\n",
       "      <td>0.095319</td>\n",
       "      <td>0.904681</td>\n",
       "      <td>2491</td>\n",
       "      <td>0.000217</td>\n",
       "      <td>0.999783</td>\n",
       "    </tr>\n",
       "  </tbody>\n",
       "</table>\n",
       "<p>13259548 rows × 17 columns</p>\n",
       "</div>"
      ],
      "text/plain": [
       "          Unnamed: 0_cannabis_perc initial_product      product_ID  \\\n",
       "0                                0      GHFGG40930      GHFGG40930   \n",
       "1                                1      GHFGG40930       FFTSR0805   \n",
       "2                                2      GHFGG40930    GHFFAT0222PR   \n",
       "3                                3      GHFGG40930  GHFGG40930GSMB   \n",
       "4                                4      GHFGG40930       210000867   \n",
       "...                            ...             ...             ...   \n",
       "13259543                      3640       R1B11E08C       GHFJF0430   \n",
       "13259544                      3641       R1B11E08C       S102819-1   \n",
       "13259545                      3642       R1B11E08C       S060120-1   \n",
       "13259546                      3643       R1B11E08C        050321-4   \n",
       "13259547                      3644       R1B11E08C    GHFJF0910SMB   \n",
       "\n",
       "          product_cos_distance_cannabis_perc  \\\n",
       "0                               0.000000e+00   \n",
       "1                               9.007890e-07   \n",
       "2                               1.396357e-06   \n",
       "3                               3.001915e-06   \n",
       "4                               3.363253e-06   \n",
       "...                                      ...   \n",
       "13259543                        9.552060e-01   \n",
       "13259544                        9.555133e-01   \n",
       "13259545                        9.562469e-01   \n",
       "13259546                        9.569074e-01   \n",
       "13259547                        9.910980e-01   \n",
       "\n",
       "          product_cos_similarity_cannabis_perc  Unnamed: 0_terpenes_perc  \\\n",
       "0                                     1.000000                         0   \n",
       "1                                     0.999999                        91   \n",
       "2                                     0.999999                       267   \n",
       "3                                     0.999997                        21   \n",
       "4                                     0.999997                      1221   \n",
       "...                                        ...                       ...   \n",
       "13259543                              0.044794                      3251   \n",
       "13259544                              0.044487                      3590   \n",
       "13259545                              0.043753                      3400   \n",
       "13259546                              0.043093                      3484   \n",
       "13259547                              0.008902                      3110   \n",
       "\n",
       "          product_cos_distance_terpenes_perc  \\\n",
       "0                                   0.000000   \n",
       "1                                   0.015414   \n",
       "2                                   0.029384   \n",
       "3                                   0.007701   \n",
       "4                                   0.196370   \n",
       "...                                      ...   \n",
       "13259543                            0.547998   \n",
       "13259544                            0.681067   \n",
       "13259545                            0.589819   \n",
       "13259546                            0.618842   \n",
       "13259547                            0.515883   \n",
       "\n",
       "          product_cos_similarity_terpenes_perc  Unnamed: 0_cannabis_vol  \\\n",
       "0                                     1.000000                        0   \n",
       "1                                     0.984586                        1   \n",
       "2                                     0.970616                        2   \n",
       "3                                     0.992299                        5   \n",
       "4                                     0.803630                        7   \n",
       "...                                        ...                      ...   \n",
       "13259543                              0.452002                     3634   \n",
       "13259544                              0.318933                     3643   \n",
       "13259545                              0.410181                     3635   \n",
       "13259546                              0.381158                     3641   \n",
       "13259547                              0.484117                     3644   \n",
       "\n",
       "          product_cos_distance_cannabis_vol  \\\n",
       "0                              0.000000e+00   \n",
       "1                              4.396866e-07   \n",
       "2                              7.071989e-07   \n",
       "3                              2.184890e-06   \n",
       "4                              2.477761e-06   \n",
       "...                                     ...   \n",
       "13259543                       4.228792e-01   \n",
       "13259544                       4.418304e-01   \n",
       "13259545                       4.231642e-01   \n",
       "13259546                       4.395438e-01   \n",
       "13259547                       4.533447e-01   \n",
       "\n",
       "          product_cos_similarity_cannabis_vol  Unnamed: 0_terpenes_vol  \\\n",
       "0                                    1.000000                        0   \n",
       "1                                    1.000000                       76   \n",
       "2                                    0.999999                      244   \n",
       "3                                    0.999998                       27   \n",
       "4                                    0.999998                     1207   \n",
       "...                                       ...                      ...   \n",
       "13259543                             0.577121                     3307   \n",
       "13259544                             0.558170                     3628   \n",
       "13259545                             0.576836                     3377   \n",
       "13259546                             0.560456                     3478   \n",
       "13259547                             0.546655                     3051   \n",
       "\n",
       "          product_cos_distance_terpenes_vol  \\\n",
       "0                                  0.000000   \n",
       "1                                  0.003400   \n",
       "2                                  0.006485   \n",
       "3                                  0.001995   \n",
       "4                                  0.038274   \n",
       "...                                     ...   \n",
       "13259543                           0.112499   \n",
       "13259544                           0.177955   \n",
       "13259545                           0.119327   \n",
       "13259546                           0.131896   \n",
       "13259547                           0.095319   \n",
       "\n",
       "          product_cos_similarity_terpenes_vol  \\\n",
       "0                                    1.000000   \n",
       "1                                    0.996600   \n",
       "2                                    0.993515   \n",
       "3                                    0.998005   \n",
       "4                                    0.961726   \n",
       "...                                       ...   \n",
       "13259543                             0.887501   \n",
       "13259544                             0.822045   \n",
       "13259545                             0.880673   \n",
       "13259546                             0.868104   \n",
       "13259547                             0.904681   \n",
       "\n",
       "          Unnamed: 0_terpenes_cannabis_vol  \\\n",
       "0                                        0   \n",
       "1                                     1489   \n",
       "2                                     2597   \n",
       "3                                      910   \n",
       "4                                     1718   \n",
       "...                                    ...   \n",
       "13259543                               980   \n",
       "13259544                               728   \n",
       "13259545                              2097   \n",
       "13259546                               466   \n",
       "13259547                              2491   \n",
       "\n",
       "          product_cos_distance_terpenes_cannabis_vol  \\\n",
       "0                                           0.000000   \n",
       "1                                           0.000054   \n",
       "2                                           0.000240   \n",
       "3                                           0.000018   \n",
       "4                                           0.000077   \n",
       "...                                              ...   \n",
       "13259543                                    0.000028   \n",
       "13259544                                    0.000014   \n",
       "13259545                                    0.000148   \n",
       "13259546                                    0.000005   \n",
       "13259547                                    0.000217   \n",
       "\n",
       "          product_cos_similarity_terpenes_cannabis_vol  \n",
       "0                                             1.000000  \n",
       "1                                             0.999946  \n",
       "2                                             0.999760  \n",
       "3                                             0.999982  \n",
       "4                                             0.999923  \n",
       "...                                                ...  \n",
       "13259543                                      0.999972  \n",
       "13259544                                      0.999986  \n",
       "13259545                                      0.999852  \n",
       "13259546                                      0.999995  \n",
       "13259547                                      0.999783  \n",
       "\n",
       "[13259548 rows x 17 columns]"
      ]
     },
     "execution_count": 57,
     "metadata": {},
     "output_type": "execute_result"
    }
   ],
   "source": [
    "merged_similarity"
   ]
  },
  {
   "cell_type": "code",
   "execution_count": 58,
   "id": "il_iz2HoLpwX",
   "metadata": {
    "ExecuteTime": {
     "end_time": "2022-02-05T10:12:19.329553Z",
     "start_time": "2022-02-05T10:12:19.328424Z"
    },
    "executionInfo": {
     "elapsed": 310,
     "status": "ok",
     "timestamp": 1636701837401,
     "user": {
      "displayName": "Xinxue Gu",
      "photoUrl": "https://lh3.googleusercontent.com/a-/AOh14Gj9WkmtnU2brQk9QsbQh0F1_zHtCpJidb4IEmCXLQ=s64",
      "userId": "13207589719696204166"
     },
     "user_tz": 480
    },
    "id": "il_iz2HoLpwX"
   },
   "outputs": [],
   "source": [
    "# merged_similarity['combined_similarity'] =merged_similarity['product_cos_similarity_cannabis_perc']*\\\n",
    "# merged_similarity['product_cos_similarity_terpenes_perc']*\\\n",
    "# merged_similarity['product_cos_similarity_cannabis_vol']*\\\n",
    "# merged_similarity['product_cos_similarity_terpenes_vol']\n",
    "\n",
    "# merged_similarity['combined_similarity']"
   ]
  },
  {
   "cell_type": "code",
   "execution_count": null,
   "id": "VrW-CFWdcwcl",
   "metadata": {
    "id": "VrW-CFWdcwcl"
   },
   "outputs": [],
   "source": []
  },
  {
   "cell_type": "code",
   "execution_count": 59,
   "id": "0eCw2W5uMEdU",
   "metadata": {
    "ExecuteTime": {
     "end_time": "2022-02-05T10:12:19.423341Z",
     "start_time": "2022-02-05T10:12:19.421658Z"
    },
    "colab": {
     "base_uri": "https://localhost:8080/"
    },
    "executionInfo": {
     "elapsed": 352,
     "status": "ok",
     "timestamp": 1636701551118,
     "user": {
      "displayName": "Xinxue Gu",
      "photoUrl": "https://lh3.googleusercontent.com/a-/AOh14Gj9WkmtnU2brQk9QsbQh0F1_zHtCpJidb4IEmCXLQ=s64",
      "userId": "13207589719696204166"
     },
     "user_tz": 480
    },
    "id": "0eCw2W5uMEdU",
    "outputId": "fbfe16c3-554c-46dd-9d25-d26d2f734e47"
   },
   "outputs": [],
   "source": [
    "# merged_similarity['combined_similarity'].mean()"
   ]
  },
  {
   "cell_type": "code",
   "execution_count": 60,
   "id": "3iaR7T2qcxN-",
   "metadata": {
    "ExecuteTime": {
     "end_time": "2022-02-05T10:12:19.517125Z",
     "start_time": "2022-02-05T10:12:19.515489Z"
    },
    "colab": {
     "base_uri": "https://localhost:8080/"
    },
    "executionInfo": {
     "elapsed": 394,
     "status": "ok",
     "timestamp": 1636520552121,
     "user": {
      "displayName": "Xinxue Gu",
      "photoUrl": "https://lh3.googleusercontent.com/a-/AOh14Gj9WkmtnU2brQk9QsbQh0F1_zHtCpJidb4IEmCXLQ=s64",
      "userId": "13207589719696204166"
     },
     "user_tz": 480
    },
    "id": "3iaR7T2qcxN-",
    "outputId": "ef974585-ccef-48b1-94ab-d0513740a262"
   },
   "outputs": [],
   "source": [
    "# merged_similarity['combined_similarity_w_tcvol'] =merged_similarity['product_cos_similarity_cannabis_perc']*\\\n",
    "# merged_similarity['product_cos_similarity_terpenes_perc']*\\\n",
    "# merged_similarity['product_cos_similarity_cannabis_vol']*\\\n",
    "# merged_similarity['product_cos_similarity_terpenes_vol']*merged_similarity['product_cos_similarity_terpenes_cannabis_vol']\n",
    "\n",
    "# merged_similarity['combined_similarity_w_tcvol']"
   ]
  },
  {
   "cell_type": "code",
   "execution_count": 61,
   "id": "BrmAqWWvi3ZP",
   "metadata": {
    "ExecuteTime": {
     "end_time": "2022-02-05T10:12:19.609720Z",
     "start_time": "2022-02-05T10:12:19.608118Z"
    },
    "executionInfo": {
     "elapsed": 15,
     "status": "ok",
     "timestamp": 1636750869876,
     "user": {
      "displayName": "Xinxue Gu",
      "photoUrl": "https://lh3.googleusercontent.com/a-/AOh14Gj9WkmtnU2brQk9QsbQh0F1_zHtCpJidb4IEmCXLQ=s64",
      "userId": "13207589719696204166"
     },
     "user_tz": 480
    },
    "id": "BrmAqWWvi3ZP"
   },
   "outputs": [],
   "source": [
    "cannabis_perc_weight = 4\n",
    "terpenes_perc_weight = 8\n",
    "cannabis_vol_weight = 1\n",
    "terpenes_vol_weight = 1\n",
    "terpenes_cannabi_vol_weight = 4"
   ]
  },
  {
   "cell_type": "markdown",
   "id": "0901ba42",
   "metadata": {},
   "source": [
    "$$S = \\frac{\\sum_{i=1}^nw_{i}x_{i}}{\\sum_{i=1}^nw_{i}} $$"
   ]
  },
  {
   "cell_type": "code",
   "execution_count": 62,
   "id": "7HsfIehHObcO",
   "metadata": {
    "ExecuteTime": {
     "end_time": "2022-02-05T10:12:19.704732Z",
     "start_time": "2022-02-05T10:12:19.703303Z"
    },
    "id": "7HsfIehHObcO"
   },
   "outputs": [],
   "source": [
    "# merged_similarity['weighted'] = (cannabis_perc_weight*merged_similarity['product_cos_similarity_cannabis_perc']+\\\n",
    "# terpenes_perc_weight*merged_similarity['product_cos_similarity_terpenes_perc']+\\\n",
    "# cannabis_vol_weight*merged_similarity['product_cos_similarity_cannabis_vol']+\\\n",
    "# terpenes_vol_weight*merged_similarity['product_cos_similarity_terpenes_vol'])/(cannabis_perc_weight +terpenes_perc_weight+cannabis_vol_weight+terpenes_vol_weight)\n"
   ]
  },
  {
   "cell_type": "code",
   "execution_count": 63,
   "id": "88bo4uQUOOY2",
   "metadata": {
    "ExecuteTime": {
     "end_time": "2022-02-05T10:12:19.956672Z",
     "start_time": "2022-02-05T10:12:19.795264Z"
    },
    "executionInfo": {
     "elapsed": 1141,
     "status": "ok",
     "timestamp": 1636750871002,
     "user": {
      "displayName": "Xinxue Gu",
      "photoUrl": "https://lh3.googleusercontent.com/a-/AOh14Gj9WkmtnU2brQk9QsbQh0F1_zHtCpJidb4IEmCXLQ=s64",
      "userId": "13207589719696204166"
     },
     "user_tz": 480
    },
    "id": "88bo4uQUOOY2"
   },
   "outputs": [],
   "source": [
    "merged_similarity['weighted_w_tcvol'] = (cannabis_perc_weight*merged_similarity['product_cos_similarity_cannabis_perc']+\\\n",
    "terpenes_perc_weight*merged_similarity['product_cos_similarity_terpenes_perc']+\\\n",
    "cannabis_vol_weight*merged_similarity['product_cos_similarity_cannabis_vol']+\\\n",
    "terpenes_vol_weight*merged_similarity['product_cos_similarity_terpenes_vol']+\n",
    "terpenes_cannabi_vol_weight*merged_similarity['product_cos_similarity_terpenes_cannabis_vol'])/(cannabis_perc_weight +terpenes_perc_weight+cannabis_vol_weight+terpenes_vol_weight+terpenes_cannabi_vol_weight)\n"
   ]
  },
  {
   "cell_type": "code",
   "execution_count": 64,
   "id": "ZOYdONy0CM5R",
   "metadata": {
    "ExecuteTime": {
     "end_time": "2022-02-05T10:12:20.050196Z",
     "start_time": "2022-02-05T10:12:20.047877Z"
    },
    "colab": {
     "base_uri": "https://localhost:8080/"
    },
    "executionInfo": {
     "elapsed": 22,
     "status": "ok",
     "timestamp": 1636708854993,
     "user": {
      "displayName": "Xinxue Gu",
      "photoUrl": "https://lh3.googleusercontent.com/a-/AOh14Gj9WkmtnU2brQk9QsbQh0F1_zHtCpJidb4IEmCXLQ=s64",
      "userId": "13207589719696204166"
     },
     "user_tz": 480
    },
    "id": "ZOYdONy0CM5R",
    "outputId": "256a1a5f-6cdc-414e-d7c8-fb9d79b66a7f"
   },
   "outputs": [
    {
     "data": {
      "text/plain": [
       "(13259548, 18)"
      ]
     },
     "execution_count": 64,
     "metadata": {},
     "output_type": "execute_result"
    }
   ],
   "source": [
    "merged_similarity.shape"
   ]
  },
  {
   "cell_type": "code",
   "execution_count": 65,
   "id": "zMJL8jPmMPsN",
   "metadata": {
    "ExecuteTime": {
     "end_time": "2022-02-05T10:12:24.180725Z",
     "start_time": "2022-02-05T10:12:20.143049Z"
    },
    "executionInfo": {
     "elapsed": 13547,
     "status": "ok",
     "timestamp": 1636750884546,
     "user": {
      "displayName": "Xinxue Gu",
      "photoUrl": "https://lh3.googleusercontent.com/a-/AOh14Gj9WkmtnU2brQk9QsbQh0F1_zHtCpJidb4IEmCXLQ=s64",
      "userId": "13207589719696204166"
     },
     "user_tz": 480
    },
    "id": "zMJL8jPmMPsN"
   },
   "outputs": [],
   "source": [
    "merged_similarity_sort = merged_similarity.sort_values('weighted_w_tcvol',ascending =False)"
   ]
  },
  {
   "cell_type": "code",
   "execution_count": 66,
   "id": "c8908aaa",
   "metadata": {
    "ExecuteTime": {
     "end_time": "2022-02-05T10:12:24.280371Z",
     "start_time": "2022-02-05T10:12:24.278956Z"
    },
    "id": "c8908aaa"
   },
   "outputs": [],
   "source": [
    "# rec_dict = dict()\n",
    "# for i in product_cos_dist_df.columns:\n",
    "#     rec_dict[i] = product_cos_dist_df.loc[:,i].sort_values(ascending = True)[:10]"
   ]
  },
  {
   "cell_type": "code",
   "execution_count": 67,
   "id": "8c58b77a",
   "metadata": {
    "ExecuteTime": {
     "end_time": "2022-02-05T10:12:24.375998Z",
     "start_time": "2022-02-05T10:12:24.374700Z"
    },
    "id": "8c58b77a"
   },
   "outputs": [],
   "source": [
    "# rec_dict_full = dict()\n",
    "# for i in product_cos_dist_df.columns:\n",
    "#     rec_dict_full[i] = product_cos_dist_df.loc[:,i].sort_values(ascending = True)\n"
   ]
  },
  {
   "cell_type": "code",
   "execution_count": 68,
   "id": "e051780f",
   "metadata": {
    "ExecuteTime": {
     "end_time": "2022-02-05T10:12:24.472374Z",
     "start_time": "2022-02-05T10:12:24.470776Z"
    },
    "id": "e051780f"
   },
   "outputs": [],
   "source": [
    "# result = pd.DataFrame(columns = ['initial_product','rec_product_ID','product_cos_distance'])"
   ]
  },
  {
   "cell_type": "code",
   "execution_count": 69,
   "id": "6016e548",
   "metadata": {
    "ExecuteTime": {
     "end_time": "2022-02-05T10:12:24.568072Z",
     "start_time": "2022-02-05T10:12:24.566731Z"
    },
    "id": "6016e548"
   },
   "outputs": [],
   "source": [
    "\n",
    "# result['rec_product_ID'] = rec_dict['BDRP-6715'].index\n",
    "# result['product_cos_distance'] = rec_dict['BDRP-6715'].values\n",
    "# result['product_cos_similarity'] = 1-rec_dict['BDRP-6715'].values"
   ]
  },
  {
   "cell_type": "code",
   "execution_count": 70,
   "id": "3943ae23",
   "metadata": {
    "ExecuteTime": {
     "end_time": "2022-02-05T10:12:24.663786Z",
     "start_time": "2022-02-05T10:12:24.662463Z"
    },
    "id": "3943ae23"
   },
   "outputs": [],
   "source": [
    "# result['initial_product']  = 'BDRP-6715'"
   ]
  },
  {
   "cell_type": "code",
   "execution_count": 71,
   "id": "a86b1ecf",
   "metadata": {
    "ExecuteTime": {
     "end_time": "2022-02-05T10:12:24.759309Z",
     "start_time": "2022-02-05T10:12:24.758029Z"
    },
    "id": "a86b1ecf"
   },
   "outputs": [],
   "source": [
    "# result['rec_product_ID'].values"
   ]
  },
  {
   "cell_type": "code",
   "execution_count": 72,
   "id": "625449d6",
   "metadata": {
    "ExecuteTime": {
     "end_time": "2022-02-05T10:12:24.854678Z",
     "start_time": "2022-02-05T10:12:24.853183Z"
    },
    "id": "625449d6"
   },
   "outputs": [],
   "source": [
    "# avoid_dict = dict()\n",
    "# for i in product_cos_dist_df.columns:\n",
    "#     avoid_dict[i] = product_cos_dist_df.loc[:,i].sort_values(ascending = False)[:10]"
   ]
  },
  {
   "cell_type": "code",
   "execution_count": 73,
   "id": "26168e37",
   "metadata": {
    "ExecuteTime": {
     "end_time": "2022-02-05T10:12:24.950784Z",
     "start_time": "2022-02-05T10:12:24.949349Z"
    },
    "id": "26168e37"
   },
   "outputs": [],
   "source": [
    "#text_df = clustered[clustered['Batch_ID'].isin(result['rec_product_ID'].values)]"
   ]
  },
  {
   "cell_type": "code",
   "execution_count": 74,
   "id": "8705ae90",
   "metadata": {
    "ExecuteTime": {
     "end_time": "2022-02-05T10:12:25.046474Z",
     "start_time": "2022-02-05T10:12:25.044906Z"
    },
    "id": "8705ae90"
   },
   "outputs": [],
   "source": [
    "#text_df.to_csv('rec_test.csv')"
   ]
  },
  {
   "cell_type": "markdown",
   "id": "c187063d",
   "metadata": {
    "id": "c187063d"
   },
   "source": [
    "#### Function\n"
   ]
  },
  {
   "cell_type": "code",
   "execution_count": 75,
   "id": "27fd0d62",
   "metadata": {
    "ExecuteTime": {
     "end_time": "2022-02-05T10:12:25.141351Z",
     "start_time": "2022-02-05T10:12:25.139261Z"
    },
    "id": "27fd0d62"
   },
   "outputs": [],
   "source": [
    "# def product_rec(user, product):\n",
    "#     rec_dict = dict()\n",
    "#     for i in product_cos_dist_df.columns:\n",
    "#         rec_dict[i] = product_cos_dist_df.loc[:,i].sort_values(ascending = True)[:10]\n",
    "#     result = pd.DataFrame(columns = ['initial_product','rec_product_ID','product_cos_distance'])\n",
    "    \n",
    "#     result['rec_product_ID'] = rec_dict[product].index\n",
    "#     result['initial_product']  =product\n",
    "#     result['product_cos_distance'] = rec_dict[product].values\n",
    "#     result['product_cos_similarity'] = 1-rec_dict[product].values\n",
    "    \n",
    "    \n",
    "#     return result\n",
    "    "
   ]
  },
  {
   "cell_type": "code",
   "execution_count": 76,
   "id": "L7jg0nPmmMt2",
   "metadata": {
    "ExecuteTime": {
     "end_time": "2022-02-05T10:12:25.239241Z",
     "start_time": "2022-02-05T10:12:25.237069Z"
    },
    "colab": {
     "base_uri": "https://localhost:8080/"
    },
    "executionInfo": {
     "elapsed": 22,
     "status": "ok",
     "timestamp": 1636310368050,
     "user": {
      "displayName": "Xinxue Gu",
      "photoUrl": "https://lh3.googleusercontent.com/a-/AOh14Gj9WkmtnU2brQk9QsbQh0F1_zHtCpJidb4IEmCXLQ=s64",
      "userId": "13207589719696204166"
     },
     "user_tz": 480
    },
    "id": "L7jg0nPmmMt2",
    "outputId": "9c702aba-f287-4beb-de06-9df939f39800"
   },
   "outputs": [
    {
     "data": {
      "text/plain": [
       "Index(['D_Limonene_Pct_Total', 'A_Pinene_Pct_Total', 'B_Pinene_Pct_Total',\n",
       "       'A_Humulene_Pct_Total', 'terpinolene_Pct_Total', 'Linalool_Pct_Total',\n",
       "       'Ocimene_Pct_Total', 'Nerolidol_Pct_Total', 'A_Bisabalol_Pct_Total',\n",
       "       'Other_Pct_Total', 'Total_Terpene_Volume_Pct_Total',\n",
       "       'THC_Pct_vs_CBD_Pct', 'THC_Pct_vs_Terpene_Pct',\n",
       "       'THC_Pct_vs_B_Caryophyllene_Pct', 'THC_Pct_vs_A_Pinene_Pct',\n",
       "       'THC_Pct_vs_B_Myrcene_Pct', 'THC_Pct_vs_Limonene_Pct',\n",
       "       'THC_Pct_vs_Linalool_Pct', 'THC_Pct_vs_Nerolidol_Pct',\n",
       "       'THC_Pct_vs_B_Caryophyllene_Pct_norm', 'THC_Pct_vs_A_Pinene_Pct_norm',\n",
       "       'THC_Pct_vs_B_Myrcene_Pct_norm', 'THC_Pct_vs_Limonene_Pct_norm',\n",
       "       'THC_Pct_vs_Linalool_Pct_norm', 'THC_Pct_vs_Nerolidol_Pct_norm',\n",
       "       'Strain_integrated', 'THC_Pct_Pct_Total', 'CBD_Pct_Pct_Total',\n",
       "       'CBG_Pct_Pct_Total', 'CBN_Pct_Pct_Total', 'CBC_Pct_Pct_Total',\n",
       "       'CBDV_Pct_Pct_Total', 'THCV_Pct_Pct_Total', 'CBL_Pct_Pct_Total',\n",
       "       'D8_Pct_Pct_Total', 'Total_Terpene_Volume_pct'],\n",
       "      dtype='object')"
      ]
     },
     "execution_count": 76,
     "metadata": {},
     "output_type": "execute_result"
    }
   ],
   "source": [
    "initial.columns[50:]"
   ]
  },
  {
   "cell_type": "code",
   "execution_count": null,
   "id": "b27f1cf1",
   "metadata": {},
   "outputs": [],
   "source": []
  },
  {
   "cell_type": "code",
   "execution_count": 82,
   "id": "TPFtp7xxPPiq",
   "metadata": {
    "ExecuteTime": {
     "end_time": "2022-02-05T17:58:21.857186Z",
     "start_time": "2022-02-05T17:58:21.847687Z"
    },
    "executionInfo": {
     "elapsed": 15,
     "status": "ok",
     "timestamp": 1636750884547,
     "user": {
      "displayName": "Xinxue Gu",
      "photoUrl": "https://lh3.googleusercontent.com/a-/AOh14Gj9WkmtnU2brQk9QsbQh0F1_zHtCpJidb4IEmCXLQ=s64",
      "userId": "13207589719696204166"
     },
     "user_tz": 480
    },
    "id": "TPFtp7xxPPiq"
   },
   "outputs": [],
   "source": [
    "# def product_rec( product):\n",
    "    \n",
    "#     temp = merged_similarity_sort[merged_similarity_sort['initial_product']==product].head(10)[['initial_product','product_ID','combined_similarity']]\n",
    "    \n",
    "#     return temp\n",
    "\n",
    "def product_rec( product):\n",
    "    \n",
    "    temp = merged_similarity_sort[merged_similarity_sort['initial_product']==product].head(10)[[\n",
    "                                                                                                'initial_product','product_ID',\n",
    "                                                                                                #'product_cos_similarity_terpenes_vol'\n",
    "    # ,'product_cos_similarity_cannabis_perc',\n",
    "    # 'product_cos_similarity_terpenes_perc',\n",
    "    # 'product_cos_similarity_cannabis_vol',\n",
    "    'weighted_w_tcvol']]\n",
    "    temp2 =temp.merge(initial, left_on  = 'product_ID', right_on = 'Batch_ID')\n",
    "    temp2 = temp2[['initial_product','product_ID','weighted_w_tcvol',\n",
    "                   'B_Myrcene_Pct_Total', 'B_Caryophyllene_Pct_Total',\n",
    "       'D_Limonene_Pct_Total', 'THC_Pct_Pct_Total', \n",
    "                  'CBD_Pct_Pct_Total', 'Total_Terpene_Volume_pct']]\n",
    "    \n",
    "    return temp2\n"
   ]
  },
  {
   "cell_type": "code",
   "execution_count": 83,
   "id": "INFhooJHP5vT",
   "metadata": {
    "ExecuteTime": {
     "end_time": "2022-02-05T17:58:22.385499Z",
     "start_time": "2022-02-05T17:58:22.382653Z"
    },
    "id": "INFhooJHP5vT"
   },
   "outputs": [],
   "source": [
    "#merged_similarity_sort[merged_similarity_sort['initial_product']=='LCFT112719'].head(10)"
   ]
  },
  {
   "cell_type": "code",
   "execution_count": 84,
   "id": "0mmbg17gcUrn",
   "metadata": {
    "ExecuteTime": {
     "end_time": "2022-02-05T17:58:22.737229Z",
     "start_time": "2022-02-05T17:58:22.735856Z"
    },
    "id": "0mmbg17gcUrn"
   },
   "outputs": [],
   "source": [
    "#merged_similarity_sort[merged_similarity_sort['initial_product']=='LCFT112719'].boxplot(column=['combined_similarity'])"
   ]
  },
  {
   "cell_type": "code",
   "execution_count": 85,
   "id": "KS2wprSGc1TB",
   "metadata": {
    "ExecuteTime": {
     "end_time": "2022-02-05T17:58:23.039230Z",
     "start_time": "2022-02-05T17:58:23.037642Z"
    },
    "id": "KS2wprSGc1TB"
   },
   "outputs": [],
   "source": [
    "#merged_similarity_sort.boxplot(column=['weighted_w_tcvol'])"
   ]
  },
  {
   "cell_type": "markdown",
   "id": "jh-PIZedP3Df",
   "metadata": {
    "id": "jh-PIZedP3Df"
   },
   "source": []
  },
  {
   "cell_type": "code",
   "execution_count": 86,
   "id": "0e62c765",
   "metadata": {
    "ExecuteTime": {
     "end_time": "2022-02-05T17:58:24.049532Z",
     "start_time": "2022-02-05T17:58:23.339829Z"
    },
    "colab": {
     "base_uri": "https://localhost:8080/",
     "height": 376
    },
    "executionInfo": {
     "elapsed": 1796,
     "status": "ok",
     "timestamp": 1636708873094,
     "user": {
      "displayName": "Xinxue Gu",
      "photoUrl": "https://lh3.googleusercontent.com/a-/AOh14Gj9WkmtnU2brQk9QsbQh0F1_zHtCpJidb4IEmCXLQ=s64",
      "userId": "13207589719696204166"
     },
     "user_tz": 480
    },
    "id": "0e62c765",
    "outputId": "e596eb69-0449-43d7-8789-0b9eb31ae2c0"
   },
   "outputs": [
    {
     "data": {
      "text/html": [
       "<div>\n",
       "<style scoped>\n",
       "    .dataframe tbody tr th:only-of-type {\n",
       "        vertical-align: middle;\n",
       "    }\n",
       "\n",
       "    .dataframe tbody tr th {\n",
       "        vertical-align: top;\n",
       "    }\n",
       "\n",
       "    .dataframe thead th {\n",
       "        text-align: right;\n",
       "    }\n",
       "</style>\n",
       "<table border=\"1\" class=\"dataframe\">\n",
       "  <thead>\n",
       "    <tr style=\"text-align: right;\">\n",
       "      <th></th>\n",
       "      <th>initial_product</th>\n",
       "      <th>product_ID</th>\n",
       "      <th>weighted_w_tcvol</th>\n",
       "      <th>B_Myrcene_Pct_Total</th>\n",
       "      <th>B_Caryophyllene_Pct_Total</th>\n",
       "      <th>D_Limonene_Pct_Total</th>\n",
       "      <th>THC_Pct_Pct_Total</th>\n",
       "      <th>CBD_Pct_Pct_Total</th>\n",
       "      <th>Total_Terpene_Volume_pct</th>\n",
       "    </tr>\n",
       "  </thead>\n",
       "  <tbody>\n",
       "    <tr>\n",
       "      <th>0</th>\n",
       "      <td>GHFSSH0203</td>\n",
       "      <td>GHFSSH0203</td>\n",
       "      <td>1.000000</td>\n",
       "      <td>0.092246</td>\n",
       "      <td>0.335561</td>\n",
       "      <td>0.360294</td>\n",
       "      <td>0.900101</td>\n",
       "      <td>0.003170</td>\n",
       "      <td>0.01496</td>\n",
       "    </tr>\n",
       "    <tr>\n",
       "      <th>1</th>\n",
       "      <td>GHFSSH0203</td>\n",
       "      <td>GHFSSH0301AA</td>\n",
       "      <td>0.998717</td>\n",
       "      <td>0.104693</td>\n",
       "      <td>0.356679</td>\n",
       "      <td>0.350903</td>\n",
       "      <td>0.916085</td>\n",
       "      <td>0.003146</td>\n",
       "      <td>0.01385</td>\n",
       "    </tr>\n",
       "    <tr>\n",
       "      <th>2</th>\n",
       "      <td>GHFSSH0203</td>\n",
       "      <td>GHFSSH0209SMB</td>\n",
       "      <td>0.998476</td>\n",
       "      <td>0.071034</td>\n",
       "      <td>0.363852</td>\n",
       "      <td>0.370166</td>\n",
       "      <td>0.875357</td>\n",
       "      <td>0.004336</td>\n",
       "      <td>0.01267</td>\n",
       "    </tr>\n",
       "    <tr>\n",
       "      <th>3</th>\n",
       "      <td>GHFSSH0203</td>\n",
       "      <td>GHFSSH0201AA</td>\n",
       "      <td>0.998140</td>\n",
       "      <td>0.089480</td>\n",
       "      <td>0.306530</td>\n",
       "      <td>0.368803</td>\n",
       "      <td>0.891206</td>\n",
       "      <td>0.003120</td>\n",
       "      <td>0.01654</td>\n",
       "    </tr>\n",
       "    <tr>\n",
       "      <th>4</th>\n",
       "      <td>GHFSSH0203</td>\n",
       "      <td>GHFSSH0301BB</td>\n",
       "      <td>0.997706</td>\n",
       "      <td>0.092486</td>\n",
       "      <td>0.375080</td>\n",
       "      <td>0.340398</td>\n",
       "      <td>0.916776</td>\n",
       "      <td>0.003109</td>\n",
       "      <td>0.01557</td>\n",
       "    </tr>\n",
       "    <tr>\n",
       "      <th>5</th>\n",
       "      <td>GHFSSH0203</td>\n",
       "      <td>GHFGG40301</td>\n",
       "      <td>0.997182</td>\n",
       "      <td>0.115066</td>\n",
       "      <td>0.310430</td>\n",
       "      <td>0.385762</td>\n",
       "      <td>0.964819</td>\n",
       "      <td>0.002343</td>\n",
       "      <td>0.01208</td>\n",
       "    </tr>\n",
       "    <tr>\n",
       "      <th>6</th>\n",
       "      <td>GHFSSH0203</td>\n",
       "      <td>NB248</td>\n",
       "      <td>0.994485</td>\n",
       "      <td>0.103512</td>\n",
       "      <td>0.320570</td>\n",
       "      <td>0.334566</td>\n",
       "      <td>0.977966</td>\n",
       "      <td>0.000848</td>\n",
       "      <td>0.03787</td>\n",
       "    </tr>\n",
       "    <tr>\n",
       "      <th>7</th>\n",
       "      <td>GHFSSH0203</td>\n",
       "      <td>GHFSTAR0201</td>\n",
       "      <td>0.994334</td>\n",
       "      <td>0.133895</td>\n",
       "      <td>0.297285</td>\n",
       "      <td>0.310861</td>\n",
       "      <td>0.935842</td>\n",
       "      <td>0.002296</td>\n",
       "      <td>0.02136</td>\n",
       "    </tr>\n",
       "    <tr>\n",
       "      <th>8</th>\n",
       "      <td>GHFSSH0203</td>\n",
       "      <td>GHFGG40324</td>\n",
       "      <td>0.994049</td>\n",
       "      <td>0.101483</td>\n",
       "      <td>0.306011</td>\n",
       "      <td>0.295863</td>\n",
       "      <td>0.966319</td>\n",
       "      <td>0.002211</td>\n",
       "      <td>0.01281</td>\n",
       "    </tr>\n",
       "    <tr>\n",
       "      <th>9</th>\n",
       "      <td>GHFSSH0203</td>\n",
       "      <td>GHFSSH0315</td>\n",
       "      <td>0.992462</td>\n",
       "      <td>0.150442</td>\n",
       "      <td>0.334808</td>\n",
       "      <td>0.289577</td>\n",
       "      <td>0.915775</td>\n",
       "      <td>0.002708</td>\n",
       "      <td>0.02034</td>\n",
       "    </tr>\n",
       "  </tbody>\n",
       "</table>\n",
       "</div>"
      ],
      "text/plain": [
       "  initial_product     product_ID  weighted_w_tcvol  B_Myrcene_Pct_Total  \\\n",
       "0      GHFSSH0203     GHFSSH0203          1.000000             0.092246   \n",
       "1      GHFSSH0203   GHFSSH0301AA          0.998717             0.104693   \n",
       "2      GHFSSH0203  GHFSSH0209SMB          0.998476             0.071034   \n",
       "3      GHFSSH0203   GHFSSH0201AA          0.998140             0.089480   \n",
       "4      GHFSSH0203   GHFSSH0301BB          0.997706             0.092486   \n",
       "5      GHFSSH0203     GHFGG40301          0.997182             0.115066   \n",
       "6      GHFSSH0203          NB248          0.994485             0.103512   \n",
       "7      GHFSSH0203    GHFSTAR0201          0.994334             0.133895   \n",
       "8      GHFSSH0203     GHFGG40324          0.994049             0.101483   \n",
       "9      GHFSSH0203     GHFSSH0315          0.992462             0.150442   \n",
       "\n",
       "   B_Caryophyllene_Pct_Total  D_Limonene_Pct_Total  THC_Pct_Pct_Total  \\\n",
       "0                   0.335561              0.360294           0.900101   \n",
       "1                   0.356679              0.350903           0.916085   \n",
       "2                   0.363852              0.370166           0.875357   \n",
       "3                   0.306530              0.368803           0.891206   \n",
       "4                   0.375080              0.340398           0.916776   \n",
       "5                   0.310430              0.385762           0.964819   \n",
       "6                   0.320570              0.334566           0.977966   \n",
       "7                   0.297285              0.310861           0.935842   \n",
       "8                   0.306011              0.295863           0.966319   \n",
       "9                   0.334808              0.289577           0.915775   \n",
       "\n",
       "   CBD_Pct_Pct_Total  Total_Terpene_Volume_pct  \n",
       "0           0.003170                   0.01496  \n",
       "1           0.003146                   0.01385  \n",
       "2           0.004336                   0.01267  \n",
       "3           0.003120                   0.01654  \n",
       "4           0.003109                   0.01557  \n",
       "5           0.002343                   0.01208  \n",
       "6           0.000848                   0.03787  \n",
       "7           0.002296                   0.02136  \n",
       "8           0.002211                   0.01281  \n",
       "9           0.002708                   0.02034  "
      ]
     },
     "execution_count": 86,
     "metadata": {},
     "output_type": "execute_result"
    }
   ],
   "source": [
    "product_rec('GHFSSH0203')"
   ]
  },
  {
   "cell_type": "code",
   "execution_count": 87,
   "id": "zLOm_U_IljRq",
   "metadata": {
    "ExecuteTime": {
     "end_time": "2022-02-05T17:59:34.131339Z",
     "start_time": "2022-02-05T17:59:33.031823Z"
    },
    "colab": {
     "base_uri": "https://localhost:8080/",
     "height": 376
    },
    "executionInfo": {
     "elapsed": 169,
     "status": "ok",
     "timestamp": 1636708997739,
     "user": {
      "displayName": "Xinxue Gu",
      "photoUrl": "https://lh3.googleusercontent.com/a-/AOh14Gj9WkmtnU2brQk9QsbQh0F1_zHtCpJidb4IEmCXLQ=s64",
      "userId": "13207589719696204166"
     },
     "user_tz": 480
    },
    "id": "zLOm_U_IljRq",
    "outputId": "6dbb3e53-5b11-472f-f3d9-58fdc6c43383"
   },
   "outputs": [
    {
     "data": {
      "text/html": [
       "<div>\n",
       "<style scoped>\n",
       "    .dataframe tbody tr th:only-of-type {\n",
       "        vertical-align: middle;\n",
       "    }\n",
       "\n",
       "    .dataframe tbody tr th {\n",
       "        vertical-align: top;\n",
       "    }\n",
       "\n",
       "    .dataframe thead th {\n",
       "        text-align: right;\n",
       "    }\n",
       "</style>\n",
       "<table border=\"1\" class=\"dataframe\">\n",
       "  <thead>\n",
       "    <tr style=\"text-align: right;\">\n",
       "      <th></th>\n",
       "      <th>initial_product</th>\n",
       "      <th>product_ID</th>\n",
       "      <th>weighted_w_tcvol</th>\n",
       "      <th>B_Myrcene_Pct_Total</th>\n",
       "      <th>B_Caryophyllene_Pct_Total</th>\n",
       "      <th>D_Limonene_Pct_Total</th>\n",
       "      <th>THC_Pct_Pct_Total</th>\n",
       "      <th>CBD_Pct_Pct_Total</th>\n",
       "      <th>Total_Terpene_Volume_pct</th>\n",
       "    </tr>\n",
       "  </thead>\n",
       "  <tbody>\n",
       "    <tr>\n",
       "      <th>0</th>\n",
       "      <td>NB227</td>\n",
       "      <td>NB227</td>\n",
       "      <td>1.000000</td>\n",
       "      <td>0.102084</td>\n",
       "      <td>0.309423</td>\n",
       "      <td>0.298852</td>\n",
       "      <td>0.954584</td>\n",
       "      <td>0.001991</td>\n",
       "      <td>0.06622</td>\n",
       "    </tr>\n",
       "    <tr>\n",
       "      <th>1</th>\n",
       "      <td>NB227</td>\n",
       "      <td>NB228</td>\n",
       "      <td>0.998923</td>\n",
       "      <td>0.121287</td>\n",
       "      <td>0.291440</td>\n",
       "      <td>0.309017</td>\n",
       "      <td>0.956226</td>\n",
       "      <td>0.001907</td>\n",
       "      <td>0.05689</td>\n",
       "    </tr>\n",
       "    <tr>\n",
       "      <th>2</th>\n",
       "      <td>NB227</td>\n",
       "      <td>NB236</td>\n",
       "      <td>0.998079</td>\n",
       "      <td>0.082221</td>\n",
       "      <td>0.332865</td>\n",
       "      <td>0.306629</td>\n",
       "      <td>0.972411</td>\n",
       "      <td>0.000614</td>\n",
       "      <td>0.04269</td>\n",
       "    </tr>\n",
       "    <tr>\n",
       "      <th>3</th>\n",
       "      <td>NB227</td>\n",
       "      <td>RLRS037</td>\n",
       "      <td>0.997468</td>\n",
       "      <td>0.079015</td>\n",
       "      <td>0.280779</td>\n",
       "      <td>0.271591</td>\n",
       "      <td>0.959370</td>\n",
       "      <td>0.001539</td>\n",
       "      <td>0.02721</td>\n",
       "    </tr>\n",
       "    <tr>\n",
       "      <th>4</th>\n",
       "      <td>NB227</td>\n",
       "      <td>GHFSUG0311SMB</td>\n",
       "      <td>0.996646</td>\n",
       "      <td>0.097391</td>\n",
       "      <td>0.344348</td>\n",
       "      <td>0.308986</td>\n",
       "      <td>0.962040</td>\n",
       "      <td>0.002572</td>\n",
       "      <td>0.01725</td>\n",
       "    </tr>\n",
       "    <tr>\n",
       "      <th>5</th>\n",
       "      <td>NB227</td>\n",
       "      <td>GHFSUG0309BB</td>\n",
       "      <td>0.996551</td>\n",
       "      <td>0.083333</td>\n",
       "      <td>0.337196</td>\n",
       "      <td>0.311258</td>\n",
       "      <td>0.959671</td>\n",
       "      <td>0.002602</td>\n",
       "      <td>0.01812</td>\n",
       "    </tr>\n",
       "    <tr>\n",
       "      <th>6</th>\n",
       "      <td>NB227</td>\n",
       "      <td>GHFSUG0309AA</td>\n",
       "      <td>0.996340</td>\n",
       "      <td>0.093750</td>\n",
       "      <td>0.339699</td>\n",
       "      <td>0.323495</td>\n",
       "      <td>0.961190</td>\n",
       "      <td>0.002635</td>\n",
       "      <td>0.01728</td>\n",
       "    </tr>\n",
       "    <tr>\n",
       "      <th>7</th>\n",
       "      <td>NB227</td>\n",
       "      <td>210000836</td>\n",
       "      <td>0.996160</td>\n",
       "      <td>0.132525</td>\n",
       "      <td>0.318353</td>\n",
       "      <td>0.330268</td>\n",
       "      <td>0.972754</td>\n",
       "      <td>0.002457</td>\n",
       "      <td>0.04784</td>\n",
       "    </tr>\n",
       "    <tr>\n",
       "      <th>8</th>\n",
       "      <td>NB227</td>\n",
       "      <td>NB335</td>\n",
       "      <td>0.995524</td>\n",
       "      <td>0.074804</td>\n",
       "      <td>0.363161</td>\n",
       "      <td>0.276091</td>\n",
       "      <td>0.956691</td>\n",
       "      <td>0.001253</td>\n",
       "      <td>0.04973</td>\n",
       "    </tr>\n",
       "    <tr>\n",
       "      <th>9</th>\n",
       "      <td>NB227</td>\n",
       "      <td>NB193</td>\n",
       "      <td>0.995333</td>\n",
       "      <td>0.118907</td>\n",
       "      <td>0.307016</td>\n",
       "      <td>0.259920</td>\n",
       "      <td>0.963710</td>\n",
       "      <td>0.003708</td>\n",
       "      <td>0.07283</td>\n",
       "    </tr>\n",
       "  </tbody>\n",
       "</table>\n",
       "</div>"
      ],
      "text/plain": [
       "  initial_product     product_ID  weighted_w_tcvol  B_Myrcene_Pct_Total  \\\n",
       "0           NB227          NB227          1.000000             0.102084   \n",
       "1           NB227          NB228          0.998923             0.121287   \n",
       "2           NB227          NB236          0.998079             0.082221   \n",
       "3           NB227        RLRS037          0.997468             0.079015   \n",
       "4           NB227  GHFSUG0311SMB          0.996646             0.097391   \n",
       "5           NB227   GHFSUG0309BB          0.996551             0.083333   \n",
       "6           NB227   GHFSUG0309AA          0.996340             0.093750   \n",
       "7           NB227      210000836          0.996160             0.132525   \n",
       "8           NB227          NB335          0.995524             0.074804   \n",
       "9           NB227          NB193          0.995333             0.118907   \n",
       "\n",
       "   B_Caryophyllene_Pct_Total  D_Limonene_Pct_Total  THC_Pct_Pct_Total  \\\n",
       "0                   0.309423              0.298852           0.954584   \n",
       "1                   0.291440              0.309017           0.956226   \n",
       "2                   0.332865              0.306629           0.972411   \n",
       "3                   0.280779              0.271591           0.959370   \n",
       "4                   0.344348              0.308986           0.962040   \n",
       "5                   0.337196              0.311258           0.959671   \n",
       "6                   0.339699              0.323495           0.961190   \n",
       "7                   0.318353              0.330268           0.972754   \n",
       "8                   0.363161              0.276091           0.956691   \n",
       "9                   0.307016              0.259920           0.963710   \n",
       "\n",
       "   CBD_Pct_Pct_Total  Total_Terpene_Volume_pct  \n",
       "0           0.001991                   0.06622  \n",
       "1           0.001907                   0.05689  \n",
       "2           0.000614                   0.04269  \n",
       "3           0.001539                   0.02721  \n",
       "4           0.002572                   0.01725  \n",
       "5           0.002602                   0.01812  \n",
       "6           0.002635                   0.01728  \n",
       "7           0.002457                   0.04784  \n",
       "8           0.001253                   0.04973  \n",
       "9           0.003708                   0.07283  "
      ]
     },
     "execution_count": 87,
     "metadata": {},
     "output_type": "execute_result"
    }
   ],
   "source": [
    "product_rec('NB227')\n"
   ]
  },
  {
   "cell_type": "code",
   "execution_count": 88,
   "id": "wDFwPGtMcPqu",
   "metadata": {
    "ExecuteTime": {
     "end_time": "2022-02-05T17:59:34.436844Z",
     "start_time": "2022-02-05T17:59:34.434425Z"
    },
    "executionInfo": {
     "elapsed": 156,
     "status": "ok",
     "timestamp": 1636709055094,
     "user": {
      "displayName": "Xinxue Gu",
      "photoUrl": "https://lh3.googleusercontent.com/a-/AOh14Gj9WkmtnU2brQk9QsbQh0F1_zHtCpJidb4IEmCXLQ=s64",
      "userId": "13207589719696204166"
     },
     "user_tz": 480
    },
    "id": "wDFwPGtMcPqu"
   },
   "outputs": [],
   "source": [
    "def product_avoid( product):\n",
    "    temp0 = merged_similarity_sort[merged_similarity_sort['initial_product']==product].head(1)[['initial_product','product_ID','weighted_w_tcvol']]\n",
    "    \n",
    "    temp = merged_similarity_sort[merged_similarity_sort['initial_product']==product].tail(10)[['initial_product','product_ID','weighted_w_tcvol']]\n",
    "    \n",
    "    temp = temp.sort_values('weighted_w_tcvol', ascending = True)\n",
    "    temp = pd.concat([temp0,temp])\n",
    "    temp2 =temp.merge(initial, left_on  = 'product_ID', right_on = 'Batch_ID')\n",
    "    temp2 = temp2[['initial_product','product_ID','weighted_w_tcvol',\n",
    "                   'B_Myrcene_Pct_Total', 'B_Caryophyllene_Pct_Total',\n",
    "       'D_Limonene_Pct_Total','THC_Pct_Pct_Total', \n",
    "                  'CBD_Pct_Pct_Total', 'Total_Terpene_Volume_pct']]\n",
    "    \n",
    "    return temp2"
   ]
  },
  {
   "cell_type": "code",
   "execution_count": 89,
   "id": "F4m1dgJLcP2I",
   "metadata": {
    "ExecuteTime": {
     "end_time": "2022-02-05T17:59:35.718543Z",
     "start_time": "2022-02-05T17:59:34.730358Z"
    },
    "colab": {
     "base_uri": "https://localhost:8080/",
     "height": 407
    },
    "executionInfo": {
     "elapsed": 2215,
     "status": "ok",
     "timestamp": 1636709058265,
     "user": {
      "displayName": "Xinxue Gu",
      "photoUrl": "https://lh3.googleusercontent.com/a-/AOh14Gj9WkmtnU2brQk9QsbQh0F1_zHtCpJidb4IEmCXLQ=s64",
      "userId": "13207589719696204166"
     },
     "user_tz": 480
    },
    "id": "F4m1dgJLcP2I",
    "outputId": "92f5d2bd-0a4f-4c4f-b492-92edbcfaee2d"
   },
   "outputs": [
    {
     "data": {
      "text/html": [
       "<div>\n",
       "<style scoped>\n",
       "    .dataframe tbody tr th:only-of-type {\n",
       "        vertical-align: middle;\n",
       "    }\n",
       "\n",
       "    .dataframe tbody tr th {\n",
       "        vertical-align: top;\n",
       "    }\n",
       "\n",
       "    .dataframe thead th {\n",
       "        text-align: right;\n",
       "    }\n",
       "</style>\n",
       "<table border=\"1\" class=\"dataframe\">\n",
       "  <thead>\n",
       "    <tr style=\"text-align: right;\">\n",
       "      <th></th>\n",
       "      <th>initial_product</th>\n",
       "      <th>product_ID</th>\n",
       "      <th>weighted_w_tcvol</th>\n",
       "      <th>B_Myrcene_Pct_Total</th>\n",
       "      <th>B_Caryophyllene_Pct_Total</th>\n",
       "      <th>D_Limonene_Pct_Total</th>\n",
       "      <th>THC_Pct_Pct_Total</th>\n",
       "      <th>CBD_Pct_Pct_Total</th>\n",
       "      <th>Total_Terpene_Volume_pct</th>\n",
       "    </tr>\n",
       "  </thead>\n",
       "  <tbody>\n",
       "    <tr>\n",
       "      <th>0</th>\n",
       "      <td>LCFT112719</td>\n",
       "      <td>LCFT112719</td>\n",
       "      <td>1.000000</td>\n",
       "      <td>0.092991</td>\n",
       "      <td>0.322950</td>\n",
       "      <td>0.328447</td>\n",
       "      <td>0.984243</td>\n",
       "      <td>0.002375</td>\n",
       "      <td>0.21830</td>\n",
       "    </tr>\n",
       "    <tr>\n",
       "      <th>1</th>\n",
       "      <td>LCFT112719</td>\n",
       "      <td>S010720-6</td>\n",
       "      <td>0.409744</td>\n",
       "      <td>0.757119</td>\n",
       "      <td>0.000000</td>\n",
       "      <td>0.050251</td>\n",
       "      <td>0.040985</td>\n",
       "      <td>0.931513</td>\n",
       "      <td>0.00597</td>\n",
       "    </tr>\n",
       "    <tr>\n",
       "      <th>2</th>\n",
       "      <td>LCFT112719</td>\n",
       "      <td>S102819-1</td>\n",
       "      <td>0.423599</td>\n",
       "      <td>0.704225</td>\n",
       "      <td>0.030810</td>\n",
       "      <td>0.040493</td>\n",
       "      <td>0.039880</td>\n",
       "      <td>0.938468</td>\n",
       "      <td>0.01136</td>\n",
       "    </tr>\n",
       "    <tr>\n",
       "      <th>3</th>\n",
       "      <td>LCFT112719</td>\n",
       "      <td>5030220-1</td>\n",
       "      <td>0.431428</td>\n",
       "      <td>0.639831</td>\n",
       "      <td>0.035311</td>\n",
       "      <td>0.042373</td>\n",
       "      <td>0.042610</td>\n",
       "      <td>0.935219</td>\n",
       "      <td>0.00708</td>\n",
       "    </tr>\n",
       "    <tr>\n",
       "      <th>4</th>\n",
       "      <td>LCFT112719</td>\n",
       "      <td>S090721-4</td>\n",
       "      <td>0.431992</td>\n",
       "      <td>0.544554</td>\n",
       "      <td>0.049505</td>\n",
       "      <td>0.000000</td>\n",
       "      <td>0.045555</td>\n",
       "      <td>0.827392</td>\n",
       "      <td>0.00505</td>\n",
       "    </tr>\n",
       "    <tr>\n",
       "      <th>5</th>\n",
       "      <td>LCFT112719</td>\n",
       "      <td>050321-4</td>\n",
       "      <td>0.441700</td>\n",
       "      <td>0.563514</td>\n",
       "      <td>0.035135</td>\n",
       "      <td>0.043243</td>\n",
       "      <td>0.036604</td>\n",
       "      <td>0.926738</td>\n",
       "      <td>0.00740</td>\n",
       "    </tr>\n",
       "    <tr>\n",
       "      <th>6</th>\n",
       "      <td>LCFT112719</td>\n",
       "      <td>041321-1</td>\n",
       "      <td>0.449071</td>\n",
       "      <td>0.548518</td>\n",
       "      <td>0.037736</td>\n",
       "      <td>0.043127</td>\n",
       "      <td>0.048589</td>\n",
       "      <td>0.833495</td>\n",
       "      <td>0.00742</td>\n",
       "    </tr>\n",
       "    <tr>\n",
       "      <th>7</th>\n",
       "      <td>LCFT112719</td>\n",
       "      <td>S060120-1</td>\n",
       "      <td>0.470796</td>\n",
       "      <td>0.523810</td>\n",
       "      <td>0.111111</td>\n",
       "      <td>0.031746</td>\n",
       "      <td>0.033010</td>\n",
       "      <td>0.862740</td>\n",
       "      <td>0.00630</td>\n",
       "    </tr>\n",
       "    <tr>\n",
       "      <th>8</th>\n",
       "      <td>LCFT112719</td>\n",
       "      <td>072721-7</td>\n",
       "      <td>0.475279</td>\n",
       "      <td>0.314152</td>\n",
       "      <td>0.065319</td>\n",
       "      <td>0.029549</td>\n",
       "      <td>0.041574</td>\n",
       "      <td>0.844474</td>\n",
       "      <td>0.00643</td>\n",
       "    </tr>\n",
       "    <tr>\n",
       "      <th>9</th>\n",
       "      <td>LCFT112719</td>\n",
       "      <td>GHFJF0322</td>\n",
       "      <td>0.478524</td>\n",
       "      <td>0.581290</td>\n",
       "      <td>0.036331</td>\n",
       "      <td>0.117166</td>\n",
       "      <td>0.038432</td>\n",
       "      <td>0.857004</td>\n",
       "      <td>0.01101</td>\n",
       "    </tr>\n",
       "    <tr>\n",
       "      <th>10</th>\n",
       "      <td>LCFT112719</td>\n",
       "      <td>GHFJF0910BB</td>\n",
       "      <td>0.480740</td>\n",
       "      <td>0.558371</td>\n",
       "      <td>0.046154</td>\n",
       "      <td>0.102262</td>\n",
       "      <td>0.038837</td>\n",
       "      <td>0.890550</td>\n",
       "      <td>0.01105</td>\n",
       "    </tr>\n",
       "  </tbody>\n",
       "</table>\n",
       "</div>"
      ],
      "text/plain": [
       "   initial_product   product_ID  weighted_w_tcvol  B_Myrcene_Pct_Total  \\\n",
       "0       LCFT112719   LCFT112719          1.000000             0.092991   \n",
       "1       LCFT112719    S010720-6          0.409744             0.757119   \n",
       "2       LCFT112719    S102819-1          0.423599             0.704225   \n",
       "3       LCFT112719    5030220-1          0.431428             0.639831   \n",
       "4       LCFT112719    S090721-4          0.431992             0.544554   \n",
       "5       LCFT112719     050321-4          0.441700             0.563514   \n",
       "6       LCFT112719     041321-1          0.449071             0.548518   \n",
       "7       LCFT112719    S060120-1          0.470796             0.523810   \n",
       "8       LCFT112719     072721-7          0.475279             0.314152   \n",
       "9       LCFT112719    GHFJF0322          0.478524             0.581290   \n",
       "10      LCFT112719  GHFJF0910BB          0.480740             0.558371   \n",
       "\n",
       "    B_Caryophyllene_Pct_Total  D_Limonene_Pct_Total  THC_Pct_Pct_Total  \\\n",
       "0                    0.322950              0.328447           0.984243   \n",
       "1                    0.000000              0.050251           0.040985   \n",
       "2                    0.030810              0.040493           0.039880   \n",
       "3                    0.035311              0.042373           0.042610   \n",
       "4                    0.049505              0.000000           0.045555   \n",
       "5                    0.035135              0.043243           0.036604   \n",
       "6                    0.037736              0.043127           0.048589   \n",
       "7                    0.111111              0.031746           0.033010   \n",
       "8                    0.065319              0.029549           0.041574   \n",
       "9                    0.036331              0.117166           0.038432   \n",
       "10                   0.046154              0.102262           0.038837   \n",
       "\n",
       "    CBD_Pct_Pct_Total  Total_Terpene_Volume_pct  \n",
       "0            0.002375                   0.21830  \n",
       "1            0.931513                   0.00597  \n",
       "2            0.938468                   0.01136  \n",
       "3            0.935219                   0.00708  \n",
       "4            0.827392                   0.00505  \n",
       "5            0.926738                   0.00740  \n",
       "6            0.833495                   0.00742  \n",
       "7            0.862740                   0.00630  \n",
       "8            0.844474                   0.00643  \n",
       "9            0.857004                   0.01101  \n",
       "10           0.890550                   0.01105  "
      ]
     },
     "execution_count": 89,
     "metadata": {},
     "output_type": "execute_result"
    }
   ],
   "source": [
    "product_avoid('LCFT112719')"
   ]
  },
  {
   "cell_type": "code",
   "execution_count": 90,
   "id": "wITOnctTkT4F",
   "metadata": {
    "ExecuteTime": {
     "end_time": "2022-02-05T18:01:25.496890Z",
     "start_time": "2022-02-05T17:59:36.017124Z"
    },
    "executionInfo": {
     "elapsed": 310114,
     "status": "ok",
     "timestamp": 1636751195840,
     "user": {
      "displayName": "Xinxue Gu",
      "photoUrl": "https://lh3.googleusercontent.com/a-/AOh14Gj9WkmtnU2brQk9QsbQh0F1_zHtCpJidb4IEmCXLQ=s64",
      "userId": "13207589719696204166"
     },
     "user_tz": 480
    },
    "id": "wITOnctTkT4F"
   },
   "outputs": [],
   "source": [
    "merged_similarity_sort.to_csv('product_similarity_score_sorted.csv')"
   ]
  },
  {
   "cell_type": "markdown",
   "id": "88e76d24",
   "metadata": {
    "id": "88e76d24"
   },
   "source": [
    "### Lowest possible similarity"
   ]
  },
  {
   "cell_type": "markdown",
   "id": "4L3e1iAImwg9",
   "metadata": {
    "id": "4L3e1iAImwg9"
   },
   "source": [
    "We want to explore the lowest similarity score for each product to see if there is a cutoff for the products that we should recommend customer to avoid. "
   ]
  },
  {
   "cell_type": "markdown",
   "id": "WoNuAfE2m-Ko",
   "metadata": {
    "id": "WoNuAfE2m-Ko"
   },
   "source": [
    "There are two ways to find the least similar products. \n",
    "\n",
    "1. Sort the distance. Find a fixed number of products with highest distance.\n",
    "\n",
    "2. Use quantiles to find the products that have above a fixed number of percentile distance."
   ]
  },
  {
   "cell_type": "markdown",
   "id": "6877c2e6",
   "metadata": {
    "id": "6877c2e6"
   },
   "source": [
    "#### Lowest 10 products: fixed number"
   ]
  },
  {
   "cell_type": "code",
   "execution_count": 91,
   "id": "f49619fa",
   "metadata": {
    "ExecuteTime": {
     "end_time": "2022-02-05T18:01:25.784930Z",
     "start_time": "2022-02-05T18:01:25.783357Z"
    },
    "id": "f49619fa"
   },
   "outputs": [],
   "source": [
    "## simply find the lowest 10 products\n",
    "\n",
    "# def product_avoid(user, product):\n",
    "#     rec_dict = dict()\n",
    "#     for i in product_cos_dist_df.columns:\n",
    "#         rec_dict[i] = product_cos_dist_df.loc[:,i].sort_values(ascending = False)[:10]\n",
    "#     result = pd.DataFrame(columns = ['initial_product','avoid_product_ID','product_cos_distance'])\n",
    "    \n",
    "#     result['avoid_product_ID'] = rec_dict[product].index\n",
    "#     result['initial_product']  =product\n",
    "#     result['product_cos_distance'] = rec_dict[product].values\n",
    "#     result['product_cos_similarity'] = 1-rec_dict[product].values\n",
    "    \n",
    "    \n",
    "#     return result"
   ]
  },
  {
   "cell_type": "code",
   "execution_count": 92,
   "id": "2f68e5f0",
   "metadata": {
    "ExecuteTime": {
     "end_time": "2022-02-05T18:01:26.066392Z",
     "start_time": "2022-02-05T18:01:26.065175Z"
    },
    "colab": {
     "base_uri": "https://localhost:8080/"
    },
    "executionInfo": {
     "elapsed": 2877,
     "status": "ok",
     "timestamp": 1635809232587,
     "user": {
      "displayName": "Xinxue Gu",
      "photoUrl": "https://lh3.googleusercontent.com/a-/AOh14Gj9WkmtnU2brQk9QsbQh0F1_zHtCpJidb4IEmCXLQ=s64",
      "userId": "13207589719696204166"
     },
     "user_tz": 420
    },
    "id": "2f68e5f0",
    "outputId": "a0fee92b-73b7-457a-f7dd-4d1da0c4ec4a"
   },
   "outputs": [],
   "source": [
    "# product_avoid(user,'LCFT112719')"
   ]
  },
  {
   "cell_type": "markdown",
   "id": "779f3863",
   "metadata": {
    "id": "779f3863"
   },
   "source": [
    "#### Lowest 1"
   ]
  },
  {
   "cell_type": "markdown",
   "id": "QFlUIMpZnnjo",
   "metadata": {
    "id": "QFlUIMpZnnjo"
   },
   "source": [
    "For each product, what is the lowest possible similarity??  "
   ]
  },
  {
   "cell_type": "code",
   "execution_count": 93,
   "id": "54b9d85a",
   "metadata": {
    "ExecuteTime": {
     "end_time": "2022-02-05T18:01:26.353948Z",
     "start_time": "2022-02-05T18:01:26.352617Z"
    },
    "colab": {
     "base_uri": "https://localhost:8080/"
    },
    "executionInfo": {
     "elapsed": 2519,
     "status": "ok",
     "timestamp": 1635809235101,
     "user": {
      "displayName": "Xinxue Gu",
      "photoUrl": "https://lh3.googleusercontent.com/a-/AOh14Gj9WkmtnU2brQk9QsbQh0F1_zHtCpJidb4IEmCXLQ=s64",
      "userId": "13207589719696204166"
     },
     "user_tz": 420
    },
    "id": "54b9d85a",
    "outputId": "74916d5d-dd85-478f-8009-4fba70173df8"
   },
   "outputs": [],
   "source": [
    "# %%time\n",
    "# lowest_dict = dict()\n",
    "# for i in product_cos_dist_df.columns:\n",
    "#     lowest_dict[i] = product_cos_dist_df.loc[:,i].sort_values(ascending = False)[:1][0]\n",
    "#     #print(lowest_dict[i])\n",
    "\n",
    "    \n",
    "# lowest_dict   \n"
   ]
  },
  {
   "cell_type": "code",
   "execution_count": 94,
   "id": "a64e637a",
   "metadata": {
    "ExecuteTime": {
     "end_time": "2022-02-05T18:01:26.634987Z",
     "start_time": "2022-02-05T18:01:26.633561Z"
    },
    "colab": {
     "base_uri": "https://localhost:8080/"
    },
    "executionInfo": {
     "elapsed": 12,
     "status": "ok",
     "timestamp": 1635809235101,
     "user": {
      "displayName": "Xinxue Gu",
      "photoUrl": "https://lh3.googleusercontent.com/a-/AOh14Gj9WkmtnU2brQk9QsbQh0F1_zHtCpJidb4IEmCXLQ=s64",
      "userId": "13207589719696204166"
     },
     "user_tz": 420
    },
    "id": "a64e637a",
    "outputId": "d3d3a469-c5f3-4952-cf08-c96e32f6b0e0"
   },
   "outputs": [],
   "source": [
    "# %%time\n",
    "\n",
    "# lowest_df = pd.DataFrame({'Initial_product':list(lowest_dict.keys()),\n",
    "#                           'Lowest_similarity':list(lowest_dict.values())})"
   ]
  },
  {
   "cell_type": "code",
   "execution_count": 95,
   "id": "h-_N-Gl7QkUh",
   "metadata": {
    "ExecuteTime": {
     "end_time": "2022-02-05T18:01:26.925467Z",
     "start_time": "2022-02-05T18:01:26.923944Z"
    },
    "colab": {
     "base_uri": "https://localhost:8080/"
    },
    "executionInfo": {
     "elapsed": 11,
     "status": "ok",
     "timestamp": 1635809235102,
     "user": {
      "displayName": "Xinxue Gu",
      "photoUrl": "https://lh3.googleusercontent.com/a-/AOh14Gj9WkmtnU2brQk9QsbQh0F1_zHtCpJidb4IEmCXLQ=s64",
      "userId": "13207589719696204166"
     },
     "user_tz": 420
    },
    "id": "h-_N-Gl7QkUh",
    "outputId": "92a881a5-9172-4f79-b01a-c80804cf5a4c"
   },
   "outputs": [],
   "source": [
    "# lowest_df"
   ]
  },
  {
   "cell_type": "code",
   "execution_count": 96,
   "id": "64e9bf0d",
   "metadata": {
    "ExecuteTime": {
     "end_time": "2022-02-05T18:01:27.212860Z",
     "start_time": "2022-02-05T18:01:27.211559Z"
    },
    "colab": {
     "base_uri": "https://localhost:8080/"
    },
    "executionInfo": {
     "elapsed": 9,
     "status": "ok",
     "timestamp": 1635809235102,
     "user": {
      "displayName": "Xinxue Gu",
      "photoUrl": "https://lh3.googleusercontent.com/a-/AOh14Gj9WkmtnU2brQk9QsbQh0F1_zHtCpJidb4IEmCXLQ=s64",
      "userId": "13207589719696204166"
     },
     "user_tz": 420
    },
    "id": "64e9bf0d",
    "outputId": "eac2ef3d-cda7-45ce-97ed-c9f30979fb10"
   },
   "outputs": [],
   "source": [
    "# %%time\n",
    "# lowest_df.describe()"
   ]
  },
  {
   "cell_type": "markdown",
   "id": "4f6a9365",
   "metadata": {
    "id": "4f6a9365"
   },
   "source": [
    "#### Lowest 10 percentile"
   ]
  },
  {
   "cell_type": "markdown",
   "id": "3RzG39NgoEPc",
   "metadata": {
    "id": "3RzG39NgoEPc"
   },
   "source": [
    "The number of products identified may be different, but they all have above X percentile of distance. \n"
   ]
  },
  {
   "cell_type": "code",
   "execution_count": 97,
   "id": "cf171fe5",
   "metadata": {
    "ExecuteTime": {
     "end_time": "2022-02-05T18:01:27.493010Z",
     "start_time": "2022-02-05T18:01:27.491640Z"
    },
    "id": "cf171fe5"
   },
   "outputs": [],
   "source": [
    "# find the lowest 10 percentile\n",
    "\n",
    "\n",
    "# %%time\n",
    "\n",
    "\n",
    "# rec_dict = dict()\n",
    "# for i in product_cos_dist_df.columns:\n",
    "#     cut = product_cos_dist_df[i].quantile(0.9)\n",
    "#     for j in range(len(product_cos_dist_df)):\n",
    "#         if product_cos_dist_df.loc[j,i] > cut:\n",
    "#             rec_dict[i] = roduct_cos_dist_df.loc[j,i]\n",
    "# rec_dict   "
   ]
  },
  {
   "cell_type": "code",
   "execution_count": 98,
   "id": "56f3bb6d",
   "metadata": {
    "ExecuteTime": {
     "end_time": "2022-02-05T18:01:27.773209Z",
     "start_time": "2022-02-05T18:01:27.771733Z"
    },
    "colab": {
     "base_uri": "https://localhost:8080/"
    },
    "executionInfo": {
     "elapsed": 2369,
     "status": "ok",
     "timestamp": 1635809237464,
     "user": {
      "displayName": "Xinxue Gu",
      "photoUrl": "https://lh3.googleusercontent.com/a-/AOh14Gj9WkmtnU2brQk9QsbQh0F1_zHtCpJidb4IEmCXLQ=s64",
      "userId": "13207589719696204166"
     },
     "user_tz": 420
    },
    "id": "56f3bb6d",
    "outputId": "b372beac-5e15-469b-d1be-1592f7745913"
   },
   "outputs": [],
   "source": [
    "# %%time\n",
    "# cut_df = pd.DataFrame(index = product_cos_dist_df.columns, columns = ['cutoff'])\n",
    "# for i in product_cos_dist_df.columns:\n",
    "#     cut = product_cos_dist_df[i].quantile(0.99)\n",
    "#     cut_df.loc[i,'cutoff'] = cut\n",
    "\n",
    "# cut_df  "
   ]
  },
  {
   "cell_type": "code",
   "execution_count": 99,
   "id": "91f26101",
   "metadata": {
    "ExecuteTime": {
     "end_time": "2022-02-05T18:01:28.059500Z",
     "start_time": "2022-02-05T18:01:28.058103Z"
    },
    "colab": {
     "base_uri": "https://localhost:8080/"
    },
    "executionInfo": {
     "elapsed": 4,
     "status": "ok",
     "timestamp": 1635809237464,
     "user": {
      "displayName": "Xinxue Gu",
      "photoUrl": "https://lh3.googleusercontent.com/a-/AOh14Gj9WkmtnU2brQk9QsbQh0F1_zHtCpJidb4IEmCXLQ=s64",
      "userId": "13207589719696204166"
     },
     "user_tz": 420
    },
    "id": "91f26101",
    "outputId": "edc519a3-f86f-41d4-d646-6f4314c0261f"
   },
   "outputs": [],
   "source": [
    "# cut_df.mean()"
   ]
  },
  {
   "cell_type": "code",
   "execution_count": 100,
   "id": "d897082d",
   "metadata": {
    "ExecuteTime": {
     "end_time": "2022-02-05T18:01:28.346395Z",
     "start_time": "2022-02-05T18:01:28.344972Z"
    },
    "colab": {
     "base_uri": "https://localhost:8080/"
    },
    "executionInfo": {
     "elapsed": 2530,
     "status": "ok",
     "timestamp": 1635809239991,
     "user": {
      "displayName": "Xinxue Gu",
      "photoUrl": "https://lh3.googleusercontent.com/a-/AOh14Gj9WkmtnU2brQk9QsbQh0F1_zHtCpJidb4IEmCXLQ=s64",
      "userId": "13207589719696204166"
     },
     "user_tz": 420
    },
    "id": "d897082d",
    "outputId": "0e4a6c91-f662-4e5b-d254-9937482b72d4"
   },
   "outputs": [],
   "source": [
    "# %%time\n",
    "# cut_df = pd.DataFrame(index = product_cos_dist_df.columns, columns = ['cutoff'])\n",
    "# for i in product_cos_dist_df.columns:\n",
    "#     cut = product_cos_dist_df[i].quantile(0.99)\n",
    "#     cut_df.loc[i,'cutoff'] = cut\n",
    "\n",
    "# cut_df  \n",
    "\n",
    "# def product_avoid_10_perc(product):\n",
    "# #     rec_dict = dict()\n",
    "# #     for i in product_cos_dist_df.columns:\n",
    "# #         rec_dict[i] = product_cos_dist_df.loc[:,i].sort_values(ascending = False)[:10]\n",
    "    \n",
    "#     lowest_similarity_list = list(product_cos_dist_df[product_cos_dist_df[product] >cut_df.loc[product,'cutoff']].index)\n",
    "    \n",
    "#     result = pd.DataFrame(columns = ['initial_product','avoid_product_ID','product_cos_distance'])\n",
    "    \n",
    "#     result['avoid_product_ID'] = lowest_similarity_list\n",
    "#     result['initial_product']  =product\n",
    "#     distance = list()\n",
    "#     for i in range(len(result)):\n",
    "        \n",
    "#         id1 = result.loc[i,'initial_product']\n",
    "#         id2 = result.loc[i,'avoid_product_ID']\n",
    "#         distance.append(product_cos_dist_df.loc[id1,id2])\n",
    "#     result['product_cos_distance'] = distance\n",
    "#     result['product_cos_similarity'] = 1-result['product_cos_distance']\n",
    "#     return result"
   ]
  },
  {
   "cell_type": "code",
   "execution_count": 101,
   "id": "279f6f3b",
   "metadata": {
    "ExecuteTime": {
     "end_time": "2022-02-05T18:01:28.633214Z",
     "start_time": "2022-02-05T18:01:28.631834Z"
    },
    "colab": {
     "base_uri": "https://localhost:8080/"
    },
    "executionInfo": {
     "elapsed": 9,
     "status": "ok",
     "timestamp": 1635809239992,
     "user": {
      "displayName": "Xinxue Gu",
      "photoUrl": "https://lh3.googleusercontent.com/a-/AOh14Gj9WkmtnU2brQk9QsbQh0F1_zHtCpJidb4IEmCXLQ=s64",
      "userId": "13207589719696204166"
     },
     "user_tz": 420
    },
    "id": "279f6f3b",
    "outputId": "0796d5b3-f072-40cb-f2c9-94cd2886a731"
   },
   "outputs": [],
   "source": [
    "# %%time\n",
    "# product_avoid_10_perc('LB141B').sort_values('product_cos_distance', ascending  = False)"
   ]
  },
  {
   "cell_type": "code",
   "execution_count": 102,
   "id": "d31e5113",
   "metadata": {
    "ExecuteTime": {
     "end_time": "2022-02-05T18:01:28.919118Z",
     "start_time": "2022-02-05T18:01:28.917652Z"
    },
    "colab": {
     "base_uri": "https://localhost:8080/"
    },
    "executionInfo": {
     "elapsed": 7,
     "status": "ok",
     "timestamp": 1635809239992,
     "user": {
      "displayName": "Xinxue Gu",
      "photoUrl": "https://lh3.googleusercontent.com/a-/AOh14Gj9WkmtnU2brQk9QsbQh0F1_zHtCpJidb4IEmCXLQ=s64",
      "userId": "13207589719696204166"
     },
     "user_tz": 420
    },
    "id": "d31e5113",
    "outputId": "b11e4017-5e8d-4cdf-d848-d0be45e73f28"
   },
   "outputs": [],
   "source": [
    "# product_cos_dist_df['LB141B'].max()"
   ]
  },
  {
   "cell_type": "code",
   "execution_count": null,
   "id": "884b0492",
   "metadata": {
    "id": "884b0492"
   },
   "outputs": [],
   "source": []
  },
  {
   "cell_type": "code",
   "execution_count": null,
   "id": "0746d26d",
   "metadata": {
    "id": "0746d26d"
   },
   "outputs": [],
   "source": []
  },
  {
   "cell_type": "code",
   "execution_count": 103,
   "id": "c9583372",
   "metadata": {
    "ExecuteTime": {
     "end_time": "2022-02-05T18:01:29.200664Z",
     "start_time": "2022-02-05T18:01:29.199397Z"
    },
    "colab": {
     "base_uri": "https://localhost:8080/"
    },
    "executionInfo": {
     "elapsed": 2853,
     "status": "ok",
     "timestamp": 1635809242840,
     "user": {
      "displayName": "Xinxue Gu",
      "photoUrl": "https://lh3.googleusercontent.com/a-/AOh14Gj9WkmtnU2brQk9QsbQh0F1_zHtCpJidb4IEmCXLQ=s64",
      "userId": "13207589719696204166"
     },
     "user_tz": 420
    },
    "id": "c9583372",
    "outputId": "f7b4ae9a-46aa-4327-c319-54eea1f63e05"
   },
   "outputs": [],
   "source": [
    "# %%time\n",
    "# cut_df = pd.DataFrame(index = product_cos_dist_df.columns, columns = ['cutoff'])\n",
    "# for i in product_cos_dist_df.columns:\n",
    "#     cut = product_cos_dist_df[i].quantile(0.995)\n",
    "#     cut_df.loc[i,'cutoff'] = cut\n",
    "\n",
    "# cut_df  "
   ]
  },
  {
   "cell_type": "code",
   "execution_count": 104,
   "id": "74d9793f",
   "metadata": {
    "ExecuteTime": {
     "end_time": "2022-02-05T18:01:29.485237Z",
     "start_time": "2022-02-05T18:01:29.483818Z"
    },
    "colab": {
     "base_uri": "https://localhost:8080/"
    },
    "executionInfo": {
     "elapsed": 32,
     "status": "ok",
     "timestamp": 1635809242841,
     "user": {
      "displayName": "Xinxue Gu",
      "photoUrl": "https://lh3.googleusercontent.com/a-/AOh14Gj9WkmtnU2brQk9QsbQh0F1_zHtCpJidb4IEmCXLQ=s64",
      "userId": "13207589719696204166"
     },
     "user_tz": 420
    },
    "id": "74d9793f",
    "outputId": "feb2f812-e6c4-47ef-9df5-ff3c733c0ddc"
   },
   "outputs": [],
   "source": [
    "# %%time\n",
    "# product_cos_dist_df['210000248'].quantile(0.9)"
   ]
  },
  {
   "cell_type": "code",
   "execution_count": 105,
   "id": "876404a9",
   "metadata": {
    "ExecuteTime": {
     "end_time": "2022-02-05T18:01:29.786423Z",
     "start_time": "2022-02-05T18:01:29.784938Z"
    },
    "colab": {
     "base_uri": "https://localhost:8080/"
    },
    "executionInfo": {
     "elapsed": 30,
     "status": "ok",
     "timestamp": 1635809242842,
     "user": {
      "displayName": "Xinxue Gu",
      "photoUrl": "https://lh3.googleusercontent.com/a-/AOh14Gj9WkmtnU2brQk9QsbQh0F1_zHtCpJidb4IEmCXLQ=s64",
      "userId": "13207589719696204166"
     },
     "user_tz": 420
    },
    "id": "876404a9",
    "outputId": "dc654a02-9a73-4670-f4f8-bc78a8b1d502"
   },
   "outputs": [],
   "source": [
    "# product_cos_dist_df['210000248'].quantile(0.95)"
   ]
  },
  {
   "cell_type": "code",
   "execution_count": 106,
   "id": "d2525b21",
   "metadata": {
    "ExecuteTime": {
     "end_time": "2022-02-05T18:01:30.092304Z",
     "start_time": "2022-02-05T18:01:30.090977Z"
    },
    "colab": {
     "base_uri": "https://localhost:8080/"
    },
    "executionInfo": {
     "elapsed": 29,
     "status": "ok",
     "timestamp": 1635809242842,
     "user": {
      "displayName": "Xinxue Gu",
      "photoUrl": "https://lh3.googleusercontent.com/a-/AOh14Gj9WkmtnU2brQk9QsbQh0F1_zHtCpJidb4IEmCXLQ=s64",
      "userId": "13207589719696204166"
     },
     "user_tz": 420
    },
    "id": "d2525b21",
    "outputId": "493ef54d-c293-48a5-ff3f-1ba2ddddddf0"
   },
   "outputs": [],
   "source": [
    "# product_cos_dist_df['210000248'].quantile(0.98)"
   ]
  },
  {
   "cell_type": "code",
   "execution_count": 107,
   "id": "38124865",
   "metadata": {
    "ExecuteTime": {
     "end_time": "2022-02-05T18:01:30.397844Z",
     "start_time": "2022-02-05T18:01:30.396590Z"
    },
    "colab": {
     "base_uri": "https://localhost:8080/"
    },
    "executionInfo": {
     "elapsed": 28,
     "status": "ok",
     "timestamp": 1635809242842,
     "user": {
      "displayName": "Xinxue Gu",
      "photoUrl": "https://lh3.googleusercontent.com/a-/AOh14Gj9WkmtnU2brQk9QsbQh0F1_zHtCpJidb4IEmCXLQ=s64",
      "userId": "13207589719696204166"
     },
     "user_tz": 420
    },
    "id": "38124865",
    "outputId": "3157c35f-f72d-46a8-ba99-bd217149566a"
   },
   "outputs": [],
   "source": [
    "# product_cos_dist_df['210000248'].quantile(0.5)"
   ]
  },
  {
   "cell_type": "code",
   "execution_count": null,
   "id": "a7797af0",
   "metadata": {
    "id": "a7797af0"
   },
   "outputs": [],
   "source": []
  },
  {
   "cell_type": "code",
   "execution_count": null,
   "id": "955c7d0b",
   "metadata": {
    "id": "955c7d0b"
   },
   "outputs": [],
   "source": []
  },
  {
   "cell_type": "markdown",
   "id": "42652ed2",
   "metadata": {
    "id": "42652ed2"
   },
   "source": [
    "### Random Sampling\n",
    "\n",
    "\n",
    "\n"
   ]
  },
  {
   "cell_type": "code",
   "execution_count": 108,
   "id": "o6HL-FTVhw_1",
   "metadata": {
    "ExecuteTime": {
     "end_time": "2022-02-05T18:01:30.708966Z",
     "start_time": "2022-02-05T18:01:30.707609Z"
    },
    "id": "o6HL-FTVhw_1"
   },
   "outputs": [],
   "source": [
    "# random100 = list(clustered['Batch_ID'].sample(n=500, random_state=1).values)"
   ]
  },
  {
   "cell_type": "code",
   "execution_count": 109,
   "id": "TKSBpCU5hxFn",
   "metadata": {
    "ExecuteTime": {
     "end_time": "2022-02-05T18:01:31.009709Z",
     "start_time": "2022-02-05T18:01:31.008364Z"
    },
    "id": "TKSBpCU5hxFn"
   },
   "outputs": [],
   "source": [
    "# product = 'LB141B'"
   ]
  },
  {
   "cell_type": "code",
   "execution_count": 110,
   "id": "ztpBB2UehxNl",
   "metadata": {
    "ExecuteTime": {
     "end_time": "2022-02-05T18:01:31.315838Z",
     "start_time": "2022-02-05T18:01:31.314128Z"
    },
    "id": "ztpBB2UehxNl"
   },
   "outputs": [],
   "source": [
    "# random100_distance = product_cos_dist_df['LB141B'][(product_cos_dist_df['LB141B'].index).isin(random100)]\n",
    "# random100_distance_sort = random100_distance.sort_values(ascending= True)\n",
    "# random100_distance_head10 = random100_distance_sort.head(10)\n",
    "# random100_distance_tail10 = random100_distance_sort.tail(10)"
   ]
  },
  {
   "cell_type": "code",
   "execution_count": 111,
   "id": "-cRUitErhxOe",
   "metadata": {
    "ExecuteTime": {
     "end_time": "2022-02-05T18:01:31.616405Z",
     "start_time": "2022-02-05T18:01:31.615002Z"
    },
    "colab": {
     "base_uri": "https://localhost:8080/"
    },
    "executionInfo": {
     "elapsed": 29,
     "status": "ok",
     "timestamp": 1635809242846,
     "user": {
      "displayName": "Xinxue Gu",
      "photoUrl": "https://lh3.googleusercontent.com/a-/AOh14Gj9WkmtnU2brQk9QsbQh0F1_zHtCpJidb4IEmCXLQ=s64",
      "userId": "13207589719696204166"
     },
     "user_tz": 420
    },
    "id": "-cRUitErhxOe",
    "outputId": "2879ace1-0890-451d-f436-6fca5768729f"
   },
   "outputs": [],
   "source": [
    "# random100_distance_head10"
   ]
  },
  {
   "cell_type": "code",
   "execution_count": 112,
   "id": "cRuRX_o6hxQ_",
   "metadata": {
    "ExecuteTime": {
     "end_time": "2022-02-05T18:01:31.901368Z",
     "start_time": "2022-02-05T18:01:31.900001Z"
    },
    "colab": {
     "base_uri": "https://localhost:8080/"
    },
    "executionInfo": {
     "elapsed": 28,
     "status": "ok",
     "timestamp": 1635809242846,
     "user": {
      "displayName": "Xinxue Gu",
      "photoUrl": "https://lh3.googleusercontent.com/a-/AOh14Gj9WkmtnU2brQk9QsbQh0F1_zHtCpJidb4IEmCXLQ=s64",
      "userId": "13207589719696204166"
     },
     "user_tz": 420
    },
    "id": "cRuRX_o6hxQ_",
    "outputId": "d4cdfbc6-a394-4253-b0eb-abde22a95153"
   },
   "outputs": [],
   "source": [
    "# random100_distance_tail10"
   ]
  },
  {
   "cell_type": "code",
   "execution_count": null,
   "id": "B6iuOD9QhxS8",
   "metadata": {
    "id": "B6iuOD9QhxS8"
   },
   "outputs": [],
   "source": []
  },
  {
   "cell_type": "markdown",
   "id": "GKsyh2QjlJHn",
   "metadata": {
    "id": "GKsyh2QjlJHn"
   },
   "source": [
    "#### Function"
   ]
  },
  {
   "cell_type": "code",
   "execution_count": 113,
   "id": "9BcaQtA2lL3A",
   "metadata": {
    "ExecuteTime": {
     "end_time": "2022-02-05T18:01:32.188543Z",
     "start_time": "2022-02-05T18:01:32.187014Z"
    },
    "id": "9BcaQtA2lL3A"
   },
   "outputs": [],
   "source": [
    "# def random_sample_rec(product, n):\n",
    "#   ''' \n",
    "#   Randomly sample n number of products from the product pool\n",
    "#   return the most similar ones to the input product from sample.\n",
    "#   '''\n",
    "#   random_list = list(clustered['Batch_ID'].sample(n, random_state=1).values)\n",
    "#   random_distance = product_cos_dist_df[product][(product_cos_dist_df[product].index).isin(random_list)]\n",
    "#   random_distance_sort = random_distance.sort_values(ascending= True)\n",
    "#   random_distance_head10 = random_distance_sort.head(10)\n",
    "#   random_distance_tail10 = random_distance_sort.tail(10)\n",
    "\n",
    "  \n",
    "#   result = pd.DataFrame(columns = ['initial_product','rec_product_ID','product_cos_distance'])\n",
    "  \n",
    "#   result['rec_product_ID'] = random_distance_head10.index\n",
    "#   result['initial_product']  =product\n",
    "#   result['product_cos_distance'] = list(random_distance_head10.values)\n",
    "#   result['product_cos_similarity'] = 1-result['product_cos_distance']\n",
    "\n",
    "#   return result\n",
    "\n",
    "\n"
   ]
  },
  {
   "cell_type": "code",
   "execution_count": 114,
   "id": "_JVvvG3plL50",
   "metadata": {
    "ExecuteTime": {
     "end_time": "2022-02-05T18:01:32.470822Z",
     "start_time": "2022-02-05T18:01:32.469439Z"
    },
    "colab": {
     "base_uri": "https://localhost:8080/"
    },
    "executionInfo": {
     "elapsed": 27,
     "status": "ok",
     "timestamp": 1635809242847,
     "user": {
      "displayName": "Xinxue Gu",
      "photoUrl": "https://lh3.googleusercontent.com/a-/AOh14Gj9WkmtnU2brQk9QsbQh0F1_zHtCpJidb4IEmCXLQ=s64",
      "userId": "13207589719696204166"
     },
     "user_tz": 420
    },
    "id": "_JVvvG3plL50",
    "outputId": "dc8ddffb-97b7-4eab-9920-b8fa47738493"
   },
   "outputs": [],
   "source": [
    "# random_sample_rec('LB229C',100)"
   ]
  },
  {
   "cell_type": "code",
   "execution_count": null,
   "id": "PhPBDDvilL7G",
   "metadata": {
    "id": "PhPBDDvilL7G"
   },
   "outputs": [],
   "source": []
  },
  {
   "cell_type": "code",
   "execution_count": null,
   "id": "5Nb7A6oOmmr5",
   "metadata": {
    "id": "5Nb7A6oOmmr5"
   },
   "outputs": [],
   "source": []
  },
  {
   "cell_type": "code",
   "execution_count": null,
   "id": "wiZXumKVmmxo",
   "metadata": {
    "id": "wiZXumKVmmxo"
   },
   "outputs": [],
   "source": []
  },
  {
   "cell_type": "code",
   "execution_count": null,
   "id": "o3KHHw3Jmmyx",
   "metadata": {
    "id": "o3KHHw3Jmmyx"
   },
   "outputs": [],
   "source": []
  },
  {
   "cell_type": "code",
   "execution_count": null,
   "id": "dgwNuYl5mm0l",
   "metadata": {
    "id": "dgwNuYl5mm0l"
   },
   "outputs": [],
   "source": []
  },
  {
   "cell_type": "markdown",
   "id": "bd5e09c4",
   "metadata": {
    "id": "bd5e09c4"
   },
   "source": [
    "### Recommendation for new user: item profile based"
   ]
  },
  {
   "cell_type": "markdown",
   "id": "bd098aab",
   "metadata": {
    "id": "bd098aab"
   },
   "source": [
    "Input: user initial profile, such as the expected effect; new users usually don't have reviewed products, we don't know their attitude towards a specific product. \n",
    "\n",
    "Output: recommendation based on item profiles\n"
   ]
  },
  {
   "cell_type": "markdown",
   "id": "0e992fd1",
   "metadata": {
    "id": "0e992fd1"
   },
   "source": [
    "Item profile is a matrix, recording how many percentage of users link product A with effect B, as well as product ratings. \n"
   ]
  },
  {
   "cell_type": "code",
   "execution_count": null,
   "id": "68e8e628",
   "metadata": {
    "id": "68e8e628"
   },
   "outputs": [],
   "source": []
  },
  {
   "cell_type": "code",
   "execution_count": null,
   "id": "366c4858",
   "metadata": {
    "ExecuteTime": {
     "end_time": "2022-02-05T10:12:27.091609Z",
     "start_time": "2022-02-05T10:12:27.091605Z"
    },
    "colab": {
     "base_uri": "https://localhost:8080/"
    },
    "executionInfo": {
     "elapsed": 531,
     "status": "ok",
     "timestamp": 1635809243354,
     "user": {
      "displayName": "Xinxue Gu",
      "photoUrl": "https://lh3.googleusercontent.com/a-/AOh14Gj9WkmtnU2brQk9QsbQh0F1_zHtCpJidb4IEmCXLQ=s64",
      "userId": "13207589719696204166"
     },
     "user_tz": 420
    },
    "id": "366c4858",
    "outputId": "a2ec6735-5aac-4a0c-b8f7-1819eee835e8"
   },
   "outputs": [],
   "source": [
    "summary_df"
   ]
  },
  {
   "cell_type": "code",
   "execution_count": null,
   "id": "c9cae7c2",
   "metadata": {
    "ExecuteTime": {
     "end_time": "2022-02-05T10:12:27.092666Z",
     "start_time": "2022-02-05T10:12:27.092662Z"
    },
    "colab": {
     "base_uri": "https://localhost:8080/"
    },
    "executionInfo": {
     "elapsed": 16,
     "status": "ok",
     "timestamp": 1635809243355,
     "user": {
      "displayName": "Xinxue Gu",
      "photoUrl": "https://lh3.googleusercontent.com/a-/AOh14Gj9WkmtnU2brQk9QsbQh0F1_zHtCpJidb4IEmCXLQ=s64",
      "userId": "13207589719696204166"
     },
     "user_tz": 420
    },
    "id": "c9cae7c2",
    "outputId": "98e2cd93-d52e-4381-f46d-06f50a43a000"
   },
   "outputs": [],
   "source": [
    "experience_summary_df = reviews.groupby(['Experience','Batch ID']).agg({'Account':'count'})\n",
    "experience_summary_df"
   ]
  },
  {
   "cell_type": "code",
   "execution_count": null,
   "id": "21a8f44c",
   "metadata": {
    "ExecuteTime": {
     "end_time": "2022-02-05T10:12:27.093612Z",
     "start_time": "2022-02-05T10:12:27.093607Z"
    },
    "colab": {
     "base_uri": "https://localhost:8080/"
    },
    "executionInfo": {
     "elapsed": 14,
     "status": "ok",
     "timestamp": 1635809243355,
     "user": {
      "displayName": "Xinxue Gu",
      "photoUrl": "https://lh3.googleusercontent.com/a-/AOh14Gj9WkmtnU2brQk9QsbQh0F1_zHtCpJidb4IEmCXLQ=s64",
      "userId": "13207589719696204166"
     },
     "user_tz": 420
    },
    "id": "21a8f44c",
    "outputId": "546779f0-8c1a-4241-92c5-a37fccfecef9"
   },
   "outputs": [],
   "source": [
    "product_summary_df = reviews.groupby(['Batch ID','Experience']).agg({'Account':'count'})\n",
    "product_summary_df"
   ]
  },
  {
   "cell_type": "code",
   "execution_count": null,
   "id": "0a176ccb",
   "metadata": {
    "ExecuteTime": {
     "end_time": "2022-02-05T10:12:27.095081Z",
     "start_time": "2022-02-05T10:12:27.095077Z"
    },
    "colab": {
     "base_uri": "https://localhost:8080/"
    },
    "executionInfo": {
     "elapsed": 13,
     "status": "ok",
     "timestamp": 1635809243355,
     "user": {
      "displayName": "Xinxue Gu",
      "photoUrl": "https://lh3.googleusercontent.com/a-/AOh14Gj9WkmtnU2brQk9QsbQh0F1_zHtCpJidb4IEmCXLQ=s64",
      "userId": "13207589719696204166"
     },
     "user_tz": 420
    },
    "id": "0a176ccb",
    "outputId": "790daf5a-9c02-4d5f-eeb2-ef3701cb491f"
   },
   "outputs": [],
   "source": [
    "reviews[['Batch ID','Experience']]"
   ]
  },
  {
   "cell_type": "code",
   "execution_count": null,
   "id": "6e3f8e19",
   "metadata": {
    "ExecuteTime": {
     "end_time": "2022-02-05T10:12:27.096158Z",
     "start_time": "2022-02-05T10:12:27.096154Z"
    },
    "colab": {
     "base_uri": "https://localhost:8080/"
    },
    "executionInfo": {
     "elapsed": 13,
     "status": "ok",
     "timestamp": 1635809243356,
     "user": {
      "displayName": "Xinxue Gu",
      "photoUrl": "https://lh3.googleusercontent.com/a-/AOh14Gj9WkmtnU2brQk9QsbQh0F1_zHtCpJidb4IEmCXLQ=s64",
      "userId": "13207589719696204166"
     },
     "user_tz": 420
    },
    "id": "6e3f8e19",
    "outputId": "6be2ace6-59d5-47c4-c01d-584f8fce107a"
   },
   "outputs": [],
   "source": [
    "item_profile_matrix = pd.DataFrame(columns = set(reviews['Experience'].values),index = reviews['Batch ID'].values)\n",
    "item_profile_matrix"
   ]
  },
  {
   "cell_type": "code",
   "execution_count": null,
   "id": "3f2e1e02",
   "metadata": {
    "ExecuteTime": {
     "end_time": "2022-02-05T10:12:27.097133Z",
     "start_time": "2022-02-05T10:12:27.097129Z"
    },
    "colab": {
     "base_uri": "https://localhost:8080/"
    },
    "executionInfo": {
     "elapsed": 24411,
     "status": "ok",
     "timestamp": 1635809267756,
     "user": {
      "displayName": "Xinxue Gu",
      "photoUrl": "https://lh3.googleusercontent.com/a-/AOh14Gj9WkmtnU2brQk9QsbQh0F1_zHtCpJidb4IEmCXLQ=s64",
      "userId": "13207589719696204166"
     },
     "user_tz": 420
    },
    "id": "3f2e1e02",
    "outputId": "e52b514d-2ce5-4d62-8282-57f2500b76a2"
   },
   "outputs": [],
   "source": [
    "%%time\n",
    "for i in tqdm(reviews['Batch ID'].values):\n",
    "    for j in reviews['Experience'].values:\n",
    "        count = len(reviews[(reviews['Batch ID']==i) & (reviews['Experience']==j)])\n",
    "        item_profile_matrix.loc[i,j]=  count\n",
    "        "
   ]
  },
  {
   "cell_type": "code",
   "execution_count": null,
   "id": "a7448bf4",
   "metadata": {
    "ExecuteTime": {
     "end_time": "2022-02-05T10:12:27.098341Z",
     "start_time": "2022-02-05T10:12:27.098336Z"
    },
    "colab": {
     "base_uri": "https://localhost:8080/"
    },
    "executionInfo": {
     "elapsed": 383,
     "status": "ok",
     "timestamp": 1635809268125,
     "user": {
      "displayName": "Xinxue Gu",
      "photoUrl": "https://lh3.googleusercontent.com/a-/AOh14Gj9WkmtnU2brQk9QsbQh0F1_zHtCpJidb4IEmCXLQ=s64",
      "userId": "13207589719696204166"
     },
     "user_tz": 420
    },
    "id": "a7448bf4",
    "outputId": "3a1575ba-f576-4781-d6b1-e238f2687f5a"
   },
   "outputs": [],
   "source": [
    "%%time\n",
    "item_profile_matrix"
   ]
  },
  {
   "cell_type": "code",
   "execution_count": null,
   "id": "38d46d26",
   "metadata": {
    "ExecuteTime": {
     "end_time": "2022-02-05T10:12:27.099206Z",
     "start_time": "2022-02-05T10:12:27.099201Z"
    },
    "colab": {
     "base_uri": "https://localhost:8080/"
    },
    "executionInfo": {
     "elapsed": 15,
     "status": "ok",
     "timestamp": 1635809268126,
     "user": {
      "displayName": "Xinxue Gu",
      "photoUrl": "https://lh3.googleusercontent.com/a-/AOh14Gj9WkmtnU2brQk9QsbQh0F1_zHtCpJidb4IEmCXLQ=s64",
      "userId": "13207589719696204166"
     },
     "user_tz": 420
    },
    "id": "38d46d26",
    "outputId": "df60b2dc-980a-49e3-f096-76224af02759"
   },
   "outputs": [],
   "source": [
    "%%time\n",
    "item_profile_matrix['sum'] = item_profile_matrix.sum(axis=1)\n"
   ]
  },
  {
   "cell_type": "code",
   "execution_count": null,
   "id": "bb2d76f7",
   "metadata": {
    "ExecuteTime": {
     "end_time": "2022-02-05T10:12:27.100048Z",
     "start_time": "2022-02-05T10:12:27.100043Z"
    },
    "colab": {
     "base_uri": "https://localhost:8080/"
    },
    "executionInfo": {
     "elapsed": 14,
     "status": "ok",
     "timestamp": 1635809268126,
     "user": {
      "displayName": "Xinxue Gu",
      "photoUrl": "https://lh3.googleusercontent.com/a-/AOh14Gj9WkmtnU2brQk9QsbQh0F1_zHtCpJidb4IEmCXLQ=s64",
      "userId": "13207589719696204166"
     },
     "user_tz": 420
    },
    "id": "bb2d76f7",
    "outputId": "cb9b6f50-aa0c-4394-8d5d-87eac6dc26db"
   },
   "outputs": [],
   "source": [
    "%%time\n",
    "item_profile_matrix_score = pd.DataFrame()\n",
    "for col in item_profile_matrix.iloc[:,:-1].columns:\n",
    "    item_profile_matrix_score[col] = item_profile_matrix[col]/item_profile_matrix['sum'].values"
   ]
  },
  {
   "cell_type": "code",
   "execution_count": null,
   "id": "7a98785c",
   "metadata": {
    "id": "7a98785c"
   },
   "outputs": [],
   "source": []
  },
  {
   "cell_type": "code",
   "execution_count": null,
   "id": "068b52b4",
   "metadata": {
    "ExecuteTime": {
     "end_time": "2022-02-05T10:12:27.100848Z",
     "start_time": "2022-02-05T10:12:27.100843Z"
    },
    "colab": {
     "base_uri": "https://localhost:8080/"
    },
    "executionInfo": {
     "elapsed": 13,
     "status": "ok",
     "timestamp": 1635809268127,
     "user": {
      "displayName": "Xinxue Gu",
      "photoUrl": "https://lh3.googleusercontent.com/a-/AOh14Gj9WkmtnU2brQk9QsbQh0F1_zHtCpJidb4IEmCXLQ=s64",
      "userId": "13207589719696204166"
     },
     "user_tz": 420
    },
    "id": "068b52b4",
    "outputId": "f0a3292b-974f-40e0-b30f-aae55f117a55"
   },
   "outputs": [],
   "source": [
    "item_profile_matrix_score['Sleeping'].sort_values(ascending =False)"
   ]
  },
  {
   "cell_type": "code",
   "execution_count": null,
   "id": "3d7811d8",
   "metadata": {
    "id": "3d7811d8"
   },
   "outputs": [],
   "source": []
  },
  {
   "cell_type": "code",
   "execution_count": null,
   "id": "23fc0b7e",
   "metadata": {
    "id": "23fc0b7e"
   },
   "outputs": [],
   "source": []
  },
  {
   "cell_type": "markdown",
   "id": "46374bbe",
   "metadata": {
    "id": "46374bbe"
   },
   "source": [
    "## User Based"
   ]
  },
  {
   "cell_type": "markdown",
   "id": "05de8322",
   "metadata": {
    "id": "05de8322"
   },
   "source": [
    "Contruct User profile.\n"
   ]
  },
  {
   "cell_type": "code",
   "execution_count": null,
   "id": "75a19cbf",
   "metadata": {
    "id": "75a19cbf"
   },
   "outputs": [],
   "source": []
  },
  {
   "cell_type": "markdown",
   "id": "657ed8dc",
   "metadata": {
    "id": "657ed8dc"
   },
   "source": [
    "==============================="
   ]
  },
  {
   "cell_type": "code",
   "execution_count": null,
   "id": "a9c28495",
   "metadata": {
    "ExecuteTime": {
     "end_time": "2022-02-05T10:12:27.101808Z",
     "start_time": "2022-02-05T10:12:27.101804Z"
    },
    "colab": {
     "base_uri": "https://localhost:8080/"
    },
    "executionInfo": {
     "elapsed": 13,
     "status": "ok",
     "timestamp": 1635809268128,
     "user": {
      "displayName": "Xinxue Gu",
      "photoUrl": "https://lh3.googleusercontent.com/a-/AOh14Gj9WkmtnU2brQk9QsbQh0F1_zHtCpJidb4IEmCXLQ=s64",
      "userId": "13207589719696204166"
     },
     "user_tz": 420
    },
    "id": "a9c28495",
    "outputId": "e16aae4a-2710-4a14-fa53-e1805a18f4fd"
   },
   "outputs": [],
   "source": [
    "# pairs  = []\n",
    "# for i in range(len(reviews)):\n",
    "#     mytuple = (reviews['Account'][i],reviews['Experience'][i])\n",
    "#     pairs.append(mytuple)\n",
    "# pairs_set = set(pairs)\n",
    "# pairs_set"
   ]
  },
  {
   "cell_type": "code",
   "execution_count": null,
   "id": "b53395e9",
   "metadata": {
    "ExecuteTime": {
     "end_time": "2022-02-05T10:12:27.102661Z",
     "start_time": "2022-02-05T10:12:27.102657Z"
    },
    "id": "b53395e9"
   },
   "outputs": [],
   "source": [
    "\n",
    "# temp = clustered[['Batch_ID','cluster_terpene_only', 'terpenefirst_sub_cluster',\n",
    "#        'terpenefirst_sub_cluster2', 'terpenefirst_multilayer_label',\n",
    "#        'terpenefirst_multilayer_cluster_full_label',\n",
    "#        'terpenefirst_multilayer_cluster_6digit_label',\n",
    "#            'terpenefirst_cluster_adjust_label_2']]\n",
    "\n",
    "# temp = temp.rename(columns = {'Batch_ID':'Batch ID'})\n",
    "# for col in temp.columns[1:]:\n",
    "#        temp[col] = temp[col].astype('str')\n",
    "# reviews_cluster = reviews.merge(temp,on = 'Batch ID',how = 'left')"
   ]
  },
  {
   "cell_type": "code",
   "execution_count": null,
   "id": "74ded4fc",
   "metadata": {
    "ExecuteTime": {
     "end_time": "2022-02-05T10:12:27.103689Z",
     "start_time": "2022-02-05T10:12:27.103684Z"
    },
    "colab": {
     "base_uri": "https://localhost:8080/"
    },
    "executionInfo": {
     "elapsed": 359,
     "status": "ok",
     "timestamp": 1635809268477,
     "user": {
      "displayName": "Xinxue Gu",
      "photoUrl": "https://lh3.googleusercontent.com/a-/AOh14Gj9WkmtnU2brQk9QsbQh0F1_zHtCpJidb4IEmCXLQ=s64",
      "userId": "13207589719696204166"
     },
     "user_tz": 420
    },
    "id": "74ded4fc",
    "outputId": "ff5e8add-64b3-4300-9066-63b64c2c6e6f"
   },
   "outputs": [],
   "source": [
    "# reviews_cluster"
   ]
  },
  {
   "cell_type": "code",
   "execution_count": null,
   "id": "549c7abe",
   "metadata": {
    "ExecuteTime": {
     "end_time": "2022-02-05T10:12:27.104472Z",
     "start_time": "2022-02-05T10:12:27.104468Z"
    },
    "colab": {
     "base_uri": "https://localhost:8080/"
    },
    "executionInfo": {
     "elapsed": 8,
     "status": "ok",
     "timestamp": 1635809268477,
     "user": {
      "displayName": "Xinxue Gu",
      "photoUrl": "https://lh3.googleusercontent.com/a-/AOh14Gj9WkmtnU2brQk9QsbQh0F1_zHtCpJidb4IEmCXLQ=s64",
      "userId": "13207589719696204166"
     },
     "user_tz": 420
    },
    "id": "549c7abe",
    "outputId": "1358d55a-ea7e-41fe-c4b6-a0c16fcf06e1"
   },
   "outputs": [],
   "source": [
    "# result_dict = {}\n",
    "# for pair in pairs_set:\n",
    "#     user, experience = pair\n",
    "#     print(f'{user}:: {experience}')\n",
    "#     temp = reviews_cluster[(reviews_cluster['Account'] == user) & (reviews_cluster['Experience'] == experience )][['Batch ID','cluster_terpene_only', 'terpenefirst_sub_cluster',\n",
    "#    'terpenefirst_sub_cluster2', 'terpenefirst_multilayer_label',\n",
    "#    'terpenefirst_multilayer_cluster_full_label',\n",
    "#    'terpenefirst_multilayer_cluster_6digit_label',\n",
    "#        'terpenefirst_cluster_adjust_label_2']].dropna()\n",
    "#     #print(temp['Batch ID'])\n",
    "#     thecluster = temp['terpenefirst_cluster_adjust_label_2'].values\n",
    "#     print(thecluster)\n",
    "#     themode = temp['terpenefirst_cluster_adjust_label_2'].mode().values\n",
    "#     if len(thecluster) == 1 | len(themode) == 0:\n",
    "#         result_dict[f'{user}:: {experience}'] = thecluster\n",
    "#     else:\n",
    "#         result_dict[f'{user}:: {experience}'] = themode\n",
    "#    # print(result_dict[f'{user}:: {experience}'])\n",
    "#     recommended = clustered[(clustered['terpenefirst_cluster_adjust_label_2'].isin(result_dict[f'{user}:: {experience}']))&\n",
    "#    (~clustered['Batch_ID'].isin(temp['Batch ID'].values))]\n",
    "#     print(recommended['Batch_ID'].values)"
   ]
  },
  {
   "cell_type": "markdown",
   "id": "110ec971",
   "metadata": {
    "id": "110ec971"
   },
   "source": [
    "Cluster based recommendation rational:\n",
    "\n",
    "    top tier: products that are from the same cluster\n",
    "    second tier: products that are from the top 2 similar clusters\n",
    "    third tier: products that are from the top 3-5 similar clusters"
   ]
  },
  {
   "cell_type": "code",
   "execution_count": null,
   "id": "f14354f0",
   "metadata": {
    "ExecuteTime": {
     "end_time": "2022-02-05T10:12:27.105304Z",
     "start_time": "2022-02-05T10:12:27.105300Z"
    },
    "id": "f14354f0"
   },
   "outputs": [],
   "source": [
    "# thecluster = temp['terpenefirst_cluster_adjust_label_2'].values"
   ]
  },
  {
   "cell_type": "code",
   "execution_count": null,
   "id": "0c098137",
   "metadata": {
    "ExecuteTime": {
     "end_time": "2022-02-05T10:12:27.106204Z",
     "start_time": "2022-02-05T10:12:27.106200Z"
    },
    "id": "0c098137"
   },
   "outputs": [],
   "source": [
    "# def get_recommendation(user, experience):\n",
    "#     result_dict = {}\n",
    "#     result_dict_2= {}\n",
    "#     result_dict_3= {}\n",
    "#     temp = reviews_cluster[(reviews_cluster['Account'] == user) & (reviews_cluster['Experience'] == experience )][['Batch ID','cluster_terpene_only', 'terpenefirst_sub_cluster',\n",
    "#    'terpenefirst_sub_cluster2', 'terpenefirst_multilayer_label',\n",
    "#    'terpenefirst_multilayer_cluster_full_label',\n",
    "#    'terpenefirst_multilayer_cluster_6digit_label',\n",
    "#        'terpenefirst_cluster_adjust_label_2']].dropna()\n",
    "#     #print(temp['Batch ID'])\n",
    "#     thecluster = temp['terpenefirst_cluster_adjust_label_2'].values\n",
    "#     #print(thecluster)\n",
    "#     themode = temp['terpenefirst_cluster_adjust_label_2'].mode().values\n",
    "#     if len(thecluster) == 1 | len(themode) == 0:\n",
    "#         result_dict[f'{user}:: {experience}'] = thecluster\n",
    "#     else:\n",
    "#         result_dict[f'{user}:: {experience}'] = themode\n",
    "#    # print(result_dict[f'{user}:: {experience}'])\n",
    "#     recommended = raw[(raw['terpenefirst_cluster_adjust_label_2'].isin(result_dict[f'{user}:: {experience}']))&\n",
    "#    (~raw['Batch_ID'].isin(temp['Batch ID'].values))]\n",
    "#     #print(recommended['Batch_ID'].values)\n",
    "#     print(f\"##Top recommendations found: {len(recommended['Batch_ID'].values)} products\")\n",
    "#     print(list(recommended['Batch_ID'].values))\n",
    "    \n",
    "#     if len(recommended['Batch_ID'].values) <=30:\n",
    "#          ## Second Recommendation   \n",
    "#         second_labels = temp['terpenefirst_multilayer_cluster_6digit_label'].values\n",
    "#         second_labels_mode = temp['terpenefirst_multilayer_cluster_6digit_label'].mode().values\n",
    "#         if len(second_labels) == 1 | len(second_labels_mode) == 0:\n",
    "#             result_dict_2[f'{user}:: {experience}'] = second_labels\n",
    "#         else:\n",
    "#             result_dict_2[f'{user}:: {experience}'] = second_labels_mode\n",
    "#         #print(result_dict_2[f'{user}:: {experience}'])\n",
    "#         recommended_2 = raw[(raw['terpenefirst_multilayer_cluster_6digit_label'].isin(result_dict_2[f'{user}:: {experience}']))&\n",
    "#        (~raw['Batch_ID'].isin(temp['Batch ID'].values))&(~raw['Batch_ID'].isin(recommended['Batch_ID'].values))]\n",
    "#         print(f\"##Second recommendations: { len(recommended_2['Batch_ID'].values)} products\" )\n",
    "#         print(list(recommended_2['Batch_ID'].values))\n",
    "        \n",
    "#         #### Third Recommendation\n",
    "#         if len(recommended['Batch_ID'].values) +len(recommended_2['Batch_ID'].values) <=30:\n",
    "#             third_labels = temp['terpenefirst_multilayer_label'].values\n",
    "#             third_labels_mode = temp['terpenefirst_multilayer_label'].mode().values\n",
    "#             if len(third_labels) == 1 | len(third_labels_mode) == 0:\n",
    "#                 result_dict_3[f'{user}:: {experience}'] = third_labels\n",
    "#             else:\n",
    "#                 result_dict_3[f'{user}:: {experience}'] = third_labels_mode\n",
    "#            # print(result_dict[f'{user}:: {experience}'])\n",
    "#             recommended_3 = raw[(raw['terpenefirst_multilayer_label'].isin(result_dict_3[f'{user}:: {experience}']))&(~raw['Batch_ID'].isin(temp['Batch ID'].values))&\\\n",
    "#                                 (~raw['Batch_ID'].isin(recommended['Batch_ID'].values))&\\\n",
    "#                                 (~raw['Batch_ID'].isin(recommended_2['Batch_ID'].values))]\n",
    "#             #print(recommended_3['Batch_ID'].values)\n",
    "#             print(f\"##Third recommendations: { len(recommended_3['Batch_ID'].values)} products\" )\n",
    "#             print(list(recommended_3['Batch_ID'].values))\n",
    "#             print(f\"Total Recommendations: {len(recommended['Batch_ID'].values) +len(recommended_2['Batch_ID'].values) +len(recommended_3['Batch_ID'].values)} products\" )\n",
    "#         else: recommended_3 = []\n",
    "#     else:recommended_2 = []\n",
    "    \n",
    "    \n",
    "           \n",
    "#     return \n",
    "#list(recommended['Batch_ID'].values),list(recommended_2['Batch_ID'].values),list(recommended_3['Batch_ID'].values)"
   ]
  },
  {
   "cell_type": "code",
   "execution_count": null,
   "id": "e4b700c5",
   "metadata": {
    "id": "e4b700c5"
   },
   "outputs": [],
   "source": []
  },
  {
   "cell_type": "code",
   "execution_count": null,
   "id": "358473c8",
   "metadata": {
    "ExecuteTime": {
     "end_time": "2022-02-05T10:12:27.107160Z",
     "start_time": "2022-02-05T10:12:27.107155Z"
    },
    "id": "358473c8"
   },
   "outputs": [],
   "source": [
    "# def effect_rec(user, experience, product = []):\n",
    "\n",
    "#     temp = clustered[['Batch_ID','cluster_terpene_only', 'terpenefirst_sub_cluster',\n",
    "#            'terpenefirst_sub_cluster2', 'terpenefirst_multilayer_label',\n",
    "#            'terpenefirst_multilayer_cluster_full_label',\n",
    "#            'terpenefirst_multilayer_cluster_6digit_label',\n",
    "#                'terpenefirst_cluster_adjust_label_2']]\n",
    "\n",
    "#     temp = temp.rename(columns = {'Batch_ID':'Batch ID'})\n",
    "#     for col in temp.columns[1:]:\n",
    "#            temp[col] = temp[col].astype('str')\n",
    "#     reviews_cluster = reviews.merge(temp,on = 'Batch ID',how = 'left')\n",
    "#     temp = reviews_cluster[(reviews_cluster['Account'] == user) & (reviews_cluster['Experience'] == experience )][['Batch ID', \n",
    "#                'terpenefirst_cluster_adjust_label_2']].dropna()\n",
    "#     specify_product_ID = [product]\n",
    "#     all_reviewed_product =temp['Batch ID'].values\n",
    "    \n",
    "#     if len(specify_product_ID) !=0 :\n",
    "#         input_product = specify_product_ID\n",
    "#     else:\n",
    "#         input_product = all_reviewed_product\n",
    "        \n",
    "#     temp = temp[temp['Batch ID'].isin(input_product)]\n",
    "    \n",
    "#     ini_cluster = list(set(temp['terpenefirst_cluster_adjust_label_2'].values))\n",
    "#     print(temp)\n",
    "#     print(ini_cluster)\n",
    "    \n",
    "#     #ini_cluster\n",
    "    \n",
    "# #     ########################\n",
    "# #     N = 5\n",
    "# #     rec_result = intermediate(t=temp,i =ini_cluster ,n = N)\n",
    "# #     ############################\n",
    "# # #     if len(list(set(rec_result.Batch_ID.values))) >100:\n",
    "# # #         N = 5\n",
    "# # #         rec_result = intermediate(t=temp,i =ini_cluster ,n = N)\n",
    "# # #         if len(list(set(rec_result.Batch_ID.values))) >50:\n",
    "# # #             N = 5\n",
    "# # #             rec_result = intermediate(t=temp,i =ini_cluster ,n = N)\n",
    "# # #             if len(list(set(rec_result.Batch_ID.values))) >30:\n",
    "# # #                     N = 5\n",
    "# # #                     rec_result = intermediate(t=temp,i =ini_cluster ,n = N)\n",
    "        \n",
    "#     return ini_cluster  \n",
    "#    # return rec_result\n"
   ]
  },
  {
   "cell_type": "code",
   "execution_count": null,
   "id": "b9a710f3",
   "metadata": {
    "ExecuteTime": {
     "end_time": "2022-02-05T10:12:27.108103Z",
     "start_time": "2022-02-05T10:12:27.108099Z"
    },
    "id": "b9a710f3"
   },
   "outputs": [],
   "source": [
    "# def intermediate(t,i ,n):\n",
    "#     rec_cluster_df = cluster_cos_dist_df[cluster_cos_dist_df['Cluster1'].isin(i)].sort_values('Similarity',ascending=False)\n",
    "#     rec_cluster_df = rec_cluster_df.groupby('Cluster1').head(n)\n",
    "#     rec_cluster_df = rec_cluster_df.merge(t,right_on ='terpenefirst_cluster_adjust_label_2',\n",
    "#                         left_on='Cluster1')\n",
    "#     rec_cluster_df = rec_cluster_df.drop('terpenefirst_cluster_adjust_label_2', axis = 1)\n",
    "#     rec_cluster_df.rename(columns = {'Batch ID':'Initial_Product_ID',\n",
    "#         'Cluster2':'Similar_Cluster',\n",
    "#         'Cluster1':'Initial_Product_Cluster',\n",
    "#         'Similarity':'Similarity_to_cluster_centroid'\n",
    "#     },inplace= True)\n",
    "#     #rec_cluster_df\n",
    "#     rec_cluster = list(set(rec_cluster_df['Similar_Cluster']))\n",
    "#     rec_product_cluster = clustered[clustered['terpenefirst_cluster_adjust_label_2'].isin(rec_cluster+ini_cluster)]\n",
    "#     rec_product_similarity = rec_product_cluster.merge(rec_cluster_df[['Initial_Product_ID','Similar_Cluster','Initial_Product_Cluster','Similarity_to_cluster_centroid']],left_on='terpenefirst_cluster_adjust_label_2',\n",
    "#                          right_on='Similar_Cluster')\n",
    "#     rec_result = rec_product_similarity[['Batch_ID','terpenefirst_cluster_adjust_label_2','Similar_Cluster',\n",
    "#                                    'Initial_Product_ID', 'Initial_Product_Cluster',\n",
    "#                                    'Similarity_to_cluster_centroid' ]]\n",
    "#     rec_result.drop_duplicates(subset=['Batch_ID'],inplace = True)\n",
    "#     print(len(list(set(rec_result.Batch_ID.values))))\n",
    "#     rec_result = rec_result.drop(rec_result[rec_result['Batch_ID']==rec_result['Initial_Product_ID']].index,axis = 0)\n",
    "#     return rec_result"
   ]
  },
  {
   "cell_type": "code",
   "execution_count": null,
   "id": "5791b3ca",
   "metadata": {},
   "outputs": [],
   "source": []
  },
  {
   "cell_type": "code",
   "execution_count": null,
   "id": "1d2989a2",
   "metadata": {},
   "outputs": [],
   "source": []
  }
 ],
 "metadata": {
  "accelerator": "GPU",
  "colab": {
   "name": "Recommendation_system.ipynb",
   "provenance": []
  },
  "kernelspec": {
   "display_name": "Python 3 (ipykernel)",
   "language": "python",
   "name": "python3"
  },
  "language_info": {
   "codemirror_mode": {
    "name": "ipython",
    "version": 3
   },
   "file_extension": ".py",
   "mimetype": "text/x-python",
   "name": "python",
   "nbconvert_exporter": "python",
   "pygments_lexer": "ipython3",
   "version": "3.9.9"
  },
  "toc": {
   "base_numbering": 1,
   "nav_menu": {},
   "number_sections": true,
   "sideBar": true,
   "skip_h1_title": false,
   "title_cell": "Table of Contents",
   "title_sidebar": "Contents",
   "toc_cell": false,
   "toc_position": {
    "height": "calc(100% - 180px)",
    "left": "10px",
    "top": "150px",
    "width": "296.712px"
   },
   "toc_section_display": true,
   "toc_window_display": true
  },
  "varInspector": {
   "cols": {
    "lenName": 16,
    "lenType": 16,
    "lenVar": 40
   },
   "kernels_config": {
    "python": {
     "delete_cmd_postfix": "",
     "delete_cmd_prefix": "del ",
     "library": "var_list.py",
     "varRefreshCmd": "print(var_dic_list())"
    },
    "r": {
     "delete_cmd_postfix": ") ",
     "delete_cmd_prefix": "rm(",
     "library": "var_list.r",
     "varRefreshCmd": "cat(var_dic_list()) "
    }
   },
   "types_to_exclude": [
    "module",
    "function",
    "builtin_function_or_method",
    "instance",
    "_Feature"
   ],
   "window_display": false
  }
 },
 "nbformat": 4,
 "nbformat_minor": 5
}
