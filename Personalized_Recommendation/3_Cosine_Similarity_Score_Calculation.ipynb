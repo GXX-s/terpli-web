{
 "cells": [
  {
   "cell_type": "code",
   "execution_count": null,
   "id": "063e593c",
   "metadata": {},
   "outputs": [],
   "source": []
  },
  {
   "cell_type": "code",
   "execution_count": 1,
   "id": "38496c01",
   "metadata": {
    "ExecuteTime": {
     "end_time": "2022-02-05T08:16:04.146225Z",
     "start_time": "2022-02-05T08:16:03.531589Z"
    }
   },
   "outputs": [],
   "source": [
    "import pandas as pd \n",
    "import numpy as np\n",
    "import seaborn as sns\n",
    "import matplotlib.pyplot as plt\n",
    "import matplotlib as mlp\n",
    "from scipy import stats\n",
    "import time\n",
    "from tqdm import tqdm\n",
    "\n",
    "from sklearn.model_selection import train_test_split\n",
    "from sklearn.linear_model import LogisticRegression\n",
    "\n",
    "import warnings\n",
    "warnings.filterwarnings('ignore')"
   ]
  },
  {
   "cell_type": "markdown",
   "id": "2624f42e",
   "metadata": {
    "ExecuteTime": {
     "end_time": "2021-10-01T03:43:44.746817Z",
     "start_time": "2021-10-01T03:43:44.744021Z"
    }
   },
   "source": [
    "Build content based recommendation system using cosine similarity\n",
    "\n",
    "Pros: can recommend new items (no customer ratings before) and recommend for users with unique tastes\n",
    "\n",
    "Cons:\n",
    "But need the front end to collect and  build user profile for the new users \n",
    "will not be able to recommend items outside user's content profile; unable to exploit quality judgements of other users "
   ]
  },
  {
   "cell_type": "code",
   "execution_count": null,
   "id": "a6ecb7e0",
   "metadata": {},
   "outputs": [],
   "source": []
  },
  {
   "cell_type": "code",
   "execution_count": 2,
   "id": "e3511cd2",
   "metadata": {
    "ExecuteTime": {
     "end_time": "2022-02-05T08:16:04.568236Z",
     "start_time": "2022-02-05T08:16:04.506543Z"
    }
   },
   "outputs": [],
   "source": [
    "raw_trimmed = pd.read_csv('Jan2022_Cannabis-Profiles_Data Science_cleaned.csv')"
   ]
  },
  {
   "cell_type": "code",
   "execution_count": 3,
   "id": "06cef4db",
   "metadata": {
    "ExecuteTime": {
     "end_time": "2022-02-05T08:16:04.671164Z",
     "start_time": "2022-02-05T08:16:04.667468Z"
    }
   },
   "outputs": [
    {
     "data": {
      "text/plain": [
       "(4000, 86)"
      ]
     },
     "execution_count": 3,
     "metadata": {},
     "output_type": "execute_result"
    }
   ],
   "source": [
    "raw_trimmed.shape"
   ]
  },
  {
   "cell_type": "markdown",
   "id": "3cfe37bf",
   "metadata": {},
   "source": [
    "# Prepare feature space"
   ]
  },
  {
   "cell_type": "markdown",
   "id": "8720631f",
   "metadata": {},
   "source": [
    "High dimensionality drives the smilarity score to 1"
   ]
  },
  {
   "cell_type": "markdown",
   "id": "bf39518a",
   "metadata": {},
   "source": [
    "To reduce dimensionality, we need to divide the features into several groups.\n",
    "\n",
    "Cannabis volume/perc\n",
    "\n",
    "Terpenes volume//perc\n",
    "\n",
    "\n",
    "\n"
   ]
  },
  {
   "cell_type": "code",
   "execution_count": 4,
   "id": "908c96e6",
   "metadata": {
    "ExecuteTime": {
     "end_time": "2022-02-05T08:16:05.452436Z",
     "start_time": "2022-02-05T08:16:05.443209Z"
    }
   },
   "outputs": [
    {
     "data": {
      "text/plain": [
       "Index(['CBC_Pct_Pct_Total', 'CBDV_Pct_Pct_Total', 'THCV_Pct_Pct_Total',\n",
       "       'CBL_Pct_Pct_Total', 'D8_Pct_Pct_Total', 'Total_Terpene_Volume_pct'],\n",
       "      dtype='object')"
      ]
     },
     "execution_count": 4,
     "metadata": {},
     "output_type": "execute_result"
    }
   ],
   "source": [
    "raw_trimmed.columns[80:]"
   ]
  },
  {
   "cell_type": "code",
   "execution_count": 5,
   "id": "ffa5c0c8",
   "metadata": {
    "ExecuteTime": {
     "end_time": "2022-02-05T08:16:05.621767Z",
     "start_time": "2022-02-05T08:16:05.616620Z"
    }
   },
   "outputs": [],
   "source": [
    "# cannabis_vol_column =    ['THC_vol', 'CBD_vol', 'CBG_vol', 'CBN_vol', 'CBC_vol', 'CBDV_vol',\n",
    "#        'THCV_vol', 'CBL_vol']\n",
    "\n",
    "# for col in cannabis_vol_column:\n",
    "#     raw_trimmed[f'{col}_% of Total'] = raw_trimmed[col]/raw_trimmed['Total_Cannabinoids_mg_g']"
   ]
  },
  {
   "cell_type": "code",
   "execution_count": 6,
   "id": "fadb5a9e",
   "metadata": {
    "ExecuteTime": {
     "end_time": "2022-02-05T08:16:05.794777Z",
     "start_time": "2022-02-05T08:16:05.785790Z"
    }
   },
   "outputs": [
    {
     "data": {
      "text/plain": [
       "Index(['Unnamed: 0', 'Strain_Name', 'Batch_ID', 'A_Pinene', 'Distributor',\n",
       "       'Strain', 'MetricID', 'Type', 'Distributor_Address',\n",
       "       'Distributor_City_State_Zip', 'B_Caryophyllene', 'Producer', 'Brand',\n",
       "       'Date_Recieved', 'Matrix', 'Producer_City_State_Zip',\n",
       "       'Producer_Lic_Number', 'terpinolene', 'Producer_Address', 'Sample_ID',\n",
       "       'Lab_ID', 'Total_Terpene_Volume', 'A_Humulene', 'Date_Harvested',\n",
       "       'B_Myrcene', 'dataOrigin', 'Ocimene', 'Date_Collected', 'D_Limonene',\n",
       "       'brandPK', 'B_Pinene', 'Distributor_Lic#', 'Linalool',\n",
       "       'Date_Test_Completed', 'PrimaryKey', 'THC_Pct', 'CBD_Pct', 'CBG_Pct',\n",
       "       'CBN_Pct', 'CBC_Pct', 'CBDV_Pct', 'THCV_Pct', 'CBL_Pct', 'D8_Pct',\n",
       "       'Total_Cannabinoid_Pct', 'Nerolidol', 'A-Bisabalol', 'Other',\n",
       "       'B_Myrcene_Pct_Total', 'B_Caryophyllene_Pct_Total',\n",
       "       'D_Limonene_Pct_Total', 'A_Pinene_Pct_Total', 'B_Pinene_Pct_Total',\n",
       "       'A_Humulene_Pct_Total', 'terpinolene_Pct_Total', 'Linalool_Pct_Total',\n",
       "       'Ocimene_Pct_Total', 'Nerolidol_Pct_Total', 'A_Bisabalol_Pct_Total',\n",
       "       'Other_Pct_Total', 'Total_Terpene_Volume_Pct_Total',\n",
       "       'THC_Pct_vs_CBD_Pct', 'THC_Pct_vs_Terpene_Pct',\n",
       "       'THC_Pct_vs_B_Caryophyllene_Pct', 'THC_Pct_vs_A_Pinene_Pct',\n",
       "       'THC_Pct_vs_B_Myrcene_Pct', 'THC_Pct_vs_Limonene_Pct',\n",
       "       'THC_Pct_vs_Linalool_Pct', 'THC_Pct_vs_Nerolidol_Pct',\n",
       "       'THC_Pct_vs_B_Caryophyllene_Pct_norm', 'THC_Pct_vs_A_Pinene_Pct_norm',\n",
       "       'THC_Pct_vs_B_Myrcene_Pct_norm', 'THC_Pct_vs_Limonene_Pct_norm',\n",
       "       'THC_Pct_vs_Linalool_Pct_norm', 'THC_Pct_vs_Nerolidol_Pct_norm',\n",
       "       'Strain_integrated', 'THC_Pct_Pct_Total', 'CBD_Pct_Pct_Total',\n",
       "       'CBG_Pct_Pct_Total', 'CBN_Pct_Pct_Total', 'CBC_Pct_Pct_Total',\n",
       "       'CBDV_Pct_Pct_Total', 'THCV_Pct_Pct_Total', 'CBL_Pct_Pct_Total',\n",
       "       'D8_Pct_Pct_Total', 'Total_Terpene_Volume_pct'],\n",
       "      dtype='object')"
      ]
     },
     "execution_count": 6,
     "metadata": {},
     "output_type": "execute_result"
    }
   ],
   "source": [
    "raw_trimmed.columns"
   ]
  },
  {
   "cell_type": "code",
   "execution_count": 11,
   "id": "4143d6c4",
   "metadata": {
    "ExecuteTime": {
     "end_time": "2022-02-05T08:16:33.188190Z",
     "start_time": "2022-02-05T08:16:33.170066Z"
    }
   },
   "outputs": [
    {
     "data": {
      "text/html": [
       "<div>\n",
       "<style scoped>\n",
       "    .dataframe tbody tr th:only-of-type {\n",
       "        vertical-align: middle;\n",
       "    }\n",
       "\n",
       "    .dataframe tbody tr th {\n",
       "        vertical-align: top;\n",
       "    }\n",
       "\n",
       "    .dataframe thead th {\n",
       "        text-align: right;\n",
       "    }\n",
       "</style>\n",
       "<table border=\"1\" class=\"dataframe\">\n",
       "  <thead>\n",
       "    <tr style=\"text-align: right;\">\n",
       "      <th></th>\n",
       "      <th>Total_Terpene_Volume</th>\n",
       "      <th>Total_Cannabinoid_Pct</th>\n",
       "    </tr>\n",
       "  </thead>\n",
       "  <tbody>\n",
       "    <tr>\n",
       "      <th>0</th>\n",
       "      <td>35.47</td>\n",
       "      <td>0.00000</td>\n",
       "    </tr>\n",
       "    <tr>\n",
       "      <th>1</th>\n",
       "      <td>19.62</td>\n",
       "      <td>0.19413</td>\n",
       "    </tr>\n",
       "    <tr>\n",
       "      <th>2</th>\n",
       "      <td>20.78</td>\n",
       "      <td>0.00000</td>\n",
       "    </tr>\n",
       "    <tr>\n",
       "      <th>3</th>\n",
       "      <td>19.20</td>\n",
       "      <td>0.00000</td>\n",
       "    </tr>\n",
       "    <tr>\n",
       "      <th>4</th>\n",
       "      <td>34.83</td>\n",
       "      <td>0.00000</td>\n",
       "    </tr>\n",
       "    <tr>\n",
       "      <th>...</th>\n",
       "      <td>...</td>\n",
       "      <td>...</td>\n",
       "    </tr>\n",
       "    <tr>\n",
       "      <th>3995</th>\n",
       "      <td>8.80</td>\n",
       "      <td>0.23849</td>\n",
       "    </tr>\n",
       "    <tr>\n",
       "      <th>3996</th>\n",
       "      <td>12.04</td>\n",
       "      <td>0.30792</td>\n",
       "    </tr>\n",
       "    <tr>\n",
       "      <th>3997</th>\n",
       "      <td>9.43</td>\n",
       "      <td>0.24287</td>\n",
       "    </tr>\n",
       "    <tr>\n",
       "      <th>3998</th>\n",
       "      <td>6.35</td>\n",
       "      <td>0.29174</td>\n",
       "    </tr>\n",
       "    <tr>\n",
       "      <th>3999</th>\n",
       "      <td>11.92</td>\n",
       "      <td>0.34265</td>\n",
       "    </tr>\n",
       "  </tbody>\n",
       "</table>\n",
       "<p>4000 rows × 2 columns</p>\n",
       "</div>"
      ],
      "text/plain": [
       "      Total_Terpene_Volume  Total_Cannabinoid_Pct\n",
       "0                    35.47                0.00000\n",
       "1                    19.62                0.19413\n",
       "2                    20.78                0.00000\n",
       "3                    19.20                0.00000\n",
       "4                    34.83                0.00000\n",
       "...                    ...                    ...\n",
       "3995                  8.80                0.23849\n",
       "3996                 12.04                0.30792\n",
       "3997                  9.43                0.24287\n",
       "3998                  6.35                0.29174\n",
       "3999                 11.92                0.34265\n",
       "\n",
       "[4000 rows x 2 columns]"
      ]
     },
     "execution_count": 11,
     "metadata": {},
     "output_type": "execute_result"
    }
   ],
   "source": [
    "raw_trimmed[[ \n",
    "       'Total_Terpene_Volume','Total_Cannabinoid_Pct']]"
   ]
  },
  {
   "cell_type": "code",
   "execution_count": 13,
   "id": "49dad0f5",
   "metadata": {
    "ExecuteTime": {
     "end_time": "2022-02-05T08:17:17.719626Z",
     "start_time": "2022-02-05T08:17:17.710696Z"
    }
   },
   "outputs": [],
   "source": [
    "raw_trimmed['Total_Terpene_Volume_Pct'] = raw_trimmed['Total_Terpene_Volume']/1000"
   ]
  },
  {
   "cell_type": "code",
   "execution_count": 14,
   "id": "a8e8d56f",
   "metadata": {
    "ExecuteTime": {
     "end_time": "2022-02-05T08:17:42.187310Z",
     "start_time": "2022-02-05T08:17:42.178948Z"
    }
   },
   "outputs": [
    {
     "data": {
      "text/plain": [
       "Index(['Unnamed: 0', 'Strain_Name', 'Batch_ID', 'A_Pinene', 'Distributor',\n",
       "       'Strain', 'MetricID', 'Type', 'Distributor_Address',\n",
       "       'Distributor_City_State_Zip', 'B_Caryophyllene', 'Producer', 'Brand',\n",
       "       'Date_Recieved', 'Matrix', 'Producer_City_State_Zip',\n",
       "       'Producer_Lic_Number', 'terpinolene', 'Producer_Address', 'Sample_ID',\n",
       "       'Lab_ID', 'Total_Terpene_Volume', 'A_Humulene', 'Date_Harvested',\n",
       "       'B_Myrcene', 'dataOrigin', 'Ocimene', 'Date_Collected', 'D_Limonene',\n",
       "       'brandPK', 'B_Pinene', 'Distributor_Lic#', 'Linalool',\n",
       "       'Date_Test_Completed', 'PrimaryKey', 'THC_Pct', 'CBD_Pct', 'CBG_Pct',\n",
       "       'CBN_Pct', 'CBC_Pct', 'CBDV_Pct', 'THCV_Pct', 'CBL_Pct', 'D8_Pct',\n",
       "       'Total_Cannabinoid_Pct', 'Nerolidol', 'A-Bisabalol', 'Other',\n",
       "       'B_Myrcene_Pct_Total', 'B_Caryophyllene_Pct_Total',\n",
       "       'D_Limonene_Pct_Total', 'A_Pinene_Pct_Total', 'B_Pinene_Pct_Total',\n",
       "       'A_Humulene_Pct_Total', 'terpinolene_Pct_Total', 'Linalool_Pct_Total',\n",
       "       'Ocimene_Pct_Total', 'Nerolidol_Pct_Total', 'A_Bisabalol_Pct_Total',\n",
       "       'Other_Pct_Total', 'Total_Terpene_Volume_Pct_Total',\n",
       "       'THC_Pct_vs_CBD_Pct', 'THC_Pct_vs_Terpene_Pct',\n",
       "       'THC_Pct_vs_B_Caryophyllene_Pct', 'THC_Pct_vs_A_Pinene_Pct',\n",
       "       'THC_Pct_vs_B_Myrcene_Pct', 'THC_Pct_vs_Limonene_Pct',\n",
       "       'THC_Pct_vs_Linalool_Pct', 'THC_Pct_vs_Nerolidol_Pct',\n",
       "       'THC_Pct_vs_B_Caryophyllene_Pct_norm', 'THC_Pct_vs_A_Pinene_Pct_norm',\n",
       "       'THC_Pct_vs_B_Myrcene_Pct_norm', 'THC_Pct_vs_Limonene_Pct_norm',\n",
       "       'THC_Pct_vs_Linalool_Pct_norm', 'THC_Pct_vs_Nerolidol_Pct_norm',\n",
       "       'Strain_integrated', 'THC_Pct_Pct_Total', 'CBD_Pct_Pct_Total',\n",
       "       'CBG_Pct_Pct_Total', 'CBN_Pct_Pct_Total', 'CBC_Pct_Pct_Total',\n",
       "       'CBDV_Pct_Pct_Total', 'THCV_Pct_Pct_Total', 'CBL_Pct_Pct_Total',\n",
       "       'D8_Pct_Pct_Total', 'Total_Terpene_Volume_pct',\n",
       "       'Total_Terpene_Volume_Pct'],\n",
       "      dtype='object')"
      ]
     },
     "execution_count": 14,
     "metadata": {},
     "output_type": "execute_result"
    }
   ],
   "source": [
    "raw_trimmed.columns"
   ]
  },
  {
   "cell_type": "code",
   "execution_count": 15,
   "id": "048cf1a3",
   "metadata": {
    "ExecuteTime": {
     "end_time": "2022-02-05T08:20:22.532501Z",
     "start_time": "2022-02-05T08:20:22.516640Z"
    }
   },
   "outputs": [],
   "source": [
    "\n",
    "## THC % = THC volume/1000\n",
    "## = Total Cannabinoid %\n",
    "\n",
    "## those represent volume\n",
    "cannabis_vol = raw_trimmed[[ 'THC_Pct', 'CBD_Pct', 'CBG_Pct',\n",
    "       'CBN_Pct', 'CBC_Pct', 'CBDV_Pct', 'THCV_Pct', 'CBL_Pct', 'D8_Pct',\n",
    "       'Total_Cannabinoid_Pct']]\n",
    "\n",
    "terpenes_perc =  raw_trimmed[['B_Myrcene_Pct_Total', 'B_Caryophyllene_Pct_Total',\n",
    "       'D_Limonene_Pct_Total', 'A_Pinene_Pct_Total', 'B_Pinene_Pct_Total',\n",
    "       'A_Humulene_Pct_Total', 'terpinolene_Pct_Total', 'Linalool_Pct_Total',\n",
    "       'Ocimene_Pct_Total', 'Nerolidol_Pct_Total', 'A_Bisabalol_Pct_Total',\n",
    "       'Other_Pct_Total']]\n",
    "\n",
    "cannabis_perc =  raw_trimmed[[ 'THC_Pct_Pct_Total', 'CBD_Pct_Pct_Total',\n",
    "       'CBG_Pct_Pct_Total', 'CBN_Pct_Pct_Total', 'CBC_Pct_Pct_Total',\n",
    "       'CBDV_Pct_Pct_Total', 'THCV_Pct_Pct_Total', 'CBL_Pct_Pct_Total',\n",
    "       'D8_Pct_Pct_Total']]\n",
    "\n",
    "terpenes_vol =raw_trimmed[[ 'B_Myrcene', 'B_Caryophyllene',\n",
    "       'D_Limonene', 'A_Pinene', 'B_Pinene', 'A_Humulene', 'terpinolene',\n",
    "       'Linalool', 'Ocimene', 'Nerolidol', 'A-Bisabalol', 'Other',\n",
    "       'Total_Terpene_Volume']]\n",
    "\n",
    "test_vol =raw_trimmed[[ \n",
    "       'Total_Terpene_Volume_Pct','Total_Cannabinoid_Pct']]\n"
   ]
  },
  {
   "cell_type": "code",
   "execution_count": 17,
   "id": "1be74a4e",
   "metadata": {
    "ExecuteTime": {
     "end_time": "2022-02-05T08:20:31.106706Z",
     "start_time": "2022-02-05T08:20:31.099279Z"
    }
   },
   "outputs": [],
   "source": [
    "cannabis_vol =cannabis_vol.fillna(0)\n",
    "cannabis_perc =cannabis_perc.fillna(0)\n",
    "test_vol =test_vol.fillna(0)"
   ]
  },
  {
   "cell_type": "code",
   "execution_count": null,
   "id": "f9769e90",
   "metadata": {
    "ExecuteTime": {
     "end_time": "2021-11-10T00:22:24.394514Z",
     "start_time": "2021-11-10T00:22:24.386560Z"
    }
   },
   "outputs": [],
   "source": []
  },
  {
   "cell_type": "code",
   "execution_count": 18,
   "id": "7d57e3b5",
   "metadata": {
    "ExecuteTime": {
     "end_time": "2022-02-05T08:20:31.617889Z",
     "start_time": "2022-02-05T08:20:31.614666Z"
    }
   },
   "outputs": [],
   "source": [
    "# data = raw_trimmed[[ 'THC %', 'CBD %', 'CBG %', 'CBN %', 'CBC %', 'CBDV %', 'THCV %',\n",
    "#        'CBL %','B_Myrcene_% of Total',\n",
    "#        'B_Caryophyllene_% of Total', 'D_Limonene_% of Total',\n",
    "#        'A_Pinene_% of Total', 'B_Pinene_% of Total', 'A_Humulene_% of Total',\n",
    "#        'terpinolene_% of Total', 'Linalool_% of Total', 'Ocimene_% of Total',\n",
    "#        'Nerolidol_% of Total', 'A-Bisabalol_% of Total', 'Other_% of Total','Total Terpene Volume']]"
   ]
  },
  {
   "cell_type": "code",
   "execution_count": 19,
   "id": "f26c1822",
   "metadata": {
    "ExecuteTime": {
     "end_time": "2022-02-05T08:20:31.957832Z",
     "start_time": "2022-02-05T08:20:31.954782Z"
    }
   },
   "outputs": [],
   "source": [
    "## encode Matrix, Brand, Strain, Type"
   ]
  },
  {
   "cell_type": "code",
   "execution_count": 20,
   "id": "c59c5465",
   "metadata": {
    "ExecuteTime": {
     "end_time": "2022-02-05T08:20:32.225999Z",
     "start_time": "2022-02-05T08:20:32.222406Z"
    }
   },
   "outputs": [],
   "source": [
    "#profile = raw_trimmed[['Matrix']]"
   ]
  },
  {
   "cell_type": "code",
   "execution_count": 21,
   "id": "450df007",
   "metadata": {
    "ExecuteTime": {
     "end_time": "2022-02-05T08:20:32.427052Z",
     "start_time": "2022-02-05T08:20:32.423085Z"
    }
   },
   "outputs": [],
   "source": [
    "#profile_binary = pd.get_dummies(profile,prefix = ['Matrix'])"
   ]
  },
  {
   "cell_type": "code",
   "execution_count": 22,
   "id": "5f5b74ba",
   "metadata": {
    "ExecuteTime": {
     "end_time": "2022-02-05T08:20:32.724239Z",
     "start_time": "2022-02-05T08:20:32.720867Z"
    }
   },
   "outputs": [],
   "source": [
    "#data_w_profile = data.merge(profile_binary, left_index=True,right_index=True)"
   ]
  },
  {
   "cell_type": "code",
   "execution_count": 23,
   "id": "01255b4b",
   "metadata": {
    "ExecuteTime": {
     "end_time": "2022-02-05T08:20:32.924093Z",
     "start_time": "2022-02-05T08:20:32.921547Z"
    }
   },
   "outputs": [],
   "source": [
    "# data_w_profile = data\n",
    "# data_w_profile"
   ]
  },
  {
   "cell_type": "code",
   "execution_count": 24,
   "id": "6e1b730f",
   "metadata": {
    "ExecuteTime": {
     "end_time": "2022-02-05T08:20:33.100432Z",
     "start_time": "2022-02-05T08:20:33.097575Z"
    }
   },
   "outputs": [],
   "source": [
    "# test = list(similarity_score.head().index\n",
    "# data_w_profile[data_w_profile['id2'].isin(test)]"
   ]
  },
  {
   "cell_type": "markdown",
   "id": "bfdf7725",
   "metadata": {},
   "source": [
    "# Cosine Similarity"
   ]
  },
  {
   "cell_type": "markdown",
   "id": "f0e7e9d2",
   "metadata": {},
   "source": [
    "## similarity in groups of features "
   ]
  },
  {
   "cell_type": "code",
   "execution_count": 25,
   "id": "85cab98b",
   "metadata": {
    "ExecuteTime": {
     "end_time": "2022-02-05T08:20:33.887025Z",
     "start_time": "2022-02-05T08:20:33.875466Z"
    }
   },
   "outputs": [
    {
     "data": {
      "text/plain": [
       "4000"
      ]
     },
     "execution_count": 25,
     "metadata": {},
     "output_type": "execute_result"
    }
   ],
   "source": [
    "names = raw_trimmed['Batch_ID'].values.tolist()\n",
    "len(names)"
   ]
  },
  {
   "cell_type": "code",
   "execution_count": 26,
   "id": "e4a44344",
   "metadata": {
    "ExecuteTime": {
     "end_time": "2022-02-05T08:20:34.391844Z",
     "start_time": "2022-02-05T08:20:34.386376Z"
    }
   },
   "outputs": [],
   "source": [
    "from sklearn.metrics.pairwise import cosine_distances\n",
    "names = raw_trimmed['Batch_ID'].values.tolist()\n",
    "def cal_cos_similarity(data_subset):\n",
    "    distances = cosine_distances(data_subset)\n",
    "    distance_df = pd.DataFrame(distances,columns = names, index = names)\n",
    "    return distance_df"
   ]
  },
  {
   "cell_type": "code",
   "execution_count": 27,
   "id": "d214e39a",
   "metadata": {
    "ExecuteTime": {
     "end_time": "2022-02-05T08:20:34.911633Z",
     "start_time": "2022-02-05T08:20:34.906069Z"
    }
   },
   "outputs": [],
   "source": [
    "# from scipy.spatial.distance import euclidean\n",
    "# names = raw_trimmed['Batch_ID'].values.tolist()\n",
    "# def cal_euc_similarity(data_subset):\n",
    "#     distances = euclidean(data_subset)\n",
    "#     distance_df = pd.DataFrame(distances,columns = names, index = names)\n",
    "#     return distance_df"
   ]
  },
  {
   "cell_type": "code",
   "execution_count": 28,
   "id": "ecaa1473",
   "metadata": {
    "ExecuteTime": {
     "end_time": "2022-02-05T08:20:35.199675Z",
     "start_time": "2022-02-05T08:20:35.191379Z"
    }
   },
   "outputs": [],
   "source": [
    "# test_vol['Batch_ID']  = raw_trimmed['Batch_ID']\n",
    "\n",
    "# test_vol.columns"
   ]
  },
  {
   "cell_type": "code",
   "execution_count": 29,
   "id": "64c9f63c",
   "metadata": {
    "ExecuteTime": {
     "end_time": "2022-02-05T08:20:35.367629Z",
     "start_time": "2022-02-05T08:20:35.362918Z"
    }
   },
   "outputs": [],
   "source": [
    "# %%time\n",
    "# from scipy.spatial.distance import euclidean\n",
    "# names = raw_trimmed['Batch_ID'].values.tolist()\n",
    "# distance_df = pd.DataFrame( columns = names, index = names)\n",
    "\n",
    "# ## Euclian distance \n",
    "# for i in tqdm(range(len(test_vol))):\n",
    "#     for j in range(len(test_vol)):\n",
    "                \n",
    "#         key_i =list(test_vol.loc[i,'Batch_ID'])[0]\n",
    "#         key_j = list(test_vol.loc[j,'Batch_ID'])[0]\n",
    "#         #print(key_i,key_j)\n",
    "#         point1 = np.array(test_vol[test_vol.index == i][['Total Terpene Volume %', 'Total Cannabinoid %']])\n",
    "#         point2 = np.array(test_vol[test_vol.index == j][['Total Terpene Volume %', 'Total Cannabinoid %']])\n",
    "# #             print(point1)\n",
    "# #             print(point2)\n",
    "#         distance = euclidean(point1,point2)\n",
    "\n",
    "#         distance_df.loc[ key_i,key_j] = distance\n",
    "                \n",
    "\n"
   ]
  },
  {
   "cell_type": "code",
   "execution_count": 30,
   "id": "3c71175a",
   "metadata": {
    "ExecuteTime": {
     "end_time": "2022-02-05T08:20:35.510330Z",
     "start_time": "2022-02-05T08:20:35.505824Z"
    }
   },
   "outputs": [],
   "source": [
    "#  distance_df.loc[ 'GHFGG40930','GHFSD0903AA']"
   ]
  },
  {
   "cell_type": "code",
   "execution_count": 31,
   "id": "52c6ded9",
   "metadata": {
    "ExecuteTime": {
     "end_time": "2022-02-05T08:20:35.665803Z",
     "start_time": "2022-02-05T08:20:35.662799Z"
    }
   },
   "outputs": [],
   "source": [
    "# len(cannabis_perc)"
   ]
  },
  {
   "cell_type": "code",
   "execution_count": 32,
   "id": "5b85be85",
   "metadata": {
    "ExecuteTime": {
     "end_time": "2022-02-05T08:20:36.289453Z",
     "start_time": "2022-02-05T08:20:35.900741Z"
    }
   },
   "outputs": [],
   "source": [
    "cannabis_perc_dist = cal_cos_similarity(cannabis_perc)\n",
    "terpenes_perc_dist = cal_cos_similarity(terpenes_perc)\n",
    "cannabis_vol_dist =cal_cos_similarity(cannabis_vol)\n",
    "terpenes_vol_dist = cal_cos_similarity(terpenes_vol)"
   ]
  },
  {
   "cell_type": "code",
   "execution_count": 33,
   "id": "8ff23bd4",
   "metadata": {
    "ExecuteTime": {
     "end_time": "2022-02-05T08:20:36.851855Z",
     "start_time": "2022-02-05T08:20:36.764575Z"
    }
   },
   "outputs": [],
   "source": [
    "test_vol_dist = cal_cos_similarity(test_vol)"
   ]
  },
  {
   "cell_type": "code",
   "execution_count": 34,
   "id": "1fde8d86",
   "metadata": {
    "ExecuteTime": {
     "end_time": "2022-02-05T08:20:37.179877Z",
     "start_time": "2022-02-05T08:20:37.170684Z"
    }
   },
   "outputs": [
    {
     "data": {
      "text/html": [
       "<div>\n",
       "<style scoped>\n",
       "    .dataframe tbody tr th:only-of-type {\n",
       "        vertical-align: middle;\n",
       "    }\n",
       "\n",
       "    .dataframe tbody tr th {\n",
       "        vertical-align: top;\n",
       "    }\n",
       "\n",
       "    .dataframe thead th {\n",
       "        text-align: right;\n",
       "    }\n",
       "</style>\n",
       "<table border=\"1\" class=\"dataframe\">\n",
       "  <thead>\n",
       "    <tr style=\"text-align: right;\">\n",
       "      <th></th>\n",
       "      <th>IND1_134</th>\n",
       "      <th>S062819-3</th>\n",
       "      <th>IND1_107</th>\n",
       "      <th>IND1_181</th>\n",
       "      <th>IND1_66</th>\n",
       "      <th>IND1_112</th>\n",
       "      <th>IND1_193</th>\n",
       "      <th>IND1_230</th>\n",
       "      <th>IND1_127</th>\n",
       "      <th>IND1_179</th>\n",
       "      <th>...</th>\n",
       "      <th>GHFPOG0930</th>\n",
       "      <th>GHFMAC0930</th>\n",
       "      <th>GHFGG40930</th>\n",
       "      <th>GHFPPL0930</th>\n",
       "      <th>GHFLILI0930</th>\n",
       "      <th>GHFWIFI0928MP</th>\n",
       "      <th>GHFGCK0928MP</th>\n",
       "      <th>GHFWIFI0928PR</th>\n",
       "      <th>GHFHF0924PR</th>\n",
       "      <th>GHFGCK0928PR</th>\n",
       "    </tr>\n",
       "  </thead>\n",
       "  <tbody>\n",
       "    <tr>\n",
       "      <th>IND1_134</th>\n",
       "      <td>0.000000</td>\n",
       "      <td>0.899446</td>\n",
       "      <td>0.000000</td>\n",
       "      <td>0.000000</td>\n",
       "      <td>0.000000</td>\n",
       "      <td>0.000000</td>\n",
       "      <td>0.000000</td>\n",
       "      <td>0.000000</td>\n",
       "      <td>0.000000</td>\n",
       "      <td>0.000000</td>\n",
       "      <td>...</td>\n",
       "      <td>0.916231</td>\n",
       "      <td>0.934816</td>\n",
       "      <td>0.937616</td>\n",
       "      <td>0.944710</td>\n",
       "      <td>0.929228</td>\n",
       "      <td>0.963126</td>\n",
       "      <td>9.609288e-01</td>\n",
       "      <td>9.612019e-01</td>\n",
       "      <td>0.978239</td>\n",
       "      <td>0.965233</td>\n",
       "    </tr>\n",
       "    <tr>\n",
       "      <th>S062819-3</th>\n",
       "      <td>0.899446</td>\n",
       "      <td>0.000000</td>\n",
       "      <td>0.899446</td>\n",
       "      <td>0.899446</td>\n",
       "      <td>0.899446</td>\n",
       "      <td>0.899446</td>\n",
       "      <td>0.899446</td>\n",
       "      <td>0.899446</td>\n",
       "      <td>0.899446</td>\n",
       "      <td>0.899446</td>\n",
       "      <td>...</td>\n",
       "      <td>0.000142</td>\n",
       "      <td>0.000630</td>\n",
       "      <td>0.000733</td>\n",
       "      <td>0.001031</td>\n",
       "      <td>0.000447</td>\n",
       "      <td>0.002037</td>\n",
       "      <td>1.899336e-03</td>\n",
       "      <td>1.916209e-03</td>\n",
       "      <td>0.003116</td>\n",
       "      <td>0.002174</td>\n",
       "    </tr>\n",
       "    <tr>\n",
       "      <th>IND1_107</th>\n",
       "      <td>0.000000</td>\n",
       "      <td>0.899446</td>\n",
       "      <td>0.000000</td>\n",
       "      <td>0.000000</td>\n",
       "      <td>0.000000</td>\n",
       "      <td>0.000000</td>\n",
       "      <td>0.000000</td>\n",
       "      <td>0.000000</td>\n",
       "      <td>0.000000</td>\n",
       "      <td>0.000000</td>\n",
       "      <td>...</td>\n",
       "      <td>0.916231</td>\n",
       "      <td>0.934816</td>\n",
       "      <td>0.937616</td>\n",
       "      <td>0.944710</td>\n",
       "      <td>0.929228</td>\n",
       "      <td>0.963126</td>\n",
       "      <td>9.609288e-01</td>\n",
       "      <td>9.612019e-01</td>\n",
       "      <td>0.978239</td>\n",
       "      <td>0.965233</td>\n",
       "    </tr>\n",
       "    <tr>\n",
       "      <th>IND1_181</th>\n",
       "      <td>0.000000</td>\n",
       "      <td>0.899446</td>\n",
       "      <td>0.000000</td>\n",
       "      <td>0.000000</td>\n",
       "      <td>0.000000</td>\n",
       "      <td>0.000000</td>\n",
       "      <td>0.000000</td>\n",
       "      <td>0.000000</td>\n",
       "      <td>0.000000</td>\n",
       "      <td>0.000000</td>\n",
       "      <td>...</td>\n",
       "      <td>0.916231</td>\n",
       "      <td>0.934816</td>\n",
       "      <td>0.937616</td>\n",
       "      <td>0.944710</td>\n",
       "      <td>0.929228</td>\n",
       "      <td>0.963126</td>\n",
       "      <td>9.609288e-01</td>\n",
       "      <td>9.612019e-01</td>\n",
       "      <td>0.978239</td>\n",
       "      <td>0.965233</td>\n",
       "    </tr>\n",
       "    <tr>\n",
       "      <th>IND1_66</th>\n",
       "      <td>0.000000</td>\n",
       "      <td>0.899446</td>\n",
       "      <td>0.000000</td>\n",
       "      <td>0.000000</td>\n",
       "      <td>0.000000</td>\n",
       "      <td>0.000000</td>\n",
       "      <td>0.000000</td>\n",
       "      <td>0.000000</td>\n",
       "      <td>0.000000</td>\n",
       "      <td>0.000000</td>\n",
       "      <td>...</td>\n",
       "      <td>0.916231</td>\n",
       "      <td>0.934816</td>\n",
       "      <td>0.937616</td>\n",
       "      <td>0.944710</td>\n",
       "      <td>0.929228</td>\n",
       "      <td>0.963126</td>\n",
       "      <td>9.609288e-01</td>\n",
       "      <td>9.612019e-01</td>\n",
       "      <td>0.978239</td>\n",
       "      <td>0.965233</td>\n",
       "    </tr>\n",
       "    <tr>\n",
       "      <th>...</th>\n",
       "      <td>...</td>\n",
       "      <td>...</td>\n",
       "      <td>...</td>\n",
       "      <td>...</td>\n",
       "      <td>...</td>\n",
       "      <td>...</td>\n",
       "      <td>...</td>\n",
       "      <td>...</td>\n",
       "      <td>...</td>\n",
       "      <td>...</td>\n",
       "      <td>...</td>\n",
       "      <td>...</td>\n",
       "      <td>...</td>\n",
       "      <td>...</td>\n",
       "      <td>...</td>\n",
       "      <td>...</td>\n",
       "      <td>...</td>\n",
       "      <td>...</td>\n",
       "      <td>...</td>\n",
       "      <td>...</td>\n",
       "      <td>...</td>\n",
       "    </tr>\n",
       "    <tr>\n",
       "      <th>GHFWIFI0928MP</th>\n",
       "      <td>0.963126</td>\n",
       "      <td>0.002037</td>\n",
       "      <td>0.963126</td>\n",
       "      <td>0.963126</td>\n",
       "      <td>0.963126</td>\n",
       "      <td>0.963126</td>\n",
       "      <td>0.963126</td>\n",
       "      <td>0.963126</td>\n",
       "      <td>0.963126</td>\n",
       "      <td>0.963126</td>\n",
       "      <td>...</td>\n",
       "      <td>0.001104</td>\n",
       "      <td>0.000402</td>\n",
       "      <td>0.000326</td>\n",
       "      <td>0.000170</td>\n",
       "      <td>0.000576</td>\n",
       "      <td>0.000000</td>\n",
       "      <td>2.417947e-06</td>\n",
       "      <td>1.854300e-06</td>\n",
       "      <td>0.000114</td>\n",
       "      <td>0.000002</td>\n",
       "    </tr>\n",
       "    <tr>\n",
       "      <th>GHFGCK0928MP</th>\n",
       "      <td>0.960929</td>\n",
       "      <td>0.001899</td>\n",
       "      <td>0.960929</td>\n",
       "      <td>0.960929</td>\n",
       "      <td>0.960929</td>\n",
       "      <td>0.960929</td>\n",
       "      <td>0.960929</td>\n",
       "      <td>0.960929</td>\n",
       "      <td>0.960929</td>\n",
       "      <td>0.960929</td>\n",
       "      <td>...</td>\n",
       "      <td>0.001003</td>\n",
       "      <td>0.000342</td>\n",
       "      <td>0.000272</td>\n",
       "      <td>0.000132</td>\n",
       "      <td>0.000504</td>\n",
       "      <td>0.000002</td>\n",
       "      <td>0.000000e+00</td>\n",
       "      <td>3.734483e-08</td>\n",
       "      <td>0.000150</td>\n",
       "      <td>0.000009</td>\n",
       "    </tr>\n",
       "    <tr>\n",
       "      <th>GHFWIFI0928PR</th>\n",
       "      <td>0.961202</td>\n",
       "      <td>0.001916</td>\n",
       "      <td>0.961202</td>\n",
       "      <td>0.961202</td>\n",
       "      <td>0.961202</td>\n",
       "      <td>0.961202</td>\n",
       "      <td>0.961202</td>\n",
       "      <td>0.961202</td>\n",
       "      <td>0.961202</td>\n",
       "      <td>0.961202</td>\n",
       "      <td>...</td>\n",
       "      <td>0.001015</td>\n",
       "      <td>0.000349</td>\n",
       "      <td>0.000279</td>\n",
       "      <td>0.000136</td>\n",
       "      <td>0.000513</td>\n",
       "      <td>0.000002</td>\n",
       "      <td>3.734483e-08</td>\n",
       "      <td>0.000000e+00</td>\n",
       "      <td>0.000145</td>\n",
       "      <td>0.000008</td>\n",
       "    </tr>\n",
       "    <tr>\n",
       "      <th>GHFHF0924PR</th>\n",
       "      <td>0.978239</td>\n",
       "      <td>0.003116</td>\n",
       "      <td>0.978239</td>\n",
       "      <td>0.978239</td>\n",
       "      <td>0.978239</td>\n",
       "      <td>0.978239</td>\n",
       "      <td>0.978239</td>\n",
       "      <td>0.978239</td>\n",
       "      <td>0.978239</td>\n",
       "      <td>0.978239</td>\n",
       "      <td>...</td>\n",
       "      <td>0.001928</td>\n",
       "      <td>0.000945</td>\n",
       "      <td>0.000827</td>\n",
       "      <td>0.000563</td>\n",
       "      <td>0.001204</td>\n",
       "      <td>0.000114</td>\n",
       "      <td>1.499638e-04</td>\n",
       "      <td>1.452683e-04</td>\n",
       "      <td>0.000000</td>\n",
       "      <td>0.000085</td>\n",
       "    </tr>\n",
       "    <tr>\n",
       "      <th>GHFGCK0928PR</th>\n",
       "      <td>0.965233</td>\n",
       "      <td>0.002174</td>\n",
       "      <td>0.965233</td>\n",
       "      <td>0.965233</td>\n",
       "      <td>0.965233</td>\n",
       "      <td>0.965233</td>\n",
       "      <td>0.965233</td>\n",
       "      <td>0.965233</td>\n",
       "      <td>0.965233</td>\n",
       "      <td>0.965233</td>\n",
       "      <td>...</td>\n",
       "      <td>0.001205</td>\n",
       "      <td>0.000464</td>\n",
       "      <td>0.000382</td>\n",
       "      <td>0.000211</td>\n",
       "      <td>0.000650</td>\n",
       "      <td>0.000002</td>\n",
       "      <td>9.277243e-06</td>\n",
       "      <td>8.137378e-06</td>\n",
       "      <td>0.000085</td>\n",
       "      <td>0.000000</td>\n",
       "    </tr>\n",
       "  </tbody>\n",
       "</table>\n",
       "<p>4000 rows × 4000 columns</p>\n",
       "</div>"
      ],
      "text/plain": [
       "               IND1_134  S062819-3  IND1_107  IND1_181   IND1_66  IND1_112  \\\n",
       "IND1_134       0.000000   0.899446  0.000000  0.000000  0.000000  0.000000   \n",
       "S062819-3      0.899446   0.000000  0.899446  0.899446  0.899446  0.899446   \n",
       "IND1_107       0.000000   0.899446  0.000000  0.000000  0.000000  0.000000   \n",
       "IND1_181       0.000000   0.899446  0.000000  0.000000  0.000000  0.000000   \n",
       "IND1_66        0.000000   0.899446  0.000000  0.000000  0.000000  0.000000   \n",
       "...                 ...        ...       ...       ...       ...       ...   \n",
       "GHFWIFI0928MP  0.963126   0.002037  0.963126  0.963126  0.963126  0.963126   \n",
       "GHFGCK0928MP   0.960929   0.001899  0.960929  0.960929  0.960929  0.960929   \n",
       "GHFWIFI0928PR  0.961202   0.001916  0.961202  0.961202  0.961202  0.961202   \n",
       "GHFHF0924PR    0.978239   0.003116  0.978239  0.978239  0.978239  0.978239   \n",
       "GHFGCK0928PR   0.965233   0.002174  0.965233  0.965233  0.965233  0.965233   \n",
       "\n",
       "               IND1_193  IND1_230  IND1_127  IND1_179  ...  GHFPOG0930  \\\n",
       "IND1_134       0.000000  0.000000  0.000000  0.000000  ...    0.916231   \n",
       "S062819-3      0.899446  0.899446  0.899446  0.899446  ...    0.000142   \n",
       "IND1_107       0.000000  0.000000  0.000000  0.000000  ...    0.916231   \n",
       "IND1_181       0.000000  0.000000  0.000000  0.000000  ...    0.916231   \n",
       "IND1_66        0.000000  0.000000  0.000000  0.000000  ...    0.916231   \n",
       "...                 ...       ...       ...       ...  ...         ...   \n",
       "GHFWIFI0928MP  0.963126  0.963126  0.963126  0.963126  ...    0.001104   \n",
       "GHFGCK0928MP   0.960929  0.960929  0.960929  0.960929  ...    0.001003   \n",
       "GHFWIFI0928PR  0.961202  0.961202  0.961202  0.961202  ...    0.001015   \n",
       "GHFHF0924PR    0.978239  0.978239  0.978239  0.978239  ...    0.001928   \n",
       "GHFGCK0928PR   0.965233  0.965233  0.965233  0.965233  ...    0.001205   \n",
       "\n",
       "               GHFMAC0930  GHFGG40930  GHFPPL0930  GHFLILI0930  GHFWIFI0928MP  \\\n",
       "IND1_134         0.934816    0.937616    0.944710     0.929228       0.963126   \n",
       "S062819-3        0.000630    0.000733    0.001031     0.000447       0.002037   \n",
       "IND1_107         0.934816    0.937616    0.944710     0.929228       0.963126   \n",
       "IND1_181         0.934816    0.937616    0.944710     0.929228       0.963126   \n",
       "IND1_66          0.934816    0.937616    0.944710     0.929228       0.963126   \n",
       "...                   ...         ...         ...          ...            ...   \n",
       "GHFWIFI0928MP    0.000402    0.000326    0.000170     0.000576       0.000000   \n",
       "GHFGCK0928MP     0.000342    0.000272    0.000132     0.000504       0.000002   \n",
       "GHFWIFI0928PR    0.000349    0.000279    0.000136     0.000513       0.000002   \n",
       "GHFHF0924PR      0.000945    0.000827    0.000563     0.001204       0.000114   \n",
       "GHFGCK0928PR     0.000464    0.000382    0.000211     0.000650       0.000002   \n",
       "\n",
       "               GHFGCK0928MP  GHFWIFI0928PR  GHFHF0924PR  GHFGCK0928PR  \n",
       "IND1_134       9.609288e-01   9.612019e-01     0.978239      0.965233  \n",
       "S062819-3      1.899336e-03   1.916209e-03     0.003116      0.002174  \n",
       "IND1_107       9.609288e-01   9.612019e-01     0.978239      0.965233  \n",
       "IND1_181       9.609288e-01   9.612019e-01     0.978239      0.965233  \n",
       "IND1_66        9.609288e-01   9.612019e-01     0.978239      0.965233  \n",
       "...                     ...            ...          ...           ...  \n",
       "GHFWIFI0928MP  2.417947e-06   1.854300e-06     0.000114      0.000002  \n",
       "GHFGCK0928MP   0.000000e+00   3.734483e-08     0.000150      0.000009  \n",
       "GHFWIFI0928PR  3.734483e-08   0.000000e+00     0.000145      0.000008  \n",
       "GHFHF0924PR    1.499638e-04   1.452683e-04     0.000000      0.000085  \n",
       "GHFGCK0928PR   9.277243e-06   8.137378e-06     0.000085      0.000000  \n",
       "\n",
       "[4000 rows x 4000 columns]"
      ]
     },
     "execution_count": 34,
     "metadata": {},
     "output_type": "execute_result"
    }
   ],
   "source": [
    "test_vol_dist"
   ]
  },
  {
   "cell_type": "code",
   "execution_count": 35,
   "id": "6d6becef",
   "metadata": {
    "ExecuteTime": {
     "end_time": "2022-02-05T08:21:29.451418Z",
     "start_time": "2022-02-05T08:20:37.271162Z"
    }
   },
   "outputs": [
    {
     "name": "stdout",
     "output_type": "stream",
     "text": [
      "CPU times: user 51.5 s, sys: 541 ms, total: 52 s\n",
      "Wall time: 52.2 s\n"
     ]
    }
   ],
   "source": [
    "%%time\n",
    "cannabis_perc_dist.to_csv('cannabis_perc_product_cosine_distance_df.csv')\n",
    "terpenes_perc_dist.to_csv('terpenes_perc_product_cosine_distance_df.csv')\n",
    "cannabis_vol_dist.to_csv('cannabis_vol_product_cosine_distance_df.csv')\n",
    "terpenes_vol_dist.to_csv('terpenes_vol_product_cosine_distance_df.csv')\n",
    "\n",
    "test_vol_dist.to_csv('terpenes_cannabi_vol_product_cosine_distance_df.csv')"
   ]
  },
  {
   "cell_type": "code",
   "execution_count": null,
   "id": "5e16c9f6",
   "metadata": {
    "ExecuteTime": {
     "end_time": "2021-11-10T00:23:28.646720Z",
     "start_time": "2021-11-10T00:23:05.016525Z"
    }
   },
   "outputs": [],
   "source": []
  },
  {
   "cell_type": "code",
   "execution_count": 36,
   "id": "d1b94ad8",
   "metadata": {
    "ExecuteTime": {
     "end_time": "2022-02-05T08:21:29.544373Z",
     "start_time": "2022-02-05T08:21:29.542867Z"
    }
   },
   "outputs": [],
   "source": [
    "# terpenes_vol_dist.shape"
   ]
  },
  {
   "cell_type": "code",
   "execution_count": 37,
   "id": "093a097d",
   "metadata": {
    "ExecuteTime": {
     "end_time": "2022-02-05T08:21:29.637757Z",
     "start_time": "2022-02-05T08:21:29.636408Z"
    },
    "scrolled": true
   },
   "outputs": [],
   "source": [
    "# terpenes_vol_test"
   ]
  },
  {
   "cell_type": "code",
   "execution_count": 38,
   "id": "5db472d3",
   "metadata": {
    "ExecuteTime": {
     "end_time": "2022-02-05T08:21:29.730510Z",
     "start_time": "2022-02-05T08:21:29.729151Z"
    }
   },
   "outputs": [],
   "source": [
    "# terpenes_vol_test = cal_cos_similarity(terpenes_vol)"
   ]
  },
  {
   "cell_type": "code",
   "execution_count": 39,
   "id": "939fa9cc",
   "metadata": {
    "ExecuteTime": {
     "end_time": "2022-02-05T08:21:29.822233Z",
     "start_time": "2022-02-05T08:21:29.820765Z"
    }
   },
   "outputs": [],
   "source": [
    "# terpenes_vol_test.to_csv('test_terpenes_vol_product_cosine_distance_df.csv')"
   ]
  },
  {
   "cell_type": "markdown",
   "id": "d4ec0347",
   "metadata": {},
   "source": [
    "## all the feature at once"
   ]
  },
  {
   "cell_type": "code",
   "execution_count": 40,
   "id": "10d091fb",
   "metadata": {
    "ExecuteTime": {
     "end_time": "2022-02-05T08:21:29.915248Z",
     "start_time": "2022-02-05T08:21:29.913541Z"
    }
   },
   "outputs": [],
   "source": [
    "\n",
    "# from sklearn.metrics.pairwise import cosine_distances\n",
    "# distances = cosine_distances(data_w_profile)\n",
    "# distances"
   ]
  },
  {
   "cell_type": "code",
   "execution_count": 41,
   "id": "a2e20409",
   "metadata": {
    "ExecuteTime": {
     "end_time": "2022-02-05T08:21:30.007417Z",
     "start_time": "2022-02-05T08:21:30.005971Z"
    }
   },
   "outputs": [],
   "source": [
    "#raw_trimmed['id2'] = raw_trimmed['Batch_ID'].astype('str') + \"_\" +raw_trimmed['Strain_integrated'].astype('str')"
   ]
  },
  {
   "cell_type": "code",
   "execution_count": 42,
   "id": "0c1ce985",
   "metadata": {
    "ExecuteTime": {
     "end_time": "2022-02-05T08:21:30.099177Z",
     "start_time": "2022-02-05T08:21:30.097626Z"
    }
   },
   "outputs": [],
   "source": [
    "#data_w_profile['id2'] = raw_trimmed['Batch_ID'].astype('str') + \"_\" +raw_trimmed['Strain_integrated'].astype('str')"
   ]
  },
  {
   "cell_type": "code",
   "execution_count": 43,
   "id": "569a7d4c",
   "metadata": {
    "ExecuteTime": {
     "end_time": "2022-02-05T08:21:30.188734Z",
     "start_time": "2022-02-05T08:21:30.187268Z"
    },
    "scrolled": true
   },
   "outputs": [],
   "source": [
    "#data_w_profile['id2'] "
   ]
  },
  {
   "cell_type": "code",
   "execution_count": 44,
   "id": "95b59913",
   "metadata": {
    "ExecuteTime": {
     "end_time": "2022-02-05T08:21:30.280453Z",
     "start_time": "2022-02-05T08:21:30.278874Z"
    }
   },
   "outputs": [],
   "source": [
    "#names = data_w_profile['id2'] .values.tolist()\n",
    "# names = raw_trimmed['Batch_ID'] .values.tolist()\n",
    "# PairwiseDistances = []\n",
    "\n",
    "# for i in range(0, len(distances), 1):\n",
    "\n",
    "#       PairwiseDistances = PairwiseDistances + list(zip( [names[i]]*len(names) ,names ,distances[i]  ))\n",
    "#   # Pairwise Distance is calculated cosine distance\n",
    "# PairwiseDistances"
   ]
  },
  {
   "cell_type": "code",
   "execution_count": null,
   "id": "13426ea7",
   "metadata": {
    "ExecuteTime": {
     "end_time": "2021-10-01T04:18:59.088735Z",
     "start_time": "2021-10-01T04:18:59.088715Z"
    }
   },
   "outputs": [],
   "source": []
  },
  {
   "cell_type": "code",
   "execution_count": 45,
   "id": "2c599cc8",
   "metadata": {
    "ExecuteTime": {
     "end_time": "2022-02-05T08:21:30.373579Z",
     "start_time": "2022-02-05T08:21:30.372295Z"
    }
   },
   "outputs": [],
   "source": [
    "# distance_df = pd.DataFrame(distances,columns = names, index = names)"
   ]
  },
  {
   "cell_type": "code",
   "execution_count": 46,
   "id": "8a8088dd",
   "metadata": {
    "ExecuteTime": {
     "end_time": "2022-02-05T08:21:30.464565Z",
     "start_time": "2022-02-05T08:21:30.463067Z"
    }
   },
   "outputs": [],
   "source": [
    "# distance_df"
   ]
  },
  {
   "cell_type": "code",
   "execution_count": 47,
   "id": "f527a88c",
   "metadata": {
    "ExecuteTime": {
     "end_time": "2022-02-05T08:21:30.556709Z",
     "start_time": "2022-02-05T08:21:30.555310Z"
    }
   },
   "outputs": [],
   "source": [
    "## using all the features at once. \n",
    "# distance_df.to_csv('product_cosine_distance_df.csv')\n",
    "# distance_df.iloc[:,0].sort_values(ascending = True)"
   ]
  },
  {
   "cell_type": "markdown",
   "id": "e50d63bb",
   "metadata": {},
   "source": [
    "## Put distance into pairwise dictionary"
   ]
  },
  {
   "cell_type": "code",
   "execution_count": 48,
   "id": "3fa9ee18",
   "metadata": {
    "ExecuteTime": {
     "end_time": "2022-02-05T08:21:30.647484Z",
     "start_time": "2022-02-05T08:21:30.646198Z"
    }
   },
   "outputs": [],
   "source": [
    "# rec_dict = dict()\n",
    "# for i in distance_df.columns:\n",
    "#     rec_dict[i] = distance_df.loc[:,i].sort_values(ascending = True)[:10]"
   ]
  },
  {
   "cell_type": "code",
   "execution_count": 49,
   "id": "4000a7f6",
   "metadata": {
    "ExecuteTime": {
     "end_time": "2022-02-05T08:21:30.736166Z",
     "start_time": "2022-02-05T08:21:30.734677Z"
    }
   },
   "outputs": [],
   "source": [
    "# rec_dict"
   ]
  },
  {
   "cell_type": "code",
   "execution_count": 50,
   "id": "d0ab3f42",
   "metadata": {
    "ExecuteTime": {
     "end_time": "2022-02-05T08:21:30.828741Z",
     "start_time": "2022-02-05T08:21:30.827444Z"
    }
   },
   "outputs": [],
   "source": [
    "# rec_dict_full = dict()\n",
    "# for i in distance_df.columns:\n",
    "#     rec_dict_full[i] = distance_df.loc[:,i].sort_values(ascending = True)"
   ]
  },
  {
   "cell_type": "code",
   "execution_count": 51,
   "id": "9ef8b429",
   "metadata": {
    "ExecuteTime": {
     "end_time": "2022-02-05T08:21:30.919642Z",
     "start_time": "2022-02-05T08:21:30.918261Z"
    }
   },
   "outputs": [],
   "source": [
    "# test = list(rec_dict['BDRP-6715_Blueberry x Town Jewels'].index)"
   ]
  },
  {
   "cell_type": "code",
   "execution_count": 52,
   "id": "c4cc0525",
   "metadata": {
    "ExecuteTime": {
     "end_time": "2022-02-05T08:21:31.011726Z",
     "start_time": "2022-02-05T08:21:31.010219Z"
    }
   },
   "outputs": [],
   "source": [
    "# raw_trimmed[raw_trimmed['id2'].isin(test)]"
   ]
  },
  {
   "cell_type": "markdown",
   "id": "201671ea",
   "metadata": {},
   "source": [
    "# Cluster"
   ]
  },
  {
   "cell_type": "code",
   "execution_count": 53,
   "id": "3918d1e8",
   "metadata": {
    "ExecuteTime": {
     "end_time": "2022-02-05T08:21:31.101634Z",
     "start_time": "2022-02-05T08:21:31.100204Z"
    }
   },
   "outputs": [],
   "source": [
    "# clustered = pd.read_csv('concentrates_clustered_31_Aug.csv')"
   ]
  },
  {
   "cell_type": "code",
   "execution_count": 54,
   "id": "6f37d66d",
   "metadata": {
    "ExecuteTime": {
     "end_time": "2022-02-05T08:21:31.192972Z",
     "start_time": "2022-02-05T08:21:31.191487Z"
    }
   },
   "outputs": [],
   "source": [
    "# clustered['id2'] = clustered['Batch_ID'].astype('str') + \"_\" +clustered['Strain_integrated'].astype('str')"
   ]
  },
  {
   "cell_type": "code",
   "execution_count": 55,
   "id": "b02efcdc",
   "metadata": {
    "ExecuteTime": {
     "end_time": "2022-02-05T08:21:31.285713Z",
     "start_time": "2022-02-05T08:21:31.284002Z"
    }
   },
   "outputs": [],
   "source": [
    "# clustered.columns"
   ]
  },
  {
   "cell_type": "code",
   "execution_count": 56,
   "id": "cee243d8",
   "metadata": {
    "ExecuteTime": {
     "end_time": "2022-02-05T08:21:31.377329Z",
     "start_time": "2022-02-05T08:21:31.375760Z"
    }
   },
   "outputs": [],
   "source": [
    "# clustered[clustered['id2'].isin(test)]['individual_cluster_adjust_label_2']"
   ]
  },
  {
   "cell_type": "code",
   "execution_count": 57,
   "id": "1a2a6579",
   "metadata": {
    "ExecuteTime": {
     "end_time": "2022-02-05T08:21:31.469731Z",
     "start_time": "2022-02-05T08:21:31.468248Z"
    }
   },
   "outputs": [],
   "source": [
    "# clustered[clustered['id2']=='BDRP-6715_Blueberry x Town Jewels']['individual_cluster_adjust_label_2']"
   ]
  },
  {
   "cell_type": "code",
   "execution_count": 58,
   "id": "55d7d3a4",
   "metadata": {
    "ExecuteTime": {
     "end_time": "2022-02-05T08:21:31.562485Z",
     "start_time": "2022-02-05T08:21:31.561077Z"
    }
   },
   "outputs": [],
   "source": [
    "# rec_by_cluster = clustered[clustered['individual_cluster_adjust_label_2']==152254054]['id2'].values"
   ]
  },
  {
   "cell_type": "code",
   "execution_count": 59,
   "id": "93a8f82a",
   "metadata": {
    "ExecuteTime": {
     "end_time": "2022-02-05T08:21:31.653373Z",
     "start_time": "2022-02-05T08:21:31.651781Z"
    }
   },
   "outputs": [],
   "source": [
    "# rec_by_distance = test"
   ]
  },
  {
   "cell_type": "code",
   "execution_count": 60,
   "id": "a2914ad1",
   "metadata": {
    "ExecuteTime": {
     "end_time": "2022-02-05T08:21:31.748645Z",
     "start_time": "2022-02-05T08:21:31.747026Z"
    }
   },
   "outputs": [],
   "source": [
    "# def intersection(lst1, lst2):\n",
    "#     lst3 = [value for value in lst1 if value in lst2]\n",
    "#     return lst3"
   ]
  },
  {
   "cell_type": "code",
   "execution_count": 61,
   "id": "68a2bbb9",
   "metadata": {
    "ExecuteTime": {
     "end_time": "2022-02-05T08:21:31.843990Z",
     "start_time": "2022-02-05T08:21:31.842675Z"
    }
   },
   "outputs": [],
   "source": [
    "# intersection(rec_by_cluster,rec_by_distance)"
   ]
  },
  {
   "cell_type": "code",
   "execution_count": 62,
   "id": "8f95f7b8",
   "metadata": {
    "ExecuteTime": {
     "end_time": "2022-02-05T08:21:31.938069Z",
     "start_time": "2022-02-05T08:21:31.936517Z"
    }
   },
   "outputs": [],
   "source": [
    "# data.columns"
   ]
  },
  {
   "cell_type": "markdown",
   "id": "ff773ee9",
   "metadata": {},
   "source": [
    "Only two intersections with the top 10 similar products"
   ]
  },
  {
   "cell_type": "code",
   "execution_count": 63,
   "id": "510dd0a6",
   "metadata": {
    "ExecuteTime": {
     "end_time": "2022-02-05T08:21:32.031590Z",
     "start_time": "2022-02-05T08:21:32.029845Z"
    }
   },
   "outputs": [],
   "source": [
    "## the similarity score of products in the same cluster\n",
    "# similarity_score =pd.DataFrame(rec_dict_full['BDRP-6715_Blueberry x Town Jewels'])\n",
    "# similarity_score"
   ]
  },
  {
   "cell_type": "code",
   "execution_count": 64,
   "id": "4855d342",
   "metadata": {
    "ExecuteTime": {
     "end_time": "2022-02-05T08:21:32.124924Z",
     "start_time": "2022-02-05T08:21:32.123467Z"
    }
   },
   "outputs": [],
   "source": [
    "# similarity_score['Rank'] = list(range(2952))"
   ]
  },
  {
   "cell_type": "code",
   "execution_count": 65,
   "id": "c77e937e",
   "metadata": {
    "ExecuteTime": {
     "end_time": "2022-02-05T08:21:32.218757Z",
     "start_time": "2022-02-05T08:21:32.217210Z"
    }
   },
   "outputs": [],
   "source": [
    "# rec_by_cluster"
   ]
  },
  {
   "cell_type": "code",
   "execution_count": 66,
   "id": "488b16d7",
   "metadata": {
    "ExecuteTime": {
     "end_time": "2022-02-05T08:21:32.310875Z",
     "start_time": "2022-02-05T08:21:32.309436Z"
    }
   },
   "outputs": [],
   "source": [
    "# similarity_score[similarity_score.index.isin( list(rec_by_cluster))]"
   ]
  },
  {
   "cell_type": "markdown",
   "id": "85d7416b",
   "metadata": {},
   "source": [
    "The rec_by_cluster, although only has 2 intersection with the top_10 rec_by_distance,\n",
    "the similarity score are still very high.  23/2900\n",
    "\n"
   ]
  },
  {
   "cell_type": "markdown",
   "id": "7a21a25e",
   "metadata": {},
   "source": [
    "# Some ideas to combine cosine and cluster"
   ]
  },
  {
   "cell_type": "markdown",
   "id": "9cc677c4",
   "metadata": {},
   "source": [
    "1.same cluster, rank by similarity \n",
    "2.rank by similarity, take top 30, select the ones in similar clusters\n",
    "3.vote\n",
    "4. "
   ]
  },
  {
   "cell_type": "code",
   "execution_count": 67,
   "id": "e3021883",
   "metadata": {
    "ExecuteTime": {
     "end_time": "2022-02-05T08:21:32.409877Z",
     "start_time": "2022-02-05T08:21:32.408526Z"
    }
   },
   "outputs": [],
   "source": [
    "## match customer expeirnece\n",
    "## find cluster distance to expand recommendation\n",
    "\n"
   ]
  },
  {
   "cell_type": "code",
   "execution_count": null,
   "id": "e7f9d109",
   "metadata": {},
   "outputs": [],
   "source": []
  },
  {
   "cell_type": "code",
   "execution_count": null,
   "id": "be6635e7",
   "metadata": {},
   "outputs": [],
   "source": []
  },
  {
   "cell_type": "code",
   "execution_count": null,
   "id": "5839bf74",
   "metadata": {},
   "outputs": [],
   "source": []
  },
  {
   "cell_type": "code",
   "execution_count": null,
   "id": "c814295f",
   "metadata": {},
   "outputs": [],
   "source": []
  },
  {
   "cell_type": "code",
   "execution_count": null,
   "id": "2af3c54f",
   "metadata": {},
   "outputs": [],
   "source": []
  }
 ],
 "metadata": {
  "kernelspec": {
   "display_name": "Python 3 (ipykernel)",
   "language": "python",
   "name": "python3"
  },
  "language_info": {
   "codemirror_mode": {
    "name": "ipython",
    "version": 3
   },
   "file_extension": ".py",
   "mimetype": "text/x-python",
   "name": "python",
   "nbconvert_exporter": "python",
   "pygments_lexer": "ipython3",
   "version": "3.9.9"
  },
  "toc": {
   "base_numbering": 1,
   "nav_menu": {},
   "number_sections": true,
   "sideBar": true,
   "skip_h1_title": false,
   "title_cell": "Table of Contents",
   "title_sidebar": "Contents",
   "toc_cell": false,
   "toc_position": {
    "height": "calc(100% - 180px)",
    "left": "10px",
    "top": "150px",
    "width": "165px"
   },
   "toc_section_display": true,
   "toc_window_display": true
  },
  "varInspector": {
   "cols": {
    "lenName": 16,
    "lenType": 16,
    "lenVar": 40
   },
   "kernels_config": {
    "python": {
     "delete_cmd_postfix": "",
     "delete_cmd_prefix": "del ",
     "library": "var_list.py",
     "varRefreshCmd": "print(var_dic_list())"
    },
    "r": {
     "delete_cmd_postfix": ") ",
     "delete_cmd_prefix": "rm(",
     "library": "var_list.r",
     "varRefreshCmd": "cat(var_dic_list()) "
    }
   },
   "types_to_exclude": [
    "module",
    "function",
    "builtin_function_or_method",
    "instance",
    "_Feature"
   ],
   "window_display": false
  }
 },
 "nbformat": 4,
 "nbformat_minor": 5
}
